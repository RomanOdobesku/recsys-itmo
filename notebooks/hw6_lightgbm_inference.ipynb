{
 "cells": [
  {
   "cell_type": "markdown",
   "metadata": {},
   "source": [
    "# Ноутбук для LightGBM (обучение + предсказания для инференса)"
   ]
  },
  {
   "cell_type": "code",
   "execution_count": 1,
   "metadata": {
    "id": "1dXyeUPnKRuo"
   },
   "outputs": [],
   "source": [
    "import numpy as np\n",
    "import pandas as pd\n",
    "pd.set_option('display.max_columns', None)\n",
    "\n",
    "from pathlib import Path\n",
    "\n",
    "from lightgbm import LGBMRanker\n",
    "\n",
    "from rectools.metrics import calc_metrics, NDCG, MAP, Precision, Recall, MeanInvUserFreq\n",
    "from rectools import Columns\n",
    "\n",
    "from sklearn.metrics import roc_auc_score\n",
    "from sklearn.model_selection import train_test_split\n",
    "from typing import Any, Dict, Tuple\n",
    "\n",
    "import warnings\n",
    "warnings.simplefilter('ignore')"
   ]
  },
  {
   "cell_type": "markdown",
   "metadata": {
    "id": "7Fp7zbl5KRup"
   },
   "source": [
    "## Подготовка данных"
   ]
  },
  {
   "cell_type": "code",
   "execution_count": 2,
   "metadata": {},
   "outputs": [],
   "source": [
    "users = pd.read_csv('../data/users.csv')\n",
    "items = pd.read_csv('../data/items.csv')\n",
    "interactions = pd.read_csv('../data/interactions.csv')"
   ]
  },
  {
   "cell_type": "code",
   "execution_count": 3,
   "metadata": {
    "id": "KGVM_NceKRus"
   },
   "outputs": [],
   "source": [
    "interactions.rename(\n",
    "    columns={\n",
    "        'last_watch_dt': Columns.Datetime,\n",
    "        'watched_pct': Columns.Weight,\n",
    "    }, \n",
    "    inplace=True,\n",
    ") \n",
    "\n",
    "# Меняем тип данных\n",
    "interactions['datetime'] = interactions['datetime'].astype(np.datetime64)\n",
    "\n",
    "# Заполняем пропуски\n",
    "interactions_default_values: Dict[str, Any] = {\n",
    "   Columns.Datetime: interactions[Columns.Datetime].median(),\n",
    "    Columns.Weight: 0.,\n",
    "    'total_dur': 0,\n",
    "}\n",
    "interactions.fillna(interactions_default_values, inplace=True)"
   ]
  },
  {
   "cell_type": "code",
   "execution_count": 4,
   "metadata": {
    "id": "KlI8qlOSKRut"
   },
   "outputs": [],
   "source": [
    "def encode_cat_cols(df: pd.DataFrame, cat_cols) -> Tuple[pd.DataFrame, Dict]:\n",
    "    cat_col_encoding = {}\n",
    "\n",
    "    for col in cat_cols:\n",
    "        cat_col = df[col].astype('category').cat\n",
    "        cat_col_encoding[col] = cat_col.categories\n",
    "        df[col] = cat_col.codes.astype('category')\n",
    "    return df, cat_col_encoding\n",
    "\n",
    "users_cat_cols = [\n",
    "     'age', 'income', 'sex', 'kids_flg'\n",
    "]\n",
    "users, users_cat_col_encoding = encode_cat_cols(users, users_cat_cols)"
   ]
  },
  {
   "cell_type": "code",
   "execution_count": 5,
   "metadata": {
    "id": "I-bXi_mlKRut"
   },
   "outputs": [],
   "source": [
    "items_cat_cols = [\n",
    "    'content_type', 'for_kids', 'studios',\n",
    "]\n",
    "items_text_cols = [\n",
    "    'title', 'title_orig', 'genres', 'countries', 'directors', 'actors', 'description', 'keywords',\n",
    "]\n",
    "items_num_cols = [\n",
    "    'release_year', 'age_rating', \n",
    "]\n",
    "default_values_items = {\n",
    "    'release_year': items['release_year'].median(),\n",
    "    'age_rating': items['age_rating'].median(),\n",
    "}\n",
    "\n",
    "items, items_cat_col_encoding = encode_cat_cols(items, items_cat_cols) \n",
    "items.fillna(default_values_items, inplace=True)"
   ]
  },
  {
   "cell_type": "code",
   "execution_count": 6,
   "metadata": {
    "colab": {
     "base_uri": "https://localhost:8080/"
    },
    "id": "mazshQVwKRuu",
    "outputId": "b217f2ef-75b5-45e9-e218-bbca078cd0fd"
   },
   "outputs": [
    {
     "name": "stdout",
     "output_type": "stream",
     "text": [
      "min дата в interactions: 2021-03-13 00:00:00\n",
      "max дата в interactions: 2021-08-22 00:00:00\n",
      "Продолжительность: 162 days 00:00:00\n"
     ]
    }
   ],
   "source": [
    "max_date = interactions[Columns.Datetime].max()\n",
    "min_date = interactions[Columns.Datetime].min()\n",
    "\n",
    "print(f'min дата в interactions: {min_date}')\n",
    "print(f'max дата в interactions: {max_date}')\n",
    "print(f'Продолжительность: {max_date - min_date}')"
   ]
  },
  {
   "cell_type": "markdown",
   "metadata": {},
   "source": [
    "## Поделим датасет по времени"
   ]
  },
  {
   "cell_type": "code",
   "execution_count": 7,
   "metadata": {
    "id": "JEUrcdFDKRuu"
   },
   "outputs": [],
   "source": [
    "ranker_days_count = 30\n",
    "\n",
    "ranker_data = interactions[\n",
    "    (interactions[Columns.Datetime] >= max_date - pd.Timedelta(days=ranker_days_count))\n",
    "]"
   ]
  },
  {
   "cell_type": "code",
   "execution_count": 8,
   "metadata": {
    "id": "KVwxBwU8KRuu"
   },
   "outputs": [],
   "source": [
    "base_models_data = interactions[\n",
    "    (interactions[Columns.Datetime] < max_date - pd.Timedelta(days=ranker_days_count))\n",
    "]"
   ]
  },
  {
   "cell_type": "markdown",
   "metadata": {
    "id": "xFC3bshMKRuw"
   },
   "source": [
    "## Формируем датасет"
   ]
  },
  {
   "cell_type": "code",
   "execution_count": 9,
   "metadata": {
    "id": "BMQjqti-KRuw"
   },
   "outputs": [],
   "source": [
    "base_models_data['user_hist'] = (\n",
    "    base_models_data.groupby('user_id')\n",
    "    ['item_id'].transform('count')\n",
    ")\n",
    "\n",
    "base_models_data['item_pop'] = (\n",
    "    base_models_data.groupby('item_id')\n",
    "    ['user_id'].transform('count')\n",
    ")\n",
    "\n",
    "base_models_data['user_avg_pop'] = (\n",
    "    base_models_data.groupby('user_id')\n",
    "    ['item_pop'].transform('mean')\n",
    ")\n",
    "\n",
    "base_models_data['item_avg_hist'] = (\n",
    "    base_models_data.groupby('item_id')\n",
    "    ['user_hist'].transform('mean')\n",
    ")\n",
    "\n",
    "base_models_data.sort_values(\n",
    "    by=[Columns.User, Columns.Datetime], \n",
    "    ascending=[True, False], \n",
    "    ignore_index=True,\n",
    "    inplace=True,\n",
    ")\n",
    "\n",
    "base_models_data['user_last_pop'] = (\n",
    "    base_models_data.groupby('user_id')\n",
    "    ['item_pop'].transform('first')\n",
    ")"
   ]
  },
  {
   "cell_type": "code",
   "execution_count": 10,
   "metadata": {
    "id": "BRnu7-6QqQ0z"
   },
   "outputs": [],
   "source": [
    "# Определяем холодность пользователя\n",
    "\n",
    "base_models_data['user_cold'] = (\n",
    "    base_models_data.groupby('item_id')\n",
    "    ['user_hist'].transform('sum') < 100\n",
    ").astype(int)"
   ]
  },
  {
   "cell_type": "code",
   "execution_count": 11,
   "metadata": {
    "colab": {
     "base_uri": "https://localhost:8080/",
     "height": 357
    },
    "id": "_z6XfckaqqAX",
    "outputId": "2a93c719-66c9-4eea-cb61-ddcf6a29ebec"
   },
   "outputs": [
    {
     "data": {
      "text/html": [
       "<div>\n",
       "<style scoped>\n",
       "    .dataframe tbody tr th:only-of-type {\n",
       "        vertical-align: middle;\n",
       "    }\n",
       "\n",
       "    .dataframe tbody tr th {\n",
       "        vertical-align: top;\n",
       "    }\n",
       "\n",
       "    .dataframe thead th {\n",
       "        text-align: right;\n",
       "    }\n",
       "</style>\n",
       "<table border=\"1\" class=\"dataframe\">\n",
       "  <thead>\n",
       "    <tr style=\"text-align: right;\">\n",
       "      <th></th>\n",
       "      <th>user_id</th>\n",
       "      <th>item_id</th>\n",
       "      <th>datetime</th>\n",
       "      <th>total_dur</th>\n",
       "      <th>weight</th>\n",
       "      <th>user_hist</th>\n",
       "      <th>item_pop</th>\n",
       "      <th>user_avg_pop</th>\n",
       "      <th>item_avg_hist</th>\n",
       "      <th>user_last_pop</th>\n",
       "      <th>user_cold</th>\n",
       "    </tr>\n",
       "  </thead>\n",
       "  <tbody>\n",
       "    <tr>\n",
       "      <th>0</th>\n",
       "      <td>0</td>\n",
       "      <td>6006</td>\n",
       "      <td>2021-07-20</td>\n",
       "      <td>1</td>\n",
       "      <td>0.0</td>\n",
       "      <td>6</td>\n",
       "      <td>5208</td>\n",
       "      <td>41885.0</td>\n",
       "      <td>16.891897</td>\n",
       "      <td>5208</td>\n",
       "      <td>0</td>\n",
       "    </tr>\n",
       "    <tr>\n",
       "      <th>1</th>\n",
       "      <td>0</td>\n",
       "      <td>7102</td>\n",
       "      <td>2021-07-19</td>\n",
       "      <td>169</td>\n",
       "      <td>3.0</td>\n",
       "      <td>6</td>\n",
       "      <td>11626</td>\n",
       "      <td>41885.0</td>\n",
       "      <td>20.349475</td>\n",
       "      <td>5208</td>\n",
       "      <td>0</td>\n",
       "    </tr>\n",
       "    <tr>\n",
       "      <th>2</th>\n",
       "      <td>0</td>\n",
       "      <td>14359</td>\n",
       "      <td>2021-07-19</td>\n",
       "      <td>130</td>\n",
       "      <td>2.0</td>\n",
       "      <td>6</td>\n",
       "      <td>6053</td>\n",
       "      <td>41885.0</td>\n",
       "      <td>22.546836</td>\n",
       "      <td>5208</td>\n",
       "      <td>0</td>\n",
       "    </tr>\n",
       "    <tr>\n",
       "      <th>3</th>\n",
       "      <td>0</td>\n",
       "      <td>15297</td>\n",
       "      <td>2021-07-19</td>\n",
       "      <td>459</td>\n",
       "      <td>0.0</td>\n",
       "      <td>6</td>\n",
       "      <td>137128</td>\n",
       "      <td>41885.0</td>\n",
       "      <td>7.364295</td>\n",
       "      <td>5208</td>\n",
       "      <td>0</td>\n",
       "    </tr>\n",
       "    <tr>\n",
       "      <th>4</th>\n",
       "      <td>0</td>\n",
       "      <td>9728</td>\n",
       "      <td>2021-07-19</td>\n",
       "      <td>4</td>\n",
       "      <td>0.0</td>\n",
       "      <td>6</td>\n",
       "      <td>76978</td>\n",
       "      <td>41885.0</td>\n",
       "      <td>11.165736</td>\n",
       "      <td>5208</td>\n",
       "      <td>0</td>\n",
       "    </tr>\n",
       "  </tbody>\n",
       "</table>\n",
       "</div>"
      ],
      "text/plain": [
       "   user_id  item_id   datetime  total_dur  weight  user_hist  item_pop  \\\n",
       "0        0     6006 2021-07-20          1     0.0          6      5208   \n",
       "1        0     7102 2021-07-19        169     3.0          6     11626   \n",
       "2        0    14359 2021-07-19        130     2.0          6      6053   \n",
       "3        0    15297 2021-07-19        459     0.0          6    137128   \n",
       "4        0     9728 2021-07-19          4     0.0          6     76978   \n",
       "\n",
       "   user_avg_pop  item_avg_hist  user_last_pop  user_cold  \n",
       "0       41885.0      16.891897           5208          0  \n",
       "1       41885.0      20.349475           5208          0  \n",
       "2       41885.0      22.546836           5208          0  \n",
       "3       41885.0       7.364295           5208          0  \n",
       "4       41885.0      11.165736           5208          0  "
      ]
     },
     "execution_count": 11,
     "metadata": {},
     "output_type": "execute_result"
    }
   ],
   "source": [
    "base_models_data.head()"
   ]
  },
  {
   "cell_type": "code",
   "execution_count": 12,
   "metadata": {
    "colab": {
     "base_uri": "https://localhost:8080/",
     "height": 143
    },
    "id": "lsQmJmBCKRuw",
    "outputId": "f517c361-da13-414d-cf13-0abaf1fd80f6"
   },
   "outputs": [
    {
     "data": {
      "text/html": [
       "<div>\n",
       "<style scoped>\n",
       "    .dataframe tbody tr th:only-of-type {\n",
       "        vertical-align: middle;\n",
       "    }\n",
       "\n",
       "    .dataframe tbody tr th {\n",
       "        vertical-align: top;\n",
       "    }\n",
       "\n",
       "    .dataframe thead th {\n",
       "        text-align: right;\n",
       "    }\n",
       "</style>\n",
       "<table border=\"1\" class=\"dataframe\">\n",
       "  <thead>\n",
       "    <tr style=\"text-align: right;\">\n",
       "      <th></th>\n",
       "      <th>user_id</th>\n",
       "      <th>age</th>\n",
       "      <th>income</th>\n",
       "      <th>sex</th>\n",
       "      <th>kids_flg</th>\n",
       "      <th>user_hist</th>\n",
       "      <th>user_avg_pop</th>\n",
       "      <th>user_last_pop</th>\n",
       "      <th>user_cold</th>\n",
       "    </tr>\n",
       "  </thead>\n",
       "  <tbody>\n",
       "    <tr>\n",
       "      <th>0</th>\n",
       "      <td>973171</td>\n",
       "      <td>1</td>\n",
       "      <td>4</td>\n",
       "      <td>1</td>\n",
       "      <td>1</td>\n",
       "      <td>5.0</td>\n",
       "      <td>19550.800000</td>\n",
       "      <td>93403.0</td>\n",
       "      <td>0.0</td>\n",
       "    </tr>\n",
       "    <tr>\n",
       "      <th>1</th>\n",
       "      <td>962099</td>\n",
       "      <td>0</td>\n",
       "      <td>2</td>\n",
       "      <td>1</td>\n",
       "      <td>0</td>\n",
       "      <td>13.0</td>\n",
       "      <td>1329.307692</td>\n",
       "      <td>260.0</td>\n",
       "      <td>0.0</td>\n",
       "    </tr>\n",
       "    <tr>\n",
       "      <th>2</th>\n",
       "      <td>1047345</td>\n",
       "      <td>3</td>\n",
       "      <td>3</td>\n",
       "      <td>0</td>\n",
       "      <td>0</td>\n",
       "      <td>NaN</td>\n",
       "      <td>NaN</td>\n",
       "      <td>NaN</td>\n",
       "      <td>NaN</td>\n",
       "    </tr>\n",
       "  </tbody>\n",
       "</table>\n",
       "</div>"
      ],
      "text/plain": [
       "   user_id age income sex kids_flg  user_hist  user_avg_pop  user_last_pop  \\\n",
       "0   973171   1      4   1        1        5.0  19550.800000        93403.0   \n",
       "1   962099   0      2   1        0       13.0   1329.307692          260.0   \n",
       "2  1047345   3      3   0        0        NaN           NaN            NaN   \n",
       "\n",
       "   user_cold  \n",
       "0        0.0  \n",
       "1        0.0  \n",
       "2        NaN  "
      ]
     },
     "execution_count": 12,
     "metadata": {},
     "output_type": "execute_result"
    }
   ],
   "source": [
    "items = pd.merge(\n",
    "    left=items, \n",
    "    right=(\n",
    "        base_models_data\n",
    "        [['item_id', 'item_pop', 'item_avg_hist']]\n",
    "        .drop_duplicates()\n",
    "    ),\n",
    "    how='left',\n",
    "    on='item_id',\n",
    ")\n",
    "\n",
    "users = pd.merge(\n",
    "    left=users, \n",
    "    right=(\n",
    "        base_models_data\n",
    "        [['user_id', 'user_hist', 'user_avg_pop', 'user_last_pop', 'user_cold']]\n",
    "        .drop_duplicates()\n",
    "    ),\n",
    "    how='left',\n",
    "    on='user_id',\n",
    ")\n",
    "users.head(3)"
   ]
  },
  {
   "cell_type": "code",
   "execution_count": 13,
   "metadata": {
    "id": "AxzHxo6LKRuw"
   },
   "outputs": [],
   "source": [
    "default_values_items['item_pop'] = base_models_data['item_pop'].median()\n",
    "default_values_items['item_avg_hist'] = base_models_data['item_avg_hist'].median()\n",
    "\n",
    "default_values_users = {\n",
    "    'user_hist': 0,\n",
    "    'user_avg_pop': base_models_data['user_avg_pop'].median(),\n",
    "    'user_last_pop': base_models_data['user_last_pop'].median(),\n",
    "}"
   ]
  },
  {
   "cell_type": "markdown",
   "metadata": {
    "id": "8Ah4baDpKRuw"
   },
   "source": [
    "### Джойним кандидатов и юзер/айтем фичи"
   ]
  },
  {
   "cell_type": "markdown",
   "metadata": {},
   "source": [
    "кандидаты от моделей первого уровня генерятся в другом ноутбуке"
   ]
  },
  {
   "cell_type": "code",
   "execution_count": 14,
   "metadata": {
    "colab": {
     "base_uri": "https://localhost:8080/",
     "height": 143
    },
    "id": "mQhOjD1fKRuw",
    "outputId": "cda770b1-d508-4013-8389-8a597bc76a3c"
   },
   "outputs": [
    {
     "data": {
      "text/html": [
       "<div>\n",
       "<style scoped>\n",
       "    .dataframe tbody tr th:only-of-type {\n",
       "        vertical-align: middle;\n",
       "    }\n",
       "\n",
       "    .dataframe tbody tr th {\n",
       "        vertical-align: top;\n",
       "    }\n",
       "\n",
       "    .dataframe thead th {\n",
       "        text-align: right;\n",
       "    }\n",
       "</style>\n",
       "<table border=\"1\" class=\"dataframe\">\n",
       "  <thead>\n",
       "    <tr style=\"text-align: right;\">\n",
       "      <th></th>\n",
       "      <th>user_id</th>\n",
       "      <th>item_id</th>\n",
       "      <th>lfm_score</th>\n",
       "      <th>lfm_rank</th>\n",
       "      <th>popular_score</th>\n",
       "      <th>popular_rank</th>\n",
       "    </tr>\n",
       "  </thead>\n",
       "  <tbody>\n",
       "    <tr>\n",
       "      <th>0</th>\n",
       "      <td>176549</td>\n",
       "      <td>9728.0</td>\n",
       "      <td>1.215133</td>\n",
       "      <td>1.0</td>\n",
       "      <td>76978.0</td>\n",
       "      <td>4.0</td>\n",
       "    </tr>\n",
       "    <tr>\n",
       "      <th>1</th>\n",
       "      <td>176549</td>\n",
       "      <td>10440.0</td>\n",
       "      <td>1.139943</td>\n",
       "      <td>2.0</td>\n",
       "      <td>141889.0</td>\n",
       "      <td>1.0</td>\n",
       "    </tr>\n",
       "    <tr>\n",
       "      <th>2</th>\n",
       "      <td>176549</td>\n",
       "      <td>13865.0</td>\n",
       "      <td>1.022879</td>\n",
       "      <td>3.0</td>\n",
       "      <td>93403.0</td>\n",
       "      <td>3.0</td>\n",
       "    </tr>\n",
       "  </tbody>\n",
       "</table>\n",
       "</div>"
      ],
      "text/plain": [
       "   user_id  item_id  lfm_score  lfm_rank  popular_score  popular_rank\n",
       "0   176549   9728.0   1.215133       1.0        76978.0           4.0\n",
       "1   176549  10440.0   1.139943       2.0       141889.0           1.0\n",
       "2   176549  13865.0   1.022879       3.0        93403.0           3.0"
      ]
     },
     "execution_count": 14,
     "metadata": {},
     "output_type": "execute_result"
    }
   ],
   "source": [
    "candidates = pd.read_csv('../data/candidates.csv')\n",
    "candidates.head(3)"
   ]
  },
  {
   "cell_type": "code",
   "execution_count": 16,
   "metadata": {
    "id": "HFN4ijawKRuw"
   },
   "outputs": [],
   "source": [
    "def users_filter(\n",
    "    user_list: np.ndarray,\n",
    "    candidates_df: pd.DataFrame, \n",
    "    df: pd.DataFrame,\n",
    ") -> pd.DataFrame:\n",
    "    df = pd.merge(\n",
    "        left=df[df['user_id'].isin(user_list)], \n",
    "        right=candidates_df[candidates_df['user_id'].isin(user_list)], \n",
    "        how='right',\n",
    "        on=['user_id', 'item_id']\n",
    "    )\n",
    "\n",
    "    min_score: float =  df['lfm_score'].min() - 0.01\n",
    "    max_rank: int = df['lfm_rank'].max() + 1  # 101\n",
    "    \n",
    "    default_values = {\n",
    "        'lfm_score': min_score, 'lfm_rank': max_rank,\n",
    "        **interactions_default_values,\n",
    "    }\n",
    "    df.fillna(default_values, inplace=True)\n",
    "    df.sort_values(\n",
    "        by=['user_id', 'item_id'],\n",
    "        inplace=True,\n",
    "    )\n",
    "    return df"
   ]
  },
  {
   "cell_type": "code",
   "execution_count": 17,
   "metadata": {},
   "outputs": [],
   "source": [
    "ranker_df = users_filter(candidates['user_id'].unique(), candidates, ranker_data)"
   ]
  },
  {
   "cell_type": "code",
   "execution_count": 18,
   "metadata": {
    "id": "cU_lQpY8KRux"
   },
   "outputs": [],
   "source": [
    "# Добавляем фичи\n",
    "def add_features(df: pd.DataFrame) -> pd.DataFrame:\n",
    "    \n",
    "    df = pd.merge(\n",
    "        df, \n",
    "        users, \n",
    "        how='left', \n",
    "        on=['user_id']\n",
    "    )\n",
    "\n",
    "    df = pd.merge(\n",
    "        df, \n",
    "        items, \n",
    "        how='left', \n",
    "        on=['item_id']\n",
    "    )\n",
    "\n",
    "    df.fillna(default_values_items, inplace=True)\n",
    "    df.fillna(default_values_users, inplace=True)\n",
    "\n",
    "    for col in df.columns:\n",
    "        if isinstance(df[col].dtype, pd.CategoricalDtype):\n",
    "            if -1 not in df[col].cat.categories:\n",
    "                df[col] = df[col].cat.add_categories(-1)\n",
    "            df.fillna({col: -1}, inplace=True)\n",
    "    return df"
   ]
  },
  {
   "cell_type": "code",
   "execution_count": 19,
   "metadata": {},
   "outputs": [],
   "source": [
    "ranker_df = add_features(ranker_df)"
   ]
  },
  {
   "cell_type": "code",
   "execution_count": 20,
   "metadata": {},
   "outputs": [],
   "source": [
    "def add_target(df: pd.DataFrame) -> pd.DataFrame:\n",
    "    \"\"\"\n",
    "    0 - доля досмотра < 0.15\n",
    "    1 - 0.15 <= доля досмотра < 0.75\n",
    "    2 - 0.75 <= доля досмотра\n",
    "    \"\"\"\n",
    "    df['target_ranker'] = (df[Columns.Weight] >= 15).astype(int) \n",
    "    df['target_ranker'] += (df[Columns.Weight] >= 75).astype(int)\n",
    "    return df\n",
    "\n",
    "ranker_df = add_target(ranker_df)"
   ]
  },
  {
   "cell_type": "code",
   "execution_count": 21,
   "metadata": {},
   "outputs": [],
   "source": [
    "train_users, test_users = train_test_split(\n",
    "    ranker_df['user_id'].unique(), random_state=41, test_size=0.2\n",
    ")\n",
    "ranker_train = ranker_df[ranker_df['user_id'].isin(train_users)]\n",
    "ranker_val = ranker_df[ranker_df['user_id'].isin(test_users)]\n",
    "\n",
    "def get_group_lgbm(df: pd.DataFrame) -> np.ndarray:\n",
    "    return np.array(\n",
    "        df[['user_id', 'item_id']]\n",
    "        .groupby(by=['user_id']).count()\n",
    "        ['item_id']\n",
    "    )"
   ]
  },
  {
   "cell_type": "code",
   "execution_count": 22,
   "metadata": {},
   "outputs": [],
   "source": [
    "cols = ['lfm_score', 'lfm_rank',\n",
    "        'popular_score', 'popular_rank',  \n",
    "        'age', 'income', 'sex', 'kids_flg', \n",
    "        'user_hist', 'user_avg_pop', 'user_last_pop',\n",
    "        'content_type', 'release_year', 'for_kids', \n",
    "        'age_rating', 'studios', 'item_pop', 'item_avg_hist',\n",
    "]\n",
    "\n",
    "params = {\n",
    "    'objective': 'lambdarank',\n",
    "    'n_estimators': 1000,\n",
    "    'max_depth': 10,\n",
    "    'num_leaves': 10,\n",
    "    'min_child_samples': 100,\n",
    "    'learning_rate': 0.25,\n",
    "    'reg_lambda': 1,\n",
    "    'colsample_bytree': 0.9,\n",
    "    'random_state': 42,\n",
    "    'early_stopping_rounds': 100,\n",
    "}"
   ]
  },
  {
   "cell_type": "code",
   "execution_count": 23,
   "metadata": {},
   "outputs": [],
   "source": [
    "X_train = np.array(ranker_train[cols])\n",
    "y_train = np.array(ranker_train['target_ranker'])\n",
    "X_val = np.array(ranker_val[cols])\n",
    "y_val = np.array(ranker_val['target_ranker'])"
   ]
  },
  {
   "cell_type": "code",
   "execution_count": 24,
   "metadata": {},
   "outputs": [],
   "source": [
    "early_stopping_rounds = 32\n",
    "fit_params = {\n",
    "    'X': X_train,\n",
    "    'y': y_train,\n",
    "    'group': get_group_lgbm(ranker_train),\n",
    "    'eval_set': [(X_val, y_val)],\n",
    "    'eval_group': [get_group_lgbm(ranker_val)],\n",
    "    'eval_metric': 'ndcg',\n",
    "    'eval_at': (3, 5, 10),\n",
    "}\n",
    "LGBMRanker_model = LGBMRanker(**params)"
   ]
  },
  {
   "cell_type": "code",
   "execution_count": 25,
   "metadata": {},
   "outputs": [
    {
     "name": "stdout",
     "output_type": "stream",
     "text": [
      "[LightGBM] [Warning] early_stopping_round is set=100, early_stopping_rounds=100 will be ignored. Current value: early_stopping_round=100\n",
      "[LightGBM] [Info] Auto-choosing row-wise multi-threading, the overhead of testing was 0.909332 seconds.\n",
      "You can set `force_row_wise=true` to remove the overhead.\n",
      "And if memory is not enough, you can set `force_col_wise=true`.\n",
      "[LightGBM] [Info] Total Bins 1662\n",
      "[LightGBM] [Info] Number of data points in the train set: 38872127, number of used features: 18\n",
      "[LightGBM] [Warning] early_stopping_round is set=100, early_stopping_rounds=100 will be ignored. Current value: early_stopping_round=100\n",
      "Training until validation scores don't improve for 100 rounds\n",
      "Early stopping, best iteration is:\n",
      "[205]\tvalid_0's ndcg@3: 0.913069\tvalid_0's ndcg@5: 0.919413\tvalid_0's ndcg@10: 0.925852\n",
      "CPU times: user 24min 53s, sys: 2.65 s, total: 24min 56s\n",
      "Wall time: 3min 19s\n"
     ]
    },
    {
     "data": {
      "text/html": [
       "<style>#sk-container-id-1 {color: black;}#sk-container-id-1 pre{padding: 0;}#sk-container-id-1 div.sk-toggleable {background-color: white;}#sk-container-id-1 label.sk-toggleable__label {cursor: pointer;display: block;width: 100%;margin-bottom: 0;padding: 0.3em;box-sizing: border-box;text-align: center;}#sk-container-id-1 label.sk-toggleable__label-arrow:before {content: \"▸\";float: left;margin-right: 0.25em;color: #696969;}#sk-container-id-1 label.sk-toggleable__label-arrow:hover:before {color: black;}#sk-container-id-1 div.sk-estimator:hover label.sk-toggleable__label-arrow:before {color: black;}#sk-container-id-1 div.sk-toggleable__content {max-height: 0;max-width: 0;overflow: hidden;text-align: left;background-color: #f0f8ff;}#sk-container-id-1 div.sk-toggleable__content pre {margin: 0.2em;color: black;border-radius: 0.25em;background-color: #f0f8ff;}#sk-container-id-1 input.sk-toggleable__control:checked~div.sk-toggleable__content {max-height: 200px;max-width: 100%;overflow: auto;}#sk-container-id-1 input.sk-toggleable__control:checked~label.sk-toggleable__label-arrow:before {content: \"▾\";}#sk-container-id-1 div.sk-estimator input.sk-toggleable__control:checked~label.sk-toggleable__label {background-color: #d4ebff;}#sk-container-id-1 div.sk-label input.sk-toggleable__control:checked~label.sk-toggleable__label {background-color: #d4ebff;}#sk-container-id-1 input.sk-hidden--visually {border: 0;clip: rect(1px 1px 1px 1px);clip: rect(1px, 1px, 1px, 1px);height: 1px;margin: -1px;overflow: hidden;padding: 0;position: absolute;width: 1px;}#sk-container-id-1 div.sk-estimator {font-family: monospace;background-color: #f0f8ff;border: 1px dotted black;border-radius: 0.25em;box-sizing: border-box;margin-bottom: 0.5em;}#sk-container-id-1 div.sk-estimator:hover {background-color: #d4ebff;}#sk-container-id-1 div.sk-parallel-item::after {content: \"\";width: 100%;border-bottom: 1px solid gray;flex-grow: 1;}#sk-container-id-1 div.sk-label:hover label.sk-toggleable__label {background-color: #d4ebff;}#sk-container-id-1 div.sk-serial::before {content: \"\";position: absolute;border-left: 1px solid gray;box-sizing: border-box;top: 0;bottom: 0;left: 50%;z-index: 0;}#sk-container-id-1 div.sk-serial {display: flex;flex-direction: column;align-items: center;background-color: white;padding-right: 0.2em;padding-left: 0.2em;position: relative;}#sk-container-id-1 div.sk-item {position: relative;z-index: 1;}#sk-container-id-1 div.sk-parallel {display: flex;align-items: stretch;justify-content: center;background-color: white;position: relative;}#sk-container-id-1 div.sk-item::before, #sk-container-id-1 div.sk-parallel-item::before {content: \"\";position: absolute;border-left: 1px solid gray;box-sizing: border-box;top: 0;bottom: 0;left: 50%;z-index: -1;}#sk-container-id-1 div.sk-parallel-item {display: flex;flex-direction: column;z-index: 1;position: relative;background-color: white;}#sk-container-id-1 div.sk-parallel-item:first-child::after {align-self: flex-end;width: 50%;}#sk-container-id-1 div.sk-parallel-item:last-child::after {align-self: flex-start;width: 50%;}#sk-container-id-1 div.sk-parallel-item:only-child::after {width: 0;}#sk-container-id-1 div.sk-dashed-wrapped {border: 1px dashed gray;margin: 0 0.4em 0.5em 0.4em;box-sizing: border-box;padding-bottom: 0.4em;background-color: white;}#sk-container-id-1 div.sk-label label {font-family: monospace;font-weight: bold;display: inline-block;line-height: 1.2em;}#sk-container-id-1 div.sk-label-container {text-align: center;}#sk-container-id-1 div.sk-container {/* jupyter's `normalize.less` sets `[hidden] { display: none; }` but bootstrap.min.css set `[hidden] { display: none !important; }` so we also need the `!important` here to be able to override the default hidden behavior on the sphinx rendered scikit-learn.org. See: https://github.com/scikit-learn/scikit-learn/issues/21755 */display: inline-block !important;position: relative;}#sk-container-id-1 div.sk-text-repr-fallback {display: none;}</style><div id=\"sk-container-id-1\" class=\"sk-top-container\"><div class=\"sk-text-repr-fallback\"><pre>LGBMRanker(colsample_bytree=0.9, early_stopping_rounds=100, learning_rate=0.25,\n",
       "           max_depth=10, min_child_samples=100, n_estimators=1000,\n",
       "           num_leaves=10, objective=&#x27;lambdarank&#x27;, random_state=42,\n",
       "           reg_lambda=1)</pre><b>In a Jupyter environment, please rerun this cell to show the HTML representation or trust the notebook. <br />On GitHub, the HTML representation is unable to render, please try loading this page with nbviewer.org.</b></div><div class=\"sk-container\" hidden><div class=\"sk-item\"><div class=\"sk-estimator sk-toggleable\"><input class=\"sk-toggleable__control sk-hidden--visually\" id=\"sk-estimator-id-1\" type=\"checkbox\" checked><label for=\"sk-estimator-id-1\" class=\"sk-toggleable__label sk-toggleable__label-arrow\">LGBMRanker</label><div class=\"sk-toggleable__content\"><pre>LGBMRanker(colsample_bytree=0.9, early_stopping_rounds=100, learning_rate=0.25,\n",
       "           max_depth=10, min_child_samples=100, n_estimators=1000,\n",
       "           num_leaves=10, objective=&#x27;lambdarank&#x27;, random_state=42,\n",
       "           reg_lambda=1)</pre></div></div></div></div></div>"
      ],
      "text/plain": [
       "LGBMRanker(colsample_bytree=0.9, early_stopping_rounds=100, learning_rate=0.25,\n",
       "           max_depth=10, min_child_samples=100, n_estimators=1000,\n",
       "           num_leaves=10, objective='lambdarank', random_state=42,\n",
       "           reg_lambda=1)"
      ]
     },
     "execution_count": 25,
     "metadata": {},
     "output_type": "execute_result"
    }
   ],
   "source": [
    "%%time\n",
    "LGBMRanker_model.fit(**fit_params, )"
   ]
  },
  {
   "cell_type": "code",
   "execution_count": 26,
   "metadata": {},
   "outputs": [
    {
     "data": {
      "text/plain": [
       "OrderedDict([('ndcg@3', 0.9130688177294668),\n",
       "             ('ndcg@5', 0.919412841981759),\n",
       "             ('ndcg@10', 0.9258518540270024)])"
      ]
     },
     "execution_count": 26,
     "metadata": {},
     "output_type": "execute_result"
    }
   ],
   "source": [
    "LGBMRanker_model.best_score_['valid_0']"
   ]
  },
  {
   "cell_type": "code",
   "execution_count": 28,
   "metadata": {},
   "outputs": [],
   "source": [
    "def calc_metrics_(candidates_df, rank_col: str) -> Dict[str, float]:\n",
    "    \n",
    "    metrics = {\n",
    "        'ndcg@10': NDCG(k = 10),\n",
    "        'map@10': MAP(k = 10),\n",
    "        'Precision@10': Precision(k = 10),\n",
    "        'recall@10': Recall(k = 10),\n",
    "        'novelty@10': MeanInvUserFreq(k = 10),\n",
    "    }\n",
    "\n",
    "    return calc_metrics(\n",
    "        metrics=metrics,\n",
    "        reco=(\n",
    "            candidates_df\n",
    "            .rename(columns={rank_col: Columns.Rank})\n",
    "            [[Columns.User, Columns.Item, Columns.Rank]]\n",
    "            [candidates_df[Columns.User].isin(test_users)]\n",
    "        ),\n",
    "        interactions=(\n",
    "            ranker_data\n",
    "            [[Columns.User, Columns.Item, Columns.Datetime, Columns.Weight]]\n",
    "            [ranker_data[Columns.User].isin(test_users)]\n",
    "        ), \n",
    "        prev_interactions=(\n",
    "            base_models_data\n",
    "            [[Columns.User, Columns.Item, Columns.Datetime, Columns.Weight]]\n",
    "            [base_models_data[Columns.User].isin(test_users)]\n",
    "        ),\n",
    "        catalog=items['item_id'].unique()\n",
    "    )"
   ]
  },
  {
   "cell_type": "code",
   "execution_count": 29,
   "metadata": {},
   "outputs": [],
   "source": [
    "def add_score_and_rank(df: pd.DataFrame, y_pred_scores: np.ndarray, name: str) -> pd.DataFrame:\n",
    "    df[f'{name}_score'] = y_pred_scores\n",
    "    \n",
    "    df.sort_values(\n",
    "        by=['user_id', f'{name}_score'],\n",
    "        ascending=[True, False],\n",
    "        inplace=True,\n",
    "    )\n",
    "    \n",
    "    df[f'{name}_rank'] = df.groupby('user_id').cumcount() + 1\n",
    "    return df"
   ]
  },
  {
   "cell_type": "code",
   "execution_count": 31,
   "metadata": {},
   "outputs": [
    {
     "name": "stdout",
     "output_type": "stream",
     "text": [
      "CPU times: user 4min 44s, sys: 15.5 s, total: 4min 59s\n",
      "Wall time: 1min 21s\n"
     ]
    }
   ],
   "source": [
    "%%time\n",
    "y_pred = LGBMRanker_model.predict(ranker_df[cols])\n",
    "ranker_df = add_score_and_rank(ranker_df, y_pred, 'LGBMRanker')"
   ]
  },
  {
   "cell_type": "code",
   "execution_count": 32,
   "metadata": {},
   "outputs": [
    {
     "data": {
      "text/plain": [
       "{'Precision@10': 0.049571784490812835,\n",
       " 'recall@10': 0.16561972709456318,\n",
       " 'ndcg@10': 0.056188324309528415,\n",
       " 'map@10': 0.06950526020846529,\n",
       " 'novelty@10': 4.502567471410776}"
      ]
     },
     "execution_count": 32,
     "metadata": {},
     "output_type": "execute_result"
    }
   ],
   "source": [
    "calc_metrics_(ranker_val, 'lfm_rank')"
   ]
  },
  {
   "cell_type": "code",
   "execution_count": 33,
   "metadata": {},
   "outputs": [
    {
     "data": {
      "text/plain": [
       "{'Precision@10': 0.053843558600643625,\n",
       " 'recall@10': 0.180522691021291,\n",
       " 'ndcg@10': 0.0627867984346407,\n",
       " 'map@10': 0.07912127927413679,\n",
       " 'novelty@10': 3.476069828281411}"
      ]
     },
     "execution_count": 33,
     "metadata": {},
     "output_type": "execute_result"
    }
   ],
   "source": [
    "calc_metrics_(ranker_val, 'popular_rank')"
   ]
  },
  {
   "cell_type": "code",
   "execution_count": 34,
   "metadata": {},
   "outputs": [
    {
     "data": {
      "text/plain": [
       "{'Precision@10': 0.061585175957645594,\n",
       " 'recall@10': 0.20586530287469296,\n",
       " 'ndcg@10': 0.07327564601596924,\n",
       " 'map@10': 0.09424722607577088,\n",
       " 'novelty@10': 3.917867331942583}"
      ]
     },
     "execution_count": 34,
     "metadata": {},
     "output_type": "execute_result"
    }
   ],
   "source": [
    "calc_metrics_(ranker_val, 'LGBMRanker_rank')"
   ]
  },
  {
   "cell_type": "markdown",
   "metadata": {},
   "source": [
    "По метрикам lgbm лучше, чем популярное и lightfm"
   ]
  },
  {
   "cell_type": "code",
   "execution_count": 44,
   "metadata": {},
   "outputs": [
    {
     "data": {
      "text/html": [
       "<div>\n",
       "<style scoped>\n",
       "    .dataframe tbody tr th:only-of-type {\n",
       "        vertical-align: middle;\n",
       "    }\n",
       "\n",
       "    .dataframe tbody tr th {\n",
       "        vertical-align: top;\n",
       "    }\n",
       "\n",
       "    .dataframe thead th {\n",
       "        text-align: right;\n",
       "    }\n",
       "</style>\n",
       "<table border=\"1\" class=\"dataframe\">\n",
       "  <thead>\n",
       "    <tr style=\"text-align: right;\">\n",
       "      <th></th>\n",
       "      <th>user_id</th>\n",
       "      <th>item_id</th>\n",
       "      <th>datetime</th>\n",
       "      <th>total_dur</th>\n",
       "      <th>weight</th>\n",
       "      <th>lfm_score</th>\n",
       "      <th>lfm_rank</th>\n",
       "      <th>popular_score</th>\n",
       "      <th>popular_rank</th>\n",
       "      <th>age</th>\n",
       "      <th>income</th>\n",
       "      <th>sex</th>\n",
       "      <th>kids_flg</th>\n",
       "      <th>user_hist</th>\n",
       "      <th>user_avg_pop</th>\n",
       "      <th>user_last_pop</th>\n",
       "      <th>user_cold</th>\n",
       "      <th>content_type</th>\n",
       "      <th>title</th>\n",
       "      <th>title_orig</th>\n",
       "      <th>release_year</th>\n",
       "      <th>genres</th>\n",
       "      <th>countries</th>\n",
       "      <th>for_kids</th>\n",
       "      <th>age_rating</th>\n",
       "      <th>studios</th>\n",
       "      <th>directors</th>\n",
       "      <th>actors</th>\n",
       "      <th>description</th>\n",
       "      <th>keywords</th>\n",
       "      <th>item_pop</th>\n",
       "      <th>item_avg_hist</th>\n",
       "      <th>target_ranker</th>\n",
       "      <th>LGBMRanker_score</th>\n",
       "      <th>LGBMRanker_rank</th>\n",
       "    </tr>\n",
       "  </thead>\n",
       "  <tbody>\n",
       "    <tr>\n",
       "      <th>38</th>\n",
       "      <td>0</td>\n",
       "      <td>9728.0</td>\n",
       "      <td>2021-07-01</td>\n",
       "      <td>0.0</td>\n",
       "      <td>0.0</td>\n",
       "      <td>3.602555</td>\n",
       "      <td>4.0</td>\n",
       "      <td>76978.0</td>\n",
       "      <td>4.0</td>\n",
       "      <td>5</td>\n",
       "      <td>2</td>\n",
       "      <td>0</td>\n",
       "      <td>0</td>\n",
       "      <td>6.0</td>\n",
       "      <td>41885.0</td>\n",
       "      <td>5208.0</td>\n",
       "      <td>0.0</td>\n",
       "      <td>0</td>\n",
       "      <td>Гнев человеческий</td>\n",
       "      <td>Wrath of Man</td>\n",
       "      <td>2021.0</td>\n",
       "      <td>боевики, триллеры</td>\n",
       "      <td>Великобритания, США</td>\n",
       "      <td>-1</td>\n",
       "      <td>18.0</td>\n",
       "      <td>-1</td>\n",
       "      <td>Гай Ричи</td>\n",
       "      <td>Джейсон Стэйтем, Холт МакКэллани, Джеффри Доно...</td>\n",
       "      <td>Грузовики лос-анджелесской инкассаторской комп...</td>\n",
       "      <td>ограбление, криминальный авторитет, месть, пер...</td>\n",
       "      <td>76978.0</td>\n",
       "      <td>11.165736</td>\n",
       "      <td>0</td>\n",
       "      <td>1.968856</td>\n",
       "      <td>1</td>\n",
       "    </tr>\n",
       "    <tr>\n",
       "      <th>41</th>\n",
       "      <td>0</td>\n",
       "      <td>10440.0</td>\n",
       "      <td>2021-07-01</td>\n",
       "      <td>0.0</td>\n",
       "      <td>0.0</td>\n",
       "      <td>4.009995</td>\n",
       "      <td>1.0</td>\n",
       "      <td>141889.0</td>\n",
       "      <td>1.0</td>\n",
       "      <td>5</td>\n",
       "      <td>2</td>\n",
       "      <td>0</td>\n",
       "      <td>0</td>\n",
       "      <td>6.0</td>\n",
       "      <td>41885.0</td>\n",
       "      <td>5208.0</td>\n",
       "      <td>0.0</td>\n",
       "      <td>1</td>\n",
       "      <td>Хрустальный</td>\n",
       "      <td>Khrustal'nyy</td>\n",
       "      <td>2021.0</td>\n",
       "      <td>триллеры, детективы</td>\n",
       "      <td>Россия</td>\n",
       "      <td>-1</td>\n",
       "      <td>18.0</td>\n",
       "      <td>-1</td>\n",
       "      <td>Душан Глигоров</td>\n",
       "      <td>Антон Васильев, Николай Шрайбер, Екатерина Оль...</td>\n",
       "      <td>Сергей Смирнов — один из лучших «охотников на ...</td>\n",
       "      <td>хруст, хрусталь, хруста, хрус, полицейский, пе...</td>\n",
       "      <td>141889.0</td>\n",
       "      <td>8.068716</td>\n",
       "      <td>0</td>\n",
       "      <td>1.730989</td>\n",
       "      <td>2</td>\n",
       "    </tr>\n",
       "    <tr>\n",
       "      <th>62</th>\n",
       "      <td>0</td>\n",
       "      <td>15297.0</td>\n",
       "      <td>2021-07-01</td>\n",
       "      <td>0.0</td>\n",
       "      <td>0.0</td>\n",
       "      <td>3.601663</td>\n",
       "      <td>5.0</td>\n",
       "      <td>137128.0</td>\n",
       "      <td>2.0</td>\n",
       "      <td>5</td>\n",
       "      <td>2</td>\n",
       "      <td>0</td>\n",
       "      <td>0</td>\n",
       "      <td>6.0</td>\n",
       "      <td>41885.0</td>\n",
       "      <td>5208.0</td>\n",
       "      <td>0.0</td>\n",
       "      <td>1</td>\n",
       "      <td>Клиника счастья</td>\n",
       "      <td>Klinika schast'ya</td>\n",
       "      <td>2021.0</td>\n",
       "      <td>драмы, мелодрамы</td>\n",
       "      <td>Россия</td>\n",
       "      <td>-1</td>\n",
       "      <td>18.0</td>\n",
       "      <td>-1</td>\n",
       "      <td>Александр Кириенко</td>\n",
       "      <td>Дарья Мороз, Анатолий Белый, Данил Акутин, Мар...</td>\n",
       "      <td>Успешный сексолог Алена уверена, что нашла фор...</td>\n",
       "      <td>Клиника счастья, Клиника, Счастье, Клиника сча...</td>\n",
       "      <td>137128.0</td>\n",
       "      <td>7.364295</td>\n",
       "      <td>0</td>\n",
       "      <td>1.581636</td>\n",
       "      <td>3</td>\n",
       "    </tr>\n",
       "    <tr>\n",
       "      <th>17</th>\n",
       "      <td>0</td>\n",
       "      <td>4151.0</td>\n",
       "      <td>2021-07-01</td>\n",
       "      <td>0.0</td>\n",
       "      <td>0.0</td>\n",
       "      <td>3.567085</td>\n",
       "      <td>7.0</td>\n",
       "      <td>69641.0</td>\n",
       "      <td>5.0</td>\n",
       "      <td>5</td>\n",
       "      <td>2</td>\n",
       "      <td>0</td>\n",
       "      <td>0</td>\n",
       "      <td>6.0</td>\n",
       "      <td>41885.0</td>\n",
       "      <td>5208.0</td>\n",
       "      <td>0.0</td>\n",
       "      <td>1</td>\n",
       "      <td>Секреты семейной жизни</td>\n",
       "      <td>NaN</td>\n",
       "      <td>2021.0</td>\n",
       "      <td>комедии</td>\n",
       "      <td>Россия</td>\n",
       "      <td>-1</td>\n",
       "      <td>18.0</td>\n",
       "      <td>-1</td>\n",
       "      <td>Шота Гамисония</td>\n",
       "      <td>Петр Скворцов, Алена Михайлова, Федор Лавров, ...</td>\n",
       "      <td>У Никиты и Полины всё начиналось прекрасно: об...</td>\n",
       "      <td>брызги крови, кровь, жестокое обращение с живо...</td>\n",
       "      <td>69641.0</td>\n",
       "      <td>10.807886</td>\n",
       "      <td>0</td>\n",
       "      <td>1.563301</td>\n",
       "      <td>4</td>\n",
       "    </tr>\n",
       "    <tr>\n",
       "      <th>53</th>\n",
       "      <td>0</td>\n",
       "      <td>13865.0</td>\n",
       "      <td>2021-07-01</td>\n",
       "      <td>0.0</td>\n",
       "      <td>0.0</td>\n",
       "      <td>3.583035</td>\n",
       "      <td>6.0</td>\n",
       "      <td>93403.0</td>\n",
       "      <td>3.0</td>\n",
       "      <td>5</td>\n",
       "      <td>2</td>\n",
       "      <td>0</td>\n",
       "      <td>0</td>\n",
       "      <td>6.0</td>\n",
       "      <td>41885.0</td>\n",
       "      <td>5208.0</td>\n",
       "      <td>0.0</td>\n",
       "      <td>0</td>\n",
       "      <td>Девятаев</td>\n",
       "      <td>V2. Escape from Hell</td>\n",
       "      <td>2021.0</td>\n",
       "      <td>драмы, военные, приключения</td>\n",
       "      <td>Россия</td>\n",
       "      <td>-1</td>\n",
       "      <td>12.0</td>\n",
       "      <td>-1</td>\n",
       "      <td>Тимур Бекмамбетов</td>\n",
       "      <td>Павел Прилучный, Павел Чинарёв, Тимофей Трибун...</td>\n",
       "      <td>Военно-исторический блокбастер от режиссёров Т...</td>\n",
       "      <td>Девятаев, Девятаева, Девят, Девя, Девята, Девя...</td>\n",
       "      <td>93403.0</td>\n",
       "      <td>10.408520</td>\n",
       "      <td>0</td>\n",
       "      <td>1.107333</td>\n",
       "      <td>5</td>\n",
       "    </tr>\n",
       "    <tr>\n",
       "      <th>...</th>\n",
       "      <td>...</td>\n",
       "      <td>...</td>\n",
       "      <td>...</td>\n",
       "      <td>...</td>\n",
       "      <td>...</td>\n",
       "      <td>...</td>\n",
       "      <td>...</td>\n",
       "      <td>...</td>\n",
       "      <td>...</td>\n",
       "      <td>...</td>\n",
       "      <td>...</td>\n",
       "      <td>...</td>\n",
       "      <td>...</td>\n",
       "      <td>...</td>\n",
       "      <td>...</td>\n",
       "      <td>...</td>\n",
       "      <td>...</td>\n",
       "      <td>...</td>\n",
       "      <td>...</td>\n",
       "      <td>...</td>\n",
       "      <td>...</td>\n",
       "      <td>...</td>\n",
       "      <td>...</td>\n",
       "      <td>...</td>\n",
       "      <td>...</td>\n",
       "      <td>...</td>\n",
       "      <td>...</td>\n",
       "      <td>...</td>\n",
       "      <td>...</td>\n",
       "      <td>...</td>\n",
       "      <td>...</td>\n",
       "      <td>...</td>\n",
       "      <td>...</td>\n",
       "      <td>...</td>\n",
       "      <td>...</td>\n",
       "    </tr>\n",
       "    <tr>\n",
       "      <th>48586826</th>\n",
       "      <td>1097556</td>\n",
       "      <td>10464.0</td>\n",
       "      <td>2021-07-01</td>\n",
       "      <td>0.0</td>\n",
       "      <td>0.0</td>\n",
       "      <td>-7.197162</td>\n",
       "      <td>51.0</td>\n",
       "      <td>9489.0</td>\n",
       "      <td>37.0</td>\n",
       "      <td>0</td>\n",
       "      <td>2</td>\n",
       "      <td>0</td>\n",
       "      <td>0</td>\n",
       "      <td>1.0</td>\n",
       "      <td>1620.0</td>\n",
       "      <td>1620.0</td>\n",
       "      <td>0.0</td>\n",
       "      <td>0</td>\n",
       "      <td>Вирус страха</td>\n",
       "      <td>Before the fire</td>\n",
       "      <td>2020.0</td>\n",
       "      <td>драмы, триллеры</td>\n",
       "      <td>США</td>\n",
       "      <td>-1</td>\n",
       "      <td>16.0</td>\n",
       "      <td>-1</td>\n",
       "      <td>Чарли Бюхлер</td>\n",
       "      <td>Дженна Линг, Джексон Дэвис, Райан Виджилант, Ч...</td>\n",
       "      <td>Из-за начавшейся пандемии известная актриса вы...</td>\n",
       "      <td>выживальщик, нелегальная милиция, 2020, соедин...</td>\n",
       "      <td>9489.0</td>\n",
       "      <td>21.203499</td>\n",
       "      <td>0</td>\n",
       "      <td>-3.146101</td>\n",
       "      <td>64</td>\n",
       "    </tr>\n",
       "    <tr>\n",
       "      <th>48586837</th>\n",
       "      <td>1097556</td>\n",
       "      <td>12981.0</td>\n",
       "      <td>2021-07-01</td>\n",
       "      <td>0.0</td>\n",
       "      <td>0.0</td>\n",
       "      <td>-7.197162</td>\n",
       "      <td>51.0</td>\n",
       "      <td>9306.0</td>\n",
       "      <td>39.0</td>\n",
       "      <td>0</td>\n",
       "      <td>2</td>\n",
       "      <td>0</td>\n",
       "      <td>0</td>\n",
       "      <td>1.0</td>\n",
       "      <td>1620.0</td>\n",
       "      <td>1620.0</td>\n",
       "      <td>0.0</td>\n",
       "      <td>0</td>\n",
       "      <td>Томирис</td>\n",
       "      <td>Tomiris</td>\n",
       "      <td>2020.0</td>\n",
       "      <td>боевики, драмы, историческое, военные</td>\n",
       "      <td>Казахстан</td>\n",
       "      <td>-1</td>\n",
       "      <td>16.0</td>\n",
       "      <td>-1</td>\n",
       "      <td>Акан Сатаев</td>\n",
       "      <td>Альмира Турсын, Адиль Ахметов, Берик Айтжанов,...</td>\n",
       "      <td>Среди всех древних народов, населяющих террито...</td>\n",
       "      <td>2020, казахстан, томирис</td>\n",
       "      <td>9306.0</td>\n",
       "      <td>22.071782</td>\n",
       "      <td>0</td>\n",
       "      <td>-3.146101</td>\n",
       "      <td>65</td>\n",
       "    </tr>\n",
       "    <tr>\n",
       "      <th>48586833</th>\n",
       "      <td>1097556</td>\n",
       "      <td>12463.0</td>\n",
       "      <td>2021-07-01</td>\n",
       "      <td>0.0</td>\n",
       "      <td>0.0</td>\n",
       "      <td>-7.197162</td>\n",
       "      <td>51.0</td>\n",
       "      <td>7447.0</td>\n",
       "      <td>49.0</td>\n",
       "      <td>0</td>\n",
       "      <td>2</td>\n",
       "      <td>0</td>\n",
       "      <td>0</td>\n",
       "      <td>1.0</td>\n",
       "      <td>1620.0</td>\n",
       "      <td>1620.0</td>\n",
       "      <td>0.0</td>\n",
       "      <td>0</td>\n",
       "      <td>Студентка по вызову</td>\n",
       "      <td>Mes chères études</td>\n",
       "      <td>2010.0</td>\n",
       "      <td>драмы, мелодрамы</td>\n",
       "      <td>Франция</td>\n",
       "      <td>-1</td>\n",
       "      <td>18.0</td>\n",
       "      <td>-1</td>\n",
       "      <td>Эмманюэль Берко</td>\n",
       "      <td>Дебора Франсуа, Ален Коши, Матье Деми, Бенжаме...</td>\n",
       "      <td>Лаура — 19-летняя первокурсница французского у...</td>\n",
       "      <td>Франция, гостиница, по роману или книге, гости...</td>\n",
       "      <td>7447.0</td>\n",
       "      <td>19.088492</td>\n",
       "      <td>0</td>\n",
       "      <td>-3.331159</td>\n",
       "      <td>66</td>\n",
       "    </tr>\n",
       "    <tr>\n",
       "      <th>48586785</th>\n",
       "      <td>1097556</td>\n",
       "      <td>849.0</td>\n",
       "      <td>2021-07-01</td>\n",
       "      <td>0.0</td>\n",
       "      <td>0.0</td>\n",
       "      <td>-7.197162</td>\n",
       "      <td>51.0</td>\n",
       "      <td>13304.0</td>\n",
       "      <td>27.0</td>\n",
       "      <td>0</td>\n",
       "      <td>2</td>\n",
       "      <td>0</td>\n",
       "      <td>0</td>\n",
       "      <td>1.0</td>\n",
       "      <td>1620.0</td>\n",
       "      <td>1620.0</td>\n",
       "      <td>0.0</td>\n",
       "      <td>0</td>\n",
       "      <td>Дебошир</td>\n",
       "      <td>The Brawler</td>\n",
       "      <td>2018.0</td>\n",
       "      <td>историческое, биография, криминал, драмы, спор...</td>\n",
       "      <td>США</td>\n",
       "      <td>-1</td>\n",
       "      <td>18.0</td>\n",
       "      <td>-1</td>\n",
       "      <td>Кен Кушнер</td>\n",
       "      <td>Зэк Макгоун, Эми Смарт, Джо Пантольяно, Тэрин ...</td>\n",
       "      <td>Легендарный боксёр Чак Вепнер (на экране его и...</td>\n",
       "      <td>2018, соединенные штаты, дебошир</td>\n",
       "      <td>13304.0</td>\n",
       "      <td>16.444678</td>\n",
       "      <td>0</td>\n",
       "      <td>-3.396294</td>\n",
       "      <td>67</td>\n",
       "    </tr>\n",
       "    <tr>\n",
       "      <th>48586809</th>\n",
       "      <td>1097556</td>\n",
       "      <td>7107.0</td>\n",
       "      <td>2021-07-01</td>\n",
       "      <td>0.0</td>\n",
       "      <td>0.0</td>\n",
       "      <td>-7.197162</td>\n",
       "      <td>51.0</td>\n",
       "      <td>16279.0</td>\n",
       "      <td>20.0</td>\n",
       "      <td>0</td>\n",
       "      <td>2</td>\n",
       "      <td>0</td>\n",
       "      <td>0</td>\n",
       "      <td>1.0</td>\n",
       "      <td>1620.0</td>\n",
       "      <td>1620.0</td>\n",
       "      <td>0.0</td>\n",
       "      <td>1</td>\n",
       "      <td>Девятаев</td>\n",
       "      <td>V2. Escape from Hell</td>\n",
       "      <td>2021.0</td>\n",
       "      <td>драмы, военные, приключения</td>\n",
       "      <td>Россия</td>\n",
       "      <td>-1</td>\n",
       "      <td>12.0</td>\n",
       "      <td>-1</td>\n",
       "      <td>Тимур Бекмамбетов</td>\n",
       "      <td>Павел Прилучный, Павел Чинарёв, Тимофей Трибун...</td>\n",
       "      <td>Военно-исторический блокбастер от режиссёров Т...</td>\n",
       "      <td>NaN</td>\n",
       "      <td>16279.0</td>\n",
       "      <td>14.132318</td>\n",
       "      <td>0</td>\n",
       "      <td>-4.125858</td>\n",
       "      <td>68</td>\n",
       "    </tr>\n",
       "  </tbody>\n",
       "</table>\n",
       "<p>48586851 rows × 35 columns</p>\n",
       "</div>"
      ],
      "text/plain": [
       "          user_id  item_id   datetime  total_dur  weight  lfm_score  lfm_rank  \\\n",
       "38              0   9728.0 2021-07-01        0.0     0.0   3.602555       4.0   \n",
       "41              0  10440.0 2021-07-01        0.0     0.0   4.009995       1.0   \n",
       "62              0  15297.0 2021-07-01        0.0     0.0   3.601663       5.0   \n",
       "17              0   4151.0 2021-07-01        0.0     0.0   3.567085       7.0   \n",
       "53              0  13865.0 2021-07-01        0.0     0.0   3.583035       6.0   \n",
       "...           ...      ...        ...        ...     ...        ...       ...   \n",
       "48586826  1097556  10464.0 2021-07-01        0.0     0.0  -7.197162      51.0   \n",
       "48586837  1097556  12981.0 2021-07-01        0.0     0.0  -7.197162      51.0   \n",
       "48586833  1097556  12463.0 2021-07-01        0.0     0.0  -7.197162      51.0   \n",
       "48586785  1097556    849.0 2021-07-01        0.0     0.0  -7.197162      51.0   \n",
       "48586809  1097556   7107.0 2021-07-01        0.0     0.0  -7.197162      51.0   \n",
       "\n",
       "          popular_score  popular_rank age income sex kids_flg  user_hist  \\\n",
       "38              76978.0           4.0   5      2   0        0        6.0   \n",
       "41             141889.0           1.0   5      2   0        0        6.0   \n",
       "62             137128.0           2.0   5      2   0        0        6.0   \n",
       "17              69641.0           5.0   5      2   0        0        6.0   \n",
       "53              93403.0           3.0   5      2   0        0        6.0   \n",
       "...                 ...           ...  ..    ...  ..      ...        ...   \n",
       "48586826         9489.0          37.0   0      2   0        0        1.0   \n",
       "48586837         9306.0          39.0   0      2   0        0        1.0   \n",
       "48586833         7447.0          49.0   0      2   0        0        1.0   \n",
       "48586785        13304.0          27.0   0      2   0        0        1.0   \n",
       "48586809        16279.0          20.0   0      2   0        0        1.0   \n",
       "\n",
       "          user_avg_pop  user_last_pop  user_cold content_type  \\\n",
       "38             41885.0         5208.0        0.0            0   \n",
       "41             41885.0         5208.0        0.0            1   \n",
       "62             41885.0         5208.0        0.0            1   \n",
       "17             41885.0         5208.0        0.0            1   \n",
       "53             41885.0         5208.0        0.0            0   \n",
       "...                ...            ...        ...          ...   \n",
       "48586826        1620.0         1620.0        0.0            0   \n",
       "48586837        1620.0         1620.0        0.0            0   \n",
       "48586833        1620.0         1620.0        0.0            0   \n",
       "48586785        1620.0         1620.0        0.0            0   \n",
       "48586809        1620.0         1620.0        0.0            1   \n",
       "\n",
       "                           title            title_orig  release_year  \\\n",
       "38             Гнев человеческий          Wrath of Man        2021.0   \n",
       "41                   Хрустальный          Khrustal'nyy        2021.0   \n",
       "62               Клиника счастья     Klinika schast'ya        2021.0   \n",
       "17        Секреты семейной жизни                   NaN        2021.0   \n",
       "53                      Девятаев  V2. Escape from Hell        2021.0   \n",
       "...                          ...                   ...           ...   \n",
       "48586826            Вирус страха       Before the fire        2020.0   \n",
       "48586837                 Томирис               Tomiris        2020.0   \n",
       "48586833     Студентка по вызову     Mes chères études        2010.0   \n",
       "48586785                 Дебошир           The Brawler        2018.0   \n",
       "48586809                Девятаев  V2. Escape from Hell        2021.0   \n",
       "\n",
       "                                                     genres  \\\n",
       "38                                        боевики, триллеры   \n",
       "41                                      триллеры, детективы   \n",
       "62                                         драмы, мелодрамы   \n",
       "17                                                  комедии   \n",
       "53                              драмы, военные, приключения   \n",
       "...                                                     ...   \n",
       "48586826                                    драмы, триллеры   \n",
       "48586837              боевики, драмы, историческое, военные   \n",
       "48586833                                   драмы, мелодрамы   \n",
       "48586785  историческое, биография, криминал, драмы, спор...   \n",
       "48586809                        драмы, военные, приключения   \n",
       "\n",
       "                    countries for_kids  age_rating studios  \\\n",
       "38        Великобритания, США       -1        18.0      -1   \n",
       "41                     Россия       -1        18.0      -1   \n",
       "62                     Россия       -1        18.0      -1   \n",
       "17                     Россия       -1        18.0      -1   \n",
       "53                     Россия       -1        12.0      -1   \n",
       "...                       ...      ...         ...     ...   \n",
       "48586826                  США       -1        16.0      -1   \n",
       "48586837            Казахстан       -1        16.0      -1   \n",
       "48586833              Франция       -1        18.0      -1   \n",
       "48586785                  США       -1        18.0      -1   \n",
       "48586809               Россия       -1        12.0      -1   \n",
       "\n",
       "                   directors  \\\n",
       "38                  Гай Ричи   \n",
       "41            Душан Глигоров   \n",
       "62        Александр Кириенко   \n",
       "17            Шота Гамисония   \n",
       "53         Тимур Бекмамбетов   \n",
       "...                      ...   \n",
       "48586826        Чарли Бюхлер   \n",
       "48586837         Акан Сатаев   \n",
       "48586833     Эмманюэль Берко   \n",
       "48586785          Кен Кушнер   \n",
       "48586809   Тимур Бекмамбетов   \n",
       "\n",
       "                                                     actors  \\\n",
       "38        Джейсон Стэйтем, Холт МакКэллани, Джеффри Доно...   \n",
       "41        Антон Васильев, Николай Шрайбер, Екатерина Оль...   \n",
       "62        Дарья Мороз, Анатолий Белый, Данил Акутин, Мар...   \n",
       "17        Петр Скворцов, Алена Михайлова, Федор Лавров, ...   \n",
       "53        Павел Прилучный, Павел Чинарёв, Тимофей Трибун...   \n",
       "...                                                     ...   \n",
       "48586826  Дженна Линг, Джексон Дэвис, Райан Виджилант, Ч...   \n",
       "48586837  Альмира Турсын, Адиль Ахметов, Берик Айтжанов,...   \n",
       "48586833  Дебора Франсуа, Ален Коши, Матье Деми, Бенжаме...   \n",
       "48586785  Зэк Макгоун, Эми Смарт, Джо Пантольяно, Тэрин ...   \n",
       "48586809  Павел Прилучный, Павел Чинарёв, Тимофей Трибун...   \n",
       "\n",
       "                                                description  \\\n",
       "38        Грузовики лос-анджелесской инкассаторской комп...   \n",
       "41        Сергей Смирнов — один из лучших «охотников на ...   \n",
       "62        Успешный сексолог Алена уверена, что нашла фор...   \n",
       "17        У Никиты и Полины всё начиналось прекрасно: об...   \n",
       "53        Военно-исторический блокбастер от режиссёров Т...   \n",
       "...                                                     ...   \n",
       "48586826  Из-за начавшейся пандемии известная актриса вы...   \n",
       "48586837  Среди всех древних народов, населяющих террито...   \n",
       "48586833  Лаура — 19-летняя первокурсница французского у...   \n",
       "48586785  Легендарный боксёр Чак Вепнер (на экране его и...   \n",
       "48586809  Военно-исторический блокбастер от режиссёров Т...   \n",
       "\n",
       "                                                   keywords  item_pop  \\\n",
       "38        ограбление, криминальный авторитет, месть, пер...   76978.0   \n",
       "41        хруст, хрусталь, хруста, хрус, полицейский, пе...  141889.0   \n",
       "62        Клиника счастья, Клиника, Счастье, Клиника сча...  137128.0   \n",
       "17        брызги крови, кровь, жестокое обращение с живо...   69641.0   \n",
       "53        Девятаев, Девятаева, Девят, Девя, Девята, Девя...   93403.0   \n",
       "...                                                     ...       ...   \n",
       "48586826  выживальщик, нелегальная милиция, 2020, соедин...    9489.0   \n",
       "48586837                           2020, казахстан, томирис    9306.0   \n",
       "48586833  Франция, гостиница, по роману или книге, гости...    7447.0   \n",
       "48586785                   2018, соединенные штаты, дебошир   13304.0   \n",
       "48586809                                                NaN   16279.0   \n",
       "\n",
       "          item_avg_hist  target_ranker  LGBMRanker_score  LGBMRanker_rank  \n",
       "38            11.165736              0          1.968856                1  \n",
       "41             8.068716              0          1.730989                2  \n",
       "62             7.364295              0          1.581636                3  \n",
       "17            10.807886              0          1.563301                4  \n",
       "53            10.408520              0          1.107333                5  \n",
       "...                 ...            ...               ...              ...  \n",
       "48586826      21.203499              0         -3.146101               64  \n",
       "48586837      22.071782              0         -3.146101               65  \n",
       "48586833      19.088492              0         -3.331159               66  \n",
       "48586785      16.444678              0         -3.396294               67  \n",
       "48586809      14.132318              0         -4.125858               68  \n",
       "\n",
       "[48586851 rows x 35 columns]"
      ]
     },
     "execution_count": 44,
     "metadata": {},
     "output_type": "execute_result"
    }
   ],
   "source": [
    "ranker_df"
   ]
  },
  {
   "cell_type": "code",
   "execution_count": 45,
   "metadata": {},
   "outputs": [],
   "source": [
    "ranker_df = ranker_df.sort_values(by='LGBMRanker_rank', ascending=True)"
   ]
  },
  {
   "cell_type": "code",
   "execution_count": 46,
   "metadata": {},
   "outputs": [
    {
     "data": {
      "text/html": [
       "<div>\n",
       "<style scoped>\n",
       "    .dataframe tbody tr th:only-of-type {\n",
       "        vertical-align: middle;\n",
       "    }\n",
       "\n",
       "    .dataframe tbody tr th {\n",
       "        vertical-align: top;\n",
       "    }\n",
       "\n",
       "    .dataframe thead th {\n",
       "        text-align: right;\n",
       "    }\n",
       "</style>\n",
       "<table border=\"1\" class=\"dataframe\">\n",
       "  <thead>\n",
       "    <tr style=\"text-align: right;\">\n",
       "      <th></th>\n",
       "      <th>user_id</th>\n",
       "      <th>item_id</th>\n",
       "    </tr>\n",
       "  </thead>\n",
       "  <tbody>\n",
       "    <tr>\n",
       "      <th>0</th>\n",
       "      <td>0</td>\n",
       "      <td>[9728.0, 10440.0, 15297.0, 4151.0, 13865.0, 37...</td>\n",
       "    </tr>\n",
       "    <tr>\n",
       "      <th>1</th>\n",
       "      <td>2</td>\n",
       "      <td>[5411.0, 10761.0, 9728.0, 7626.0, 15297.0, 129...</td>\n",
       "    </tr>\n",
       "    <tr>\n",
       "      <th>2</th>\n",
       "      <td>3</td>\n",
       "      <td>[10440.0, 15297.0, 4151.0, 9728.0, 13865.0, 16...</td>\n",
       "    </tr>\n",
       "    <tr>\n",
       "      <th>3</th>\n",
       "      <td>4</td>\n",
       "      <td>[9728.0, 10440.0, 13865.0, 15297.0, 8636.0, 41...</td>\n",
       "    </tr>\n",
       "    <tr>\n",
       "      <th>4</th>\n",
       "      <td>5</td>\n",
       "      <td>[7248.0, 10440.0, 9728.0, 5651.0, 15297.0, 570...</td>\n",
       "    </tr>\n",
       "    <tr>\n",
       "      <th>...</th>\n",
       "      <td>...</td>\n",
       "      <td>...</td>\n",
       "    </tr>\n",
       "    <tr>\n",
       "      <th>720870</th>\n",
       "      <td>1097551</td>\n",
       "      <td>[9728.0, 10440.0, 15297.0, 13865.0, 3734.0, 41...</td>\n",
       "    </tr>\n",
       "    <tr>\n",
       "      <th>720871</th>\n",
       "      <td>1097553</td>\n",
       "      <td>[9728.0, 10440.0, 13865.0, 15297.0, 4151.0, 37...</td>\n",
       "    </tr>\n",
       "    <tr>\n",
       "      <th>720872</th>\n",
       "      <td>1097554</td>\n",
       "      <td>[9728.0, 10440.0, 13865.0, 15297.0, 4151.0, 37...</td>\n",
       "    </tr>\n",
       "    <tr>\n",
       "      <th>720873</th>\n",
       "      <td>1097555</td>\n",
       "      <td>[10440.0, 13865.0, 9728.0, 15297.0, 3734.0, 41...</td>\n",
       "    </tr>\n",
       "    <tr>\n",
       "      <th>720874</th>\n",
       "      <td>1097556</td>\n",
       "      <td>[9728.0, 10440.0, 15297.0, 13865.0, 4151.0, 37...</td>\n",
       "    </tr>\n",
       "  </tbody>\n",
       "</table>\n",
       "<p>720875 rows × 2 columns</p>\n",
       "</div>"
      ],
      "text/plain": [
       "        user_id                                            item_id\n",
       "0             0  [9728.0, 10440.0, 15297.0, 4151.0, 13865.0, 37...\n",
       "1             2  [5411.0, 10761.0, 9728.0, 7626.0, 15297.0, 129...\n",
       "2             3  [10440.0, 15297.0, 4151.0, 9728.0, 13865.0, 16...\n",
       "3             4  [9728.0, 10440.0, 13865.0, 15297.0, 8636.0, 41...\n",
       "4             5  [7248.0, 10440.0, 9728.0, 5651.0, 15297.0, 570...\n",
       "...         ...                                                ...\n",
       "720870  1097551  [9728.0, 10440.0, 15297.0, 13865.0, 3734.0, 41...\n",
       "720871  1097553  [9728.0, 10440.0, 13865.0, 15297.0, 4151.0, 37...\n",
       "720872  1097554  [9728.0, 10440.0, 13865.0, 15297.0, 4151.0, 37...\n",
       "720873  1097555  [10440.0, 13865.0, 9728.0, 15297.0, 3734.0, 41...\n",
       "720874  1097556  [9728.0, 10440.0, 15297.0, 13865.0, 4151.0, 37...\n",
       "\n",
       "[720875 rows x 2 columns]"
      ]
     },
     "execution_count": 46,
     "metadata": {},
     "output_type": "execute_result"
    }
   ],
   "source": [
    "ranker_inference_10 = ranker_df.groupby('user_id').head(10)  # head чтобы было 10 айтемов в выдаче\n",
    "ranker_recos = ranker_inference_10.groupby('user_id')['item_id'].agg(list).reset_index()\n",
    "ranker_recos"
   ]
  },
  {
   "cell_type": "code",
   "execution_count": 70,
   "metadata": {},
   "outputs": [
    {
     "data": {
      "text/plain": [
       "(720875, 2)"
      ]
     },
     "execution_count": 70,
     "metadata": {},
     "output_type": "execute_result"
    }
   ],
   "source": [
    "ranker_recos.shape"
   ]
  },
  {
   "cell_type": "code",
   "execution_count": 52,
   "metadata": {},
   "outputs": [
    {
     "data": {
      "text/plain": [
       "[9728.0,\n",
       " 10440.0,\n",
       " 15297.0,\n",
       " 4151.0,\n",
       " 13865.0,\n",
       " 3734.0,\n",
       " 12192.0,\n",
       " 142.0,\n",
       " 4457.0,\n",
       " 6809.0]"
      ]
     },
     "execution_count": 52,
     "metadata": {},
     "output_type": "execute_result"
    }
   ],
   "source": [
    "ranker_recos[ranker_recos.user_id == 0].item_id.tolist()[0]"
   ]
  },
  {
   "cell_type": "code",
   "execution_count": 53,
   "metadata": {},
   "outputs": [
    {
     "data": {
      "text/plain": [
       "[5411.0,\n",
       " 10761.0,\n",
       " 9728.0,\n",
       " 7626.0,\n",
       " 15297.0,\n",
       " 12965.0,\n",
       " 16166.0,\n",
       " 10440.0,\n",
       " 11749.0,\n",
       " 2722.0]"
      ]
     },
     "execution_count": 53,
     "metadata": {},
     "output_type": "execute_result"
    }
   ],
   "source": [
    "ranker_recos[ranker_recos.user_id == 2].item_id.tolist()[0]"
   ]
  },
  {
   "cell_type": "code",
   "execution_count": 54,
   "metadata": {},
   "outputs": [],
   "source": [
    "import pickle\n",
    "pickle.dump(ranker_recos, open(\"../data/ranker_recos.pickle\", \"wb\"))"
   ]
  }
 ],
 "metadata": {
  "accelerator": "GPU",
  "colab": {
   "provenance": []
  },
  "gpuClass": "standard",
  "kernelspec": {
   "display_name": "Python 3",
   "language": "python",
   "name": "python3"
  },
  "language_info": {
   "codemirror_mode": {
    "name": "ipython",
    "version": 3
   },
   "file_extension": ".py",
   "mimetype": "text/x-python",
   "name": "python",
   "nbconvert_exporter": "python",
   "pygments_lexer": "ipython3",
   "version": "3.10.13"
  },
  "toc-autonumbering": false,
  "toc-showmarkdowntxt": true,
  "vscode": {
   "interpreter": {
    "hash": "5c7b89af1651d0b8571dde13640ecdccf7d5a6204171d6ab33e7c296e100e08a"
   }
  },
  "widgets": {
   "application/vnd.jupyter.widget-state+json": {
    "08331672c536487da9797c6f112a067a": {
     "model_module": "@jupyter-widgets/controls",
     "model_module_version": "1.5.0",
     "model_name": "DescriptionStyleModel",
     "state": {
      "_model_module": "@jupyter-widgets/controls",
      "_model_module_version": "1.5.0",
      "_model_name": "DescriptionStyleModel",
      "_view_count": null,
      "_view_module": "@jupyter-widgets/base",
      "_view_module_version": "1.2.0",
      "_view_name": "StyleView",
      "description_width": ""
     }
    },
    "09b03168160b4802a7dee2fd453f3dd3": {
     "model_module": "@jupyter-widgets/base",
     "model_module_version": "1.2.0",
     "model_name": "LayoutModel",
     "state": {
      "_model_module": "@jupyter-widgets/base",
      "_model_module_version": "1.2.0",
      "_model_name": "LayoutModel",
      "_view_count": null,
      "_view_module": "@jupyter-widgets/base",
      "_view_module_version": "1.2.0",
      "_view_name": "LayoutView",
      "align_content": null,
      "align_items": null,
      "align_self": null,
      "border": null,
      "bottom": null,
      "display": null,
      "flex": null,
      "flex_flow": null,
      "grid_area": null,
      "grid_auto_columns": null,
      "grid_auto_flow": null,
      "grid_auto_rows": null,
      "grid_column": null,
      "grid_gap": null,
      "grid_row": null,
      "grid_template_areas": null,
      "grid_template_columns": null,
      "grid_template_rows": null,
      "height": null,
      "justify_content": null,
      "justify_items": null,
      "left": null,
      "margin": null,
      "max_height": null,
      "max_width": null,
      "min_height": null,
      "min_width": null,
      "object_fit": null,
      "object_position": null,
      "order": null,
      "overflow": null,
      "overflow_x": null,
      "overflow_y": null,
      "padding": null,
      "right": null,
      "top": null,
      "visibility": null,
      "width": null
     }
    },
    "11af59ea2671480f85109b81977d0463": {
     "model_module": "@jupyter-widgets/base",
     "model_module_version": "1.2.0",
     "model_name": "LayoutModel",
     "state": {
      "_model_module": "@jupyter-widgets/base",
      "_model_module_version": "1.2.0",
      "_model_name": "LayoutModel",
      "_view_count": null,
      "_view_module": "@jupyter-widgets/base",
      "_view_module_version": "1.2.0",
      "_view_name": "LayoutView",
      "align_content": null,
      "align_items": null,
      "align_self": null,
      "border": null,
      "bottom": null,
      "display": null,
      "flex": null,
      "flex_flow": null,
      "grid_area": null,
      "grid_auto_columns": null,
      "grid_auto_flow": null,
      "grid_auto_rows": null,
      "grid_column": null,
      "grid_gap": null,
      "grid_row": null,
      "grid_template_areas": null,
      "grid_template_columns": null,
      "grid_template_rows": null,
      "height": null,
      "justify_content": null,
      "justify_items": null,
      "left": null,
      "margin": null,
      "max_height": null,
      "max_width": null,
      "min_height": null,
      "min_width": null,
      "object_fit": null,
      "object_position": null,
      "order": null,
      "overflow": null,
      "overflow_x": null,
      "overflow_y": null,
      "padding": null,
      "right": null,
      "top": null,
      "visibility": null,
      "width": null
     }
    },
    "15b16b6216184ef48078c037c67428b3": {
     "model_module": "@jupyter-widgets/controls",
     "model_module_version": "1.5.0",
     "model_name": "HTMLModel",
     "state": {
      "_dom_classes": [],
      "_model_module": "@jupyter-widgets/controls",
      "_model_module_version": "1.5.0",
      "_model_name": "HTMLModel",
      "_view_count": null,
      "_view_module": "@jupyter-widgets/controls",
      "_view_module_version": "1.5.0",
      "_view_name": "HTMLView",
      "description": "",
      "description_tooltip": null,
      "layout": "IPY_MODEL_e62183ab7fe043bcb20379196611a88c",
      "placeholder": "​",
      "style": "IPY_MODEL_8bac6bb269c54edbb552ebe47244851c",
      "value": " 10/10 [01:28&lt;00:00,  7.56s/it]"
     }
    },
    "2d8e28c69b974f2e9693e43fd84fd870": {
     "model_module": "@jupyter-widgets/controls",
     "model_module_version": "1.5.0",
     "model_name": "HBoxModel",
     "state": {
      "_dom_classes": [],
      "_model_module": "@jupyter-widgets/controls",
      "_model_module_version": "1.5.0",
      "_model_name": "HBoxModel",
      "_view_count": null,
      "_view_module": "@jupyter-widgets/controls",
      "_view_module_version": "1.5.0",
      "_view_name": "HBoxView",
      "box_style": "",
      "children": [
       "IPY_MODEL_5c5c0f73d1834d5ebebf9bdea2e60519",
       "IPY_MODEL_93bd8d85075f474d945b84803311d52c",
       "IPY_MODEL_15b16b6216184ef48078c037c67428b3"
      ],
      "layout": "IPY_MODEL_09b03168160b4802a7dee2fd453f3dd3"
     }
    },
    "4d47eb5cdceb41d78ab928c2ac04c9eb": {
     "model_module": "@jupyter-widgets/controls",
     "model_module_version": "1.5.0",
     "model_name": "HBoxModel",
     "state": {
      "_dom_classes": [],
      "_model_module": "@jupyter-widgets/controls",
      "_model_module_version": "1.5.0",
      "_model_name": "HBoxModel",
      "_view_count": null,
      "_view_module": "@jupyter-widgets/controls",
      "_view_module_version": "1.5.0",
      "_view_name": "HBoxView",
      "box_style": "",
      "children": [
       "IPY_MODEL_9d6b5d457f534531aed5044559e3b42c",
       "IPY_MODEL_96603854ace344f0a00746d98e051180",
       "IPY_MODEL_cf1ddd2c2ab74d2183ddac0ae264c270"
      ],
      "layout": "IPY_MODEL_8af5607f120341089f711ad94312ea36"
     }
    },
    "58a60c998c7c4af9a2b40362c4b78914": {
     "model_module": "@jupyter-widgets/base",
     "model_module_version": "1.2.0",
     "model_name": "LayoutModel",
     "state": {
      "_model_module": "@jupyter-widgets/base",
      "_model_module_version": "1.2.0",
      "_model_name": "LayoutModel",
      "_view_count": null,
      "_view_module": "@jupyter-widgets/base",
      "_view_module_version": "1.2.0",
      "_view_name": "LayoutView",
      "align_content": null,
      "align_items": null,
      "align_self": null,
      "border": null,
      "bottom": null,
      "display": null,
      "flex": null,
      "flex_flow": null,
      "grid_area": null,
      "grid_auto_columns": null,
      "grid_auto_flow": null,
      "grid_auto_rows": null,
      "grid_column": null,
      "grid_gap": null,
      "grid_row": null,
      "grid_template_areas": null,
      "grid_template_columns": null,
      "grid_template_rows": null,
      "height": null,
      "justify_content": null,
      "justify_items": null,
      "left": null,
      "margin": null,
      "max_height": null,
      "max_width": null,
      "min_height": null,
      "min_width": null,
      "object_fit": null,
      "object_position": null,
      "order": null,
      "overflow": null,
      "overflow_x": null,
      "overflow_y": null,
      "padding": null,
      "right": null,
      "top": null,
      "visibility": null,
      "width": null
     }
    },
    "5c5c0f73d1834d5ebebf9bdea2e60519": {
     "model_module": "@jupyter-widgets/controls",
     "model_module_version": "1.5.0",
     "model_name": "HTMLModel",
     "state": {
      "_dom_classes": [],
      "_model_module": "@jupyter-widgets/controls",
      "_model_module_version": "1.5.0",
      "_model_name": "HTMLModel",
      "_view_count": null,
      "_view_module": "@jupyter-widgets/controls",
      "_view_module_version": "1.5.0",
      "_view_name": "HTMLView",
      "description": "",
      "description_tooltip": null,
      "layout": "IPY_MODEL_d131289e93564ac692aaa8c2fef30871",
      "placeholder": "​",
      "style": "IPY_MODEL_e3f5b0ea09f74bd8b11b71e4a7c00f39",
      "value": "100%"
     }
    },
    "77829f222c314cbcb6562f4fd46df833": {
     "model_module": "@jupyter-widgets/base",
     "model_module_version": "1.2.0",
     "model_name": "LayoutModel",
     "state": {
      "_model_module": "@jupyter-widgets/base",
      "_model_module_version": "1.2.0",
      "_model_name": "LayoutModel",
      "_view_count": null,
      "_view_module": "@jupyter-widgets/base",
      "_view_module_version": "1.2.0",
      "_view_name": "LayoutView",
      "align_content": null,
      "align_items": null,
      "align_self": null,
      "border": null,
      "bottom": null,
      "display": null,
      "flex": null,
      "flex_flow": null,
      "grid_area": null,
      "grid_auto_columns": null,
      "grid_auto_flow": null,
      "grid_auto_rows": null,
      "grid_column": null,
      "grid_gap": null,
      "grid_row": null,
      "grid_template_areas": null,
      "grid_template_columns": null,
      "grid_template_rows": null,
      "height": null,
      "justify_content": null,
      "justify_items": null,
      "left": null,
      "margin": null,
      "max_height": null,
      "max_width": null,
      "min_height": null,
      "min_width": null,
      "object_fit": null,
      "object_position": null,
      "order": null,
      "overflow": null,
      "overflow_x": null,
      "overflow_y": null,
      "padding": null,
      "right": null,
      "top": null,
      "visibility": null,
      "width": null
     }
    },
    "82d3d66524fb402b82491affed0ff299": {
     "model_module": "@jupyter-widgets/controls",
     "model_module_version": "1.5.0",
     "model_name": "DescriptionStyleModel",
     "state": {
      "_model_module": "@jupyter-widgets/controls",
      "_model_module_version": "1.5.0",
      "_model_name": "DescriptionStyleModel",
      "_view_count": null,
      "_view_module": "@jupyter-widgets/base",
      "_view_module_version": "1.2.0",
      "_view_name": "StyleView",
      "description_width": ""
     }
    },
    "8af5607f120341089f711ad94312ea36": {
     "model_module": "@jupyter-widgets/base",
     "model_module_version": "1.2.0",
     "model_name": "LayoutModel",
     "state": {
      "_model_module": "@jupyter-widgets/base",
      "_model_module_version": "1.2.0",
      "_model_name": "LayoutModel",
      "_view_count": null,
      "_view_module": "@jupyter-widgets/base",
      "_view_module_version": "1.2.0",
      "_view_name": "LayoutView",
      "align_content": null,
      "align_items": null,
      "align_self": null,
      "border": null,
      "bottom": null,
      "display": null,
      "flex": null,
      "flex_flow": null,
      "grid_area": null,
      "grid_auto_columns": null,
      "grid_auto_flow": null,
      "grid_auto_rows": null,
      "grid_column": null,
      "grid_gap": null,
      "grid_row": null,
      "grid_template_areas": null,
      "grid_template_columns": null,
      "grid_template_rows": null,
      "height": null,
      "justify_content": null,
      "justify_items": null,
      "left": null,
      "margin": null,
      "max_height": null,
      "max_width": null,
      "min_height": null,
      "min_width": null,
      "object_fit": null,
      "object_position": null,
      "order": null,
      "overflow": null,
      "overflow_x": null,
      "overflow_y": null,
      "padding": null,
      "right": null,
      "top": null,
      "visibility": null,
      "width": null
     }
    },
    "8bac6bb269c54edbb552ebe47244851c": {
     "model_module": "@jupyter-widgets/controls",
     "model_module_version": "1.5.0",
     "model_name": "DescriptionStyleModel",
     "state": {
      "_model_module": "@jupyter-widgets/controls",
      "_model_module_version": "1.5.0",
      "_model_name": "DescriptionStyleModel",
      "_view_count": null,
      "_view_module": "@jupyter-widgets/base",
      "_view_module_version": "1.2.0",
      "_view_name": "StyleView",
      "description_width": ""
     }
    },
    "93bd8d85075f474d945b84803311d52c": {
     "model_module": "@jupyter-widgets/controls",
     "model_module_version": "1.5.0",
     "model_name": "FloatProgressModel",
     "state": {
      "_dom_classes": [],
      "_model_module": "@jupyter-widgets/controls",
      "_model_module_version": "1.5.0",
      "_model_name": "FloatProgressModel",
      "_view_count": null,
      "_view_module": "@jupyter-widgets/controls",
      "_view_module_version": "1.5.0",
      "_view_name": "ProgressView",
      "bar_style": "success",
      "description": "",
      "description_tooltip": null,
      "layout": "IPY_MODEL_77829f222c314cbcb6562f4fd46df833",
      "max": 10,
      "min": 0,
      "orientation": "horizontal",
      "style": "IPY_MODEL_a31676e51dc84a719d273847201f386b",
      "value": 10
     }
    },
    "96603854ace344f0a00746d98e051180": {
     "model_module": "@jupyter-widgets/controls",
     "model_module_version": "1.5.0",
     "model_name": "FloatProgressModel",
     "state": {
      "_dom_classes": [],
      "_model_module": "@jupyter-widgets/controls",
      "_model_module_version": "1.5.0",
      "_model_name": "FloatProgressModel",
      "_view_count": null,
      "_view_module": "@jupyter-widgets/controls",
      "_view_module_version": "1.5.0",
      "_view_name": "ProgressView",
      "bar_style": "",
      "description": "",
      "description_tooltip": null,
      "layout": "IPY_MODEL_11af59ea2671480f85109b81977d0463",
      "max": 78795385,
      "min": 0,
      "orientation": "horizontal",
      "style": "IPY_MODEL_cf9cca4354e14125aa2c8b9b59f68092",
      "value": 78795385
     }
    },
    "9d6b5d457f534531aed5044559e3b42c": {
     "model_module": "@jupyter-widgets/controls",
     "model_module_version": "1.5.0",
     "model_name": "HTMLModel",
     "state": {
      "_dom_classes": [],
      "_model_module": "@jupyter-widgets/controls",
      "_model_module_version": "1.5.0",
      "_model_name": "HTMLModel",
      "_view_count": null,
      "_view_module": "@jupyter-widgets/controls",
      "_view_module_version": "1.5.0",
      "_view_name": "HTMLView",
      "description": "",
      "description_tooltip": null,
      "layout": "IPY_MODEL_d3b5e99c801f4cd4966e590c56e22902",
      "placeholder": "​",
      "style": "IPY_MODEL_08331672c536487da9797c6f112a067a",
      "value": "kion dataset download: 100%"
     }
    },
    "a31676e51dc84a719d273847201f386b": {
     "model_module": "@jupyter-widgets/controls",
     "model_module_version": "1.5.0",
     "model_name": "ProgressStyleModel",
     "state": {
      "_model_module": "@jupyter-widgets/controls",
      "_model_module_version": "1.5.0",
      "_model_name": "ProgressStyleModel",
      "_view_count": null,
      "_view_module": "@jupyter-widgets/base",
      "_view_module_version": "1.2.0",
      "_view_name": "StyleView",
      "bar_color": null,
      "description_width": ""
     }
    },
    "cbbb4b289f0c440facbeb2080db32c59": {
     "model_module": "catboost-widget",
     "model_module_version": "^1.0.0",
     "model_name": "CatboostWidgetModel",
     "state": {
      "_dom_classes": [],
      "_model_module": "catboost-widget",
      "_model_module_version": "^1.0.0",
      "_model_name": "CatboostWidgetModel",
      "_view_count": null,
      "_view_module": "catboost-widget",
      "_view_module_version": "^1.0.0",
      "_view_name": "CatboostWidgetView",
      "data": {
       "catboost_info": {
        "content": {
         "data": {
          "iterations": [
           {
            "iteration": 0,
            "passed_time": 1.085504189,
            "remaining_time": 107.4649148,
            "test": [
             0.6542969432,
             0.5311441745
            ]
           },
           {
            "iteration": 1,
            "passed_time": 2.121540085,
            "remaining_time": 103.9554642,
            "test": [
             0.6807766779,
             0.568223571
            ]
           },
           {
            "iteration": 2,
            "passed_time": 3.190384985,
            "remaining_time": 103.1557812,
            "test": [
             0.6850385446,
             0.5735127599
            ]
           },
           {
            "iteration": 3,
            "passed_time": 4.415111867,
            "remaining_time": 105.9626848,
            "test": [
             0.6966191827,
             0.590626867
            ]
           },
           {
            "iteration": 4,
            "passed_time": 6.382095661,
            "remaining_time": 121.2598176,
            "test": [
             0.697545687,
             0.5920025868
            ]
           },
           {
            "iteration": 5,
            "passed_time": 7.438977166,
            "remaining_time": 116.5439756,
            "test": [
             0.6984194661,
             0.5934567998
            ]
           },
           {
            "iteration": 6,
            "passed_time": 8.466790229,
            "remaining_time": 112.4873559,
            "test": [
             0.7173960759,
             0.623611652
            ]
           },
           {
            "iteration": 7,
            "passed_time": 9.527085196,
            "remaining_time": 109.5614798,
            "test": [
             0.7406116929,
             0.6532040093
            ]
           },
           {
            "iteration": 8,
            "passed_time": 10.57905542,
            "remaining_time": 106.9660048,
            "test": [
             0.7412795682,
             0.6545558257
            ]
           },
           {
            "iteration": 9,
            "passed_time": 11.59997082,
            "remaining_time": 104.3997374,
            "test": [
             0.7411092774,
             0.6542885816
            ]
           },
           {
            "iteration": 10,
            "passed_time": 12.63034877,
            "remaining_time": 102.1910037,
            "test": [
             0.741507868,
             0.6544609295
            ]
           },
           {
            "iteration": 11,
            "passed_time": 13.68967689,
            "remaining_time": 100.3909639,
            "test": [
             0.7439423777,
             0.6582895407
            ]
           },
           {
            "iteration": 12,
            "passed_time": 14.74609663,
            "remaining_time": 98.68541592,
            "test": [
             0.7549896958,
             0.6738036362
            ]
           },
           {
            "iteration": 13,
            "passed_time": 15.7959628,
            "remaining_time": 97.03234294,
            "test": [
             0.7585659803,
             0.6788548564
            ]
           },
           {
            "iteration": 14,
            "passed_time": 16.86373908,
            "remaining_time": 95.56118813,
            "test": [
             0.7638292078,
             0.685183816
            ]
           },
           {
            "iteration": 15,
            "passed_time": 17.95104544,
            "remaining_time": 94.24298857,
            "test": [
             0.7639185336,
             0.6849599318
            ]
           },
           {
            "iteration": 16,
            "passed_time": 18.96893194,
            "remaining_time": 92.61302063,
            "test": [
             0.7642587007,
             0.6855358583
            ]
           },
           {
            "iteration": 17,
            "passed_time": 20.00794268,
            "remaining_time": 91.14729445,
            "test": [
             0.7667875149,
             0.6890828309
            ]
           },
           {
            "iteration": 18,
            "passed_time": 21.06549425,
            "remaining_time": 89.80552813,
            "test": [
             0.7694388664,
             0.6927190324
            ]
           },
           {
            "iteration": 19,
            "passed_time": 22.08768433,
            "remaining_time": 88.35073732,
            "test": [
             0.7693488716,
             0.6926629993
            ]
           },
           {
            "iteration": 20,
            "passed_time": 23.12324833,
            "remaining_time": 86.987458,
            "test": [
             0.7734205076,
             0.6974874771
            ]
           },
           {
            "iteration": 21,
            "passed_time": 24.20087864,
            "remaining_time": 85.80311519,
            "test": [
             0.7742206811,
             0.6978636296
            ]
           },
           {
            "iteration": 22,
            "passed_time": 25.2643067,
            "remaining_time": 84.58050505,
            "test": [
             0.7732032039,
             0.6972502513
            ]
           },
           {
            "iteration": 23,
            "passed_time": 26.32049684,
            "remaining_time": 83.34823999,
            "test": [
             0.774096433,
             0.6975098161
            ]
           },
           {
            "iteration": 24,
            "passed_time": 27.36817492,
            "remaining_time": 82.10452477,
            "test": [
             0.7737097087,
             0.697620482
            ]
           },
           {
            "iteration": 25,
            "passed_time": 28.42051686,
            "remaining_time": 80.88916338,
            "test": [
             0.7749763398,
             0.6992339454
            ]
           },
           {
            "iteration": 26,
            "passed_time": 29.44551187,
            "remaining_time": 79.6119395,
            "test": [
             0.7782988832,
             0.7027033844
            ]
           },
           {
            "iteration": 27,
            "passed_time": 30.44830561,
            "remaining_time": 78.295643,
            "test": [
             0.7788233366,
             0.7027669226
            ]
           },
           {
            "iteration": 28,
            "passed_time": 31.46855242,
            "remaining_time": 77.04369731,
            "test": [
             0.7802131209,
             0.704175382
            ]
           },
           {
            "iteration": 29,
            "passed_time": 32.49029016,
            "remaining_time": 75.81067703,
            "test": [
             0.7810971392,
             0.7051452531
            ]
           },
           {
            "iteration": 30,
            "passed_time": 33.49455684,
            "remaining_time": 74.5524007,
            "test": [
             0.7823964129,
             0.7070052248
            ]
           },
           {
            "iteration": 31,
            "passed_time": 34.53682213,
            "remaining_time": 73.39074703,
            "test": [
             0.7822264598,
             0.7073201344
            ]
           },
           {
            "iteration": 32,
            "passed_time": 35.55450006,
            "remaining_time": 72.18640921,
            "test": [
             0.7818550358,
             0.7069481635
            ]
           },
           {
            "iteration": 33,
            "passed_time": 36.57876238,
            "remaining_time": 71.00583285,
            "test": [
             0.7823295751,
             0.7076188653
            ]
           },
           {
            "iteration": 34,
            "passed_time": 37.63784562,
            "remaining_time": 69.89885616,
            "test": [
             0.7824519122,
             0.7077704915
            ]
           },
           {
            "iteration": 35,
            "passed_time": 38.65606006,
            "remaining_time": 68.72188456,
            "test": [
             0.7795743476,
             0.7055927081
            ]
           },
           {
            "iteration": 36,
            "passed_time": 39.70610828,
            "remaining_time": 67.60769789,
            "test": [
             0.7806389683,
             0.7077200502
            ]
           },
           {
            "iteration": 37,
            "passed_time": 40.7352373,
            "remaining_time": 66.46275559,
            "test": [
             0.7805981324,
             0.7075781418
            ]
           },
           {
            "iteration": 38,
            "passed_time": 41.7536061,
            "remaining_time": 65.30692235,
            "test": [
             0.7822129591,
             0.7090605337
            ]
           },
           {
            "iteration": 39,
            "passed_time": 42.76878432,
            "remaining_time": 64.15317648,
            "test": [
             0.7822917814,
             0.7092625411
            ]
           },
           {
            "iteration": 40,
            "passed_time": 43.77452348,
            "remaining_time": 62.99260697,
            "test": [
             0.7821225422,
             0.7093333854
            ]
           },
           {
            "iteration": 41,
            "passed_time": 44.79208542,
            "remaining_time": 61.85573701,
            "test": [
             0.7826545863,
             0.7097623871
            ]
           },
           {
            "iteration": 42,
            "passed_time": 45.80502006,
            "remaining_time": 60.7182824,
            "test": [
             0.7828668395,
             0.7096003296
            ]
           },
           {
            "iteration": 43,
            "passed_time": 46.81075261,
            "remaining_time": 59.57732151,
            "test": [
             0.7850328261,
             0.7122153706
            ]
           },
           {
            "iteration": 44,
            "passed_time": 47.81937275,
            "remaining_time": 58.44590003,
            "test": [
             0.7846427751,
             0.7117315165
            ]
           },
           {
            "iteration": 45,
            "passed_time": 48.85028092,
            "remaining_time": 57.34598195,
            "test": [
             0.7846330712,
             0.7116638416
            ]
           },
           {
            "iteration": 46,
            "passed_time": 49.8799322,
            "remaining_time": 56.24758312,
            "test": [
             0.7840554281,
             0.7106473813
            ]
           },
           {
            "iteration": 47,
            "passed_time": 50.88116779,
            "remaining_time": 55.12126511,
            "test": [
             0.7835815317,
             0.710404692
            ]
           },
           {
            "iteration": 48,
            "passed_time": 51.92030115,
            "remaining_time": 54.03949711,
            "test": [
             0.7838175461,
             0.7112320774
            ]
           },
           {
            "iteration": 49,
            "passed_time": 52.94398021,
            "remaining_time": 52.94398021,
            "test": [
             0.7838190587,
             0.7110397072
            ]
           },
           {
            "iteration": 50,
            "passed_time": 53.97571167,
            "remaining_time": 51.85901709,
            "test": [
             0.7829240553,
             0.7100481596
            ]
           },
           {
            "iteration": 51,
            "passed_time": 55.01939069,
            "remaining_time": 50.78712987,
            "test": [
             0.783195945,
             0.7106174915
            ]
           },
           {
            "iteration": 52,
            "passed_time": 56.05224634,
            "remaining_time": 49.70670902,
            "test": [
             0.78323231,
             0.7107427942
            ]
           },
           {
            "iteration": 53,
            "passed_time": 57.09227242,
            "remaining_time": 48.63415798,
            "test": [
             0.7832713016,
             0.7107834507
            ]
           },
           {
            "iteration": 54,
            "passed_time": 58.11242629,
            "remaining_time": 47.5465306,
            "test": [
             0.783506347,
             0.7103947293
            ]
           },
           {
            "iteration": 55,
            "passed_time": 59.13337898,
            "remaining_time": 46.46194062,
            "test": [
             0.7839705435,
             0.7107502516
            ]
           },
           {
            "iteration": 56,
            "passed_time": 60.19990395,
            "remaining_time": 45.41396263,
            "test": [
             0.7842857678,
             0.710869065
            ]
           },
           {
            "iteration": 57,
            "passed_time": 61.21382271,
            "remaining_time": 44.32725092,
            "test": [
             0.7842745399,
             0.7108490043
            ]
           },
           {
            "iteration": 58,
            "passed_time": 62.24290167,
            "remaining_time": 43.25354184,
            "test": [
             0.7840394974,
             0.7106170557
            ]
           },
           {
            "iteration": 59,
            "passed_time": 63.25536794,
            "remaining_time": 42.1702453,
            "test": [
             0.7849194909,
             0.7117253511
            ]
           },
           {
            "iteration": 60,
            "passed_time": 64.27430724,
            "remaining_time": 41.09340954,
            "test": [
             0.7852026149,
             0.7119856748
            ]
           },
           {
            "iteration": 61,
            "passed_time": 65.32371447,
            "remaining_time": 40.03711532,
            "test": [
             0.7851631582,
             0.7117371831
            ]
           },
           {
            "iteration": 62,
            "passed_time": 66.3330324,
            "remaining_time": 38.95749522,
            "test": [
             0.7850450239,
             0.7118249722
            ]
           },
           {
            "iteration": 63,
            "passed_time": 67.3429504,
            "remaining_time": 37.8804096,
            "test": [
             0.784334748,
             0.7112370909
            ]
           },
           {
            "iteration": 64,
            "passed_time": 68.35491489,
            "remaining_time": 36.80649263,
            "test": [
             0.7843481436,
             0.7112107551
            ]
           },
           {
            "iteration": 65,
            "passed_time": 69.36688266,
            "remaining_time": 35.7344547,
            "test": [
             0.7841344392,
             0.7107803338
            ]
           },
           {
            "iteration": 66,
            "passed_time": 70.84304384,
            "remaining_time": 34.89284249,
            "test": [
             0.7839566321,
             0.7103244608
            ]
           },
           {
            "iteration": 67,
            "passed_time": 73.54847207,
            "remaining_time": 34.61104568,
            "test": [
             0.7841736359,
             0.7105131055
            ]
           },
           {
            "iteration": 68,
            "passed_time": 74.81937798,
            "remaining_time": 33.61450315,
            "test": [
             0.7841622343,
             0.7104708561
            ]
           },
           {
            "iteration": 69,
            "passed_time": 75.84329595,
            "remaining_time": 32.50426969,
            "test": [
             0.7856741568,
             0.7124386008
            ]
           },
           {
            "iteration": 70,
            "passed_time": 76.87531971,
            "remaining_time": 31.39977847,
            "test": [
             0.7856735707,
             0.7124386008
            ]
           },
           {
            "iteration": 71,
            "passed_time": 77.90669959,
            "remaining_time": 30.29704984,
            "test": [
             0.7862149789,
             0.7127737632
            ]
           },
           {
            "iteration": 72,
            "passed_time": 78.95160319,
            "remaining_time": 29.20127789,
            "test": [
             0.7864712523,
             0.7133347646
            ]
           },
           {
            "iteration": 73,
            "passed_time": 79.97164408,
            "remaining_time": 28.09814522,
            "test": [
             0.7866398285,
             0.7135751461
            ]
           },
           {
            "iteration": 74,
            "passed_time": 81.03785712,
            "remaining_time": 27.01261904,
            "test": [
             0.7865418749,
             0.7136414172
            ]
           },
           {
            "iteration": 75,
            "passed_time": 82.06723439,
            "remaining_time": 25.91596875,
            "test": [
             0.787019269,
             0.7136154908
            ]
           },
           {
            "iteration": 76,
            "passed_time": 83.08575268,
            "remaining_time": 24.81782223,
            "test": [
             0.7870423183,
             0.7138141947
            ]
           },
           {
            "iteration": 77,
            "passed_time": 84.0926216,
            "remaining_time": 23.71843173,
            "test": [
             0.7870423183,
             0.7138141947
            ]
           },
           {
            "iteration": 78,
            "passed_time": 85.11539132,
            "remaining_time": 22.62561035,
            "test": [
             0.7872655123,
             0.7137063039
            ]
           },
           {
            "iteration": 79,
            "passed_time": 86.21276942,
            "remaining_time": 21.55319235,
            "test": [
             0.7869391501,
             0.7129571
            ]
           },
           {
            "iteration": 80,
            "passed_time": 87.24309509,
            "remaining_time": 20.46442971,
            "test": [
             0.7874038716,
             0.7133491216
            ]
           },
           {
            "iteration": 81,
            "passed_time": 88.26753697,
            "remaining_time": 19.3758008,
            "test": [
             0.7865669859,
             0.7126336534
            ]
           },
           {
            "iteration": 82,
            "passed_time": 89.28560377,
            "remaining_time": 18.28741282,
            "test": [
             0.7863189363,
             0.7126913487
            ]
           },
           {
            "iteration": 83,
            "passed_time": 90.31916888,
            "remaining_time": 17.20365121,
            "test": [
             0.7862299329,
             0.7125661894
            ]
           },
           {
            "iteration": 84,
            "passed_time": 91.35066669,
            "remaining_time": 16.12070589,
            "test": [
             0.7859114241,
             0.7124709546
            ]
           },
           {
            "iteration": 85,
            "passed_time": 92.41670594,
            "remaining_time": 15.04458004,
            "test": [
             0.7854792624,
             0.7121779438
            ]
           },
           {
            "iteration": 86,
            "passed_time": 93.45008787,
            "remaining_time": 13.96380623,
            "test": [
             0.7851076941,
             0.7117388446
            ]
           },
           {
            "iteration": 87,
            "passed_time": 94.46491309,
            "remaining_time": 12.88157906,
            "test": [
             0.7850207994,
             0.7116526986
            ]
           },
           {
            "iteration": 88,
            "passed_time": 95.49378281,
            "remaining_time": 11.80260237,
            "test": [
             0.7858669826,
             0.7125933907
            ]
           },
           {
            "iteration": 89,
            "passed_time": 96.52464933,
            "remaining_time": 10.72496104,
            "test": [
             0.786318377,
             0.7129378602
            ]
           },
           {
            "iteration": 90,
            "passed_time": 97.54743747,
            "remaining_time": 9.647548761,
            "test": [
             0.7859965713,
             0.7121921642
            ]
           },
           {
            "iteration": 91,
            "passed_time": 98.58809281,
            "remaining_time": 8.572877636,
            "test": [
             0.7860275879,
             0.7123416449
            ]
           },
           {
            "iteration": 92,
            "passed_time": 99.61418253,
            "remaining_time": 7.497841696,
            "test": [
             0.7866181611,
             0.7132929799
            ]
           },
           {
            "iteration": 93,
            "passed_time": 100.6257511,
            "remaining_time": 6.42292028,
            "test": [
             0.786345873,
             0.7130408659
            ]
           },
           {
            "iteration": 94,
            "passed_time": 101.6598342,
            "remaining_time": 5.350517592,
            "test": [
             0.7871158411,
             0.7140842814
            ]
           },
           {
            "iteration": 95,
            "passed_time": 102.7053372,
            "remaining_time": 4.279389049,
            "test": [
             0.7865196687,
             0.7130756131
            ]
           },
           {
            "iteration": 96,
            "passed_time": 104.2066017,
            "remaining_time": 3.22288459,
            "test": [
             0.7864188671,
             0.7129625227
            ]
           },
           {
            "iteration": 97,
            "passed_time": 106.0792658,
            "remaining_time": 2.164882976,
            "test": [
             0.7864014163,
             0.7132845546
            ]
           },
           {
            "iteration": 98,
            "passed_time": 107.108678,
            "remaining_time": 1.081905838,
            "test": [
             0.7864057166,
             0.7132877553
            ]
           },
           {
            "iteration": 99,
            "passed_time": 108.1276216,
            "remaining_time": 0,
            "test": [
             0.7864083258,
             0.713416748
            ]
           }
          ],
          "meta": {
           "iteration_count": 100,
           "launch_mode": "Train",
           "learn_metrics": [],
           "learn_sets": [
            "learn"
           ],
           "name": "experiment",
           "parameters": "",
           "test_metrics": [
            {
             "best_value": "Max",
             "name": "NDCG:type=Base"
            },
            {
             "best_value": "Max",
             "name": "NDCG:top=10;type=Base"
            }
           ],
           "test_sets": [
            "test"
           ]
          }
         },
         "passed_iterations": 99,
         "total_iterations": 100
        },
        "name": "catboost_info",
        "path": "catboost_info"
       }
      },
      "layout": "IPY_MODEL_d72db2fe54f74502b4a467c23e89117b"
     }
    },
    "cf1ddd2c2ab74d2183ddac0ae264c270": {
     "model_module": "@jupyter-widgets/controls",
     "model_module_version": "1.5.0",
     "model_name": "HTMLModel",
     "state": {
      "_dom_classes": [],
      "_model_module": "@jupyter-widgets/controls",
      "_model_module_version": "1.5.0",
      "_model_name": "HTMLModel",
      "_view_count": null,
      "_view_module": "@jupyter-widgets/controls",
      "_view_module_version": "1.5.0",
      "_view_name": "HTMLView",
      "description": "",
      "description_tooltip": null,
      "layout": "IPY_MODEL_58a60c998c7c4af9a2b40362c4b78914",
      "placeholder": "​",
      "style": "IPY_MODEL_82d3d66524fb402b82491affed0ff299",
      "value": " 78.8M/78.8M [00:20&lt;00:00, 11.0MiB/s]"
     }
    },
    "cf9cca4354e14125aa2c8b9b59f68092": {
     "model_module": "@jupyter-widgets/controls",
     "model_module_version": "1.5.0",
     "model_name": "ProgressStyleModel",
     "state": {
      "_model_module": "@jupyter-widgets/controls",
      "_model_module_version": "1.5.0",
      "_model_name": "ProgressStyleModel",
      "_view_count": null,
      "_view_module": "@jupyter-widgets/base",
      "_view_module_version": "1.2.0",
      "_view_name": "StyleView",
      "bar_color": null,
      "description_width": ""
     }
    },
    "d131289e93564ac692aaa8c2fef30871": {
     "model_module": "@jupyter-widgets/base",
     "model_module_version": "1.2.0",
     "model_name": "LayoutModel",
     "state": {
      "_model_module": "@jupyter-widgets/base",
      "_model_module_version": "1.2.0",
      "_model_name": "LayoutModel",
      "_view_count": null,
      "_view_module": "@jupyter-widgets/base",
      "_view_module_version": "1.2.0",
      "_view_name": "LayoutView",
      "align_content": null,
      "align_items": null,
      "align_self": null,
      "border": null,
      "bottom": null,
      "display": null,
      "flex": null,
      "flex_flow": null,
      "grid_area": null,
      "grid_auto_columns": null,
      "grid_auto_flow": null,
      "grid_auto_rows": null,
      "grid_column": null,
      "grid_gap": null,
      "grid_row": null,
      "grid_template_areas": null,
      "grid_template_columns": null,
      "grid_template_rows": null,
      "height": null,
      "justify_content": null,
      "justify_items": null,
      "left": null,
      "margin": null,
      "max_height": null,
      "max_width": null,
      "min_height": null,
      "min_width": null,
      "object_fit": null,
      "object_position": null,
      "order": null,
      "overflow": null,
      "overflow_x": null,
      "overflow_y": null,
      "padding": null,
      "right": null,
      "top": null,
      "visibility": null,
      "width": null
     }
    },
    "d3b5e99c801f4cd4966e590c56e22902": {
     "model_module": "@jupyter-widgets/base",
     "model_module_version": "1.2.0",
     "model_name": "LayoutModel",
     "state": {
      "_model_module": "@jupyter-widgets/base",
      "_model_module_version": "1.2.0",
      "_model_name": "LayoutModel",
      "_view_count": null,
      "_view_module": "@jupyter-widgets/base",
      "_view_module_version": "1.2.0",
      "_view_name": "LayoutView",
      "align_content": null,
      "align_items": null,
      "align_self": null,
      "border": null,
      "bottom": null,
      "display": null,
      "flex": null,
      "flex_flow": null,
      "grid_area": null,
      "grid_auto_columns": null,
      "grid_auto_flow": null,
      "grid_auto_rows": null,
      "grid_column": null,
      "grid_gap": null,
      "grid_row": null,
      "grid_template_areas": null,
      "grid_template_columns": null,
      "grid_template_rows": null,
      "height": null,
      "justify_content": null,
      "justify_items": null,
      "left": null,
      "margin": null,
      "max_height": null,
      "max_width": null,
      "min_height": null,
      "min_width": null,
      "object_fit": null,
      "object_position": null,
      "order": null,
      "overflow": null,
      "overflow_x": null,
      "overflow_y": null,
      "padding": null,
      "right": null,
      "top": null,
      "visibility": null,
      "width": null
     }
    },
    "e3f5b0ea09f74bd8b11b71e4a7c00f39": {
     "model_module": "@jupyter-widgets/controls",
     "model_module_version": "1.5.0",
     "model_name": "DescriptionStyleModel",
     "state": {
      "_model_module": "@jupyter-widgets/controls",
      "_model_module_version": "1.5.0",
      "_model_name": "DescriptionStyleModel",
      "_view_count": null,
      "_view_module": "@jupyter-widgets/base",
      "_view_module_version": "1.2.0",
      "_view_name": "StyleView",
      "description_width": ""
     }
    },
    "e62183ab7fe043bcb20379196611a88c": {
     "model_module": "@jupyter-widgets/base",
     "model_module_version": "1.2.0",
     "model_name": "LayoutModel",
     "state": {
      "_model_module": "@jupyter-widgets/base",
      "_model_module_version": "1.2.0",
      "_model_name": "LayoutModel",
      "_view_count": null,
      "_view_module": "@jupyter-widgets/base",
      "_view_module_version": "1.2.0",
      "_view_name": "LayoutView",
      "align_content": null,
      "align_items": null,
      "align_self": null,
      "border": null,
      "bottom": null,
      "display": null,
      "flex": null,
      "flex_flow": null,
      "grid_area": null,
      "grid_auto_columns": null,
      "grid_auto_flow": null,
      "grid_auto_rows": null,
      "grid_column": null,
      "grid_gap": null,
      "grid_row": null,
      "grid_template_areas": null,
      "grid_template_columns": null,
      "grid_template_rows": null,
      "height": null,
      "justify_content": null,
      "justify_items": null,
      "left": null,
      "margin": null,
      "max_height": null,
      "max_width": null,
      "min_height": null,
      "min_width": null,
      "object_fit": null,
      "object_position": null,
      "order": null,
      "overflow": null,
      "overflow_x": null,
      "overflow_y": null,
      "padding": null,
      "right": null,
      "top": null,
      "visibility": null,
      "width": null
     }
    }
   }
  }
 },
 "nbformat": 4,
 "nbformat_minor": 1
}
