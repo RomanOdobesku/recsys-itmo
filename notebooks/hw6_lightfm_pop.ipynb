{
 "cells": [
  {
   "cell_type": "code",
   "execution_count": 1,
   "metadata": {},
   "outputs": [],
   "source": [
    "import sys\n",
    "sys.path.append(\"../\")"
   ]
  },
  {
   "cell_type": "code",
   "execution_count": 2,
   "metadata": {
    "id": "1dXyeUPnKRuo"
   },
   "outputs": [],
   "source": [
    "import warnings\n",
    "warnings.simplefilter('ignore')\n",
    "from pathlib import Path\n",
    "import dill\n",
    "import numpy as np\n",
    "import pandas as pd\n",
    "import requests\n",
    "# import shap\n",
    "\n",
    "from lightfm import LightFM\n",
    "from lightfm.data import Dataset\n",
    "from lightgbm import LGBMRanker, LGBMClassifier, Booster\n",
    "from xgboost import XGBRanker\n",
    "from catboost import CatBoostRanker, Pool\n",
    "\n",
    "import rectools\n",
    "from rectools.metrics import calc_metrics, NDCG, MAP, Precision, Recall, MeanInvUserFreq\n",
    "from rectools import Columns\n",
    "from rectools.models import ImplicitALSWrapperModel, PopularModel\n",
    "from implicit.als import AlternatingLeastSquares\n",
    "\n",
    "from sklearn.metrics import roc_auc_score\n",
    "from sklearn.model_selection import train_test_split\n",
    "from typing import Any, Dict, Tuple\n",
    "from tqdm.auto import tqdm\n",
    "from zipfile import ZipFile\n",
    "\n",
    "from rec_sys.tools import generate_lightfm_recs_mapper, avg_user_metric"
   ]
  },
  {
   "cell_type": "markdown",
   "metadata": {
    "id": "7Fp7zbl5KRup"
   },
   "source": [
    "## Подготовка данных"
   ]
  },
  {
   "cell_type": "code",
   "execution_count": 3,
   "metadata": {},
   "outputs": [],
   "source": [
    "users = pd.read_csv('../data/users.csv')\n",
    "items = pd.read_csv('../data/items.csv')\n",
    "interactions = pd.read_csv('../data/interactions.csv')"
   ]
  },
  {
   "cell_type": "code",
   "execution_count": 4,
   "metadata": {
    "id": "KGVM_NceKRus"
   },
   "outputs": [],
   "source": [
    "# Меняем названия колонок для использования rectools\n",
    "interactions.rename(\n",
    "    columns={\n",
    "        'last_watch_dt': Columns.Datetime,\n",
    "        'watched_pct': Columns.Weight,\n",
    "    }, \n",
    "    inplace=True,\n",
    ") \n",
    "\n",
    "# Меняем тип данных\n",
    "interactions['datetime'] = interactions['datetime'].astype(np.datetime64)\n",
    "\n",
    "# Заполняем пропуски\n",
    "interactions_default_values: Dict[str, Any] = {\n",
    "   Columns.Datetime: interactions[Columns.Datetime].median(),\n",
    "    Columns.Weight: 0.,\n",
    "    'total_dur': 0,\n",
    "}\n",
    "interactions.fillna(interactions_default_values, inplace=True)"
   ]
  },
  {
   "cell_type": "code",
   "execution_count": 5,
   "metadata": {
    "id": "KlI8qlOSKRut"
   },
   "outputs": [],
   "source": [
    "def encode_cat_cols(df: pd.DataFrame, cat_cols) -> Tuple[pd.DataFrame, Dict]:\n",
    "    cat_col_encoding = {}  # словарь с категориями\n",
    "\n",
    "    for col in cat_cols:\n",
    "        cat_col = df[col].astype('category').cat\n",
    "        cat_col_encoding[col] = cat_col.categories\n",
    "        df[col] = cat_col.codes.astype('category')\n",
    "    return df, cat_col_encoding\n",
    "\n",
    "users_cat_cols = [\n",
    "     'age', 'income', 'sex', 'kids_flg'\n",
    "]\n",
    "users, users_cat_col_encoding = encode_cat_cols(users, users_cat_cols)"
   ]
  },
  {
   "cell_type": "code",
   "execution_count": 6,
   "metadata": {
    "id": "I-bXi_mlKRut"
   },
   "outputs": [],
   "source": [
    "items_cat_cols = [ \n",
    "    'content_type', 'for_kids', 'studios',\n",
    "]\n",
    "\n",
    "items_text_cols = [\n",
    "    'title', 'title_orig', 'genres', 'countries', 'directors', 'actors', 'description', 'keywords',\n",
    "]\n",
    "\n",
    "items_num_cols = [\n",
    "    'release_year', 'age_rating', \n",
    "]\n",
    "\n",
    "default_values_items = {\n",
    "    'release_year': items['release_year'].median(),\n",
    "    'age_rating': items['age_rating'].median(),\n",
    "}\n",
    "\n",
    "items, items_cat_col_encoding = encode_cat_cols(items, items_cat_cols) \n",
    "items.fillna(default_values_items, inplace=True)"
   ]
  },
  {
   "cell_type": "markdown",
   "metadata": {
    "id": "cZv4CKidKRuu"
   },
   "source": [
    "## Трейн-вал-тест сплит"
   ]
  },
  {
   "cell_type": "code",
   "execution_count": 7,
   "metadata": {
    "colab": {
     "base_uri": "https://localhost:8080/"
    },
    "id": "mazshQVwKRuu",
    "outputId": "b217f2ef-75b5-45e9-e218-bbca078cd0fd"
   },
   "outputs": [
    {
     "name": "stdout",
     "output_type": "stream",
     "text": [
      "min дата в interactions: 2021-03-13 00:00:00\n",
      "max дата в interactions: 2021-08-22 00:00:00\n",
      "Продолжительность: 162 days 00:00:00\n"
     ]
    }
   ],
   "source": [
    "max_date = interactions[Columns.Datetime].max()\n",
    "min_date = interactions[Columns.Datetime].min()\n",
    "\n",
    "print(f'min дата в interactions: {min_date}')\n",
    "print(f'max дата в interactions: {max_date}')\n",
    "print(f'Продолжительность: {max_date - min_date}')"
   ]
  },
  {
   "cell_type": "code",
   "execution_count": 8,
   "metadata": {
    "id": "JEUrcdFDKRuu"
   },
   "outputs": [],
   "source": [
    "ranker_days_count = 30\n",
    "\n",
    "ranker_data = interactions[\n",
    "    (interactions[Columns.Datetime] >= max_date - pd.Timedelta(days=ranker_days_count))\n",
    "]\n",
    "\n",
    "train_size = 0.7\n",
    "val_size = 0.15\n",
    "test_size = 0.15 \n",
    "\n",
    "train_val_users, test_users = train_test_split(\n",
    "    ranker_data['user_id'].unique(), random_state=42, test_size=test_size\n",
    ")\n",
    "\n",
    "train_users, val_users = train_test_split(\n",
    "    train_val_users, random_state=42, test_size=val_size / (train_size + val_size)  # 15% от общего размера\n",
    ")"
   ]
  },
  {
   "cell_type": "code",
   "execution_count": 9,
   "metadata": {
    "id": "KVwxBwU8KRuu"
   },
   "outputs": [],
   "source": [
    "base_models_data = interactions[\n",
    "    (interactions[Columns.Datetime] < max_date - pd.Timedelta(days=ranker_days_count))\n",
    "]"
   ]
  },
  {
   "cell_type": "code",
   "execution_count": 10,
   "metadata": {
    "id": "mA73KzSRrlnq"
   },
   "outputs": [],
   "source": [
    "users = users.loc[users[Columns.User].isin(base_models_data[Columns.User])].copy()\n",
    "\n",
    "user_features_frames = []\n",
    "for feature in [\"sex\", \"age\", \"income\"]:\n",
    "    feature_frame = users.reindex(columns=[Columns.User, feature])\n",
    "    feature_frame.columns = [\"id\", \"value\"]\n",
    "    feature_frame[\"feature\"] = feature\n",
    "    user_features_frames.append(feature_frame)\n",
    "user_features = pd.concat(user_features_frames)"
   ]
  },
  {
   "cell_type": "code",
   "execution_count": 11,
   "metadata": {
    "id": "Yp0GxV8hrqHI"
   },
   "outputs": [],
   "source": [
    "items = items.loc[items[Columns.Item].isin(base_models_data[Columns.Item])].copy()\n",
    "\n",
    "items[\"genre\"] = items[\"genres\"].str.lower().str.replace(\", \", \",\", regex=False).str.split(\",\")\n",
    "genre_feature = items[[\"item_id\", \"genre\"]].explode(\"genre\")\n",
    "genre_feature.columns = [\"id\", \"value\"]\n",
    "genre_feature[\"feature\"] = \"genre\"\n",
    "\n",
    "content_feature = items.reindex(columns=[Columns.Item, \"content_type\"])\n",
    "content_feature.columns = [\"id\", \"value\"]\n",
    "content_feature[\"feature\"] = \"content_type\"\n",
    "\n",
    "item_features = pd.concat((genre_feature, content_feature))"
   ]
  },
  {
   "cell_type": "code",
   "execution_count": 12,
   "metadata": {
    "id": "Dhf9SP6fdGOV"
   },
   "outputs": [],
   "source": [
    "dataset = rectools.dataset.Dataset.construct(\n",
    "    interactions_df=base_models_data,\n",
    "    user_features_df=user_features,\n",
    "    cat_user_features=[\"sex\", \"age\", \"income\"],\n",
    "    item_features_df=item_features,\n",
    "    cat_item_features=[\"genre\", \"content_type\"],\n",
    ")"
   ]
  },
  {
   "cell_type": "code",
   "execution_count": 13,
   "metadata": {
    "id": "t1xXjXaJsW40"
   },
   "outputs": [],
   "source": [
    "items = items.drop(items_text_cols, axis=1)"
   ]
  },
  {
   "cell_type": "markdown",
   "metadata": {
    "id": "IvbO2aa3KRuu"
   },
   "source": [
    "## Обучаем модели первого уровня"
   ]
  },
  {
   "cell_type": "markdown",
   "metadata": {
    "id": "7Js-ek3tDQTM"
   },
   "source": [
    "### LightFM"
   ]
  },
  {
   "cell_type": "markdown",
   "metadata": {},
   "source": [
    "возьмём lightfm без юзер и айтем фичей"
   ]
  },
  {
   "cell_type": "code",
   "execution_count": 14,
   "metadata": {
    "id": "TJwwyJFqKRuv"
   },
   "outputs": [],
   "source": [
    "lightfm_dataset = Dataset()\n",
    "lightfm_user_ids = base_models_data['user_id'].unique()\n",
    "lightfm_item_ids = base_models_data['item_id'].unique()\n",
    "lightfm_dataset.fit(lightfm_user_ids, lightfm_item_ids)"
   ]
  },
  {
   "cell_type": "code",
   "execution_count": 15,
   "metadata": {
    "id": "flNz5jbzKRuv"
   },
   "outputs": [],
   "source": [
    "interactions_matrix, weights_matrix = lightfm_dataset.build_interactions(\n",
    "    zip(*base_models_data[['user_id', 'item_id', Columns.Weight]].values.T)\n",
    ")\n",
    "weights_matrix = weights_matrix.tocsr()"
   ]
  },
  {
   "cell_type": "code",
   "execution_count": 16,
   "metadata": {
    "colab": {
     "base_uri": "https://localhost:8080/",
     "height": 49,
     "referenced_widgets": [
      "2d8e28c69b974f2e9693e43fd84fd870",
      "5c5c0f73d1834d5ebebf9bdea2e60519",
      "93bd8d85075f474d945b84803311d52c",
      "15b16b6216184ef48078c037c67428b3",
      "09b03168160b4802a7dee2fd453f3dd3",
      "d131289e93564ac692aaa8c2fef30871",
      "e3f5b0ea09f74bd8b11b71e4a7c00f39",
      "77829f222c314cbcb6562f4fd46df833",
      "a31676e51dc84a719d273847201f386b",
      "e62183ab7fe043bcb20379196611a88c",
      "8bac6bb269c54edbb552ebe47244851c"
     ]
    },
    "id": "UX-aOB_XKRuv",
    "outputId": "677828b3-7d1f-4d2a-9022-ce9db37bc56c"
   },
   "outputs": [
    {
     "name": "stderr",
     "output_type": "stream",
     "text": [
      "100%|██████████| 10/10 [00:52<00:00,  5.29s/it]\n"
     ]
    }
   ],
   "source": [
    "lfm_model = LightFM(\n",
    "    no_components=64, \n",
    "    learning_rate=0.1, \n",
    "\n",
    "    loss='warp', \n",
    "    max_sampled=5, \n",
    "    random_state=42,\n",
    ")\n",
    "\n",
    "num_epochs = 10\n",
    "\n",
    "for _ in tqdm(range(num_epochs)):\n",
    "    lfm_model.fit_partial(weights_matrix)"
   ]
  },
  {
   "cell_type": "code",
   "execution_count": 17,
   "metadata": {
    "id": "6ARSmziNKRuv"
   },
   "outputs": [],
   "source": [
    "# save model  \n",
    "with open(f'../models/lfm_model.dill', 'wb') as f:\n",
    "    dill.dump(lfm_model, f)"
   ]
  },
  {
   "cell_type": "markdown",
   "metadata": {
    "id": "xoZbTq2RDVqv"
   },
   "source": [
    "### Popular"
   ]
  },
  {
   "cell_type": "markdown",
   "metadata": {},
   "source": [
    "для холодных пользователей"
   ]
  },
  {
   "cell_type": "code",
   "execution_count": 18,
   "metadata": {
    "colab": {
     "base_uri": "https://localhost:8080/"
    },
    "id": "r6hJ-glmDXeT",
    "outputId": "d98ed854-1a30-4946-ba85-584f480733e4"
   },
   "outputs": [
    {
     "data": {
      "text/plain": [
       "<rectools.models.popular.PopularModel at 0x7fae08507250>"
      ]
     },
     "execution_count": 18,
     "metadata": {},
     "output_type": "execute_result"
    }
   ],
   "source": [
    "pop_model = PopularModel()\n",
    "pop_model.fit(dataset)"
   ]
  },
  {
   "cell_type": "code",
   "execution_count": 19,
   "metadata": {
    "id": "8BrZL6isDe29"
   },
   "outputs": [],
   "source": [
    "# save model\n",
    "with open('../models/pop_model.dill', 'wb') as f:\n",
    "   dill.dump(pop_model, f)"
   ]
  },
  {
   "cell_type": "markdown",
   "metadata": {
    "id": "BOT2QzNYKRuv"
   },
   "source": [
    "## Генерим кандидатов, которыми дополним датасет ранкера"
   ]
  },
  {
   "cell_type": "code",
   "execution_count": 20,
   "metadata": {
    "id": "T2OxG55hKRuv"
   },
   "outputs": [],
   "source": [
    "lightfm_mapping = lightfm_dataset.mapping()\n",
    "lightfm_mapping = {\n",
    "    'user_id_to_iid': lightfm_mapping[0],\n",
    "    'item_id_to_iid': lightfm_mapping[2],\n",
    "}\n",
    "\n",
    "lightfm_mapping['user_iid_to_id'] = {v: k for k, v in lightfm_mapping['user_id_to_iid'].items()}\n",
    "lightfm_mapping['item_iid_to_id'] = {v: k for k, v in lightfm_mapping['item_id_to_iid'].items()}"
   ]
  },
  {
   "cell_type": "code",
   "execution_count": 21,
   "metadata": {
    "id": "XFfUbzGHKRuv"
   },
   "outputs": [],
   "source": [
    "top_N = 50\n",
    "\n",
    "user_lfm_index = np.array(list(lightfm_mapping['user_id_to_iid'].values()))\n",
    "item_lfm_index = np.array(list(lightfm_mapping['item_id_to_iid'].values()))\n",
    "\n",
    "mapper = generate_lightfm_recs_mapper(\n",
    "    model=lfm_model, \n",
    "    N=top_N,\n",
    "    item_iids=item_lfm_index, \n",
    "    user_id_to_iid=lightfm_mapping['user_id_to_iid'],\n",
    "    item_iid_to_id=lightfm_mapping['item_iid_to_id'],\n",
    "    known_item_ids=dict(),\n",
    "    num_threads=32,\n",
    ")"
   ]
  },
  {
   "cell_type": "code",
   "execution_count": 22,
   "metadata": {
    "colab": {
     "base_uri": "https://localhost:8080/",
     "height": 143
    },
    "id": "zs-v1DsmKRuv",
    "outputId": "f22b5960-844b-4f9d-c944-a1591e9bd029"
   },
   "outputs": [
    {
     "data": {
      "text/html": [
       "<div>\n",
       "<style scoped>\n",
       "    .dataframe tbody tr th:only-of-type {\n",
       "        vertical-align: middle;\n",
       "    }\n",
       "\n",
       "    .dataframe tbody tr th {\n",
       "        vertical-align: top;\n",
       "    }\n",
       "\n",
       "    .dataframe thead th {\n",
       "        text-align: right;\n",
       "    }\n",
       "</style>\n",
       "<table border=\"1\" class=\"dataframe\">\n",
       "  <thead>\n",
       "    <tr style=\"text-align: right;\">\n",
       "      <th></th>\n",
       "      <th>user_id</th>\n",
       "      <th>item_id</th>\n",
       "      <th>lfm_score</th>\n",
       "      <th>lfm_rank</th>\n",
       "    </tr>\n",
       "  </thead>\n",
       "  <tbody>\n",
       "    <tr>\n",
       "      <th>0</th>\n",
       "      <td>176549</td>\n",
       "      <td>9728</td>\n",
       "      <td>1.180826</td>\n",
       "      <td>1</td>\n",
       "    </tr>\n",
       "    <tr>\n",
       "      <th>1</th>\n",
       "      <td>176549</td>\n",
       "      <td>7571</td>\n",
       "      <td>1.132079</td>\n",
       "      <td>2</td>\n",
       "    </tr>\n",
       "    <tr>\n",
       "      <th>2</th>\n",
       "      <td>176549</td>\n",
       "      <td>10440</td>\n",
       "      <td>1.090371</td>\n",
       "      <td>3</td>\n",
       "    </tr>\n",
       "  </tbody>\n",
       "</table>\n",
       "</div>"
      ],
      "text/plain": [
       "   user_id item_id lfm_score  lfm_rank\n",
       "0   176549    9728  1.180826         1\n",
       "1   176549    7571  1.132079         2\n",
       "2   176549   10440  1.090371         3"
      ]
     },
     "execution_count": 22,
     "metadata": {},
     "output_type": "execute_result"
    }
   ],
   "source": [
    "# скоры и ранги lightfm\n",
    "lfm_candidates = pd.DataFrame({'user_id': lightfm_user_ids})\n",
    "lfm_candidates['item_id'], lfm_candidates['lfm_score'] = zip(*lfm_candidates['user_id'].map(mapper))\n",
    "lfm_candidates = lfm_candidates.explode(['item_id', 'lfm_score'], ignore_index=True)\n",
    "lfm_candidates['lfm_rank'] = lfm_candidates.groupby('user_id').cumcount() + 1 \n",
    "\n",
    "lfm_candidates.head(3)"
   ]
  },
  {
   "cell_type": "code",
   "execution_count": 23,
   "metadata": {},
   "outputs": [],
   "source": [
    "lfm_candidates.to_csv('../data/lfm_candidates.csv', index=False)"
   ]
  },
  {
   "cell_type": "code",
   "execution_count": 24,
   "metadata": {
    "colab": {
     "base_uri": "https://localhost:8080/",
     "height": 143
    },
    "id": "H_YbH5eKv2FB",
    "outputId": "cecd11db-2d9a-4acd-ed33-af4694cebad4"
   },
   "outputs": [
    {
     "data": {
      "text/html": [
       "<div>\n",
       "<style scoped>\n",
       "    .dataframe tbody tr th:only-of-type {\n",
       "        vertical-align: middle;\n",
       "    }\n",
       "\n",
       "    .dataframe tbody tr th {\n",
       "        vertical-align: top;\n",
       "    }\n",
       "\n",
       "    .dataframe thead th {\n",
       "        text-align: right;\n",
       "    }\n",
       "</style>\n",
       "<table border=\"1\" class=\"dataframe\">\n",
       "  <thead>\n",
       "    <tr style=\"text-align: right;\">\n",
       "      <th></th>\n",
       "      <th>user_id</th>\n",
       "      <th>item_id</th>\n",
       "      <th>popular_score</th>\n",
       "      <th>popular_rank</th>\n",
       "    </tr>\n",
       "  </thead>\n",
       "  <tbody>\n",
       "    <tr>\n",
       "      <th>0</th>\n",
       "      <td>176549</td>\n",
       "      <td>10440</td>\n",
       "      <td>141889.0</td>\n",
       "      <td>1</td>\n",
       "    </tr>\n",
       "    <tr>\n",
       "      <th>1</th>\n",
       "      <td>176549</td>\n",
       "      <td>15297</td>\n",
       "      <td>137128.0</td>\n",
       "      <td>2</td>\n",
       "    </tr>\n",
       "    <tr>\n",
       "      <th>2</th>\n",
       "      <td>176549</td>\n",
       "      <td>13865</td>\n",
       "      <td>93403.0</td>\n",
       "      <td>3</td>\n",
       "    </tr>\n",
       "  </tbody>\n",
       "</table>\n",
       "</div>"
      ],
      "text/plain": [
       "   user_id  item_id  popular_score  popular_rank\n",
       "0   176549    10440       141889.0             1\n",
       "1   176549    15297       137128.0             2\n",
       "2   176549    13865        93403.0             3"
      ]
     },
     "execution_count": 24,
     "metadata": {},
     "output_type": "execute_result"
    }
   ],
   "source": [
    "popular_candidates = pop_model.recommend(lightfm_user_ids, \n",
    "                                         dataset=dataset, \n",
    "                                         k=50, \n",
    "                                         filter_viewed=False)\n",
    "\n",
    "popular_candidates.rename(columns={'score': 'popular_score',\n",
    "                                   'rank': 'popular_rank',}, \n",
    "                      inplace=True,)\n",
    "\n",
    "popular_candidates.head(3)"
   ]
  },
  {
   "cell_type": "code",
   "execution_count": 25,
   "metadata": {
    "colab": {
     "base_uri": "https://localhost:8080/",
     "height": 206
    },
    "id": "_ocfUqqPwwwc",
    "outputId": "b56b60d6-6ae1-4f3d-d5d8-239c118caae2"
   },
   "outputs": [
    {
     "data": {
      "text/html": [
       "<div>\n",
       "<style scoped>\n",
       "    .dataframe tbody tr th:only-of-type {\n",
       "        vertical-align: middle;\n",
       "    }\n",
       "\n",
       "    .dataframe tbody tr th {\n",
       "        vertical-align: top;\n",
       "    }\n",
       "\n",
       "    .dataframe thead th {\n",
       "        text-align: right;\n",
       "    }\n",
       "</style>\n",
       "<table border=\"1\" class=\"dataframe\">\n",
       "  <thead>\n",
       "    <tr style=\"text-align: right;\">\n",
       "      <th></th>\n",
       "      <th>user_id</th>\n",
       "      <th>item_id</th>\n",
       "      <th>lfm_score</th>\n",
       "      <th>lfm_rank</th>\n",
       "      <th>popular_score</th>\n",
       "      <th>popular_rank</th>\n",
       "    </tr>\n",
       "  </thead>\n",
       "  <tbody>\n",
       "    <tr>\n",
       "      <th>0</th>\n",
       "      <td>176549</td>\n",
       "      <td>9728.0</td>\n",
       "      <td>1.180826</td>\n",
       "      <td>1.0</td>\n",
       "      <td>76978.00</td>\n",
       "      <td>4.0</td>\n",
       "    </tr>\n",
       "    <tr>\n",
       "      <th>1</th>\n",
       "      <td>176549</td>\n",
       "      <td>7571.0</td>\n",
       "      <td>1.132079</td>\n",
       "      <td>2.0</td>\n",
       "      <td>20407.00</td>\n",
       "      <td>16.0</td>\n",
       "    </tr>\n",
       "    <tr>\n",
       "      <th>2</th>\n",
       "      <td>176549</td>\n",
       "      <td>10440.0</td>\n",
       "      <td>1.090371</td>\n",
       "      <td>3.0</td>\n",
       "      <td>141889.00</td>\n",
       "      <td>1.0</td>\n",
       "    </tr>\n",
       "    <tr>\n",
       "      <th>3</th>\n",
       "      <td>176549</td>\n",
       "      <td>11237.0</td>\n",
       "      <td>1.056374</td>\n",
       "      <td>4.0</td>\n",
       "      <td>22769.00</td>\n",
       "      <td>14.0</td>\n",
       "    </tr>\n",
       "    <tr>\n",
       "      <th>4</th>\n",
       "      <td>176549</td>\n",
       "      <td>1785.0</td>\n",
       "      <td>0.922613</td>\n",
       "      <td>5.0</td>\n",
       "      <td>7415.99</td>\n",
       "      <td>51.0</td>\n",
       "    </tr>\n",
       "  </tbody>\n",
       "</table>\n",
       "</div>"
      ],
      "text/plain": [
       "   user_id  item_id  lfm_score  lfm_rank  popular_score  popular_rank\n",
       "0   176549   9728.0   1.180826       1.0       76978.00           4.0\n",
       "1   176549   7571.0   1.132079       2.0       20407.00          16.0\n",
       "2   176549  10440.0   1.090371       3.0      141889.00           1.0\n",
       "3   176549  11237.0   1.056374       4.0       22769.00          14.0\n",
       "4   176549   1785.0   0.922613       5.0        7415.99          51.0"
      ]
     },
     "execution_count": 25,
     "metadata": {},
     "output_type": "execute_result"
    }
   ],
   "source": [
    "candidates = pd.merge(lfm_candidates, popular_candidates,\n",
    "                      on=['user_id', 'item_id'],\n",
    "                      how='outer')\n",
    "lfm_min_score: float =  candidates['lfm_score'].min() - 0.01\n",
    "lfm_max_rank: int = candidates['lfm_rank'].max() + 1\n",
    "\n",
    "pop_min_score: float =  candidates['popular_score'].min() - 0.01\n",
    "pop_max_rank: int = candidates['popular_rank'].max() + 1\n",
    "\n",
    "default_values = {\n",
    "        'lfm_score': lfm_min_score, 'lfm_rank': lfm_max_rank,\n",
    "        'popular_score': pop_min_score, 'popular_rank': pop_max_rank,\n",
    "        **interactions_default_values,\n",
    "    }\n",
    "\n",
    "candidates.fillna(default_values, inplace=True)\n",
    "\n",
    "candidates.head()"
   ]
  },
  {
   "cell_type": "code",
   "execution_count": 26,
   "metadata": {
    "id": "Bj55dol9_VGq"
   },
   "outputs": [],
   "source": [
    "candidates.to_csv('../data/candidates.csv', index=False)"
   ]
  },
  {
   "cell_type": "code",
   "execution_count": 27,
   "metadata": {
    "id": "jynJhlVLKRuv"
   },
   "outputs": [],
   "source": [
    "def calc_metrics_(candidates_df, rank_col: str) -> Dict[str, float]:\n",
    "    metrics = {\n",
    "        'ndcg@10': NDCG(k = 10),\n",
    "        'map@10': MAP(k = 10),\n",
    "        'Precision@10': Precision(k = 10),\n",
    "        'recall@10': Recall(k = 10),\n",
    "        'novelty@10': MeanInvUserFreq(k = 10),\n",
    "    }\n",
    "    return calc_metrics(\n",
    "        metrics=metrics,\n",
    "        reco=(\n",
    "            candidates_df\n",
    "            .rename(columns={rank_col: Columns.Rank})\n",
    "            [[Columns.User, Columns.Item, Columns.Rank]]\n",
    "            [candidates_df[Columns.User].isin(test_users)]\n",
    "        ),\n",
    "        interactions=(\n",
    "            ranker_data\n",
    "            [[Columns.User, Columns.Item, Columns.Datetime, Columns.Weight]]\n",
    "            [ranker_data[Columns.User].isin(test_users)]\n",
    "        ), \n",
    "        prev_interactions=(\n",
    "            base_models_data\n",
    "            [[Columns.User, Columns.Item, Columns.Datetime, Columns.Weight]]\n",
    "            [base_models_data[Columns.User].isin(test_users)]\n",
    "        ),\n",
    "        catalog=items['item_id'].unique()\n",
    "    )"
   ]
  },
  {
   "cell_type": "code",
   "execution_count": 28,
   "metadata": {
    "id": "8lbCF3W9FfS7"
   },
   "outputs": [],
   "source": [
    "models_metrics: Dict[str, Dict[str, float]] = dict()"
   ]
  },
  {
   "cell_type": "markdown",
   "metadata": {
    "id": "xFC3bshMKRuw"
   },
   "source": [
    "## Формируем датасет для ранкера"
   ]
  },
  {
   "cell_type": "markdown",
   "metadata": {
    "id": "baCGtFc5KRuw"
   },
   "source": [
    "### Генерим фичи для ранкера"
   ]
  },
  {
   "cell_type": "code",
   "execution_count": 29,
   "metadata": {
    "id": "BMQjqti-KRuw"
   },
   "outputs": [],
   "source": [
    "# Получаем длину истории юзера \n",
    "base_models_data['user_hist'] = (\n",
    "    base_models_data.groupby('user_id')\n",
    "    ['item_id'].transform('count')\n",
    ")\n",
    "# Получаем популярность контента\n",
    "base_models_data['item_pop'] = (\n",
    "    base_models_data.groupby('item_id')\n",
    "    ['user_id'].transform('count')\n",
    ")\n",
    "# Получаем среднюю популярность контента, просматриваемого этим юзером\n",
    "base_models_data['user_avg_pop'] = (\n",
    "    base_models_data.groupby('user_id')\n",
    "    ['item_pop'].transform('mean')\n",
    ")\n",
    "# Получаем среднюю длину истории пользователя, которые смотрит этот контент\n",
    "base_models_data['item_avg_hist'] = (\n",
    "    base_models_data.groupby('item_id')\n",
    "    ['user_hist'].transform('mean')\n",
    ")\n",
    "# Получаем популярность последнего просмотренного контента\n",
    "base_models_data.sort_values(\n",
    "    by=[Columns.User, Columns.Datetime], \n",
    "    ascending=[True, False], \n",
    "    ignore_index=True,\n",
    "    inplace=True,\n",
    ")\n",
    "base_models_data['user_last_pop'] = (\n",
    "    base_models_data.groupby('user_id')\n",
    "    ['item_pop'].transform('first')\n",
    ")"
   ]
  },
  {
   "cell_type": "code",
   "execution_count": 30,
   "metadata": {
    "id": "BRnu7-6QqQ0z"
   },
   "outputs": [],
   "source": [
    "# Определяем холодность пользователя\n",
    "base_models_data['user_cold'] = (\n",
    "    base_models_data.groupby('item_id')\n",
    "    ['user_hist'].transform('sum') < 100\n",
    ").astype(int)"
   ]
  },
  {
   "cell_type": "code",
   "execution_count": 31,
   "metadata": {
    "colab": {
     "base_uri": "https://localhost:8080/",
     "height": 357
    },
    "id": "_z6XfckaqqAX",
    "outputId": "2a93c719-66c9-4eea-cb61-ddcf6a29ebec"
   },
   "outputs": [
    {
     "data": {
      "text/html": [
       "<div>\n",
       "<style scoped>\n",
       "    .dataframe tbody tr th:only-of-type {\n",
       "        vertical-align: middle;\n",
       "    }\n",
       "\n",
       "    .dataframe tbody tr th {\n",
       "        vertical-align: top;\n",
       "    }\n",
       "\n",
       "    .dataframe thead th {\n",
       "        text-align: right;\n",
       "    }\n",
       "</style>\n",
       "<table border=\"1\" class=\"dataframe\">\n",
       "  <thead>\n",
       "    <tr style=\"text-align: right;\">\n",
       "      <th></th>\n",
       "      <th>user_id</th>\n",
       "      <th>item_id</th>\n",
       "      <th>datetime</th>\n",
       "      <th>total_dur</th>\n",
       "      <th>weight</th>\n",
       "      <th>user_hist</th>\n",
       "      <th>item_pop</th>\n",
       "      <th>user_avg_pop</th>\n",
       "      <th>item_avg_hist</th>\n",
       "      <th>user_last_pop</th>\n",
       "      <th>user_cold</th>\n",
       "    </tr>\n",
       "  </thead>\n",
       "  <tbody>\n",
       "    <tr>\n",
       "      <th>0</th>\n",
       "      <td>0</td>\n",
       "      <td>6006</td>\n",
       "      <td>2021-07-20</td>\n",
       "      <td>1</td>\n",
       "      <td>0.0</td>\n",
       "      <td>6</td>\n",
       "      <td>5208</td>\n",
       "      <td>41885.0</td>\n",
       "      <td>16.891897</td>\n",
       "      <td>5208</td>\n",
       "      <td>0</td>\n",
       "    </tr>\n",
       "    <tr>\n",
       "      <th>1</th>\n",
       "      <td>0</td>\n",
       "      <td>7102</td>\n",
       "      <td>2021-07-19</td>\n",
       "      <td>169</td>\n",
       "      <td>3.0</td>\n",
       "      <td>6</td>\n",
       "      <td>11626</td>\n",
       "      <td>41885.0</td>\n",
       "      <td>20.349475</td>\n",
       "      <td>5208</td>\n",
       "      <td>0</td>\n",
       "    </tr>\n",
       "    <tr>\n",
       "      <th>2</th>\n",
       "      <td>0</td>\n",
       "      <td>14359</td>\n",
       "      <td>2021-07-19</td>\n",
       "      <td>130</td>\n",
       "      <td>2.0</td>\n",
       "      <td>6</td>\n",
       "      <td>6053</td>\n",
       "      <td>41885.0</td>\n",
       "      <td>22.546836</td>\n",
       "      <td>5208</td>\n",
       "      <td>0</td>\n",
       "    </tr>\n",
       "    <tr>\n",
       "      <th>3</th>\n",
       "      <td>0</td>\n",
       "      <td>15297</td>\n",
       "      <td>2021-07-19</td>\n",
       "      <td>459</td>\n",
       "      <td>0.0</td>\n",
       "      <td>6</td>\n",
       "      <td>137128</td>\n",
       "      <td>41885.0</td>\n",
       "      <td>7.364295</td>\n",
       "      <td>5208</td>\n",
       "      <td>0</td>\n",
       "    </tr>\n",
       "    <tr>\n",
       "      <th>4</th>\n",
       "      <td>0</td>\n",
       "      <td>9728</td>\n",
       "      <td>2021-07-19</td>\n",
       "      <td>4</td>\n",
       "      <td>0.0</td>\n",
       "      <td>6</td>\n",
       "      <td>76978</td>\n",
       "      <td>41885.0</td>\n",
       "      <td>11.165736</td>\n",
       "      <td>5208</td>\n",
       "      <td>0</td>\n",
       "    </tr>\n",
       "  </tbody>\n",
       "</table>\n",
       "</div>"
      ],
      "text/plain": [
       "   user_id  item_id   datetime  total_dur  weight  user_hist  item_pop  \\\n",
       "0        0     6006 2021-07-20          1     0.0          6      5208   \n",
       "1        0     7102 2021-07-19        169     3.0          6     11626   \n",
       "2        0    14359 2021-07-19        130     2.0          6      6053   \n",
       "3        0    15297 2021-07-19        459     0.0          6    137128   \n",
       "4        0     9728 2021-07-19          4     0.0          6     76978   \n",
       "\n",
       "   user_avg_pop  item_avg_hist  user_last_pop  user_cold  \n",
       "0       41885.0      16.891897           5208          0  \n",
       "1       41885.0      20.349475           5208          0  \n",
       "2       41885.0      22.546836           5208          0  \n",
       "3       41885.0       7.364295           5208          0  \n",
       "4       41885.0      11.165736           5208          0  "
      ]
     },
     "execution_count": 31,
     "metadata": {},
     "output_type": "execute_result"
    }
   ],
   "source": [
    "base_models_data.head()"
   ]
  },
  {
   "cell_type": "code",
   "execution_count": 32,
   "metadata": {
    "colab": {
     "base_uri": "https://localhost:8080/",
     "height": 143
    },
    "id": "lsQmJmBCKRuw",
    "outputId": "f517c361-da13-414d-cf13-0abaf1fd80f6"
   },
   "outputs": [
    {
     "data": {
      "text/html": [
       "<div>\n",
       "<style scoped>\n",
       "    .dataframe tbody tr th:only-of-type {\n",
       "        vertical-align: middle;\n",
       "    }\n",
       "\n",
       "    .dataframe tbody tr th {\n",
       "        vertical-align: top;\n",
       "    }\n",
       "\n",
       "    .dataframe thead th {\n",
       "        text-align: right;\n",
       "    }\n",
       "</style>\n",
       "<table border=\"1\" class=\"dataframe\">\n",
       "  <thead>\n",
       "    <tr style=\"text-align: right;\">\n",
       "      <th></th>\n",
       "      <th>user_id</th>\n",
       "      <th>age</th>\n",
       "      <th>income</th>\n",
       "      <th>sex</th>\n",
       "      <th>kids_flg</th>\n",
       "      <th>user_hist</th>\n",
       "      <th>user_avg_pop</th>\n",
       "      <th>user_last_pop</th>\n",
       "      <th>user_cold</th>\n",
       "    </tr>\n",
       "  </thead>\n",
       "  <tbody>\n",
       "    <tr>\n",
       "      <th>0</th>\n",
       "      <td>973171</td>\n",
       "      <td>1</td>\n",
       "      <td>4</td>\n",
       "      <td>1</td>\n",
       "      <td>1</td>\n",
       "      <td>5</td>\n",
       "      <td>19550.800000</td>\n",
       "      <td>93403</td>\n",
       "      <td>0</td>\n",
       "    </tr>\n",
       "    <tr>\n",
       "      <th>1</th>\n",
       "      <td>962099</td>\n",
       "      <td>0</td>\n",
       "      <td>2</td>\n",
       "      <td>1</td>\n",
       "      <td>0</td>\n",
       "      <td>13</td>\n",
       "      <td>1329.307692</td>\n",
       "      <td>260</td>\n",
       "      <td>0</td>\n",
       "    </tr>\n",
       "    <tr>\n",
       "      <th>2</th>\n",
       "      <td>721985</td>\n",
       "      <td>3</td>\n",
       "      <td>2</td>\n",
       "      <td>0</td>\n",
       "      <td>0</td>\n",
       "      <td>13</td>\n",
       "      <td>6009.461538</td>\n",
       "      <td>446</td>\n",
       "      <td>0</td>\n",
       "    </tr>\n",
       "  </tbody>\n",
       "</table>\n",
       "</div>"
      ],
      "text/plain": [
       "   user_id age income sex kids_flg  user_hist  user_avg_pop  user_last_pop  \\\n",
       "0   973171   1      4   1        1          5  19550.800000          93403   \n",
       "1   962099   0      2   1        0         13   1329.307692            260   \n",
       "2   721985   3      2   0        0         13   6009.461538            446   \n",
       "\n",
       "   user_cold  \n",
       "0          0  \n",
       "1          0  \n",
       "2          0  "
      ]
     },
     "execution_count": 32,
     "metadata": {},
     "output_type": "execute_result"
    }
   ],
   "source": [
    "items = pd.merge(\n",
    "    left=items, \n",
    "    right=(\n",
    "        base_models_data\n",
    "        [['item_id', 'item_pop', 'item_avg_hist']]\n",
    "        .drop_duplicates()\n",
    "    ),\n",
    "    how='left',\n",
    "    on='item_id',\n",
    ")\n",
    "\n",
    "users = pd.merge(\n",
    "    left=users, \n",
    "    right=(\n",
    "        base_models_data\n",
    "        [['user_id', 'user_hist', 'user_avg_pop', 'user_last_pop', 'user_cold']]\n",
    "        .drop_duplicates()\n",
    "    ),\n",
    "    how='left',\n",
    "    on='user_id',\n",
    ")\n",
    "users.head(3)"
   ]
  },
  {
   "cell_type": "code",
   "execution_count": 33,
   "metadata": {
    "id": "AxzHxo6LKRuw"
   },
   "outputs": [],
   "source": [
    "default_values_items['item_pop'] = base_models_data['item_pop'].median()\n",
    "default_values_items['item_avg_hist'] = base_models_data['item_avg_hist'].median()\n",
    "\n",
    "default_values_users = {\n",
    "    'user_hist': 0,\n",
    "    'user_avg_pop': base_models_data['user_avg_pop'].median(),\n",
    "    'user_last_pop': base_models_data['user_last_pop'].median(),\n",
    "}"
   ]
  },
  {
   "cell_type": "markdown",
   "metadata": {
    "id": "8Ah4baDpKRuw"
   },
   "source": [
    "### Джойним кандидатов и юзер/айтем фичи"
   ]
  },
  {
   "cell_type": "code",
   "execution_count": 54,
   "metadata": {
    "id": "HFN4ijawKRuw"
   },
   "outputs": [],
   "source": [
    "def users_filter(\n",
    "    user_list: np.ndarray,\n",
    "    candidates_df: pd.DataFrame, \n",
    "    df: pd.DataFrame,\n",
    ") -> pd.DataFrame:\n",
    "    \n",
    "    df = pd.merge(\n",
    "        df[df['user_id'].isin(user_list)], \n",
    "        candidates_df[candidates_df['user_id'].isin(user_list)], \n",
    "        how='right',\n",
    "        on=['user_id', 'item_id']\n",
    "    )\n",
    "\n",
    "    min_score: float =  df['lfm_score'].min() - 0.01\n",
    "    max_rank: int = df['lfm_rank'].max() + 1  # 101\n",
    "    \n",
    "    default_values = {\n",
    "        'lfm_score': min_score, 'lfm_rank': max_rank,\n",
    "        **interactions_default_values,\n",
    "    }\n",
    "    df.fillna(default_values, inplace=True)\n",
    "        \n",
    "    df.sort_values(\n",
    "        by=['user_id', 'item_id'],\n",
    "        inplace=True,\n",
    "    )\n",
    "    return df\n",
    "\n",
    "ranker_train = users_filter(train_users, candidates, ranker_data)\n",
    "ranker_val = users_filter(val_users, candidates, ranker_data)\n",
    "ranker_test = users_filter(test_users, candidates, ranker_data)"
   ]
  },
  {
   "cell_type": "code",
   "execution_count": 55,
   "metadata": {
    "id": "cU_lQpY8KRux"
   },
   "outputs": [],
   "source": [
    "# Добавляем фичи\n",
    "def add_features(df: pd.DataFrame) -> pd.DataFrame:\n",
    "    df = pd.merge(\n",
    "        df, \n",
    "        users, \n",
    "        how='left', \n",
    "        on=['user_id']\n",
    "    )\n",
    "    df = pd.merge(\n",
    "        df, \n",
    "        items, \n",
    "        how='left', \n",
    "        on=['item_id']\n",
    "    )\n",
    "\n",
    "    df.fillna(default_values_items, inplace=True)\n",
    "    df.fillna(default_values_users, inplace=True)\n",
    "\n",
    "    for col in df.columns:\n",
    "        if isinstance(df[col].dtype, pd.CategoricalDtype):\n",
    "            if -1 not in df[col].cat.categories:\n",
    "                df[col] = df[col].cat.add_categories(-1)\n",
    "            df.fillna({col: -1}, inplace=True)\n",
    "    return df\n",
    "\n",
    "ranker_train = add_features(ranker_train)\n",
    "ranker_val = add_features(ranker_val)\n",
    "ranker_test = add_features(ranker_test)"
   ]
  },
  {
   "cell_type": "code",
   "execution_count": 56,
   "metadata": {
    "id": "Zp6o0wTDzFFR"
   },
   "outputs": [],
   "source": [
    "def filter_interations(df: pd.DataFrame) -> pd.DataFrame:\n",
    "    return df[df['lfm_rank'] <= 100]\n",
    "\n",
    "ranker_train = filter_interations(ranker_train)\n",
    "ranker_val = filter_interations(ranker_val)"
   ]
  },
  {
   "cell_type": "markdown",
   "metadata": {
    "id": "R2xJ8uMEKRux"
   },
   "source": [
    "## Обучение ранкеров"
   ]
  },
  {
   "cell_type": "code",
   "execution_count": 57,
   "metadata": {
    "id": "TSBrueLTKRux"
   },
   "outputs": [],
   "source": [
    "def filter_group(df: pd.DataFrame) -> pd.DataFrame:\n",
    "    df.sort_values(\n",
    "        by=['user_id', 'item_id'],\n",
    "        inplace=True,\n",
    "    )\n",
    "    groups_df = (\n",
    "        df[['user_id', 'item_id']]\n",
    "        .groupby(by=['user_id']).count()\n",
    "        .rename(columns={'item_id': 'group_size'})\n",
    "    )\n",
    "    df = pd.merge(\n",
    "        df, \n",
    "        groups_df, \n",
    "        how='left', \n",
    "        on=['user_id']\n",
    "    )\n",
    "    # Удаляем группы, без достаточного числа просмотров/кандидатов\n",
    "    df = df[df['group_size'] >= 100]\n",
    "\n",
    "    # Колонка больше не нужна\n",
    "    df.drop(columns=['group_size'], inplace=True)\n",
    "    return df\n",
    "\n",
    "ranker_train = filter_group(ranker_train)\n",
    "ranker_val = filter_group(ranker_val)\n",
    "ranker_test = filter_group(ranker_test)"
   ]
  },
  {
   "cell_type": "code",
   "execution_count": 58,
   "metadata": {
    "id": "sYCvHqqoKRux"
   },
   "outputs": [],
   "source": [
    "cols = [\n",
    "    'lfm_score', 'lfm_rank',\n",
    "    'popular_score', 'popular_rank',\n",
    "    'age', 'income', 'sex', 'kids_flg', 'user_hist', 'user_avg_pop', 'user_last_pop',\n",
    "    'content_type', 'release_year', 'for_kids', 'age_rating', 'studios', 'item_pop', 'item_avg_hist',\n",
    "]\n",
    "\n",
    "cat_cols = [\n",
    "    'age', 'income', 'sex', 'kids_flg',\n",
    "    'content_type', 'for_kids', 'studios',\n",
    "]"
   ]
  },
  {
   "cell_type": "code",
   "execution_count": 59,
   "metadata": {
    "id": "rtqvlSFEKRuy"
   },
   "outputs": [],
   "source": [
    "def add_score_and_rank(df: pd.DataFrame, y_pred_scores: np.ndarray, name: str) -> pd.DataFrame:\n",
    "    df[f'{name}_score'] = y_pred_scores\n",
    "    \n",
    "    df.sort_values(\n",
    "        by=['user_id', f'{name}_score'],\n",
    "        ascending=[True, False],\n",
    "        inplace=True,\n",
    "    )\n",
    "    df[f'{name}_rank'] = df.groupby('user_id').cumcount() + 1\n",
    "\n",
    "    mask = (df['lfm_rank'] < 101).to_numpy()\n",
    "    eps: float = 0.001\n",
    "    min_score: float = min(y_pred_scores) - eps\n",
    "    df[f'{name}_hybrid_score'] = df[f'{name}_score'] * mask\n",
    "    df[f'{name}_hybrid_score'].replace(\n",
    "        0,\n",
    "        min_score,\n",
    "        inplace=True,\n",
    "    )\n",
    "    \n",
    "    df[f'{name}_hybrid_rank'] = df[f'{name}_rank'] * mask\n",
    "    max_rank: int = 101\n",
    "    df[f'{name}_hybrid_rank'].replace(\n",
    "        0,\n",
    "        max_rank,\n",
    "        inplace=True,\n",
    "    )\n",
    "    return df"
   ]
  },
  {
   "cell_type": "code",
   "execution_count": 60,
   "metadata": {
    "colab": {
     "base_uri": "https://localhost:8080/",
     "height": 324
    },
    "id": "m0Y-yqqs4NOW",
    "outputId": "90159abe-2460-4a53-efd1-e33005719ff8"
   },
   "outputs": [
    {
     "data": {
      "text/html": [
       "<div>\n",
       "<style scoped>\n",
       "    .dataframe tbody tr th:only-of-type {\n",
       "        vertical-align: middle;\n",
       "    }\n",
       "\n",
       "    .dataframe tbody tr th {\n",
       "        vertical-align: top;\n",
       "    }\n",
       "\n",
       "    .dataframe thead th {\n",
       "        text-align: right;\n",
       "    }\n",
       "</style>\n",
       "<table border=\"1\" class=\"dataframe\">\n",
       "  <thead>\n",
       "    <tr style=\"text-align: right;\">\n",
       "      <th></th>\n",
       "      <th>user_id</th>\n",
       "      <th>item_id</th>\n",
       "      <th>datetime</th>\n",
       "      <th>total_dur</th>\n",
       "      <th>weight</th>\n",
       "      <th>lfm_score</th>\n",
       "      <th>lfm_rank</th>\n",
       "      <th>popular_score</th>\n",
       "      <th>popular_rank</th>\n",
       "      <th>age</th>\n",
       "      <th>...</th>\n",
       "      <th>user_cold</th>\n",
       "      <th>content_type</th>\n",
       "      <th>release_year</th>\n",
       "      <th>for_kids</th>\n",
       "      <th>age_rating</th>\n",
       "      <th>studios</th>\n",
       "      <th>genre</th>\n",
       "      <th>item_pop</th>\n",
       "      <th>item_avg_hist</th>\n",
       "      <th>target_ranker</th>\n",
       "    </tr>\n",
       "  </thead>\n",
       "  <tbody>\n",
       "    <tr>\n",
       "      <th>21588</th>\n",
       "      <td>2338</td>\n",
       "      <td>101.0</td>\n",
       "      <td>2021-07-01</td>\n",
       "      <td>0.0</td>\n",
       "      <td>0.0</td>\n",
       "      <td>-7.197162</td>\n",
       "      <td>51.0</td>\n",
       "      <td>9542.0</td>\n",
       "      <td>36.0</td>\n",
       "      <td>1</td>\n",
       "      <td>...</td>\n",
       "      <td>0.0</td>\n",
       "      <td>0</td>\n",
       "      <td>2019.0</td>\n",
       "      <td>-1</td>\n",
       "      <td>18.0</td>\n",
       "      <td>-1</td>\n",
       "      <td>[историческое, мелодрамы]</td>\n",
       "      <td>9542</td>\n",
       "      <td>17.990673</td>\n",
       "      <td>0</td>\n",
       "    </tr>\n",
       "    <tr>\n",
       "      <th>21589</th>\n",
       "      <td>2338</td>\n",
       "      <td>101.0</td>\n",
       "      <td>2021-07-01</td>\n",
       "      <td>0.0</td>\n",
       "      <td>0.0</td>\n",
       "      <td>-7.197162</td>\n",
       "      <td>51.0</td>\n",
       "      <td>9542.0</td>\n",
       "      <td>36.0</td>\n",
       "      <td>1</td>\n",
       "      <td>...</td>\n",
       "      <td>1.0</td>\n",
       "      <td>0</td>\n",
       "      <td>2019.0</td>\n",
       "      <td>-1</td>\n",
       "      <td>18.0</td>\n",
       "      <td>-1</td>\n",
       "      <td>[историческое, мелодрамы]</td>\n",
       "      <td>9542</td>\n",
       "      <td>17.990673</td>\n",
       "      <td>0</td>\n",
       "    </tr>\n",
       "    <tr>\n",
       "      <th>21590</th>\n",
       "      <td>2338</td>\n",
       "      <td>142.0</td>\n",
       "      <td>2021-07-01</td>\n",
       "      <td>0.0</td>\n",
       "      <td>0.0</td>\n",
       "      <td>2.844062</td>\n",
       "      <td>10.0</td>\n",
       "      <td>35862.0</td>\n",
       "      <td>9.0</td>\n",
       "      <td>1</td>\n",
       "      <td>...</td>\n",
       "      <td>0.0</td>\n",
       "      <td>0</td>\n",
       "      <td>2020.0</td>\n",
       "      <td>-1</td>\n",
       "      <td>16.0</td>\n",
       "      <td>-1</td>\n",
       "      <td>[драмы, триллеры]</td>\n",
       "      <td>35862</td>\n",
       "      <td>15.251464</td>\n",
       "      <td>0</td>\n",
       "    </tr>\n",
       "  </tbody>\n",
       "</table>\n",
       "<p>3 rows × 26 columns</p>\n",
       "</div>"
      ],
      "text/plain": [
       "       user_id  item_id   datetime  total_dur  weight  lfm_score  lfm_rank  \\\n",
       "21588     2338    101.0 2021-07-01        0.0     0.0  -7.197162      51.0   \n",
       "21589     2338    101.0 2021-07-01        0.0     0.0  -7.197162      51.0   \n",
       "21590     2338    142.0 2021-07-01        0.0     0.0   2.844062      10.0   \n",
       "\n",
       "       popular_score  popular_rank age  ... user_cold content_type  \\\n",
       "21588         9542.0          36.0   1  ...       0.0            0   \n",
       "21589         9542.0          36.0   1  ...       1.0            0   \n",
       "21590        35862.0           9.0   1  ...       0.0            0   \n",
       "\n",
       "      release_year  for_kids  age_rating  studios                      genre  \\\n",
       "21588       2019.0        -1        18.0       -1  [историческое, мелодрамы]   \n",
       "21589       2019.0        -1        18.0       -1  [историческое, мелодрамы]   \n",
       "21590       2020.0        -1        16.0       -1          [драмы, триллеры]   \n",
       "\n",
       "      item_pop  item_avg_hist target_ranker  \n",
       "21588     9542      17.990673             0  \n",
       "21589     9542      17.990673             0  \n",
       "21590    35862      15.251464             0  \n",
       "\n",
       "[3 rows x 26 columns]"
      ]
     },
     "execution_count": 60,
     "metadata": {},
     "output_type": "execute_result"
    }
   ],
   "source": [
    "# таргет\n",
    "def add_target(df: pd.DataFrame) -> pd.DataFrame:\n",
    "    \"\"\"\n",
    "    0 - доля досмотра < 0.15\n",
    "    1 - 0.15 <= доля досмотра < 0.75\n",
    "    2 - 0.75 <= доля досмотра\n",
    "    \"\"\"\n",
    "    df['target_ranker'] = (df[Columns.Weight] >= 15).astype(int)  # 'watched_pct'\n",
    "    df['target_ranker'] += (df[Columns.Weight] >= 75).astype(int)\n",
    "    return df\n",
    "\n",
    "ranker_train = add_target(ranker_train)\n",
    "ranker_val = add_target(ranker_val)\n",
    "ranker_test = add_target(ranker_test)\n",
    "\n",
    "ranker_train.head(3)"
   ]
  },
  {
   "cell_type": "markdown",
   "metadata": {
    "id": "kXhW2nwrIumy"
   },
   "source": [
    "### LGBMRanker"
   ]
  },
  {
   "cell_type": "code",
   "execution_count": 61,
   "metadata": {
    "id": "G_UCu_2bKRuz"
   },
   "outputs": [],
   "source": [
    "def get_group_lgbm(df: pd.DataFrame) -> np.ndarray:\n",
    "    return np.array(\n",
    "        df[['user_id', 'item_id']]\n",
    "        .groupby(by=['user_id']).count()\n",
    "        ['item_id']\n",
    "    )"
   ]
  },
  {
   "cell_type": "code",
   "execution_count": 62,
   "metadata": {},
   "outputs": [
    {
     "data": {
      "text/plain": [
       "['lfm_score',\n",
       " 'lfm_rank',\n",
       " 'popular_score',\n",
       " 'popular_rank',\n",
       " 'age',\n",
       " 'income',\n",
       " 'sex',\n",
       " 'kids_flg',\n",
       " 'user_hist',\n",
       " 'user_avg_pop',\n",
       " 'user_last_pop',\n",
       " 'content_type',\n",
       " 'release_year',\n",
       " 'for_kids',\n",
       " 'age_rating',\n",
       " 'studios',\n",
       " 'item_pop',\n",
       " 'item_avg_hist']"
      ]
     },
     "execution_count": 62,
     "metadata": {},
     "output_type": "execute_result"
    }
   ],
   "source": [
    "cols"
   ]
  },
  {
   "cell_type": "markdown",
   "metadata": {},
   "source": [
    "В другом ноутбуке подобраны параметры получше "
   ]
  },
  {
   "cell_type": "code",
   "execution_count": 63,
   "metadata": {
    "id": "1ba_O4hwKRuz"
   },
   "outputs": [],
   "source": [
    "params = {\n",
    "    'objective': 'lambdarank',\n",
    "    'n_estimators': 100,\n",
    "    'max_depth': 4,\n",
    "    'num_leaves': 10,\n",
    "    'min_child_samples': 100,\n",
    "    'learning_rate': 0.25,\n",
    "    'reg_lambda': 1,\n",
    "    'colsample_bytree': 0.9,\n",
    "    'random_state': 42,\n",
    "}\n",
    "early_stopping_rounds = 32\n",
    "fit_params = {\n",
    "    'X': ranker_train[cols],\n",
    "    'y': ranker_train['target_ranker'],\n",
    "    'group': get_group_lgbm(ranker_train),\n",
    "    'eval_set': [(ranker_val[cols], ranker_val['target_ranker'])],\n",
    "    'eval_group': [get_group_lgbm(ranker_val)],\n",
    "    'eval_metric': 'ndcg',\n",
    "    'eval_at': (3, 5, 10),\n",
    "    'feature_name': cols,\n",
    "}\n",
    "LGBMRanker_model = LGBMRanker(**params)"
   ]
  },
  {
   "cell_type": "code",
   "execution_count": 64,
   "metadata": {
    "colab": {
     "base_uri": "https://localhost:8080/"
    },
    "id": "PZkaPzY7yYC4",
    "outputId": "70c26100-f87b-4d67-f2e0-631b44b63dac"
   },
   "outputs": [
    {
     "name": "stdout",
     "output_type": "stream",
     "text": [
      "[LightGBM] [Info] Auto-choosing row-wise multi-threading, the overhead of testing was 0.003323 seconds.\n",
      "You can set `force_row_wise=true` to remove the overhead.\n",
      "And if memory is not enough, you can set `force_col_wise=true`.\n",
      "[LightGBM] [Info] Total Bins 1662\n",
      "[LightGBM] [Info] Number of data points in the train set: 148070, number of used features: 18\n",
      "[LightGBM] [Warning] No further splits with positive gain, best gain: -inf\n",
      "CPU times: user 2.57 s, sys: 0 ns, total: 2.57 s\n",
      "Wall time: 365 ms\n"
     ]
    },
    {
     "data": {
      "text/html": [
       "<style>#sk-container-id-2 {color: black;}#sk-container-id-2 pre{padding: 0;}#sk-container-id-2 div.sk-toggleable {background-color: white;}#sk-container-id-2 label.sk-toggleable__label {cursor: pointer;display: block;width: 100%;margin-bottom: 0;padding: 0.3em;box-sizing: border-box;text-align: center;}#sk-container-id-2 label.sk-toggleable__label-arrow:before {content: \"▸\";float: left;margin-right: 0.25em;color: #696969;}#sk-container-id-2 label.sk-toggleable__label-arrow:hover:before {color: black;}#sk-container-id-2 div.sk-estimator:hover label.sk-toggleable__label-arrow:before {color: black;}#sk-container-id-2 div.sk-toggleable__content {max-height: 0;max-width: 0;overflow: hidden;text-align: left;background-color: #f0f8ff;}#sk-container-id-2 div.sk-toggleable__content pre {margin: 0.2em;color: black;border-radius: 0.25em;background-color: #f0f8ff;}#sk-container-id-2 input.sk-toggleable__control:checked~div.sk-toggleable__content {max-height: 200px;max-width: 100%;overflow: auto;}#sk-container-id-2 input.sk-toggleable__control:checked~label.sk-toggleable__label-arrow:before {content: \"▾\";}#sk-container-id-2 div.sk-estimator input.sk-toggleable__control:checked~label.sk-toggleable__label {background-color: #d4ebff;}#sk-container-id-2 div.sk-label input.sk-toggleable__control:checked~label.sk-toggleable__label {background-color: #d4ebff;}#sk-container-id-2 input.sk-hidden--visually {border: 0;clip: rect(1px 1px 1px 1px);clip: rect(1px, 1px, 1px, 1px);height: 1px;margin: -1px;overflow: hidden;padding: 0;position: absolute;width: 1px;}#sk-container-id-2 div.sk-estimator {font-family: monospace;background-color: #f0f8ff;border: 1px dotted black;border-radius: 0.25em;box-sizing: border-box;margin-bottom: 0.5em;}#sk-container-id-2 div.sk-estimator:hover {background-color: #d4ebff;}#sk-container-id-2 div.sk-parallel-item::after {content: \"\";width: 100%;border-bottom: 1px solid gray;flex-grow: 1;}#sk-container-id-2 div.sk-label:hover label.sk-toggleable__label {background-color: #d4ebff;}#sk-container-id-2 div.sk-serial::before {content: \"\";position: absolute;border-left: 1px solid gray;box-sizing: border-box;top: 0;bottom: 0;left: 50%;z-index: 0;}#sk-container-id-2 div.sk-serial {display: flex;flex-direction: column;align-items: center;background-color: white;padding-right: 0.2em;padding-left: 0.2em;position: relative;}#sk-container-id-2 div.sk-item {position: relative;z-index: 1;}#sk-container-id-2 div.sk-parallel {display: flex;align-items: stretch;justify-content: center;background-color: white;position: relative;}#sk-container-id-2 div.sk-item::before, #sk-container-id-2 div.sk-parallel-item::before {content: \"\";position: absolute;border-left: 1px solid gray;box-sizing: border-box;top: 0;bottom: 0;left: 50%;z-index: -1;}#sk-container-id-2 div.sk-parallel-item {display: flex;flex-direction: column;z-index: 1;position: relative;background-color: white;}#sk-container-id-2 div.sk-parallel-item:first-child::after {align-self: flex-end;width: 50%;}#sk-container-id-2 div.sk-parallel-item:last-child::after {align-self: flex-start;width: 50%;}#sk-container-id-2 div.sk-parallel-item:only-child::after {width: 0;}#sk-container-id-2 div.sk-dashed-wrapped {border: 1px dashed gray;margin: 0 0.4em 0.5em 0.4em;box-sizing: border-box;padding-bottom: 0.4em;background-color: white;}#sk-container-id-2 div.sk-label label {font-family: monospace;font-weight: bold;display: inline-block;line-height: 1.2em;}#sk-container-id-2 div.sk-label-container {text-align: center;}#sk-container-id-2 div.sk-container {/* jupyter's `normalize.less` sets `[hidden] { display: none; }` but bootstrap.min.css set `[hidden] { display: none !important; }` so we also need the `!important` here to be able to override the default hidden behavior on the sphinx rendered scikit-learn.org. See: https://github.com/scikit-learn/scikit-learn/issues/21755 */display: inline-block !important;position: relative;}#sk-container-id-2 div.sk-text-repr-fallback {display: none;}</style><div id=\"sk-container-id-2\" class=\"sk-top-container\"><div class=\"sk-text-repr-fallback\"><pre>LGBMRanker(colsample_bytree=0.9, learning_rate=0.25, max_depth=4,\n",
       "           min_child_samples=100, num_leaves=10, objective=&#x27;lambdarank&#x27;,\n",
       "           random_state=42, reg_lambda=1)</pre><b>In a Jupyter environment, please rerun this cell to show the HTML representation or trust the notebook. <br />On GitHub, the HTML representation is unable to render, please try loading this page with nbviewer.org.</b></div><div class=\"sk-container\" hidden><div class=\"sk-item\"><div class=\"sk-estimator sk-toggleable\"><input class=\"sk-toggleable__control sk-hidden--visually\" id=\"sk-estimator-id-2\" type=\"checkbox\" checked><label for=\"sk-estimator-id-2\" class=\"sk-toggleable__label sk-toggleable__label-arrow\">LGBMRanker</label><div class=\"sk-toggleable__content\"><pre>LGBMRanker(colsample_bytree=0.9, learning_rate=0.25, max_depth=4,\n",
       "           min_child_samples=100, num_leaves=10, objective=&#x27;lambdarank&#x27;,\n",
       "           random_state=42, reg_lambda=1)</pre></div></div></div></div></div>"
      ],
      "text/plain": [
       "LGBMRanker(colsample_bytree=0.9, learning_rate=0.25, max_depth=4,\n",
       "           min_child_samples=100, num_leaves=10, objective='lambdarank',\n",
       "           random_state=42, reg_lambda=1)"
      ]
     },
     "execution_count": 64,
     "metadata": {},
     "output_type": "execute_result"
    }
   ],
   "source": [
    "%%time\n",
    "LGBMRanker_model.fit(**fit_params)"
   ]
  },
  {
   "cell_type": "code",
   "execution_count": 65,
   "metadata": {},
   "outputs": [
    {
     "data": {
      "text/plain": [
       "array([-1.62052361, -1.62052361, -1.27718097, ..., -0.72059847,\n",
       "        1.94180365,  1.94180365])"
      ]
     },
     "execution_count": 65,
     "metadata": {},
     "output_type": "execute_result"
    }
   ],
   "source": [
    "y_pred = LGBMRanker_model.predict(ranker_test[cols])\n",
    "y_pred"
   ]
  },
  {
   "cell_type": "code",
   "execution_count": 66,
   "metadata": {
    "colab": {
     "base_uri": "https://localhost:8080/",
     "height": 607
    },
    "id": "3UCEKt6gKRuz",
    "outputId": "5b533877-6396-4d48-b609-a434f90f8512"
   },
   "outputs": [],
   "source": [
    "# explainer = shap.Explainer(LGBMRanker_model)\n",
    "# shap_values = explainer(ranker_test[cols].iloc[:10_000])\n",
    "\n",
    "# shap.plots.waterfall(shap_values[0], max_display=len(cols))"
   ]
  },
  {
   "cell_type": "code",
   "execution_count": 67,
   "metadata": {
    "colab": {
     "base_uri": "https://localhost:8080/",
     "height": 289
    },
    "id": "2od4WJMCKRu0",
    "outputId": "f30d4dac-fae9-4fa9-acc5-32d1ac7af82d"
   },
   "outputs": [
    {
     "data": {
      "text/html": [
       "<div>\n",
       "<style scoped>\n",
       "    .dataframe tbody tr th:only-of-type {\n",
       "        vertical-align: middle;\n",
       "    }\n",
       "\n",
       "    .dataframe tbody tr th {\n",
       "        vertical-align: top;\n",
       "    }\n",
       "\n",
       "    .dataframe thead th {\n",
       "        text-align: right;\n",
       "    }\n",
       "</style>\n",
       "<table border=\"1\" class=\"dataframe\">\n",
       "  <thead>\n",
       "    <tr style=\"text-align: right;\">\n",
       "      <th></th>\n",
       "      <th>user_id</th>\n",
       "      <th>item_id</th>\n",
       "      <th>datetime</th>\n",
       "      <th>total_dur</th>\n",
       "      <th>weight</th>\n",
       "      <th>lfm_score</th>\n",
       "      <th>lfm_rank</th>\n",
       "      <th>popular_score</th>\n",
       "      <th>popular_rank</th>\n",
       "      <th>age</th>\n",
       "      <th>...</th>\n",
       "      <th>age_rating</th>\n",
       "      <th>studios</th>\n",
       "      <th>genre</th>\n",
       "      <th>item_pop</th>\n",
       "      <th>item_avg_hist</th>\n",
       "      <th>target_ranker</th>\n",
       "      <th>LGBMRanker_score</th>\n",
       "      <th>LGBMRanker_rank</th>\n",
       "      <th>LGBMRanker_hybrid_score</th>\n",
       "      <th>LGBMRanker_hybrid_rank</th>\n",
       "    </tr>\n",
       "  </thead>\n",
       "  <tbody>\n",
       "    <tr>\n",
       "      <th>1519</th>\n",
       "      <td>955</td>\n",
       "      <td>13865.0</td>\n",
       "      <td>2021-07-01</td>\n",
       "      <td>0.0</td>\n",
       "      <td>0.0</td>\n",
       "      <td>2.427866</td>\n",
       "      <td>7.0</td>\n",
       "      <td>93403.0</td>\n",
       "      <td>3.0</td>\n",
       "      <td>1</td>\n",
       "      <td>...</td>\n",
       "      <td>12.0</td>\n",
       "      <td>-1</td>\n",
       "      <td>[драмы, военные, приключения]</td>\n",
       "      <td>93403</td>\n",
       "      <td>10.408520</td>\n",
       "      <td>0</td>\n",
       "      <td>1.179449</td>\n",
       "      <td>1</td>\n",
       "      <td>1.179449</td>\n",
       "      <td>1</td>\n",
       "    </tr>\n",
       "    <tr>\n",
       "      <th>1520</th>\n",
       "      <td>955</td>\n",
       "      <td>13865.0</td>\n",
       "      <td>2021-07-01</td>\n",
       "      <td>0.0</td>\n",
       "      <td>0.0</td>\n",
       "      <td>2.427866</td>\n",
       "      <td>7.0</td>\n",
       "      <td>93403.0</td>\n",
       "      <td>3.0</td>\n",
       "      <td>1</td>\n",
       "      <td>...</td>\n",
       "      <td>12.0</td>\n",
       "      <td>-1</td>\n",
       "      <td>[драмы, военные, приключения]</td>\n",
       "      <td>93403</td>\n",
       "      <td>10.408520</td>\n",
       "      <td>0</td>\n",
       "      <td>1.179449</td>\n",
       "      <td>2</td>\n",
       "      <td>1.179449</td>\n",
       "      <td>2</td>\n",
       "    </tr>\n",
       "    <tr>\n",
       "      <th>1543</th>\n",
       "      <td>955</td>\n",
       "      <td>15297.0</td>\n",
       "      <td>2021-07-01</td>\n",
       "      <td>0.0</td>\n",
       "      <td>0.0</td>\n",
       "      <td>2.428631</td>\n",
       "      <td>6.0</td>\n",
       "      <td>137128.0</td>\n",
       "      <td>2.0</td>\n",
       "      <td>1</td>\n",
       "      <td>...</td>\n",
       "      <td>18.0</td>\n",
       "      <td>-1</td>\n",
       "      <td>[драмы, мелодрамы]</td>\n",
       "      <td>137128</td>\n",
       "      <td>7.364295</td>\n",
       "      <td>0</td>\n",
       "      <td>0.901836</td>\n",
       "      <td>3</td>\n",
       "      <td>0.901836</td>\n",
       "      <td>3</td>\n",
       "    </tr>\n",
       "  </tbody>\n",
       "</table>\n",
       "<p>3 rows × 30 columns</p>\n",
       "</div>"
      ],
      "text/plain": [
       "      user_id  item_id   datetime  total_dur  weight  lfm_score  lfm_rank  \\\n",
       "1519      955  13865.0 2021-07-01        0.0     0.0   2.427866       7.0   \n",
       "1520      955  13865.0 2021-07-01        0.0     0.0   2.427866       7.0   \n",
       "1543      955  15297.0 2021-07-01        0.0     0.0   2.428631       6.0   \n",
       "\n",
       "      popular_score  popular_rank age  ... age_rating studios  \\\n",
       "1519        93403.0           3.0   1  ...       12.0      -1   \n",
       "1520        93403.0           3.0   1  ...       12.0      -1   \n",
       "1543       137128.0           2.0   1  ...       18.0      -1   \n",
       "\n",
       "                              genre  item_pop  item_avg_hist  target_ranker  \\\n",
       "1519  [драмы, военные, приключения]     93403      10.408520              0   \n",
       "1520  [драмы, военные, приключения]     93403      10.408520              0   \n",
       "1543             [драмы, мелодрамы]    137128       7.364295              0   \n",
       "\n",
       "      LGBMRanker_score LGBMRanker_rank  LGBMRanker_hybrid_score  \\\n",
       "1519          1.179449               1                 1.179449   \n",
       "1520          1.179449               2                 1.179449   \n",
       "1543          0.901836               3                 0.901836   \n",
       "\n",
       "     LGBMRanker_hybrid_rank  \n",
       "1519                      1  \n",
       "1520                      2  \n",
       "1543                      3  \n",
       "\n",
       "[3 rows x 30 columns]"
      ]
     },
     "execution_count": 67,
     "metadata": {},
     "output_type": "execute_result"
    }
   ],
   "source": [
    "y_pred: np.ndarray = LGBMRanker_model.predict(ranker_test[cols])\n",
    "ranker_test = add_score_and_rank(ranker_test, y_pred, 'LGBMRanker')\n",
    "ranker_test.head(3)"
   ]
  },
  {
   "cell_type": "code",
   "execution_count": 68,
   "metadata": {
    "colab": {
     "base_uri": "https://localhost:8080/",
     "height": 112
    },
    "id": "t11Az3jnKRu0",
    "outputId": "10d9f5b8-371e-4302-8e6d-fb25c64f9c7d"
   },
   "outputs": [
    {
     "data": {
      "text/html": [
       "<div>\n",
       "<style scoped>\n",
       "    .dataframe tbody tr th:only-of-type {\n",
       "        vertical-align: middle;\n",
       "    }\n",
       "\n",
       "    .dataframe tbody tr th {\n",
       "        vertical-align: top;\n",
       "    }\n",
       "\n",
       "    .dataframe thead th {\n",
       "        text-align: right;\n",
       "    }\n",
       "</style>\n",
       "<table border=\"1\" class=\"dataframe\">\n",
       "  <thead>\n",
       "    <tr style=\"text-align: right;\">\n",
       "      <th></th>\n",
       "      <th>LGBMRanker</th>\n",
       "    </tr>\n",
       "  </thead>\n",
       "  <tbody>\n",
       "    <tr>\n",
       "      <th>Precision@10</th>\n",
       "      <td>0.000218</td>\n",
       "    </tr>\n",
       "    <tr>\n",
       "      <th>map@10</th>\n",
       "      <td>0.000197</td>\n",
       "    </tr>\n",
       "    <tr>\n",
       "      <th>ndcg@10</th>\n",
       "      <td>0.000239</td>\n",
       "    </tr>\n",
       "    <tr>\n",
       "      <th>novelty@10</th>\n",
       "      <td>3.461403</td>\n",
       "    </tr>\n",
       "    <tr>\n",
       "      <th>recall@10</th>\n",
       "      <td>0.000373</td>\n",
       "    </tr>\n",
       "  </tbody>\n",
       "</table>\n",
       "</div>"
      ],
      "text/plain": [
       "              LGBMRanker\n",
       "Precision@10    0.000218\n",
       "map@10          0.000197\n",
       "ndcg@10         0.000239\n",
       "novelty@10      3.461403\n",
       "recall@10       0.000373"
      ]
     },
     "execution_count": 68,
     "metadata": {},
     "output_type": "execute_result"
    }
   ],
   "source": [
    "models_metrics['LGBMRanker'] = calc_metrics_(ranker_test, 'LGBMRanker_rank')\n",
    "\n",
    "pd.DataFrame(models_metrics)[['LGBMRanker']]"
   ]
  },
  {
   "cell_type": "markdown",
   "metadata": {
    "id": "JsZIHHNQJcLj"
   },
   "source": [
    "### XGBRanker"
   ]
  },
  {
   "cell_type": "code",
   "execution_count": null,
   "metadata": {
    "id": "5wHoPsGn5Aue"
   },
   "outputs": [],
   "source": [
    "def get_group_xgb(df: pd.DataFrame) -> np.ndarray:\n",
    "    return np.array(df['user_id'].value_counts())"
   ]
  },
  {
   "cell_type": "code",
   "execution_count": null,
   "metadata": {
    "id": "IlKhpJDG37Xa"
   },
   "outputs": [],
   "source": [
    "fit_params = {\n",
    "    'X': ranker_train[cols].drop(cat_cols, axis=1),\n",
    "    'y': ranker_train['target_ranker'],\n",
    "    'group': get_group_xgb(ranker_train),\n",
    "    'eval_set': [(ranker_val[cols].drop(cat_cols, axis=1), ranker_val['target_ranker'])],\n",
    "    'eval_group': [get_group_xgb(ranker_val)],\n",
    "    'eval_metric': 'ndcg',\n",
    "    'verbose': early_stopping_rounds / 8,\n",
    "}\n",
    "params = {\n",
    "    'objective': 'rank:ndcg',\n",
    "    'n_estimators': 100,\n",
    "    'max_depth': 4,\n",
    "    'num_leaves': 10,\n",
    "    'min_child_samples': 100,\n",
    "    'learning_rate': 0.25,\n",
    "    'reg_lambda': 1,\n",
    "    'colsample_bytree': 0.9,\n",
    "    'random_state': 42,\n",
    "}"
   ]
  },
  {
   "cell_type": "code",
   "execution_count": null,
   "metadata": {
    "id": "jAXtdVPX37Ug"
   },
   "outputs": [],
   "source": [
    "XGBRanker_model = XGBRanker(**params)"
   ]
  },
  {
   "cell_type": "code",
   "execution_count": null,
   "metadata": {
    "colab": {
     "base_uri": "https://localhost:8080/"
    },
    "id": "KnlVMaw2yj-P",
    "outputId": "fe062502-dc23-47b7-afc2-1e57ed1a90b8"
   },
   "outputs": [
    {
     "name": "stdout",
     "output_type": "stream",
     "text": [
      "CPU times: user 3min 28s, sys: 16.4 s, total: 3min 45s\n",
      "Wall time: 8.19 s\n"
     ]
    },
    {
     "data": {
      "text/plain": [
       "XGBRanker(base_score=0.5, booster='gbtree', colsample_bylevel=1,\n",
       "          colsample_bynode=1, colsample_bytree=0.9, gamma=0, learning_rate=0.25,\n",
       "          max_delta_step=0, max_depth=4, min_child_samples=100,\n",
       "          min_child_weight=1, missing=None, n_estimators=100, n_jobs=-1,\n",
       "          nthread=None, num_leaves=10, objective='rank:ndcg', random_state=42,\n",
       "          reg_alpha=0, reg_lambda=1, scale_pos_weight=1, seed=None, silent=None,\n",
       "          subsample=1, verbosity=1)"
      ]
     },
     "execution_count": 61,
     "metadata": {},
     "output_type": "execute_result"
    }
   ],
   "source": [
    "%%time\n",
    "XGBRanker_model.fit(**fit_params)"
   ]
  },
  {
   "cell_type": "code",
   "execution_count": null,
   "metadata": {
    "id": "nh2pRmOf3vr0"
   },
   "outputs": [],
   "source": [
    "# save model  \n",
    "with open(f'../models/xgb_ranker_model.dill', 'wb') as f:\n",
    "    dill.dump(XGBRanker_model, f)"
   ]
  },
  {
   "cell_type": "code",
   "execution_count": null,
   "metadata": {
    "colab": {
     "base_uri": "https://localhost:8080/",
     "height": 289
    },
    "id": "A5yI_kpyJrs9",
    "outputId": "2dc14894-433e-4d02-ccc0-f78143008b02"
   },
   "outputs": [
    {
     "data": {
      "text/html": [
       "<div>\n",
       "<style scoped>\n",
       "    .dataframe tbody tr th:only-of-type {\n",
       "        vertical-align: middle;\n",
       "    }\n",
       "\n",
       "    .dataframe tbody tr th {\n",
       "        vertical-align: top;\n",
       "    }\n",
       "\n",
       "    .dataframe thead th {\n",
       "        text-align: right;\n",
       "    }\n",
       "</style>\n",
       "<table border=\"1\" class=\"dataframe\">\n",
       "  <thead>\n",
       "    <tr style=\"text-align: right;\">\n",
       "      <th></th>\n",
       "      <th>user_id</th>\n",
       "      <th>item_id</th>\n",
       "      <th>datetime</th>\n",
       "      <th>total_dur</th>\n",
       "      <th>weight</th>\n",
       "      <th>lfm_score</th>\n",
       "      <th>lfm_rank</th>\n",
       "      <th>popular_score</th>\n",
       "      <th>popular_rank</th>\n",
       "      <th>age</th>\n",
       "      <th>...</th>\n",
       "      <th>item_avg_hist</th>\n",
       "      <th>target_ranker</th>\n",
       "      <th>LGBMRanker_score</th>\n",
       "      <th>LGBMRanker_rank</th>\n",
       "      <th>LGBMRanker_hybrid_score</th>\n",
       "      <th>LGBMRanker_hybrid_rank</th>\n",
       "      <th>XGBRanker_score</th>\n",
       "      <th>XGBRanker_rank</th>\n",
       "      <th>XGBRanker_hybrid_score</th>\n",
       "      <th>XGBRanker_hybrid_rank</th>\n",
       "    </tr>\n",
       "  </thead>\n",
       "  <tbody>\n",
       "    <tr>\n",
       "      <th>1677</th>\n",
       "      <td>955</td>\n",
       "      <td>13915.0</td>\n",
       "      <td>2021-07-24</td>\n",
       "      <td>5899.0</td>\n",
       "      <td>100.0</td>\n",
       "      <td>-7.405808</td>\n",
       "      <td>52.0</td>\n",
       "      <td>NaN</td>\n",
       "      <td>NaN</td>\n",
       "      <td>1</td>\n",
       "      <td>...</td>\n",
       "      <td>23.285523</td>\n",
       "      <td>2</td>\n",
       "      <td>1.571146</td>\n",
       "      <td>1</td>\n",
       "      <td>1.571146</td>\n",
       "      <td>1</td>\n",
       "      <td>2.930581</td>\n",
       "      <td>1</td>\n",
       "      <td>2.930581</td>\n",
       "      <td>1</td>\n",
       "    </tr>\n",
       "    <tr>\n",
       "      <th>1678</th>\n",
       "      <td>955</td>\n",
       "      <td>13915.0</td>\n",
       "      <td>2021-07-24</td>\n",
       "      <td>5899.0</td>\n",
       "      <td>100.0</td>\n",
       "      <td>-7.405808</td>\n",
       "      <td>52.0</td>\n",
       "      <td>NaN</td>\n",
       "      <td>NaN</td>\n",
       "      <td>1</td>\n",
       "      <td>...</td>\n",
       "      <td>23.285523</td>\n",
       "      <td>2</td>\n",
       "      <td>1.571146</td>\n",
       "      <td>2</td>\n",
       "      <td>1.571146</td>\n",
       "      <td>2</td>\n",
       "      <td>2.930581</td>\n",
       "      <td>2</td>\n",
       "      <td>2.930581</td>\n",
       "      <td>2</td>\n",
       "    </tr>\n",
       "    <tr>\n",
       "      <th>1701</th>\n",
       "      <td>955</td>\n",
       "      <td>15404.0</td>\n",
       "      <td>2021-07-23</td>\n",
       "      <td>8171.0</td>\n",
       "      <td>100.0</td>\n",
       "      <td>-7.405808</td>\n",
       "      <td>52.0</td>\n",
       "      <td>NaN</td>\n",
       "      <td>NaN</td>\n",
       "      <td>1</td>\n",
       "      <td>...</td>\n",
       "      <td>32.404789</td>\n",
       "      <td>2</td>\n",
       "      <td>1.429141</td>\n",
       "      <td>9</td>\n",
       "      <td>1.429141</td>\n",
       "      <td>9</td>\n",
       "      <td>2.794412</td>\n",
       "      <td>3</td>\n",
       "      <td>2.794412</td>\n",
       "      <td>3</td>\n",
       "    </tr>\n",
       "  </tbody>\n",
       "</table>\n",
       "<p>3 rows × 34 columns</p>\n",
       "</div>"
      ],
      "text/plain": [
       "      user_id  item_id   datetime  total_dur  weight  lfm_score  lfm_rank  \\\n",
       "1677      955  13915.0 2021-07-24     5899.0   100.0  -7.405808      52.0   \n",
       "1678      955  13915.0 2021-07-24     5899.0   100.0  -7.405808      52.0   \n",
       "1701      955  15404.0 2021-07-23     8171.0   100.0  -7.405808      52.0   \n",
       "\n",
       "      popular_score  popular_rank age  ... item_avg_hist target_ranker  \\\n",
       "1677            NaN           NaN   1  ...     23.285523             2   \n",
       "1678            NaN           NaN   1  ...     23.285523             2   \n",
       "1701            NaN           NaN   1  ...     32.404789             2   \n",
       "\n",
       "     LGBMRanker_score  LGBMRanker_rank  LGBMRanker_hybrid_score  \\\n",
       "1677         1.571146                1                 1.571146   \n",
       "1678         1.571146                2                 1.571146   \n",
       "1701         1.429141                9                 1.429141   \n",
       "\n",
       "      LGBMRanker_hybrid_rank  XGBRanker_score XGBRanker_rank  \\\n",
       "1677                       1         2.930581              1   \n",
       "1678                       2         2.930581              2   \n",
       "1701                       9         2.794412              3   \n",
       "\n",
       "      XGBRanker_hybrid_score XGBRanker_hybrid_rank  \n",
       "1677                2.930581                     1  \n",
       "1678                2.930581                     2  \n",
       "1701                2.794412                     3  \n",
       "\n",
       "[3 rows x 34 columns]"
      ]
     },
     "execution_count": 63,
     "metadata": {},
     "output_type": "execute_result"
    }
   ],
   "source": [
    "y_pred: np.ndarray = XGBRanker_model.predict(ranker_test[cols].drop(cat_cols, axis=1))\n",
    "ranker_test = add_score_and_rank(ranker_test, y_pred, 'XGBRanker')\n",
    "ranker_test.head(3)"
   ]
  },
  {
   "cell_type": "code",
   "execution_count": null,
   "metadata": {
    "colab": {
     "base_uri": "https://localhost:8080/",
     "height": 112
    },
    "id": "VSFk6k_hJrhP",
    "outputId": "a46a949f-8123-4be8-c17e-667f4eab91b7"
   },
   "outputs": [
    {
     "data": {
      "text/html": [
       "<div>\n",
       "<style scoped>\n",
       "    .dataframe tbody tr th:only-of-type {\n",
       "        vertical-align: middle;\n",
       "    }\n",
       "\n",
       "    .dataframe tbody tr th {\n",
       "        vertical-align: top;\n",
       "    }\n",
       "\n",
       "    .dataframe thead th {\n",
       "        text-align: right;\n",
       "    }\n",
       "</style>\n",
       "<table border=\"1\" class=\"dataframe\">\n",
       "  <thead>\n",
       "    <tr style=\"text-align: right;\">\n",
       "      <th></th>\n",
       "      <th>XGBRanker</th>\n",
       "      <th>XGBRanker_hybrid</th>\n",
       "    </tr>\n",
       "  </thead>\n",
       "  <tbody>\n",
       "    <tr>\n",
       "      <th>recall@10</th>\n",
       "      <td>0.007959</td>\n",
       "      <td>0.007959</td>\n",
       "    </tr>\n",
       "    <tr>\n",
       "      <th>ndcg@10</th>\n",
       "      <td>0.014762</td>\n",
       "      <td>0.014762</td>\n",
       "    </tr>\n",
       "  </tbody>\n",
       "</table>\n",
       "</div>"
      ],
      "text/plain": [
       "           XGBRanker  XGBRanker_hybrid\n",
       "recall@10   0.007959          0.007959\n",
       "ndcg@10     0.014762          0.014762"
      ]
     },
     "execution_count": 64,
     "metadata": {},
     "output_type": "execute_result"
    }
   ],
   "source": [
    "models_metrics['XGBRanker'] = calc_metrics_(ranker_test, 'XGBRanker_rank')\n",
    "pd.DataFrame(models_metrics)[['XGBRanker']]"
   ]
  },
  {
   "cell_type": "markdown",
   "metadata": {
    "id": "NGiKWm8FJsKq"
   },
   "source": [
    "### CatBoostRanker"
   ]
  },
  {
   "cell_type": "code",
   "execution_count": null,
   "metadata": {
    "id": "ro1yYhC1N11n"
   },
   "outputs": [],
   "source": [
    "params = {\n",
    "    'n_estimators': 100,#00,\n",
    "    'depth': 4,\n",
    "    'learning_rate': 0.25,\n",
    "    'reg_lambda': 1, \n",
    "    'random_seed': 42,\n",
    "    'early_stopping_rounds': early_stopping_rounds,\n",
    "    'custom_metric': 'NDCG:top=10',\n",
    "    'verbose': 1,\n",
    "}\n",
    "\n",
    "fit_params = {\n",
    "    'X': Pool(data=ranker_train[cols],\n",
    "              label=ranker_train['target_ranker'],\n",
    "              group_id=ranker_train['user_id'].values,\n",
    "              cat_features=cat_cols),          \n",
    "    'eval_set': Pool(data=ranker_val[cols],\n",
    "              label=ranker_val['target_ranker'],\n",
    "              group_id=ranker_val['user_id'].values,\n",
    "              cat_features=cat_cols),\n",
    "    'early_stopping_rounds': early_stopping_rounds,\n",
    "    'plot': 1,\n",
    "}"
   ]
  },
  {
   "cell_type": "code",
   "execution_count": null,
   "metadata": {},
   "outputs": [
    {
     "data": {
      "text/plain": [
       "((620510, 26), (129190, 34), (136235, 26))"
      ]
     },
     "execution_count": 66,
     "metadata": {},
     "output_type": "execute_result"
    }
   ],
   "source": [
    "ranker_train.shape, ranker_test.shape, ranker_val.shape"
   ]
  },
  {
   "cell_type": "code",
   "execution_count": null,
   "metadata": {
    "colab": {
     "base_uri": "https://localhost:8080/",
     "height": 374,
     "referenced_widgets": [
      "cbbb4b289f0c440facbeb2080db32c59"
     ]
    },
    "id": "vgs7j5xczKd9",
    "outputId": "620db506-4d5c-4151-d28a-bb056a0ba4ec"
   },
   "outputs": [
    {
     "data": {
      "application/vnd.jupyter.widget-view+json": {
       "model_id": "b9dd221184a742aaae7151cdec4b4456",
       "version_major": 2,
       "version_minor": 0
      },
      "text/plain": [
       "MetricVisualizer(layout=Layout(align_self='stretch', height='500px'))"
      ]
     },
     "metadata": {},
     "output_type": "display_data"
    },
    {
     "name": "stdout",
     "output_type": "stream",
     "text": [
      "Groupwise loss function. OneHotMaxSize set to 10\n",
      "0:\ttest: 0.6816722\tbest: 0.6816722 (0)\ttotal: 280ms\tremaining: 27.7s\n",
      "10:\ttest: 0.8119610\tbest: 0.8119610 (10)\ttotal: 2.25s\tremaining: 18.3s\n",
      "20:\ttest: 0.8194730\tbest: 0.8195347 (18)\ttotal: 4.2s\tremaining: 15.8s\n",
      "30:\ttest: 0.8211853\tbest: 0.8213422 (29)\ttotal: 6.34s\tremaining: 14.1s\n",
      "40:\ttest: 0.8234045\tbest: 0.8236070 (39)\ttotal: 8.34s\tremaining: 12s\n",
      "50:\ttest: 0.8247521\tbest: 0.8247774 (48)\ttotal: 10.4s\tremaining: 9.96s\n",
      "60:\ttest: 0.8255586\tbest: 0.8256412 (59)\ttotal: 12.4s\tremaining: 7.91s\n",
      "70:\ttest: 0.8260252\tbest: 0.8266486 (66)\ttotal: 14.3s\tremaining: 5.84s\n",
      "80:\ttest: 0.8268206\tbest: 0.8272939 (75)\ttotal: 16.3s\tremaining: 3.81s\n",
      "90:\ttest: 0.8276336\tbest: 0.8276336 (90)\ttotal: 18.2s\tremaining: 1.8s\n",
      "99:\ttest: 0.8273946\tbest: 0.8277294 (92)\ttotal: 20s\tremaining: 0us\n",
      "\n",
      "bestTest = 0.8277294148\n",
      "bestIteration = 92\n",
      "\n",
      "Shrink model to first 93 iterations.\n",
      "CPU times: user 7min 56s, sys: 29 s, total: 8min 25s\n",
      "Wall time: 20.3 s\n"
     ]
    },
    {
     "data": {
      "text/plain": [
       "<catboost.core.CatBoostRanker at 0x7fe03f1c5f60>"
      ]
     },
     "execution_count": 67,
     "metadata": {},
     "output_type": "execute_result"
    }
   ],
   "source": [
    "%%time\n",
    "CatBoostRanker_model = CatBoostRanker(**params)\n",
    "CatBoostRanker_model.fit(**fit_params)"
   ]
  },
  {
   "cell_type": "code",
   "execution_count": null,
   "metadata": {
    "id": "DSDSFWx7Jv6T"
   },
   "outputs": [],
   "source": [
    "# save model  \n",
    "with open(f'../models/CatBoostRanker_model.dill', 'wb') as f:\n",
    "    dill.dump(CatBoostRanker_model, f)"
   ]
  },
  {
   "cell_type": "code",
   "execution_count": null,
   "metadata": {
    "colab": {
     "base_uri": "https://localhost:8080/",
     "height": 289
    },
    "id": "kktb4w3yJv3S",
    "outputId": "13febb02-f3bf-41e7-fac2-792201daf7d1"
   },
   "outputs": [
    {
     "data": {
      "text/html": [
       "<div>\n",
       "<style scoped>\n",
       "    .dataframe tbody tr th:only-of-type {\n",
       "        vertical-align: middle;\n",
       "    }\n",
       "\n",
       "    .dataframe tbody tr th {\n",
       "        vertical-align: top;\n",
       "    }\n",
       "\n",
       "    .dataframe thead th {\n",
       "        text-align: right;\n",
       "    }\n",
       "</style>\n",
       "<table border=\"1\" class=\"dataframe\">\n",
       "  <thead>\n",
       "    <tr style=\"text-align: right;\">\n",
       "      <th></th>\n",
       "      <th>user_id</th>\n",
       "      <th>item_id</th>\n",
       "      <th>datetime</th>\n",
       "      <th>total_dur</th>\n",
       "      <th>weight</th>\n",
       "      <th>lfm_score</th>\n",
       "      <th>lfm_rank</th>\n",
       "      <th>popular_score</th>\n",
       "      <th>popular_rank</th>\n",
       "      <th>age</th>\n",
       "      <th>...</th>\n",
       "      <th>LGBMRanker_hybrid_score</th>\n",
       "      <th>LGBMRanker_hybrid_rank</th>\n",
       "      <th>XGBRanker_score</th>\n",
       "      <th>XGBRanker_rank</th>\n",
       "      <th>XGBRanker_hybrid_score</th>\n",
       "      <th>XGBRanker_hybrid_rank</th>\n",
       "      <th>CatBoostRanker_score</th>\n",
       "      <th>CatBoostRanker_rank</th>\n",
       "      <th>CatBoostRanker_hybrid_score</th>\n",
       "      <th>CatBoostRanker_hybrid_rank</th>\n",
       "    </tr>\n",
       "  </thead>\n",
       "  <tbody>\n",
       "    <tr>\n",
       "      <th>1677</th>\n",
       "      <td>955</td>\n",
       "      <td>13915.0</td>\n",
       "      <td>2021-07-24</td>\n",
       "      <td>5899.0</td>\n",
       "      <td>100.0</td>\n",
       "      <td>-7.405808</td>\n",
       "      <td>52.0</td>\n",
       "      <td>NaN</td>\n",
       "      <td>NaN</td>\n",
       "      <td>1</td>\n",
       "      <td>...</td>\n",
       "      <td>1.571146</td>\n",
       "      <td>1</td>\n",
       "      <td>2.930581</td>\n",
       "      <td>1</td>\n",
       "      <td>2.930581</td>\n",
       "      <td>1</td>\n",
       "      <td>3.887190</td>\n",
       "      <td>1</td>\n",
       "      <td>3.887190</td>\n",
       "      <td>1</td>\n",
       "    </tr>\n",
       "    <tr>\n",
       "      <th>1678</th>\n",
       "      <td>955</td>\n",
       "      <td>13915.0</td>\n",
       "      <td>2021-07-24</td>\n",
       "      <td>5899.0</td>\n",
       "      <td>100.0</td>\n",
       "      <td>-7.405808</td>\n",
       "      <td>52.0</td>\n",
       "      <td>NaN</td>\n",
       "      <td>NaN</td>\n",
       "      <td>1</td>\n",
       "      <td>...</td>\n",
       "      <td>1.571146</td>\n",
       "      <td>2</td>\n",
       "      <td>2.930581</td>\n",
       "      <td>2</td>\n",
       "      <td>2.930581</td>\n",
       "      <td>2</td>\n",
       "      <td>3.887190</td>\n",
       "      <td>2</td>\n",
       "      <td>3.887190</td>\n",
       "      <td>2</td>\n",
       "    </tr>\n",
       "    <tr>\n",
       "      <th>1599</th>\n",
       "      <td>955</td>\n",
       "      <td>6455.0</td>\n",
       "      <td>2021-08-02</td>\n",
       "      <td>6062.0</td>\n",
       "      <td>100.0</td>\n",
       "      <td>-7.405808</td>\n",
       "      <td>52.0</td>\n",
       "      <td>NaN</td>\n",
       "      <td>NaN</td>\n",
       "      <td>1</td>\n",
       "      <td>...</td>\n",
       "      <td>1.510068</td>\n",
       "      <td>3</td>\n",
       "      <td>2.539743</td>\n",
       "      <td>19</td>\n",
       "      <td>2.539743</td>\n",
       "      <td>19</td>\n",
       "      <td>3.876266</td>\n",
       "      <td>3</td>\n",
       "      <td>3.876266</td>\n",
       "      <td>3</td>\n",
       "    </tr>\n",
       "  </tbody>\n",
       "</table>\n",
       "<p>3 rows × 38 columns</p>\n",
       "</div>"
      ],
      "text/plain": [
       "      user_id  item_id   datetime  total_dur  weight  lfm_score  lfm_rank  \\\n",
       "1677      955  13915.0 2021-07-24     5899.0   100.0  -7.405808      52.0   \n",
       "1678      955  13915.0 2021-07-24     5899.0   100.0  -7.405808      52.0   \n",
       "1599      955   6455.0 2021-08-02     6062.0   100.0  -7.405808      52.0   \n",
       "\n",
       "      popular_score  popular_rank age  ... LGBMRanker_hybrid_score  \\\n",
       "1677            NaN           NaN   1  ...                1.571146   \n",
       "1678            NaN           NaN   1  ...                1.571146   \n",
       "1599            NaN           NaN   1  ...                1.510068   \n",
       "\n",
       "     LGBMRanker_hybrid_rank XGBRanker_score  XGBRanker_rank  \\\n",
       "1677                      1        2.930581               1   \n",
       "1678                      2        2.930581               2   \n",
       "1599                      3        2.539743              19   \n",
       "\n",
       "      XGBRanker_hybrid_score  XGBRanker_hybrid_rank  CatBoostRanker_score  \\\n",
       "1677                2.930581                      1              3.887190   \n",
       "1678                2.930581                      2              3.887190   \n",
       "1599                2.539743                     19              3.876266   \n",
       "\n",
       "     CatBoostRanker_rank  CatBoostRanker_hybrid_score  \\\n",
       "1677                   1                     3.887190   \n",
       "1678                   2                     3.887190   \n",
       "1599                   3                     3.876266   \n",
       "\n",
       "     CatBoostRanker_hybrid_rank  \n",
       "1677                          1  \n",
       "1678                          2  \n",
       "1599                          3  \n",
       "\n",
       "[3 rows x 38 columns]"
      ]
     },
     "execution_count": 69,
     "metadata": {},
     "output_type": "execute_result"
    }
   ],
   "source": [
    "y_pred = CatBoostRanker_model.predict(ranker_test[cols])\n",
    "ranker_test = add_score_and_rank(ranker_test, y_pred, 'CatBoostRanker')\n",
    "ranker_test.head(3)"
   ]
  },
  {
   "cell_type": "code",
   "execution_count": null,
   "metadata": {
    "colab": {
     "base_uri": "https://localhost:8080/",
     "height": 112
    },
    "id": "8K52dShLJv0h",
    "outputId": "1064ed56-4602-4adf-b57b-77fa6bb4ee24"
   },
   "outputs": [
    {
     "data": {
      "text/html": [
       "<div>\n",
       "<style scoped>\n",
       "    .dataframe tbody tr th:only-of-type {\n",
       "        vertical-align: middle;\n",
       "    }\n",
       "\n",
       "    .dataframe tbody tr th {\n",
       "        vertical-align: top;\n",
       "    }\n",
       "\n",
       "    .dataframe thead th {\n",
       "        text-align: right;\n",
       "    }\n",
       "</style>\n",
       "<table border=\"1\" class=\"dataframe\">\n",
       "  <thead>\n",
       "    <tr style=\"text-align: right;\">\n",
       "      <th></th>\n",
       "      <th>CatBoostRanker</th>\n",
       "      <th>CatBoostRanker_hybrid</th>\n",
       "    </tr>\n",
       "  </thead>\n",
       "  <tbody>\n",
       "    <tr>\n",
       "      <th>recall@10</th>\n",
       "      <td>0.007961</td>\n",
       "      <td>0.007961</td>\n",
       "    </tr>\n",
       "    <tr>\n",
       "      <th>ndcg@10</th>\n",
       "      <td>0.014768</td>\n",
       "      <td>0.014768</td>\n",
       "    </tr>\n",
       "  </tbody>\n",
       "</table>\n",
       "</div>"
      ],
      "text/plain": [
       "           CatBoostRanker  CatBoostRanker_hybrid\n",
       "recall@10        0.007961               0.007961\n",
       "ndcg@10          0.014768               0.014768"
      ]
     },
     "execution_count": 70,
     "metadata": {},
     "output_type": "execute_result"
    }
   ],
   "source": [
    "models_metrics['CatBoostRanker'] = calc_metrics_(ranker_test, 'CatBoostRanker_rank')\n",
    "pd.DataFrame(models_metrics)[['CatBoostRanker']]"
   ]
  },
  {
   "cell_type": "markdown",
   "metadata": {
    "id": "JJI9tRvRKRu0"
   },
   "source": [
    "## Итоговые метрики"
   ]
  },
  {
   "cell_type": "markdown",
   "metadata": {
    "id": "i7F2d-QuR6Nj"
   },
   "source": [
    "Time\n",
    "\n",
    "LGBMRanker     - 7.77 s\n",
    "\n",
    "XGBRanker      - 27 s\n",
    "\n",
    "CatBoostRanker - 1min 48s"
   ]
  },
  {
   "cell_type": "code",
   "execution_count": null,
   "metadata": {
    "colab": {
     "base_uri": "https://localhost:8080/",
     "height": 112
    },
    "id": "MbtiY3CEKRu0",
    "outputId": "440b7013-1884-4936-e19c-be87b7009f00"
   },
   "outputs": [
    {
     "data": {
      "text/html": [
       "<div>\n",
       "<style scoped>\n",
       "    .dataframe tbody tr th:only-of-type {\n",
       "        vertical-align: middle;\n",
       "    }\n",
       "\n",
       "    .dataframe tbody tr th {\n",
       "        vertical-align: top;\n",
       "    }\n",
       "\n",
       "    .dataframe thead th {\n",
       "        text-align: right;\n",
       "    }\n",
       "</style>\n",
       "<table border=\"1\" class=\"dataframe\">\n",
       "  <thead>\n",
       "    <tr style=\"text-align: right;\">\n",
       "      <th></th>\n",
       "      <th>LGBMRanker</th>\n",
       "      <th>XGBRanker</th>\n",
       "      <th>CatBoostRanker</th>\n",
       "    </tr>\n",
       "  </thead>\n",
       "  <tbody>\n",
       "    <tr>\n",
       "      <th>recall@10</th>\n",
       "      <td>0.007974</td>\n",
       "      <td>0.007959</td>\n",
       "      <td>0.007961</td>\n",
       "    </tr>\n",
       "    <tr>\n",
       "      <th>ndcg@10</th>\n",
       "      <td>0.014771</td>\n",
       "      <td>0.014762</td>\n",
       "      <td>0.014768</td>\n",
       "    </tr>\n",
       "  </tbody>\n",
       "</table>\n",
       "</div>"
      ],
      "text/plain": [
       "           LGBMRanker  XGBRanker  CatBoostRanker\n",
       "recall@10    0.007974   0.007959        0.007961\n",
       "ndcg@10      0.014771   0.014762        0.014768"
      ]
     },
     "execution_count": 71,
     "metadata": {},
     "output_type": "execute_result"
    }
   ],
   "source": [
    "pd.DataFrame(models_metrics)[['LGBMRanker', 'XGBRanker', 'CatBoostRanker']]"
   ]
  },
  {
   "cell_type": "markdown",
   "metadata": {
    "id": "hdLUge3CShRb"
   },
   "source": [
    "## Вывод:\n",
    "LGBMRanker работает быстрее и имеет наибольшее знаенчие ndcg@10"
   ]
  }
 ],
 "metadata": {
  "accelerator": "GPU",
  "colab": {
   "provenance": []
  },
  "gpuClass": "standard",
  "kernelspec": {
   "display_name": "Python 3",
   "language": "python",
   "name": "python3"
  },
  "language_info": {
   "codemirror_mode": {
    "name": "ipython",
    "version": 3
   },
   "file_extension": ".py",
   "mimetype": "text/x-python",
   "name": "python",
   "nbconvert_exporter": "python",
   "pygments_lexer": "ipython3",
   "version": "3.10.13"
  },
  "toc-autonumbering": false,
  "toc-showmarkdowntxt": true,
  "vscode": {
   "interpreter": {
    "hash": "5c7b89af1651d0b8571dde13640ecdccf7d5a6204171d6ab33e7c296e100e08a"
   }
  },
  "widgets": {
   "application/vnd.jupyter.widget-state+json": {
    "08331672c536487da9797c6f112a067a": {
     "model_module": "@jupyter-widgets/controls",
     "model_module_version": "1.5.0",
     "model_name": "DescriptionStyleModel",
     "state": {
      "_model_module": "@jupyter-widgets/controls",
      "_model_module_version": "1.5.0",
      "_model_name": "DescriptionStyleModel",
      "_view_count": null,
      "_view_module": "@jupyter-widgets/base",
      "_view_module_version": "1.2.0",
      "_view_name": "StyleView",
      "description_width": ""
     }
    },
    "09b03168160b4802a7dee2fd453f3dd3": {
     "model_module": "@jupyter-widgets/base",
     "model_module_version": "1.2.0",
     "model_name": "LayoutModel",
     "state": {
      "_model_module": "@jupyter-widgets/base",
      "_model_module_version": "1.2.0",
      "_model_name": "LayoutModel",
      "_view_count": null,
      "_view_module": "@jupyter-widgets/base",
      "_view_module_version": "1.2.0",
      "_view_name": "LayoutView",
      "align_content": null,
      "align_items": null,
      "align_self": null,
      "border": null,
      "bottom": null,
      "display": null,
      "flex": null,
      "flex_flow": null,
      "grid_area": null,
      "grid_auto_columns": null,
      "grid_auto_flow": null,
      "grid_auto_rows": null,
      "grid_column": null,
      "grid_gap": null,
      "grid_row": null,
      "grid_template_areas": null,
      "grid_template_columns": null,
      "grid_template_rows": null,
      "height": null,
      "justify_content": null,
      "justify_items": null,
      "left": null,
      "margin": null,
      "max_height": null,
      "max_width": null,
      "min_height": null,
      "min_width": null,
      "object_fit": null,
      "object_position": null,
      "order": null,
      "overflow": null,
      "overflow_x": null,
      "overflow_y": null,
      "padding": null,
      "right": null,
      "top": null,
      "visibility": null,
      "width": null
     }
    },
    "11af59ea2671480f85109b81977d0463": {
     "model_module": "@jupyter-widgets/base",
     "model_module_version": "1.2.0",
     "model_name": "LayoutModel",
     "state": {
      "_model_module": "@jupyter-widgets/base",
      "_model_module_version": "1.2.0",
      "_model_name": "LayoutModel",
      "_view_count": null,
      "_view_module": "@jupyter-widgets/base",
      "_view_module_version": "1.2.0",
      "_view_name": "LayoutView",
      "align_content": null,
      "align_items": null,
      "align_self": null,
      "border": null,
      "bottom": null,
      "display": null,
      "flex": null,
      "flex_flow": null,
      "grid_area": null,
      "grid_auto_columns": null,
      "grid_auto_flow": null,
      "grid_auto_rows": null,
      "grid_column": null,
      "grid_gap": null,
      "grid_row": null,
      "grid_template_areas": null,
      "grid_template_columns": null,
      "grid_template_rows": null,
      "height": null,
      "justify_content": null,
      "justify_items": null,
      "left": null,
      "margin": null,
      "max_height": null,
      "max_width": null,
      "min_height": null,
      "min_width": null,
      "object_fit": null,
      "object_position": null,
      "order": null,
      "overflow": null,
      "overflow_x": null,
      "overflow_y": null,
      "padding": null,
      "right": null,
      "top": null,
      "visibility": null,
      "width": null
     }
    },
    "15b16b6216184ef48078c037c67428b3": {
     "model_module": "@jupyter-widgets/controls",
     "model_module_version": "1.5.0",
     "model_name": "HTMLModel",
     "state": {
      "_dom_classes": [],
      "_model_module": "@jupyter-widgets/controls",
      "_model_module_version": "1.5.0",
      "_model_name": "HTMLModel",
      "_view_count": null,
      "_view_module": "@jupyter-widgets/controls",
      "_view_module_version": "1.5.0",
      "_view_name": "HTMLView",
      "description": "",
      "description_tooltip": null,
      "layout": "IPY_MODEL_e62183ab7fe043bcb20379196611a88c",
      "placeholder": "​",
      "style": "IPY_MODEL_8bac6bb269c54edbb552ebe47244851c",
      "value": " 10/10 [01:28&lt;00:00,  7.56s/it]"
     }
    },
    "2d8e28c69b974f2e9693e43fd84fd870": {
     "model_module": "@jupyter-widgets/controls",
     "model_module_version": "1.5.0",
     "model_name": "HBoxModel",
     "state": {
      "_dom_classes": [],
      "_model_module": "@jupyter-widgets/controls",
      "_model_module_version": "1.5.0",
      "_model_name": "HBoxModel",
      "_view_count": null,
      "_view_module": "@jupyter-widgets/controls",
      "_view_module_version": "1.5.0",
      "_view_name": "HBoxView",
      "box_style": "",
      "children": [
       "IPY_MODEL_5c5c0f73d1834d5ebebf9bdea2e60519",
       "IPY_MODEL_93bd8d85075f474d945b84803311d52c",
       "IPY_MODEL_15b16b6216184ef48078c037c67428b3"
      ],
      "layout": "IPY_MODEL_09b03168160b4802a7dee2fd453f3dd3"
     }
    },
    "4d47eb5cdceb41d78ab928c2ac04c9eb": {
     "model_module": "@jupyter-widgets/controls",
     "model_module_version": "1.5.0",
     "model_name": "HBoxModel",
     "state": {
      "_dom_classes": [],
      "_model_module": "@jupyter-widgets/controls",
      "_model_module_version": "1.5.0",
      "_model_name": "HBoxModel",
      "_view_count": null,
      "_view_module": "@jupyter-widgets/controls",
      "_view_module_version": "1.5.0",
      "_view_name": "HBoxView",
      "box_style": "",
      "children": [
       "IPY_MODEL_9d6b5d457f534531aed5044559e3b42c",
       "IPY_MODEL_96603854ace344f0a00746d98e051180",
       "IPY_MODEL_cf1ddd2c2ab74d2183ddac0ae264c270"
      ],
      "layout": "IPY_MODEL_8af5607f120341089f711ad94312ea36"
     }
    },
    "58a60c998c7c4af9a2b40362c4b78914": {
     "model_module": "@jupyter-widgets/base",
     "model_module_version": "1.2.0",
     "model_name": "LayoutModel",
     "state": {
      "_model_module": "@jupyter-widgets/base",
      "_model_module_version": "1.2.0",
      "_model_name": "LayoutModel",
      "_view_count": null,
      "_view_module": "@jupyter-widgets/base",
      "_view_module_version": "1.2.0",
      "_view_name": "LayoutView",
      "align_content": null,
      "align_items": null,
      "align_self": null,
      "border": null,
      "bottom": null,
      "display": null,
      "flex": null,
      "flex_flow": null,
      "grid_area": null,
      "grid_auto_columns": null,
      "grid_auto_flow": null,
      "grid_auto_rows": null,
      "grid_column": null,
      "grid_gap": null,
      "grid_row": null,
      "grid_template_areas": null,
      "grid_template_columns": null,
      "grid_template_rows": null,
      "height": null,
      "justify_content": null,
      "justify_items": null,
      "left": null,
      "margin": null,
      "max_height": null,
      "max_width": null,
      "min_height": null,
      "min_width": null,
      "object_fit": null,
      "object_position": null,
      "order": null,
      "overflow": null,
      "overflow_x": null,
      "overflow_y": null,
      "padding": null,
      "right": null,
      "top": null,
      "visibility": null,
      "width": null
     }
    },
    "5c5c0f73d1834d5ebebf9bdea2e60519": {
     "model_module": "@jupyter-widgets/controls",
     "model_module_version": "1.5.0",
     "model_name": "HTMLModel",
     "state": {
      "_dom_classes": [],
      "_model_module": "@jupyter-widgets/controls",
      "_model_module_version": "1.5.0",
      "_model_name": "HTMLModel",
      "_view_count": null,
      "_view_module": "@jupyter-widgets/controls",
      "_view_module_version": "1.5.0",
      "_view_name": "HTMLView",
      "description": "",
      "description_tooltip": null,
      "layout": "IPY_MODEL_d131289e93564ac692aaa8c2fef30871",
      "placeholder": "​",
      "style": "IPY_MODEL_e3f5b0ea09f74bd8b11b71e4a7c00f39",
      "value": "100%"
     }
    },
    "77829f222c314cbcb6562f4fd46df833": {
     "model_module": "@jupyter-widgets/base",
     "model_module_version": "1.2.0",
     "model_name": "LayoutModel",
     "state": {
      "_model_module": "@jupyter-widgets/base",
      "_model_module_version": "1.2.0",
      "_model_name": "LayoutModel",
      "_view_count": null,
      "_view_module": "@jupyter-widgets/base",
      "_view_module_version": "1.2.0",
      "_view_name": "LayoutView",
      "align_content": null,
      "align_items": null,
      "align_self": null,
      "border": null,
      "bottom": null,
      "display": null,
      "flex": null,
      "flex_flow": null,
      "grid_area": null,
      "grid_auto_columns": null,
      "grid_auto_flow": null,
      "grid_auto_rows": null,
      "grid_column": null,
      "grid_gap": null,
      "grid_row": null,
      "grid_template_areas": null,
      "grid_template_columns": null,
      "grid_template_rows": null,
      "height": null,
      "justify_content": null,
      "justify_items": null,
      "left": null,
      "margin": null,
      "max_height": null,
      "max_width": null,
      "min_height": null,
      "min_width": null,
      "object_fit": null,
      "object_position": null,
      "order": null,
      "overflow": null,
      "overflow_x": null,
      "overflow_y": null,
      "padding": null,
      "right": null,
      "top": null,
      "visibility": null,
      "width": null
     }
    },
    "82d3d66524fb402b82491affed0ff299": {
     "model_module": "@jupyter-widgets/controls",
     "model_module_version": "1.5.0",
     "model_name": "DescriptionStyleModel",
     "state": {
      "_model_module": "@jupyter-widgets/controls",
      "_model_module_version": "1.5.0",
      "_model_name": "DescriptionStyleModel",
      "_view_count": null,
      "_view_module": "@jupyter-widgets/base",
      "_view_module_version": "1.2.0",
      "_view_name": "StyleView",
      "description_width": ""
     }
    },
    "8af5607f120341089f711ad94312ea36": {
     "model_module": "@jupyter-widgets/base",
     "model_module_version": "1.2.0",
     "model_name": "LayoutModel",
     "state": {
      "_model_module": "@jupyter-widgets/base",
      "_model_module_version": "1.2.0",
      "_model_name": "LayoutModel",
      "_view_count": null,
      "_view_module": "@jupyter-widgets/base",
      "_view_module_version": "1.2.0",
      "_view_name": "LayoutView",
      "align_content": null,
      "align_items": null,
      "align_self": null,
      "border": null,
      "bottom": null,
      "display": null,
      "flex": null,
      "flex_flow": null,
      "grid_area": null,
      "grid_auto_columns": null,
      "grid_auto_flow": null,
      "grid_auto_rows": null,
      "grid_column": null,
      "grid_gap": null,
      "grid_row": null,
      "grid_template_areas": null,
      "grid_template_columns": null,
      "grid_template_rows": null,
      "height": null,
      "justify_content": null,
      "justify_items": null,
      "left": null,
      "margin": null,
      "max_height": null,
      "max_width": null,
      "min_height": null,
      "min_width": null,
      "object_fit": null,
      "object_position": null,
      "order": null,
      "overflow": null,
      "overflow_x": null,
      "overflow_y": null,
      "padding": null,
      "right": null,
      "top": null,
      "visibility": null,
      "width": null
     }
    },
    "8bac6bb269c54edbb552ebe47244851c": {
     "model_module": "@jupyter-widgets/controls",
     "model_module_version": "1.5.0",
     "model_name": "DescriptionStyleModel",
     "state": {
      "_model_module": "@jupyter-widgets/controls",
      "_model_module_version": "1.5.0",
      "_model_name": "DescriptionStyleModel",
      "_view_count": null,
      "_view_module": "@jupyter-widgets/base",
      "_view_module_version": "1.2.0",
      "_view_name": "StyleView",
      "description_width": ""
     }
    },
    "93bd8d85075f474d945b84803311d52c": {
     "model_module": "@jupyter-widgets/controls",
     "model_module_version": "1.5.0",
     "model_name": "FloatProgressModel",
     "state": {
      "_dom_classes": [],
      "_model_module": "@jupyter-widgets/controls",
      "_model_module_version": "1.5.0",
      "_model_name": "FloatProgressModel",
      "_view_count": null,
      "_view_module": "@jupyter-widgets/controls",
      "_view_module_version": "1.5.0",
      "_view_name": "ProgressView",
      "bar_style": "success",
      "description": "",
      "description_tooltip": null,
      "layout": "IPY_MODEL_77829f222c314cbcb6562f4fd46df833",
      "max": 10,
      "min": 0,
      "orientation": "horizontal",
      "style": "IPY_MODEL_a31676e51dc84a719d273847201f386b",
      "value": 10
     }
    },
    "96603854ace344f0a00746d98e051180": {
     "model_module": "@jupyter-widgets/controls",
     "model_module_version": "1.5.0",
     "model_name": "FloatProgressModel",
     "state": {
      "_dom_classes": [],
      "_model_module": "@jupyter-widgets/controls",
      "_model_module_version": "1.5.0",
      "_model_name": "FloatProgressModel",
      "_view_count": null,
      "_view_module": "@jupyter-widgets/controls",
      "_view_module_version": "1.5.0",
      "_view_name": "ProgressView",
      "bar_style": "",
      "description": "",
      "description_tooltip": null,
      "layout": "IPY_MODEL_11af59ea2671480f85109b81977d0463",
      "max": 78795385,
      "min": 0,
      "orientation": "horizontal",
      "style": "IPY_MODEL_cf9cca4354e14125aa2c8b9b59f68092",
      "value": 78795385
     }
    },
    "9d6b5d457f534531aed5044559e3b42c": {
     "model_module": "@jupyter-widgets/controls",
     "model_module_version": "1.5.0",
     "model_name": "HTMLModel",
     "state": {
      "_dom_classes": [],
      "_model_module": "@jupyter-widgets/controls",
      "_model_module_version": "1.5.0",
      "_model_name": "HTMLModel",
      "_view_count": null,
      "_view_module": "@jupyter-widgets/controls",
      "_view_module_version": "1.5.0",
      "_view_name": "HTMLView",
      "description": "",
      "description_tooltip": null,
      "layout": "IPY_MODEL_d3b5e99c801f4cd4966e590c56e22902",
      "placeholder": "​",
      "style": "IPY_MODEL_08331672c536487da9797c6f112a067a",
      "value": "kion dataset download: 100%"
     }
    },
    "a31676e51dc84a719d273847201f386b": {
     "model_module": "@jupyter-widgets/controls",
     "model_module_version": "1.5.0",
     "model_name": "ProgressStyleModel",
     "state": {
      "_model_module": "@jupyter-widgets/controls",
      "_model_module_version": "1.5.0",
      "_model_name": "ProgressStyleModel",
      "_view_count": null,
      "_view_module": "@jupyter-widgets/base",
      "_view_module_version": "1.2.0",
      "_view_name": "StyleView",
      "bar_color": null,
      "description_width": ""
     }
    },
    "cbbb4b289f0c440facbeb2080db32c59": {
     "model_module": "catboost-widget",
     "model_module_version": "^1.0.0",
     "model_name": "CatboostWidgetModel",
     "state": {
      "_dom_classes": [],
      "_model_module": "catboost-widget",
      "_model_module_version": "^1.0.0",
      "_model_name": "CatboostWidgetModel",
      "_view_count": null,
      "_view_module": "catboost-widget",
      "_view_module_version": "^1.0.0",
      "_view_name": "CatboostWidgetView",
      "data": {
       "catboost_info": {
        "content": {
         "data": {
          "iterations": [
           {
            "iteration": 0,
            "passed_time": 1.085504189,
            "remaining_time": 107.4649148,
            "test": [
             0.6542969432,
             0.5311441745
            ]
           },
           {
            "iteration": 1,
            "passed_time": 2.121540085,
            "remaining_time": 103.9554642,
            "test": [
             0.6807766779,
             0.568223571
            ]
           },
           {
            "iteration": 2,
            "passed_time": 3.190384985,
            "remaining_time": 103.1557812,
            "test": [
             0.6850385446,
             0.5735127599
            ]
           },
           {
            "iteration": 3,
            "passed_time": 4.415111867,
            "remaining_time": 105.9626848,
            "test": [
             0.6966191827,
             0.590626867
            ]
           },
           {
            "iteration": 4,
            "passed_time": 6.382095661,
            "remaining_time": 121.2598176,
            "test": [
             0.697545687,
             0.5920025868
            ]
           },
           {
            "iteration": 5,
            "passed_time": 7.438977166,
            "remaining_time": 116.5439756,
            "test": [
             0.6984194661,
             0.5934567998
            ]
           },
           {
            "iteration": 6,
            "passed_time": 8.466790229,
            "remaining_time": 112.4873559,
            "test": [
             0.7173960759,
             0.623611652
            ]
           },
           {
            "iteration": 7,
            "passed_time": 9.527085196,
            "remaining_time": 109.5614798,
            "test": [
             0.7406116929,
             0.6532040093
            ]
           },
           {
            "iteration": 8,
            "passed_time": 10.57905542,
            "remaining_time": 106.9660048,
            "test": [
             0.7412795682,
             0.6545558257
            ]
           },
           {
            "iteration": 9,
            "passed_time": 11.59997082,
            "remaining_time": 104.3997374,
            "test": [
             0.7411092774,
             0.6542885816
            ]
           },
           {
            "iteration": 10,
            "passed_time": 12.63034877,
            "remaining_time": 102.1910037,
            "test": [
             0.741507868,
             0.6544609295
            ]
           },
           {
            "iteration": 11,
            "passed_time": 13.68967689,
            "remaining_time": 100.3909639,
            "test": [
             0.7439423777,
             0.6582895407
            ]
           },
           {
            "iteration": 12,
            "passed_time": 14.74609663,
            "remaining_time": 98.68541592,
            "test": [
             0.7549896958,
             0.6738036362
            ]
           },
           {
            "iteration": 13,
            "passed_time": 15.7959628,
            "remaining_time": 97.03234294,
            "test": [
             0.7585659803,
             0.6788548564
            ]
           },
           {
            "iteration": 14,
            "passed_time": 16.86373908,
            "remaining_time": 95.56118813,
            "test": [
             0.7638292078,
             0.685183816
            ]
           },
           {
            "iteration": 15,
            "passed_time": 17.95104544,
            "remaining_time": 94.24298857,
            "test": [
             0.7639185336,
             0.6849599318
            ]
           },
           {
            "iteration": 16,
            "passed_time": 18.96893194,
            "remaining_time": 92.61302063,
            "test": [
             0.7642587007,
             0.6855358583
            ]
           },
           {
            "iteration": 17,
            "passed_time": 20.00794268,
            "remaining_time": 91.14729445,
            "test": [
             0.7667875149,
             0.6890828309
            ]
           },
           {
            "iteration": 18,
            "passed_time": 21.06549425,
            "remaining_time": 89.80552813,
            "test": [
             0.7694388664,
             0.6927190324
            ]
           },
           {
            "iteration": 19,
            "passed_time": 22.08768433,
            "remaining_time": 88.35073732,
            "test": [
             0.7693488716,
             0.6926629993
            ]
           },
           {
            "iteration": 20,
            "passed_time": 23.12324833,
            "remaining_time": 86.987458,
            "test": [
             0.7734205076,
             0.6974874771
            ]
           },
           {
            "iteration": 21,
            "passed_time": 24.20087864,
            "remaining_time": 85.80311519,
            "test": [
             0.7742206811,
             0.6978636296
            ]
           },
           {
            "iteration": 22,
            "passed_time": 25.2643067,
            "remaining_time": 84.58050505,
            "test": [
             0.7732032039,
             0.6972502513
            ]
           },
           {
            "iteration": 23,
            "passed_time": 26.32049684,
            "remaining_time": 83.34823999,
            "test": [
             0.774096433,
             0.6975098161
            ]
           },
           {
            "iteration": 24,
            "passed_time": 27.36817492,
            "remaining_time": 82.10452477,
            "test": [
             0.7737097087,
             0.697620482
            ]
           },
           {
            "iteration": 25,
            "passed_time": 28.42051686,
            "remaining_time": 80.88916338,
            "test": [
             0.7749763398,
             0.6992339454
            ]
           },
           {
            "iteration": 26,
            "passed_time": 29.44551187,
            "remaining_time": 79.6119395,
            "test": [
             0.7782988832,
             0.7027033844
            ]
           },
           {
            "iteration": 27,
            "passed_time": 30.44830561,
            "remaining_time": 78.295643,
            "test": [
             0.7788233366,
             0.7027669226
            ]
           },
           {
            "iteration": 28,
            "passed_time": 31.46855242,
            "remaining_time": 77.04369731,
            "test": [
             0.7802131209,
             0.704175382
            ]
           },
           {
            "iteration": 29,
            "passed_time": 32.49029016,
            "remaining_time": 75.81067703,
            "test": [
             0.7810971392,
             0.7051452531
            ]
           },
           {
            "iteration": 30,
            "passed_time": 33.49455684,
            "remaining_time": 74.5524007,
            "test": [
             0.7823964129,
             0.7070052248
            ]
           },
           {
            "iteration": 31,
            "passed_time": 34.53682213,
            "remaining_time": 73.39074703,
            "test": [
             0.7822264598,
             0.7073201344
            ]
           },
           {
            "iteration": 32,
            "passed_time": 35.55450006,
            "remaining_time": 72.18640921,
            "test": [
             0.7818550358,
             0.7069481635
            ]
           },
           {
            "iteration": 33,
            "passed_time": 36.57876238,
            "remaining_time": 71.00583285,
            "test": [
             0.7823295751,
             0.7076188653
            ]
           },
           {
            "iteration": 34,
            "passed_time": 37.63784562,
            "remaining_time": 69.89885616,
            "test": [
             0.7824519122,
             0.7077704915
            ]
           },
           {
            "iteration": 35,
            "passed_time": 38.65606006,
            "remaining_time": 68.72188456,
            "test": [
             0.7795743476,
             0.7055927081
            ]
           },
           {
            "iteration": 36,
            "passed_time": 39.70610828,
            "remaining_time": 67.60769789,
            "test": [
             0.7806389683,
             0.7077200502
            ]
           },
           {
            "iteration": 37,
            "passed_time": 40.7352373,
            "remaining_time": 66.46275559,
            "test": [
             0.7805981324,
             0.7075781418
            ]
           },
           {
            "iteration": 38,
            "passed_time": 41.7536061,
            "remaining_time": 65.30692235,
            "test": [
             0.7822129591,
             0.7090605337
            ]
           },
           {
            "iteration": 39,
            "passed_time": 42.76878432,
            "remaining_time": 64.15317648,
            "test": [
             0.7822917814,
             0.7092625411
            ]
           },
           {
            "iteration": 40,
            "passed_time": 43.77452348,
            "remaining_time": 62.99260697,
            "test": [
             0.7821225422,
             0.7093333854
            ]
           },
           {
            "iteration": 41,
            "passed_time": 44.79208542,
            "remaining_time": 61.85573701,
            "test": [
             0.7826545863,
             0.7097623871
            ]
           },
           {
            "iteration": 42,
            "passed_time": 45.80502006,
            "remaining_time": 60.7182824,
            "test": [
             0.7828668395,
             0.7096003296
            ]
           },
           {
            "iteration": 43,
            "passed_time": 46.81075261,
            "remaining_time": 59.57732151,
            "test": [
             0.7850328261,
             0.7122153706
            ]
           },
           {
            "iteration": 44,
            "passed_time": 47.81937275,
            "remaining_time": 58.44590003,
            "test": [
             0.7846427751,
             0.7117315165
            ]
           },
           {
            "iteration": 45,
            "passed_time": 48.85028092,
            "remaining_time": 57.34598195,
            "test": [
             0.7846330712,
             0.7116638416
            ]
           },
           {
            "iteration": 46,
            "passed_time": 49.8799322,
            "remaining_time": 56.24758312,
            "test": [
             0.7840554281,
             0.7106473813
            ]
           },
           {
            "iteration": 47,
            "passed_time": 50.88116779,
            "remaining_time": 55.12126511,
            "test": [
             0.7835815317,
             0.710404692
            ]
           },
           {
            "iteration": 48,
            "passed_time": 51.92030115,
            "remaining_time": 54.03949711,
            "test": [
             0.7838175461,
             0.7112320774
            ]
           },
           {
            "iteration": 49,
            "passed_time": 52.94398021,
            "remaining_time": 52.94398021,
            "test": [
             0.7838190587,
             0.7110397072
            ]
           },
           {
            "iteration": 50,
            "passed_time": 53.97571167,
            "remaining_time": 51.85901709,
            "test": [
             0.7829240553,
             0.7100481596
            ]
           },
           {
            "iteration": 51,
            "passed_time": 55.01939069,
            "remaining_time": 50.78712987,
            "test": [
             0.783195945,
             0.7106174915
            ]
           },
           {
            "iteration": 52,
            "passed_time": 56.05224634,
            "remaining_time": 49.70670902,
            "test": [
             0.78323231,
             0.7107427942
            ]
           },
           {
            "iteration": 53,
            "passed_time": 57.09227242,
            "remaining_time": 48.63415798,
            "test": [
             0.7832713016,
             0.7107834507
            ]
           },
           {
            "iteration": 54,
            "passed_time": 58.11242629,
            "remaining_time": 47.5465306,
            "test": [
             0.783506347,
             0.7103947293
            ]
           },
           {
            "iteration": 55,
            "passed_time": 59.13337898,
            "remaining_time": 46.46194062,
            "test": [
             0.7839705435,
             0.7107502516
            ]
           },
           {
            "iteration": 56,
            "passed_time": 60.19990395,
            "remaining_time": 45.41396263,
            "test": [
             0.7842857678,
             0.710869065
            ]
           },
           {
            "iteration": 57,
            "passed_time": 61.21382271,
            "remaining_time": 44.32725092,
            "test": [
             0.7842745399,
             0.7108490043
            ]
           },
           {
            "iteration": 58,
            "passed_time": 62.24290167,
            "remaining_time": 43.25354184,
            "test": [
             0.7840394974,
             0.7106170557
            ]
           },
           {
            "iteration": 59,
            "passed_time": 63.25536794,
            "remaining_time": 42.1702453,
            "test": [
             0.7849194909,
             0.7117253511
            ]
           },
           {
            "iteration": 60,
            "passed_time": 64.27430724,
            "remaining_time": 41.09340954,
            "test": [
             0.7852026149,
             0.7119856748
            ]
           },
           {
            "iteration": 61,
            "passed_time": 65.32371447,
            "remaining_time": 40.03711532,
            "test": [
             0.7851631582,
             0.7117371831
            ]
           },
           {
            "iteration": 62,
            "passed_time": 66.3330324,
            "remaining_time": 38.95749522,
            "test": [
             0.7850450239,
             0.7118249722
            ]
           },
           {
            "iteration": 63,
            "passed_time": 67.3429504,
            "remaining_time": 37.8804096,
            "test": [
             0.784334748,
             0.7112370909
            ]
           },
           {
            "iteration": 64,
            "passed_time": 68.35491489,
            "remaining_time": 36.80649263,
            "test": [
             0.7843481436,
             0.7112107551
            ]
           },
           {
            "iteration": 65,
            "passed_time": 69.36688266,
            "remaining_time": 35.7344547,
            "test": [
             0.7841344392,
             0.7107803338
            ]
           },
           {
            "iteration": 66,
            "passed_time": 70.84304384,
            "remaining_time": 34.89284249,
            "test": [
             0.7839566321,
             0.7103244608
            ]
           },
           {
            "iteration": 67,
            "passed_time": 73.54847207,
            "remaining_time": 34.61104568,
            "test": [
             0.7841736359,
             0.7105131055
            ]
           },
           {
            "iteration": 68,
            "passed_time": 74.81937798,
            "remaining_time": 33.61450315,
            "test": [
             0.7841622343,
             0.7104708561
            ]
           },
           {
            "iteration": 69,
            "passed_time": 75.84329595,
            "remaining_time": 32.50426969,
            "test": [
             0.7856741568,
             0.7124386008
            ]
           },
           {
            "iteration": 70,
            "passed_time": 76.87531971,
            "remaining_time": 31.39977847,
            "test": [
             0.7856735707,
             0.7124386008
            ]
           },
           {
            "iteration": 71,
            "passed_time": 77.90669959,
            "remaining_time": 30.29704984,
            "test": [
             0.7862149789,
             0.7127737632
            ]
           },
           {
            "iteration": 72,
            "passed_time": 78.95160319,
            "remaining_time": 29.20127789,
            "test": [
             0.7864712523,
             0.7133347646
            ]
           },
           {
            "iteration": 73,
            "passed_time": 79.97164408,
            "remaining_time": 28.09814522,
            "test": [
             0.7866398285,
             0.7135751461
            ]
           },
           {
            "iteration": 74,
            "passed_time": 81.03785712,
            "remaining_time": 27.01261904,
            "test": [
             0.7865418749,
             0.7136414172
            ]
           },
           {
            "iteration": 75,
            "passed_time": 82.06723439,
            "remaining_time": 25.91596875,
            "test": [
             0.787019269,
             0.7136154908
            ]
           },
           {
            "iteration": 76,
            "passed_time": 83.08575268,
            "remaining_time": 24.81782223,
            "test": [
             0.7870423183,
             0.7138141947
            ]
           },
           {
            "iteration": 77,
            "passed_time": 84.0926216,
            "remaining_time": 23.71843173,
            "test": [
             0.7870423183,
             0.7138141947
            ]
           },
           {
            "iteration": 78,
            "passed_time": 85.11539132,
            "remaining_time": 22.62561035,
            "test": [
             0.7872655123,
             0.7137063039
            ]
           },
           {
            "iteration": 79,
            "passed_time": 86.21276942,
            "remaining_time": 21.55319235,
            "test": [
             0.7869391501,
             0.7129571
            ]
           },
           {
            "iteration": 80,
            "passed_time": 87.24309509,
            "remaining_time": 20.46442971,
            "test": [
             0.7874038716,
             0.7133491216
            ]
           },
           {
            "iteration": 81,
            "passed_time": 88.26753697,
            "remaining_time": 19.3758008,
            "test": [
             0.7865669859,
             0.7126336534
            ]
           },
           {
            "iteration": 82,
            "passed_time": 89.28560377,
            "remaining_time": 18.28741282,
            "test": [
             0.7863189363,
             0.7126913487
            ]
           },
           {
            "iteration": 83,
            "passed_time": 90.31916888,
            "remaining_time": 17.20365121,
            "test": [
             0.7862299329,
             0.7125661894
            ]
           },
           {
            "iteration": 84,
            "passed_time": 91.35066669,
            "remaining_time": 16.12070589,
            "test": [
             0.7859114241,
             0.7124709546
            ]
           },
           {
            "iteration": 85,
            "passed_time": 92.41670594,
            "remaining_time": 15.04458004,
            "test": [
             0.7854792624,
             0.7121779438
            ]
           },
           {
            "iteration": 86,
            "passed_time": 93.45008787,
            "remaining_time": 13.96380623,
            "test": [
             0.7851076941,
             0.7117388446
            ]
           },
           {
            "iteration": 87,
            "passed_time": 94.46491309,
            "remaining_time": 12.88157906,
            "test": [
             0.7850207994,
             0.7116526986
            ]
           },
           {
            "iteration": 88,
            "passed_time": 95.49378281,
            "remaining_time": 11.80260237,
            "test": [
             0.7858669826,
             0.7125933907
            ]
           },
           {
            "iteration": 89,
            "passed_time": 96.52464933,
            "remaining_time": 10.72496104,
            "test": [
             0.786318377,
             0.7129378602
            ]
           },
           {
            "iteration": 90,
            "passed_time": 97.54743747,
            "remaining_time": 9.647548761,
            "test": [
             0.7859965713,
             0.7121921642
            ]
           },
           {
            "iteration": 91,
            "passed_time": 98.58809281,
            "remaining_time": 8.572877636,
            "test": [
             0.7860275879,
             0.7123416449
            ]
           },
           {
            "iteration": 92,
            "passed_time": 99.61418253,
            "remaining_time": 7.497841696,
            "test": [
             0.7866181611,
             0.7132929799
            ]
           },
           {
            "iteration": 93,
            "passed_time": 100.6257511,
            "remaining_time": 6.42292028,
            "test": [
             0.786345873,
             0.7130408659
            ]
           },
           {
            "iteration": 94,
            "passed_time": 101.6598342,
            "remaining_time": 5.350517592,
            "test": [
             0.7871158411,
             0.7140842814
            ]
           },
           {
            "iteration": 95,
            "passed_time": 102.7053372,
            "remaining_time": 4.279389049,
            "test": [
             0.7865196687,
             0.7130756131
            ]
           },
           {
            "iteration": 96,
            "passed_time": 104.2066017,
            "remaining_time": 3.22288459,
            "test": [
             0.7864188671,
             0.7129625227
            ]
           },
           {
            "iteration": 97,
            "passed_time": 106.0792658,
            "remaining_time": 2.164882976,
            "test": [
             0.7864014163,
             0.7132845546
            ]
           },
           {
            "iteration": 98,
            "passed_time": 107.108678,
            "remaining_time": 1.081905838,
            "test": [
             0.7864057166,
             0.7132877553
            ]
           },
           {
            "iteration": 99,
            "passed_time": 108.1276216,
            "remaining_time": 0,
            "test": [
             0.7864083258,
             0.713416748
            ]
           }
          ],
          "meta": {
           "iteration_count": 100,
           "launch_mode": "Train",
           "learn_metrics": [],
           "learn_sets": [
            "learn"
           ],
           "name": "experiment",
           "parameters": "",
           "test_metrics": [
            {
             "best_value": "Max",
             "name": "NDCG:type=Base"
            },
            {
             "best_value": "Max",
             "name": "NDCG:top=10;type=Base"
            }
           ],
           "test_sets": [
            "test"
           ]
          }
         },
         "passed_iterations": 99,
         "total_iterations": 100
        },
        "name": "catboost_info",
        "path": "catboost_info"
       }
      },
      "layout": "IPY_MODEL_d72db2fe54f74502b4a467c23e89117b"
     }
    },
    "cf1ddd2c2ab74d2183ddac0ae264c270": {
     "model_module": "@jupyter-widgets/controls",
     "model_module_version": "1.5.0",
     "model_name": "HTMLModel",
     "state": {
      "_dom_classes": [],
      "_model_module": "@jupyter-widgets/controls",
      "_model_module_version": "1.5.0",
      "_model_name": "HTMLModel",
      "_view_count": null,
      "_view_module": "@jupyter-widgets/controls",
      "_view_module_version": "1.5.0",
      "_view_name": "HTMLView",
      "description": "",
      "description_tooltip": null,
      "layout": "IPY_MODEL_58a60c998c7c4af9a2b40362c4b78914",
      "placeholder": "​",
      "style": "IPY_MODEL_82d3d66524fb402b82491affed0ff299",
      "value": " 78.8M/78.8M [00:20&lt;00:00, 11.0MiB/s]"
     }
    },
    "cf9cca4354e14125aa2c8b9b59f68092": {
     "model_module": "@jupyter-widgets/controls",
     "model_module_version": "1.5.0",
     "model_name": "ProgressStyleModel",
     "state": {
      "_model_module": "@jupyter-widgets/controls",
      "_model_module_version": "1.5.0",
      "_model_name": "ProgressStyleModel",
      "_view_count": null,
      "_view_module": "@jupyter-widgets/base",
      "_view_module_version": "1.2.0",
      "_view_name": "StyleView",
      "bar_color": null,
      "description_width": ""
     }
    },
    "d131289e93564ac692aaa8c2fef30871": {
     "model_module": "@jupyter-widgets/base",
     "model_module_version": "1.2.0",
     "model_name": "LayoutModel",
     "state": {
      "_model_module": "@jupyter-widgets/base",
      "_model_module_version": "1.2.0",
      "_model_name": "LayoutModel",
      "_view_count": null,
      "_view_module": "@jupyter-widgets/base",
      "_view_module_version": "1.2.0",
      "_view_name": "LayoutView",
      "align_content": null,
      "align_items": null,
      "align_self": null,
      "border": null,
      "bottom": null,
      "display": null,
      "flex": null,
      "flex_flow": null,
      "grid_area": null,
      "grid_auto_columns": null,
      "grid_auto_flow": null,
      "grid_auto_rows": null,
      "grid_column": null,
      "grid_gap": null,
      "grid_row": null,
      "grid_template_areas": null,
      "grid_template_columns": null,
      "grid_template_rows": null,
      "height": null,
      "justify_content": null,
      "justify_items": null,
      "left": null,
      "margin": null,
      "max_height": null,
      "max_width": null,
      "min_height": null,
      "min_width": null,
      "object_fit": null,
      "object_position": null,
      "order": null,
      "overflow": null,
      "overflow_x": null,
      "overflow_y": null,
      "padding": null,
      "right": null,
      "top": null,
      "visibility": null,
      "width": null
     }
    },
    "d3b5e99c801f4cd4966e590c56e22902": {
     "model_module": "@jupyter-widgets/base",
     "model_module_version": "1.2.0",
     "model_name": "LayoutModel",
     "state": {
      "_model_module": "@jupyter-widgets/base",
      "_model_module_version": "1.2.0",
      "_model_name": "LayoutModel",
      "_view_count": null,
      "_view_module": "@jupyter-widgets/base",
      "_view_module_version": "1.2.0",
      "_view_name": "LayoutView",
      "align_content": null,
      "align_items": null,
      "align_self": null,
      "border": null,
      "bottom": null,
      "display": null,
      "flex": null,
      "flex_flow": null,
      "grid_area": null,
      "grid_auto_columns": null,
      "grid_auto_flow": null,
      "grid_auto_rows": null,
      "grid_column": null,
      "grid_gap": null,
      "grid_row": null,
      "grid_template_areas": null,
      "grid_template_columns": null,
      "grid_template_rows": null,
      "height": null,
      "justify_content": null,
      "justify_items": null,
      "left": null,
      "margin": null,
      "max_height": null,
      "max_width": null,
      "min_height": null,
      "min_width": null,
      "object_fit": null,
      "object_position": null,
      "order": null,
      "overflow": null,
      "overflow_x": null,
      "overflow_y": null,
      "padding": null,
      "right": null,
      "top": null,
      "visibility": null,
      "width": null
     }
    },
    "e3f5b0ea09f74bd8b11b71e4a7c00f39": {
     "model_module": "@jupyter-widgets/controls",
     "model_module_version": "1.5.0",
     "model_name": "DescriptionStyleModel",
     "state": {
      "_model_module": "@jupyter-widgets/controls",
      "_model_module_version": "1.5.0",
      "_model_name": "DescriptionStyleModel",
      "_view_count": null,
      "_view_module": "@jupyter-widgets/base",
      "_view_module_version": "1.2.0",
      "_view_name": "StyleView",
      "description_width": ""
     }
    },
    "e62183ab7fe043bcb20379196611a88c": {
     "model_module": "@jupyter-widgets/base",
     "model_module_version": "1.2.0",
     "model_name": "LayoutModel",
     "state": {
      "_model_module": "@jupyter-widgets/base",
      "_model_module_version": "1.2.0",
      "_model_name": "LayoutModel",
      "_view_count": null,
      "_view_module": "@jupyter-widgets/base",
      "_view_module_version": "1.2.0",
      "_view_name": "LayoutView",
      "align_content": null,
      "align_items": null,
      "align_self": null,
      "border": null,
      "bottom": null,
      "display": null,
      "flex": null,
      "flex_flow": null,
      "grid_area": null,
      "grid_auto_columns": null,
      "grid_auto_flow": null,
      "grid_auto_rows": null,
      "grid_column": null,
      "grid_gap": null,
      "grid_row": null,
      "grid_template_areas": null,
      "grid_template_columns": null,
      "grid_template_rows": null,
      "height": null,
      "justify_content": null,
      "justify_items": null,
      "left": null,
      "margin": null,
      "max_height": null,
      "max_width": null,
      "min_height": null,
      "min_width": null,
      "object_fit": null,
      "object_position": null,
      "order": null,
      "overflow": null,
      "overflow_x": null,
      "overflow_y": null,
      "padding": null,
      "right": null,
      "top": null,
      "visibility": null,
      "width": null
     }
    }
   }
  }
 },
 "nbformat": 4,
 "nbformat_minor": 1
}
