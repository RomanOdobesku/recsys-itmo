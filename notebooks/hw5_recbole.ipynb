{
  "cells": [
    {
      "cell_type": "markdown",
      "source": [
        "## Recbole\n",
        "Проэкспериментриуйте с различными моделями recbole и выберите лучшую. (4 балла)"
      ],
      "metadata": {
        "id": "CgSM18lFZMIb"
      },
      "id": "CgSM18lFZMIb"
    },
    {
      "cell_type": "code",
      "source": [
        "!pip install recbole ray >> None"
      ],
      "metadata": {
        "id": "3OMH-8kftUJP"
      },
      "id": "3OMH-8kftUJP",
      "execution_count": 1,
      "outputs": []
    },
    {
      "cell_type": "code",
      "source": [
        "!pip install kmeans_pytorch"
      ],
      "metadata": {
        "colab": {
          "base_uri": "https://localhost:8080/"
        },
        "id": "-Sr5FUFBTcE3",
        "outputId": "fa49bb05-90fe-4026-d4f1-669455a51896"
      },
      "id": "-Sr5FUFBTcE3",
      "execution_count": 12,
      "outputs": [
        {
          "output_type": "stream",
          "name": "stdout",
          "text": [
            "Collecting kmeans_pytorch\n",
            "  Downloading kmeans_pytorch-0.3-py3-none-any.whl (4.4 kB)\n",
            "Installing collected packages: kmeans_pytorch\n",
            "Successfully installed kmeans_pytorch-0.3\n"
          ]
        }
      ]
    },
    {
      "cell_type": "code",
      "execution_count": 2,
      "id": "6de2c8bc",
      "metadata": {
        "execution": {
          "iopub.execute_input": "2022-11-27T16:33:28.041759Z",
          "iopub.status.busy": "2022-11-27T16:33:28.041244Z",
          "iopub.status.idle": "2022-11-27T16:33:29.274165Z",
          "shell.execute_reply": "2022-11-27T16:33:29.272623Z"
        },
        "papermill": {
          "duration": 1.244043,
          "end_time": "2022-11-27T16:33:29.277270",
          "exception": false,
          "start_time": "2022-11-27T16:33:28.033227",
          "status": "completed"
        },
        "tags": [],
        "id": "6de2c8bc"
      },
      "outputs": [],
      "source": [
        "import ast\n",
        "import json\n",
        "import matplotlib.pyplot as plt\n",
        "import numpy as np\n",
        "import os\n",
        "import pandas as pd\n",
        "import pickle\n",
        "\n",
        "import warnings\n",
        "warnings.filterwarnings('ignore')\n",
        "\n",
        "from collections import Counter\n",
        "from random import randint, random\n",
        "from scipy.sparse import coo_matrix, hstack\n",
        "from sklearn.metrics.pairwise import euclidean_distances, cosine_distances, cosine_similarity\n"
      ]
    },
    {
      "cell_type": "code",
      "execution_count": 3,
      "id": "c54b3e92",
      "metadata": {
        "execution": {
          "iopub.execute_input": "2022-11-27T16:33:29.290143Z",
          "iopub.status.busy": "2022-11-27T16:33:29.289663Z",
          "iopub.status.idle": "2022-11-27T16:33:29.294603Z",
          "shell.execute_reply": "2022-11-27T16:33:29.293618Z"
        },
        "papermill": {
          "duration": 0.013788,
          "end_time": "2022-11-27T16:33:29.297243",
          "exception": false,
          "start_time": "2022-11-27T16:33:29.283455",
          "status": "completed"
        },
        "tags": [],
        "id": "c54b3e92"
      },
      "outputs": [],
      "source": [
        "import warnings\n",
        "warnings.filterwarnings('ignore')"
      ]
    },
    {
      "cell_type": "markdown",
      "source": [
        "# Загрузим данные"
      ],
      "metadata": {
        "id": "7h6UPgYyWx0K"
      },
      "id": "7h6UPgYyWx0K"
    },
    {
      "cell_type": "code",
      "source": [
        "from google.colab import drive\n",
        "drive.mount('/content/drive')"
      ],
      "metadata": {
        "colab": {
          "base_uri": "https://localhost:8080/"
        },
        "id": "dP0KTtyttAxk",
        "outputId": "bad2fcce-36b8-4852-8f47-f2f6f19ebdbf"
      },
      "id": "dP0KTtyttAxk",
      "execution_count": 4,
      "outputs": [
        {
          "output_type": "stream",
          "name": "stdout",
          "text": [
            "Mounted at /content/drive\n"
          ]
        }
      ]
    },
    {
      "cell_type": "code",
      "execution_count": 5,
      "id": "9052ce21",
      "metadata": {
        "execution": {
          "iopub.execute_input": "2022-11-27T16:33:29.309390Z",
          "iopub.status.busy": "2022-11-27T16:33:29.308918Z",
          "iopub.status.idle": "2022-11-27T16:33:35.744619Z",
          "shell.execute_reply": "2022-11-27T16:33:35.743511Z"
        },
        "papermill": {
          "duration": 6.445298,
          "end_time": "2022-11-27T16:33:35.747539",
          "exception": false,
          "start_time": "2022-11-27T16:33:29.302241",
          "status": "completed"
        },
        "tags": [],
        "id": "9052ce21"
      },
      "outputs": [],
      "source": [
        "interactions_df = pd.read_csv('/content/drive/MyDrive/kion_train/interactions.csv')\n",
        "users_df = pd.read_csv('/content/drive/MyDrive/kion_train/users.csv')\n",
        "items_df = pd.read_csv('/content/drive/MyDrive/kion_train/items.csv')"
      ]
    },
    {
      "cell_type": "code",
      "execution_count": 6,
      "id": "0b371b15",
      "metadata": {
        "execution": {
          "iopub.execute_input": "2022-11-27T16:33:35.759448Z",
          "iopub.status.busy": "2022-11-27T16:33:35.758615Z",
          "iopub.status.idle": "2022-11-27T16:33:36.674749Z",
          "shell.execute_reply": "2022-11-27T16:33:36.673314Z"
        },
        "papermill": {
          "duration": 0.925082,
          "end_time": "2022-11-27T16:33:36.677439",
          "exception": false,
          "start_time": "2022-11-27T16:33:35.752357",
          "status": "completed"
        },
        "tags": [],
        "id": "0b371b15"
      },
      "outputs": [],
      "source": [
        "interactions_df['t_dat'] = pd.to_datetime(interactions_df['last_watch_dt'], format=\"%Y-%m-%d\")\n",
        "interactions_df['timestamp'] = interactions_df.t_dat.values.astype(np.int64) // 10 ** 9"
      ]
    },
    {
      "cell_type": "code",
      "execution_count": 7,
      "id": "7f075c88",
      "metadata": {
        "execution": {
          "iopub.execute_input": "2022-11-27T16:33:36.688908Z",
          "iopub.status.busy": "2022-11-27T16:33:36.688507Z",
          "iopub.status.idle": "2022-11-27T16:33:36.963693Z",
          "shell.execute_reply": "2022-11-27T16:33:36.962323Z"
        },
        "papermill": {
          "duration": 0.284147,
          "end_time": "2022-11-27T16:33:36.966533",
          "exception": false,
          "start_time": "2022-11-27T16:33:36.682386",
          "status": "completed"
        },
        "tags": [],
        "id": "7f075c88"
      },
      "outputs": [],
      "source": [
        "df = interactions_df[['user_id', 'item_id', 'timestamp']].rename(\n",
        "    columns={'user_id': 'user_id:token', 'item_id': 'item_id:token', 'timestamp': 'timestamp:float'})"
      ]
    },
    {
      "cell_type": "code",
      "execution_count": 8,
      "id": "aab347ea",
      "metadata": {
        "execution": {
          "iopub.execute_input": "2022-11-27T16:33:36.978797Z",
          "iopub.status.busy": "2022-11-27T16:33:36.977868Z",
          "iopub.status.idle": "2022-11-27T16:33:38.064289Z",
          "shell.execute_reply": "2022-11-27T16:33:38.062510Z"
        },
        "papermill": {
          "duration": 1.09547,
          "end_time": "2022-11-27T16:33:38.067180",
          "exception": false,
          "start_time": "2022-11-27T16:33:36.971710",
          "status": "completed"
        },
        "tags": [],
        "id": "aab347ea"
      },
      "outputs": [],
      "source": [
        "!mkdir recbox_data"
      ]
    },
    {
      "cell_type": "code",
      "execution_count": 9,
      "id": "dff1fa1b",
      "metadata": {
        "execution": {
          "iopub.execute_input": "2022-11-27T16:33:38.079447Z",
          "iopub.status.busy": "2022-11-27T16:33:38.078986Z",
          "iopub.status.idle": "2022-11-27T16:33:45.904144Z",
          "shell.execute_reply": "2022-11-27T16:33:45.902874Z"
        },
        "papermill": {
          "duration": 7.834652,
          "end_time": "2022-11-27T16:33:45.906924",
          "exception": false,
          "start_time": "2022-11-27T16:33:38.072272",
          "status": "completed"
        },
        "tags": [],
        "id": "dff1fa1b"
      },
      "outputs": [],
      "source": [
        "df.to_csv('recbox_data/recbox_data.inter', index=False, sep='\\t')"
      ]
    },
    {
      "cell_type": "code",
      "execution_count": 10,
      "id": "e126014d",
      "metadata": {
        "execution": {
          "iopub.execute_input": "2022-11-27T16:34:01.010002Z",
          "iopub.status.busy": "2022-11-27T16:34:01.009584Z",
          "iopub.status.idle": "2022-11-27T16:34:04.065652Z",
          "shell.execute_reply": "2022-11-27T16:34:04.064531Z"
        },
        "papermill": {
          "duration": 3.067001,
          "end_time": "2022-11-27T16:34:04.068318",
          "exception": false,
          "start_time": "2022-11-27T16:34:01.001317",
          "status": "completed"
        },
        "tags": [],
        "id": "e126014d"
      },
      "outputs": [],
      "source": [
        "import logging\n",
        "from logging import getLogger\n",
        "from recbole.config import Config\n",
        "from recbole.data import create_dataset, data_preparation\n",
        "from recbole.model.sequential_recommender import GRU4Rec, Caser\n",
        "from recbole.trainer import Trainer\n",
        "from recbole.utils import init_seed, init_logger\n",
        "from recbole.quick_start import run_recbole"
      ]
    },
    {
      "cell_type": "markdown",
      "source": [
        "# Config"
      ],
      "metadata": {
        "id": "azx0XVb-W7YO"
      },
      "id": "azx0XVb-W7YO"
    },
    {
      "cell_type": "code",
      "execution_count": 13,
      "id": "a4b97bdc",
      "metadata": {
        "execution": {
          "iopub.execute_input": "2022-11-27T16:34:04.084646Z",
          "iopub.status.busy": "2022-11-27T16:34:04.083930Z",
          "iopub.status.idle": "2022-11-27T16:34:04.217448Z",
          "shell.execute_reply": "2022-11-27T16:34:04.216060Z"
        },
        "papermill": {
          "duration": 0.145622,
          "end_time": "2022-11-27T16:34:04.220395",
          "exception": false,
          "start_time": "2022-11-27T16:34:04.074773",
          "status": "completed"
        },
        "tags": [],
        "id": "a4b97bdc",
        "colab": {
          "base_uri": "https://localhost:8080/"
        },
        "outputId": "8d3bacbd-e33b-4937-df66-4a4b80ed80f3"
      },
      "outputs": [
        {
          "output_type": "stream",
          "name": "stderr",
          "text": [
            "WARNING:root:command line args [-f /root/.local/share/jupyter/runtime/kernel-8addc8f8-8ddc-4e0c-9542-404831ff497a.json] will not be used in RecBole\n"
          ]
        }
      ],
      "source": [
        "parameter_dict = {\n",
        "    'data_path': '',\n",
        "    'USER_ID_FIELD': 'user_id',\n",
        "    'ITEM_ID_FIELD': 'item_id',\n",
        "    'TIME_FIELD': 'timestamp',\n",
        "    'device': 'GPU',\n",
        "    'user_inter_num_interval': \"[40,inf)\",\n",
        "    'item_inter_num_interval': \"[40,inf)\",\n",
        "    'load_col': {'inter': ['user_id', 'item_id', 'timestamp']},\n",
        "    'neg_sampling': None,\n",
        "    'epochs': 10,\n",
        "    'eval_args': {\n",
        "        'split': {'RS': [9, 0, 1]},\n",
        "        'group_by': 'user',\n",
        "        'order': 'TO',\n",
        "        'mode': 'full'}\n",
        "}\n",
        "config = Config(model='MultiVAE', dataset='recbox_data', config_dict=parameter_dict)\n",
        "\n",
        "# init random seed\n",
        "init_seed(config['seed'], config['reproducibility'])\n",
        "\n",
        "# logger initialization\n",
        "init_logger(config)\n",
        "logger = getLogger()\n",
        "# Create handlers\n",
        "c_handler = logging.StreamHandler()\n",
        "c_handler.setLevel(logging.INFO)\n",
        "logger.addHandler(c_handler)\n",
        "\n",
        "# write config info into log\n",
        "# logger.info(config)"
      ]
    },
    {
      "cell_type": "code",
      "execution_count": 14,
      "id": "d6d18eea",
      "metadata": {
        "execution": {
          "iopub.execute_input": "2022-11-27T16:34:04.236251Z",
          "iopub.status.busy": "2022-11-27T16:34:04.235805Z",
          "iopub.status.idle": "2022-11-27T16:34:46.795905Z",
          "shell.execute_reply": "2022-11-27T16:34:46.794283Z"
        },
        "papermill": {
          "duration": 42.583583,
          "end_time": "2022-11-27T16:34:46.811041",
          "exception": false,
          "start_time": "2022-11-27T16:34:04.227458",
          "status": "completed"
        },
        "tags": [],
        "id": "d6d18eea"
      },
      "outputs": [],
      "source": [
        "dataset = create_dataset(config)\n",
        "logger.info(dataset)"
      ]
    },
    {
      "cell_type": "code",
      "execution_count": 15,
      "id": "66706c2e",
      "metadata": {
        "execution": {
          "iopub.execute_input": "2022-11-27T16:34:46.827485Z",
          "iopub.status.busy": "2022-11-27T16:34:46.827025Z",
          "iopub.status.idle": "2022-11-27T16:34:49.051342Z",
          "shell.execute_reply": "2022-11-27T16:34:49.049929Z"
        },
        "papermill": {
          "duration": 2.241551,
          "end_time": "2022-11-27T16:34:49.059852",
          "exception": false,
          "start_time": "2022-11-27T16:34:46.818301",
          "status": "completed"
        },
        "tags": [],
        "id": "66706c2e"
      },
      "outputs": [],
      "source": [
        "# dataset splitting\n",
        "train_data, valid_data, test_data = data_preparation(config, dataset)"
      ]
    },
    {
      "cell_type": "code",
      "execution_count": 16,
      "id": "606dedb1",
      "metadata": {
        "execution": {
          "iopub.execute_input": "2022-11-27T16:34:49.078524Z",
          "iopub.status.busy": "2022-11-27T16:34:49.078069Z",
          "iopub.status.idle": "2022-11-27T16:34:49.082700Z",
          "shell.execute_reply": "2022-11-27T16:34:49.081542Z"
        },
        "papermill": {
          "duration": 0.01694,
          "end_time": "2022-11-27T16:34:49.085164",
          "exception": false,
          "start_time": "2022-11-27T16:34:49.068224",
          "status": "completed"
        },
        "tags": [],
        "id": "606dedb1"
      },
      "outputs": [],
      "source": [
        "import time"
      ]
    },
    {
      "cell_type": "markdown",
      "source": [
        "# Протестируем 3 модели: BPR, CDAE, MultiVAE"
      ],
      "metadata": {
        "id": "Jyh44x4SanCB"
      },
      "id": "Jyh44x4SanCB"
    },
    {
      "cell_type": "code",
      "execution_count": 17,
      "id": "02f721d5",
      "metadata": {
        "execution": {
          "iopub.execute_input": "2022-11-28T00:09:13.508805Z",
          "iopub.status.busy": "2022-11-28T00:09:13.508342Z",
          "iopub.status.idle": "2022-11-28T00:11:03.682512Z",
          "shell.execute_reply": "2022-11-28T00:11:03.681538Z"
        },
        "papermill": {
          "duration": 112.660326,
          "end_time": "2022-11-28T00:11:03.684802",
          "exception": false,
          "start_time": "2022-11-28T00:09:11.024476",
          "status": "completed"
        },
        "tags": [],
        "colab": {
          "base_uri": "https://localhost:8080/"
        },
        "id": "02f721d5",
        "outputId": "f3e06ff9-fc52-4e96-e4ee-8151dfd7cb9c"
      },
      "outputs": [
        {
          "output_type": "stream",
          "name": "stdout",
          "text": [
            "running BPR...\n"
          ]
        },
        {
          "output_type": "stream",
          "name": "stderr",
          "text": [
            "WARNING:root:command line args [-f /root/.local/share/jupyter/runtime/kernel-8addc8f8-8ddc-4e0c-9542-404831ff497a.json] will not be used in RecBole\n",
            "command line args [-f /root/.local/share/jupyter/runtime/kernel-8addc8f8-8ddc-4e0c-9542-404831ff497a.json] will not be used in RecBole\n",
            "Train     0: 100%|███████████████████████| 378/378 [00:11<00:00, 32.18it/s, GPU RAM: 0.03 G/14.75 G]\n",
            "Train     1: 100%|███████████████████████| 378/378 [00:12<00:00, 30.19it/s, GPU RAM: 0.03 G/14.75 G]\n",
            "Train     2: 100%|███████████████████████| 378/378 [00:12<00:00, 31.01it/s, GPU RAM: 0.03 G/14.75 G]\n",
            "Train     3: 100%|███████████████████████| 378/378 [00:11<00:00, 32.06it/s, GPU RAM: 0.03 G/14.75 G]\n",
            "Train     4: 100%|███████████████████████| 378/378 [00:12<00:00, 29.25it/s, GPU RAM: 0.03 G/14.75 G]\n",
            "Train     5: 100%|███████████████████████| 378/378 [00:12<00:00, 31.22it/s, GPU RAM: 0.03 G/14.75 G]\n",
            "Train     6: 100%|███████████████████████| 378/378 [00:12<00:00, 30.20it/s, GPU RAM: 0.03 G/14.75 G]\n",
            "Train     7: 100%|███████████████████████| 378/378 [00:13<00:00, 28.34it/s, GPU RAM: 0.03 G/14.75 G]\n",
            "Train     8: 100%|███████████████████████| 378/378 [00:12<00:00, 30.48it/s, GPU RAM: 0.03 G/14.75 G]\n",
            "Train     9: 100%|███████████████████████| 378/378 [00:12<00:00, 30.18it/s, GPU RAM: 0.03 G/14.75 G]\n",
            "Evaluate   : 100%|██████████████████| 13354/13354 [02:07<00:00, 104.45it/s, GPU RAM: 0.05 G/14.75 G]\n"
          ]
        },
        {
          "output_type": "stream",
          "name": "stdout",
          "text": [
            "It took 5.12 mins\n",
            "{'best_valid_score': -inf, 'valid_score_bigger': True, 'best_valid_result': None, 'test_result': OrderedDict([('recall@10', 0.0824), ('mrr@10', 0.1716), ('ndcg@10', 0.0819), ('hit@10', 0.3479), ('precision@10', 0.0457)])}\n",
            "CPU times: user 4min 17s, sys: 16.6 s, total: 4min 34s\n",
            "Wall time: 5min 7s\n"
          ]
        }
      ],
      "source": [
        "%%time\n",
        "model_list = ['BPR']\n",
        "\n",
        "for model_name in model_list:\n",
        "    print(f\"running {model_name}...\")\n",
        "    start = time.time()\n",
        "    result_bpr = run_recbole(model=model_name, dataset = 'recbox_data',config_dict = parameter_dict)\n",
        "    t = time.time() - start\n",
        "    print(f\"It took {t/60:.2f} mins\")\n",
        "    print(result_bpr)"
      ]
    },
    {
      "cell_type": "code",
      "source": [
        "%%time\n",
        "model_list = ['CDAE']\n",
        "\n",
        "for model_name in model_list:\n",
        "    print(f\"running {model_name}...\")\n",
        "    start = time.time()\n",
        "    result_cdae = run_recbole(model=model_name, dataset = 'recbox_data',config_dict = parameter_dict)\n",
        "    t = time.time() - start\n",
        "    print(f\"It took {t/60:.2f} mins\")\n",
        "    print(result_cdae)"
      ],
      "metadata": {
        "colab": {
          "base_uri": "https://localhost:8080/"
        },
        "id": "4iw_bIBFY_ai",
        "outputId": "e5aa9edb-cac7-44c0-ca90-59cea7a4bf39"
      },
      "id": "4iw_bIBFY_ai",
      "execution_count": 18,
      "outputs": [
        {
          "output_type": "stream",
          "name": "stdout",
          "text": [
            "running CDAE...\n"
          ]
        },
        {
          "output_type": "stream",
          "name": "stderr",
          "text": [
            "WARNING:root:command line args [-f /root/.local/share/jupyter/runtime/kernel-8addc8f8-8ddc-4e0c-9542-404831ff497a.json] will not be used in RecBole\n",
            "command line args [-f /root/.local/share/jupyter/runtime/kernel-8addc8f8-8ddc-4e0c-9542-404831ff497a.json] will not be used in RecBole\n",
            "WARNING:root:Max value of user's history interaction records has reached 20.9471766848816% of the total.\n",
            "Max value of user's history interaction records has reached 20.9471766848816% of the total.\n",
            "Train     0: 100%|███████████████████████████| 7/7 [00:00<00:00, 11.20it/s, GPU RAM: 0.39 G/14.75 G]\n",
            "Train     1: 100%|███████████████████████████| 7/7 [00:00<00:00, 10.45it/s, GPU RAM: 0.39 G/14.75 G]\n",
            "Train     2: 100%|███████████████████████████| 7/7 [00:00<00:00,  7.23it/s, GPU RAM: 0.39 G/14.75 G]\n",
            "Train     3: 100%|███████████████████████████| 7/7 [00:00<00:00,  8.43it/s, GPU RAM: 0.39 G/14.75 G]\n",
            "Train     4: 100%|███████████████████████████| 7/7 [00:00<00:00, 10.96it/s, GPU RAM: 0.39 G/14.75 G]\n",
            "Train     5: 100%|███████████████████████████| 7/7 [00:00<00:00,  8.48it/s, GPU RAM: 0.39 G/14.75 G]\n",
            "Train     6: 100%|███████████████████████████| 7/7 [00:00<00:00,  9.13it/s, GPU RAM: 0.39 G/14.75 G]\n",
            "Train     7: 100%|███████████████████████████| 7/7 [00:00<00:00,  9.59it/s, GPU RAM: 0.39 G/14.75 G]\n",
            "Train     8: 100%|███████████████████████████| 7/7 [00:00<00:00,  9.97it/s, GPU RAM: 0.39 G/14.75 G]\n",
            "Train     9: 100%|███████████████████████████| 7/7 [00:00<00:00, 14.88it/s, GPU RAM: 0.39 G/14.75 G]\n",
            "Evaluate   : 100%|███████████████████| 13354/13354 [02:31<00:00, 88.28it/s, GPU RAM: 0.39 G/14.75 G]\n"
          ]
        },
        {
          "output_type": "stream",
          "name": "stdout",
          "text": [
            "It took 4.31 mins\n",
            "{'best_valid_score': -inf, 'valid_score_bigger': True, 'best_valid_result': None, 'test_result': OrderedDict([('recall@10', 0.0634), ('mrr@10', 0.1428), ('ndcg@10', 0.0657), ('hit@10', 0.2724), ('precision@10', 0.0344)])}\n",
            "CPU times: user 3min 50s, sys: 11.1 s, total: 4min 1s\n",
            "Wall time: 4min 18s\n"
          ]
        }
      ]
    },
    {
      "cell_type": "code",
      "source": [
        "%%time\n",
        "model_list = ['MultiVAE']\n",
        "\n",
        "for model_name in model_list:\n",
        "    print(f\"running {model_name}...\")\n",
        "    start = time.time()\n",
        "    result_multivae = run_recbole(model=model_name, dataset = 'recbox_data',config_dict = parameter_dict)\n",
        "    t = time.time() - start\n",
        "    print(f\"It took {t/60:.2f} mins\")\n",
        "    print(result_multivae)"
      ],
      "metadata": {
        "id": "_ri2AahzSiCv",
        "colab": {
          "base_uri": "https://localhost:8080/"
        },
        "outputId": "34116d55-8b53-4fc3-eb9b-0d567868ef83"
      },
      "id": "_ri2AahzSiCv",
      "execution_count": 19,
      "outputs": [
        {
          "output_type": "stream",
          "name": "stdout",
          "text": [
            "running MultiVAE...\n"
          ]
        },
        {
          "output_type": "stream",
          "name": "stderr",
          "text": [
            "WARNING:root:command line args [-f /root/.local/share/jupyter/runtime/kernel-8addc8f8-8ddc-4e0c-9542-404831ff497a.json] will not be used in RecBole\n",
            "command line args [-f /root/.local/share/jupyter/runtime/kernel-8addc8f8-8ddc-4e0c-9542-404831ff497a.json] will not be used in RecBole\n",
            "WARNING:root:Max value of user's history interaction records has reached 20.9471766848816% of the total.\n",
            "Max value of user's history interaction records has reached 20.9471766848816% of the total.\n",
            "Train     0: 100%|███████████████████████████| 7/7 [00:03<00:00,  2.30it/s, GPU RAM: 0.39 G/14.75 G]\n",
            "Train     1: 100%|███████████████████████████| 7/7 [00:01<00:00,  6.08it/s, GPU RAM: 0.39 G/14.75 G]\n",
            "Train     2: 100%|███████████████████████████| 7/7 [00:01<00:00,  4.30it/s, GPU RAM: 0.39 G/14.75 G]\n",
            "Train     3: 100%|███████████████████████████| 7/7 [00:01<00:00,  4.66it/s, GPU RAM: 0.39 G/14.75 G]\n",
            "Train     4: 100%|███████████████████████████| 7/7 [00:01<00:00,  3.95it/s, GPU RAM: 0.39 G/14.75 G]\n",
            "Train     5: 100%|███████████████████████████| 7/7 [00:00<00:00, 10.48it/s, GPU RAM: 0.39 G/14.75 G]\n",
            "Train     6: 100%|███████████████████████████| 7/7 [00:01<00:00,  6.52it/s, GPU RAM: 0.39 G/14.75 G]\n",
            "Train     7: 100%|███████████████████████████| 7/7 [00:01<00:00,  5.50it/s, GPU RAM: 0.39 G/14.75 G]\n",
            "Train     8: 100%|███████████████████████████| 7/7 [00:01<00:00,  4.61it/s, GPU RAM: 0.39 G/14.75 G]\n",
            "Train     9: 100%|███████████████████████████| 7/7 [00:00<00:00, 10.10it/s, GPU RAM: 0.39 G/14.75 G]\n",
            "Evaluate   : 100%|███████████████████| 13354/13354 [03:17<00:00, 67.58it/s, GPU RAM: 0.39 G/14.75 G]\n"
          ]
        },
        {
          "output_type": "stream",
          "name": "stdout",
          "text": [
            "It took 5.21 mins\n",
            "{'best_valid_score': -inf, 'valid_score_bigger': True, 'best_valid_result': None, 'test_result': OrderedDict([('recall@10', 0.0834), ('mrr@10', 0.1671), ('ndcg@10', 0.0816), ('hit@10', 0.3466), ('precision@10', 0.0462)])}\n",
            "CPU times: user 4min 25s, sys: 14 s, total: 4min 39s\n",
            "Wall time: 5min 12s\n"
          ]
        }
      ]
    },
    {
      "cell_type": "code",
      "source": [
        "result_bpr"
      ],
      "metadata": {
        "id": "-luwJWDhQkWH",
        "colab": {
          "base_uri": "https://localhost:8080/"
        },
        "outputId": "b1a0267e-de91-4b9d-eca2-b34aea717e15"
      },
      "id": "-luwJWDhQkWH",
      "execution_count": 20,
      "outputs": [
        {
          "output_type": "execute_result",
          "data": {
            "text/plain": [
              "{'best_valid_score': -inf,\n",
              " 'valid_score_bigger': True,\n",
              " 'best_valid_result': None,\n",
              " 'test_result': OrderedDict([('recall@10', 0.0824),\n",
              "              ('mrr@10', 0.1716),\n",
              "              ('ndcg@10', 0.0819),\n",
              "              ('hit@10', 0.3479),\n",
              "              ('precision@10', 0.0457)])}"
            ]
          },
          "metadata": {},
          "execution_count": 20
        }
      ]
    },
    {
      "cell_type": "code",
      "source": [
        "result_cdae"
      ],
      "metadata": {
        "colab": {
          "base_uri": "https://localhost:8080/"
        },
        "id": "UHaU9SDiT_pB",
        "outputId": "6f4c2980-20c2-402a-dd4e-89209477097c"
      },
      "id": "UHaU9SDiT_pB",
      "execution_count": 21,
      "outputs": [
        {
          "output_type": "execute_result",
          "data": {
            "text/plain": [
              "{'best_valid_score': -inf,\n",
              " 'valid_score_bigger': True,\n",
              " 'best_valid_result': None,\n",
              " 'test_result': OrderedDict([('recall@10', 0.0634),\n",
              "              ('mrr@10', 0.1428),\n",
              "              ('ndcg@10', 0.0657),\n",
              "              ('hit@10', 0.2724),\n",
              "              ('precision@10', 0.0344)])}"
            ]
          },
          "metadata": {},
          "execution_count": 21
        }
      ]
    },
    {
      "cell_type": "code",
      "source": [
        "result_multivae"
      ],
      "metadata": {
        "colab": {
          "base_uri": "https://localhost:8080/"
        },
        "id": "NfJONQt3T-n7",
        "outputId": "cdd1a57e-a94b-4713-fdc9-2d488231fa04"
      },
      "id": "NfJONQt3T-n7",
      "execution_count": 22,
      "outputs": [
        {
          "output_type": "execute_result",
          "data": {
            "text/plain": [
              "{'best_valid_score': -inf,\n",
              " 'valid_score_bigger': True,\n",
              " 'best_valid_result': None,\n",
              " 'test_result': OrderedDict([('recall@10', 0.0834),\n",
              "              ('mrr@10', 0.1671),\n",
              "              ('ndcg@10', 0.0816),\n",
              "              ('hit@10', 0.3466),\n",
              "              ('precision@10', 0.0462)])}"
            ]
          },
          "metadata": {},
          "execution_count": 22
        }
      ]
    },
    {
      "cell_type": "markdown",
      "source": [
        "Видим, что по метрикам модели BPR и MultiVAE показали себя лучшим образом, при этом явного победителя определить на офлайн валидации сложно"
      ],
      "metadata": {
        "id": "pLVWAjUdXwzb"
      },
      "id": "pLVWAjUdXwzb"
    }
  ],
  "metadata": {
    "kernelspec": {
      "display_name": "Python 3",
      "name": "python3"
    },
    "language_info": {
      "codemirror_mode": {
        "name": "ipython",
        "version": 3
      },
      "file_extension": ".py",
      "mimetype": "text/x-python",
      "name": "python",
      "nbconvert_exporter": "python",
      "pygments_lexer": "ipython3",
      "version": "3.9.12"
    },
    "papermill": {
      "default_parameters": {},
      "duration": 27491.154881,
      "end_time": "2022-11-28T00:11:27.624787",
      "environment_variables": {},
      "exception": null,
      "input_path": "__notebook__.ipynb",
      "output_path": "__notebook__.ipynb",
      "parameters": {},
      "start_time": "2022-11-27T16:33:16.469906",
      "version": "2.3.4"
    },
    "colab": {
      "provenance": [],
      "gpuType": "T4"
    },
    "accelerator": "GPU"
  },
  "nbformat": 4,
  "nbformat_minor": 5
}