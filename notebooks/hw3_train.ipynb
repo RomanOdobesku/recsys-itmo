{
 "cells": [
  {
   "cell_type": "code",
   "execution_count": 1,
   "metadata": {},
   "outputs": [
    {
     "name": "stderr",
     "output_type": "stream",
     "text": [
      "c:\\Users\\ODOBESKURS\\ITMO\\1 term\\recsys-itmo\\.venv\\lib\\site-packages\\tqdm\\auto.py:21: TqdmWarning: IProgress not found. Please update jupyter and ipywidgets. See https://ipywidgets.readthedocs.io/en/stable/user_install.html\n",
      "  from .autonotebook import tqdm as notebook_tqdm\n"
     ]
    }
   ],
   "source": [
    "import pandas as pd\n",
    "\n",
    "from rectools import Columns\n",
    "\n",
    "import dill\n",
    "from implicit.nearest_neighbours import TFIDFRecommender\n",
    "from rectools import Columns\n",
    "from rectools.dataset import Dataset\n",
    "\n",
    "import sys\n",
    "sys.path.append(\"../\")\n",
    "\n",
    "from rec_sys.models.user_knn import UserKnn\n",
    "from rec_sys.models.popular import Popular"
   ]
  },
  {
   "cell_type": "code",
   "execution_count": 2,
   "metadata": {},
   "outputs": [],
   "source": [
    "path = \"../data\"\n",
    "interactions = pd.read_csv(f'{path}/interactions.csv') # .sample(frac=0.01)\n",
    "users = pd.read_csv(f'{path}/users.csv')\n",
    "items = pd.read_csv(f'{path}/items.csv')"
   ]
  },
  {
   "cell_type": "code",
   "execution_count": 3,
   "metadata": {},
   "outputs": [],
   "source": [
    "interactions.rename(\n",
    "    columns={\n",
    "        'last_watch_dt': Columns.Datetime,\n",
    "        'total_dur': Columns.Weight\n",
    "    },\n",
    "    inplace=True,\n",
    ")\n",
    "\n",
    "interactions['datetime'] = pd.to_datetime(interactions['datetime'])"
   ]
  },
  {
   "cell_type": "code",
   "execution_count": 4,
   "metadata": {},
   "outputs": [],
   "source": [
    "dataset = Dataset.construct(\n",
    "            interactions_df=interactions,\n",
    "            user_features_df=None,\n",
    "            item_features_df=None,\n",
    "        )"
   ]
  },
  {
   "cell_type": "markdown",
   "metadata": {},
   "source": [
    "Обучим кастомную (чтобы работала с холодными юзерами) популярную модельку, которая будет дополнять предсказания UserKNN"
   ]
  },
  {
   "cell_type": "code",
   "execution_count": 5,
   "metadata": {},
   "outputs": [],
   "source": [
    "model_popular = Popular(interactions=interactions)\n",
    "model_popular.fit(dataset)"
   ]
  },
  {
   "cell_type": "code",
   "execution_count": 6,
   "metadata": {},
   "outputs": [],
   "source": [
    "with open('../models/popular.dill', 'wb') as f:\n",
    "    dill.dump(model_popular, f)"
   ]
  },
  {
   "cell_type": "code",
   "execution_count": 7,
   "metadata": {},
   "outputs": [],
   "source": [
    "with open('../models/popular.dill', 'rb') as f:\n",
    "    model_popular = dill.load(f)"
   ]
  },
  {
   "cell_type": "markdown",
   "metadata": {},
   "source": [
    "Популярная моделька передается в кнн, чтобы дополнить до 10 рекомендаций"
   ]
  },
  {
   "cell_type": "code",
   "execution_count": 8,
   "metadata": {},
   "outputs": [],
   "source": [
    "model = TFIDFRecommender()\n",
    "userknn_model = UserKnn(model=model, N_users=50, interactions=interactions, add_popular=True, model_popular=model_popular)"
   ]
  },
  {
   "cell_type": "markdown",
   "metadata": {},
   "source": [
    "Обучим UserKNN"
   ]
  },
  {
   "cell_type": "code",
   "execution_count": 9,
   "metadata": {},
   "outputs": [
    {
     "name": "stderr",
     "output_type": "stream",
     "text": [
      "c:\\Users\\ODOBESKURS\\ITMO\\1 term\\recsys-itmo\\.venv\\lib\\site-packages\\implicit\\utils.py:164: ParameterWarning: Method expects CSR input, and was passed coo_matrix instead. Converting to CSR took 0.2199852466583252 seconds\n",
      "  warnings.warn(\n",
      "100%|██████████| 962179/962179 [19:50<00:00, 808.25it/s] \n"
     ]
    }
   ],
   "source": [
    "userknn_model.fit(interactions)"
   ]
  },
  {
   "cell_type": "code",
   "execution_count": 10,
   "metadata": {},
   "outputs": [],
   "source": [
    "with open('../models/userknn_tfidf_50.dill', 'wb') as f:\n",
    "    dill.dump(userknn_model, f)"
   ]
  },
  {
   "cell_type": "code",
   "execution_count": 11,
   "metadata": {},
   "outputs": [],
   "source": [
    "with open('../models/userknn_tfidf_50.dill', 'rb') as f:\n",
    "    userknn_model = dill.load(f)"
   ]
  },
  {
   "cell_type": "code",
   "execution_count": 12,
   "metadata": {},
   "outputs": [
    {
     "name": "stdout",
     "output_type": "stream",
     "text": [
      "         user_id  item_id   datetime  weight  watched_pct\n",
      "0         176549     9506 2021-05-11    4250         72.0\n",
      "1         699317     1659 2021-05-29    8317        100.0\n",
      "2         656683     7107 2021-05-09      10          0.0\n",
      "3         864613     7638 2021-07-05   14483        100.0\n",
      "4         964868     9506 2021-04-30    6725        100.0\n",
      "...          ...      ...        ...     ...          ...\n",
      "5476246   648596    12225 2021-08-13      76          0.0\n",
      "5476247   546862     9673 2021-04-13    2308         49.0\n",
      "5476248   697262    15297 2021-08-20   18307         63.0\n",
      "5476249   384202    16197 2021-04-19    6203        100.0\n",
      "5476250   319709     4436 2021-08-15    3921         45.0\n",
      "\n",
      "[5476251 rows x 5 columns]\n"
     ]
    }
   ],
   "source": [
    "print(userknn_model.interactions)"
   ]
  },
  {
   "cell_type": "code",
   "execution_count": 13,
   "metadata": {},
   "outputs": [],
   "source": [
    "userknn_reco_df = userknn_model.predict(interactions.sample(frac=0.01), N_recs=10)"
   ]
  },
  {
   "cell_type": "code",
   "execution_count": 14,
   "metadata": {},
   "outputs": [
    {
     "data": {
      "text/html": [
       "<div>\n",
       "<style scoped>\n",
       "    .dataframe tbody tr th:only-of-type {\n",
       "        vertical-align: middle;\n",
       "    }\n",
       "\n",
       "    .dataframe tbody tr th {\n",
       "        vertical-align: top;\n",
       "    }\n",
       "\n",
       "    .dataframe thead th {\n",
       "        text-align: right;\n",
       "    }\n",
       "</style>\n",
       "<table border=\"1\" class=\"dataframe\">\n",
       "  <thead>\n",
       "    <tr style=\"text-align: right;\">\n",
       "      <th></th>\n",
       "      <th>user_id</th>\n",
       "      <th>item_id</th>\n",
       "      <th>score</th>\n",
       "      <th>rank</th>\n",
       "    </tr>\n",
       "  </thead>\n",
       "  <tbody>\n",
       "    <tr>\n",
       "      <th>2</th>\n",
       "      <td>1097557</td>\n",
       "      <td>3182</td>\n",
       "      <td>6.137841</td>\n",
       "      <td>1</td>\n",
       "    </tr>\n",
       "    <tr>\n",
       "      <th>0</th>\n",
       "      <td>1097557</td>\n",
       "      <td>4151</td>\n",
       "      <td>4.111983</td>\n",
       "      <td>2</td>\n",
       "    </tr>\n",
       "    <tr>\n",
       "      <th>1</th>\n",
       "      <td>1097557</td>\n",
       "      <td>15297</td>\n",
       "      <td>3.379502</td>\n",
       "      <td>3</td>\n",
       "    </tr>\n",
       "    <tr>\n",
       "      <th>3</th>\n",
       "      <td>1097557</td>\n",
       "      <td>10440</td>\n",
       "      <td>3.029132</td>\n",
       "      <td>4</td>\n",
       "    </tr>\n",
       "    <tr>\n",
       "      <th>110</th>\n",
       "      <td>1097513</td>\n",
       "      <td>6674</td>\n",
       "      <td>2.545422</td>\n",
       "      <td>1</td>\n",
       "    </tr>\n",
       "    <tr>\n",
       "      <th>...</th>\n",
       "      <td>...</td>\n",
       "      <td>...</td>\n",
       "      <td>...</td>\n",
       "      <td>...</td>\n",
       "    </tr>\n",
       "    <tr>\n",
       "      <th>2250207</th>\n",
       "      <td>0</td>\n",
       "      <td>7829</td>\n",
       "      <td>3.915136</td>\n",
       "      <td>6</td>\n",
       "    </tr>\n",
       "    <tr>\n",
       "      <th>2250209</th>\n",
       "      <td>0</td>\n",
       "      <td>12192</td>\n",
       "      <td>3.466101</td>\n",
       "      <td>7</td>\n",
       "    </tr>\n",
       "    <tr>\n",
       "      <th>2250202</th>\n",
       "      <td>0</td>\n",
       "      <td>9728</td>\n",
       "      <td>2.683715</td>\n",
       "      <td>8</td>\n",
       "    </tr>\n",
       "    <tr>\n",
       "      <th>2250203</th>\n",
       "      <td>0</td>\n",
       "      <td>10440</td>\n",
       "      <td>2.390548</td>\n",
       "      <td>9</td>\n",
       "    </tr>\n",
       "    <tr>\n",
       "      <th>2250208</th>\n",
       "      <td>0</td>\n",
       "      <td>15297</td>\n",
       "      <td>2.356323</td>\n",
       "      <td>10</td>\n",
       "    </tr>\n",
       "  </tbody>\n",
       "</table>\n",
       "<p>409365 rows × 4 columns</p>\n",
       "</div>"
      ],
      "text/plain": [
       "         user_id item_id     score  rank\n",
       "2        1097557    3182  6.137841     1\n",
       "0        1097557    4151  4.111983     2\n",
       "1        1097557   15297  3.379502     3\n",
       "3        1097557   10440  3.029132     4\n",
       "110      1097513    6674  2.545422     1\n",
       "...          ...     ...       ...   ...\n",
       "2250207        0    7829  3.915136     6\n",
       "2250209        0   12192  3.466101     7\n",
       "2250202        0    9728  2.683715     8\n",
       "2250203        0   10440  2.390548     9\n",
       "2250208        0   15297  2.356323    10\n",
       "\n",
       "[409365 rows x 4 columns]"
      ]
     },
     "execution_count": 14,
     "metadata": {},
     "output_type": "execute_result"
    }
   ],
   "source": [
    "userknn_reco_df"
   ]
  },
  {
   "cell_type": "markdown",
   "metadata": {},
   "source": [
    "predict_online отличается тем, что работает на холодных пользователях и дополняет рекомендации до 10 с помощью popular"
   ]
  },
  {
   "cell_type": "code",
   "execution_count": 15,
   "metadata": {},
   "outputs": [
    {
     "data": {
      "text/plain": [
       "array([7460, 9550, 10958, 5469, 957, 5287, 13414, 5250, 13325, 2220],\n",
       "      dtype=object)"
      ]
     },
     "execution_count": 15,
     "metadata": {},
     "output_type": "execute_result"
    }
   ],
   "source": [
    "userknn_model.predict_online([[1097045]])"
   ]
  },
  {
   "cell_type": "code",
   "execution_count": 16,
   "metadata": {},
   "outputs": [
    {
     "data": {
      "text/plain": [
       "array([7638, 7189, 4260, 13668, 6006, 7476, 12192, 4151, 15297, 10440],\n",
       "      dtype=object)"
      ]
     },
     "execution_count": 16,
     "metadata": {},
     "output_type": "execute_result"
    }
   ],
   "source": [
    "userknn_model.predict_online([[864613]])"
   ]
  },
  {
   "cell_type": "code",
   "execution_count": 17,
   "metadata": {},
   "outputs": [
    {
     "data": {
      "text/plain": [
       "array([10440., 15297.,  9728., 13865.,  4151.,  3734.,  2657.,  4880.,\n",
       "         142.,  6809.])"
      ]
     },
     "execution_count": 17,
     "metadata": {},
     "output_type": "execute_result"
    }
   ],
   "source": [
    "userknn_model.predict_online([[999999999999]])"
   ]
  },
  {
   "cell_type": "code",
   "execution_count": null,
   "metadata": {},
   "outputs": [],
   "source": []
  }
 ],
 "metadata": {
  "kernelspec": {
   "display_name": ".venv",
   "language": "python",
   "name": "python3"
  },
  "language_info": {
   "codemirror_mode": {
    "name": "ipython",
    "version": 3
   },
   "file_extension": ".py",
   "mimetype": "text/x-python",
   "name": "python",
   "nbconvert_exporter": "python",
   "pygments_lexer": "ipython3",
   "version": "3.10.11"
  }
 },
 "nbformat": 4,
 "nbformat_minor": 2
}
