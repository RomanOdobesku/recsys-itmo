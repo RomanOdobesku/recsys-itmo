{
 "cells": [
  {
   "cell_type": "code",
   "execution_count": 1,
   "id": "73d9fa3b",
   "metadata": {
    "ExecuteTime": {
     "end_time": "2021-10-28T18:39:51.562051Z",
     "start_time": "2021-10-28T18:39:49.474990Z"
    },
    "id": "73d9fa3b"
   },
   "outputs": [],
   "source": [
    "import ast\n",
    "import json\n",
    "import matplotlib.pyplot as plt\n",
    "import numpy as np\n",
    "import os\n",
    "import pandas as pd\n",
    "import pickle\n",
    "import tensorflow as tf\n",
    "import tensorflow.keras.backend as K\n",
    "import warnings\n",
    "warnings.filterwarnings('ignore')\n",
    "\n",
    "from collections import Counter\n",
    "from random import randint, random\n",
    "from scipy.sparse import coo_matrix, hstack\n",
    "from sklearn.metrics.pairwise import euclidean_distances, cosine_distances, cosine_similarity\n",
    "from tensorflow import keras\n",
    "from tqdm import tqdm"
   ]
  },
  {
   "cell_type": "markdown",
   "id": "0ce80627",
   "metadata": {
    "id": "0ce80627"
   },
   "source": [
    "## Считаем препроцессные данные из прошлого ноутбучка"
   ]
  },
  {
   "cell_type": "code",
   "execution_count": 2,
   "id": "25508632",
   "metadata": {
    "ExecuteTime": {
     "end_time": "2021-10-28T18:39:51.661446Z",
     "start_time": "2021-10-28T18:39:51.563879Z"
    },
    "id": "25508632"
   },
   "outputs": [],
   "source": [
    "interactions_df = pd.read_csv('data_processed/interactions_processed_kion.csv')\n",
    "users_df = pd.read_csv('data_processed/users_processed_kion.csv')\n",
    "items_df = pd.read_csv('data_processed/items_processed_kion.csv')"
   ]
  },
  {
   "cell_type": "code",
   "execution_count": 3,
   "id": "f5eacb31",
   "metadata": {
    "ExecuteTime": {
     "end_time": "2021-10-28T18:40:35.447336Z",
     "start_time": "2021-10-28T18:40:35.434541Z"
    },
    "colab": {
     "base_uri": "https://localhost:8080/",
     "height": 206
    },
    "id": "f5eacb31",
    "outputId": "37b5c35b-4f4b-48ea-9012-a6ce7eed31c7"
   },
   "outputs": [
    {
     "data": {
      "text/html": [
       "<div>\n",
       "<style scoped>\n",
       "    .dataframe tbody tr th:only-of-type {\n",
       "        vertical-align: middle;\n",
       "    }\n",
       "\n",
       "    .dataframe tbody tr th {\n",
       "        vertical-align: top;\n",
       "    }\n",
       "\n",
       "    .dataframe thead th {\n",
       "        text-align: right;\n",
       "    }\n",
       "</style>\n",
       "<table border=\"1\" class=\"dataframe\">\n",
       "  <thead>\n",
       "    <tr style=\"text-align: right;\">\n",
       "      <th></th>\n",
       "      <th>user_id</th>\n",
       "      <th>age</th>\n",
       "      <th>income</th>\n",
       "      <th>sex</th>\n",
       "      <th>kids_flg</th>\n",
       "    </tr>\n",
       "  </thead>\n",
       "  <tbody>\n",
       "    <tr>\n",
       "      <th>0</th>\n",
       "      <td>973171</td>\n",
       "      <td>age_25_34</td>\n",
       "      <td>income_60_90</td>\n",
       "      <td>M</td>\n",
       "      <td>True</td>\n",
       "    </tr>\n",
       "    <tr>\n",
       "      <th>1</th>\n",
       "      <td>962099</td>\n",
       "      <td>age_18_24</td>\n",
       "      <td>income_20_40</td>\n",
       "      <td>M</td>\n",
       "      <td>False</td>\n",
       "    </tr>\n",
       "    <tr>\n",
       "      <th>2</th>\n",
       "      <td>1047345</td>\n",
       "      <td>age_45_54</td>\n",
       "      <td>income_40_60</td>\n",
       "      <td>F</td>\n",
       "      <td>False</td>\n",
       "    </tr>\n",
       "    <tr>\n",
       "      <th>3</th>\n",
       "      <td>721985</td>\n",
       "      <td>age_45_54</td>\n",
       "      <td>income_20_40</td>\n",
       "      <td>F</td>\n",
       "      <td>False</td>\n",
       "    </tr>\n",
       "    <tr>\n",
       "      <th>4</th>\n",
       "      <td>704055</td>\n",
       "      <td>age_35_44</td>\n",
       "      <td>income_60_90</td>\n",
       "      <td>F</td>\n",
       "      <td>False</td>\n",
       "    </tr>\n",
       "  </tbody>\n",
       "</table>\n",
       "</div>"
      ],
      "text/plain": [
       "   user_id        age        income sex  kids_flg\n",
       "0   973171  age_25_34  income_60_90   M      True\n",
       "1   962099  age_18_24  income_20_40   M     False\n",
       "2  1047345  age_45_54  income_40_60   F     False\n",
       "3   721985  age_45_54  income_20_40   F     False\n",
       "4   704055  age_35_44  income_60_90   F     False"
      ]
     },
     "execution_count": 3,
     "metadata": {},
     "output_type": "execute_result"
    }
   ],
   "source": [
    "users_df.head()"
   ]
  },
  {
   "cell_type": "code",
   "execution_count": 4,
   "id": "61669d0d",
   "metadata": {
    "ExecuteTime": {
     "end_time": "2021-10-28T18:40:36.103997Z",
     "start_time": "2021-10-28T18:40:36.094699Z"
    },
    "id": "61669d0d"
   },
   "outputs": [],
   "source": [
    "items_df = items_df.rename(columns = {'id' : 'item_id'})"
   ]
  },
  {
   "cell_type": "code",
   "execution_count": 5,
   "id": "25f4462e",
   "metadata": {
    "ExecuteTime": {
     "end_time": "2021-10-28T18:40:36.378293Z",
     "start_time": "2021-10-28T18:40:36.370946Z"
    },
    "colab": {
     "base_uri": "https://localhost:8080/",
     "height": 652
    },
    "id": "25f4462e",
    "outputId": "5cc6c801-f866-4b52-aada-f5226a5ebc21"
   },
   "outputs": [
    {
     "data": {
      "text/html": [
       "<div>\n",
       "<style scoped>\n",
       "    .dataframe tbody tr th:only-of-type {\n",
       "        vertical-align: middle;\n",
       "    }\n",
       "\n",
       "    .dataframe tbody tr th {\n",
       "        vertical-align: top;\n",
       "    }\n",
       "\n",
       "    .dataframe thead th {\n",
       "        text-align: right;\n",
       "    }\n",
       "</style>\n",
       "<table border=\"1\" class=\"dataframe\">\n",
       "  <thead>\n",
       "    <tr style=\"text-align: right;\">\n",
       "      <th></th>\n",
       "      <th>item_id</th>\n",
       "      <th>content_type</th>\n",
       "      <th>title</th>\n",
       "      <th>title_orig</th>\n",
       "      <th>genres</th>\n",
       "      <th>countries</th>\n",
       "      <th>for_kids</th>\n",
       "      <th>age_rating</th>\n",
       "      <th>studios</th>\n",
       "      <th>directors</th>\n",
       "      <th>actors</th>\n",
       "      <th>description</th>\n",
       "      <th>keywords</th>\n",
       "      <th>release_year_cat</th>\n",
       "    </tr>\n",
       "  </thead>\n",
       "  <tbody>\n",
       "    <tr>\n",
       "      <th>0</th>\n",
       "      <td>10711</td>\n",
       "      <td>film</td>\n",
       "      <td>поговори с ней</td>\n",
       "      <td>Hable con ella</td>\n",
       "      <td>драмы, зарубежные, детективы, мелодрамы</td>\n",
       "      <td>испания</td>\n",
       "      <td>False</td>\n",
       "      <td>16.0</td>\n",
       "      <td>unknown</td>\n",
       "      <td>педро альмодовар</td>\n",
       "      <td>Адольфо Фернандес, Ана Фернандес, Дарио Гранди...</td>\n",
       "      <td>Мелодрама легендарного Педро Альмодовара «Пого...</td>\n",
       "      <td>Поговори, ней, 2002, Испания, друзья, любовь, ...</td>\n",
       "      <td>2000-2010</td>\n",
       "    </tr>\n",
       "    <tr>\n",
       "      <th>1</th>\n",
       "      <td>2508</td>\n",
       "      <td>film</td>\n",
       "      <td>голые перцы</td>\n",
       "      <td>Search Party</td>\n",
       "      <td>зарубежные, приключения, комедии</td>\n",
       "      <td>сша</td>\n",
       "      <td>False</td>\n",
       "      <td>16.0</td>\n",
       "      <td>unknown</td>\n",
       "      <td>скот армстронг</td>\n",
       "      <td>Адам Палли, Брайан Хаски, Дж.Б. Смув, Джейсон ...</td>\n",
       "      <td>Уморительная современная комедия на популярную...</td>\n",
       "      <td>Голые, перцы, 2014, США, друзья, свадьбы, прео...</td>\n",
       "      <td>2010-2020</td>\n",
       "    </tr>\n",
       "    <tr>\n",
       "      <th>2</th>\n",
       "      <td>10716</td>\n",
       "      <td>film</td>\n",
       "      <td>тактическая сила</td>\n",
       "      <td>Tactical Force</td>\n",
       "      <td>криминал, зарубежные, триллеры, боевики, комедии</td>\n",
       "      <td>канада</td>\n",
       "      <td>False</td>\n",
       "      <td>16.0</td>\n",
       "      <td>unknown</td>\n",
       "      <td>адам п. калтраро</td>\n",
       "      <td>Адриан Холмс, Даррен Шалави, Джерри Вассерман,...</td>\n",
       "      <td>Профессиональный рестлер Стив Остин («Все или ...</td>\n",
       "      <td>Тактическая, сила, 2011, Канада, бандиты, ганг...</td>\n",
       "      <td>2010-2020</td>\n",
       "    </tr>\n",
       "    <tr>\n",
       "      <th>3</th>\n",
       "      <td>7868</td>\n",
       "      <td>film</td>\n",
       "      <td>45 лет</td>\n",
       "      <td>45 Years</td>\n",
       "      <td>драмы, зарубежные, мелодрамы</td>\n",
       "      <td>великобритания</td>\n",
       "      <td>False</td>\n",
       "      <td>16.0</td>\n",
       "      <td>unknown</td>\n",
       "      <td>эндрю хэй</td>\n",
       "      <td>Александра Риддлстон-Барретт, Джеральдин Джейм...</td>\n",
       "      <td>Шарлотта Рэмплинг, Том Кортни, Джеральдин Джей...</td>\n",
       "      <td>45, лет, 2015, Великобритания, брак, жизнь, лю...</td>\n",
       "      <td>2010-2020</td>\n",
       "    </tr>\n",
       "    <tr>\n",
       "      <th>4</th>\n",
       "      <td>16268</td>\n",
       "      <td>film</td>\n",
       "      <td>все решает мгновение</td>\n",
       "      <td>None</td>\n",
       "      <td>драмы, спорт, советские, мелодрамы</td>\n",
       "      <td>ссср</td>\n",
       "      <td>False</td>\n",
       "      <td>12.0</td>\n",
       "      <td>ленфильм</td>\n",
       "      <td>виктор садовский</td>\n",
       "      <td>Александр Абдулов, Александр Демьяненко, Алекс...</td>\n",
       "      <td>Расчетливая чаровница из советского кинохита «...</td>\n",
       "      <td>Все, решает, мгновение, 1978, СССР, сильные, ж...</td>\n",
       "      <td>1970-1980</td>\n",
       "    </tr>\n",
       "  </tbody>\n",
       "</table>\n",
       "</div>"
      ],
      "text/plain": [
       "   item_id content_type                 title      title_orig  \\\n",
       "0    10711         film        поговори с ней  Hable con ella   \n",
       "1     2508         film           голые перцы    Search Party   \n",
       "2    10716         film      тактическая сила  Tactical Force   \n",
       "3     7868         film                45 лет        45 Years   \n",
       "4    16268         film  все решает мгновение            None   \n",
       "\n",
       "                                             genres       countries  for_kids  \\\n",
       "0           драмы, зарубежные, детективы, мелодрамы         испания     False   \n",
       "1                  зарубежные, приключения, комедии             сша     False   \n",
       "2  криминал, зарубежные, триллеры, боевики, комедии          канада     False   \n",
       "3                      драмы, зарубежные, мелодрамы  великобритания     False   \n",
       "4                драмы, спорт, советские, мелодрамы            ссср     False   \n",
       "\n",
       "   age_rating   studios         directors  \\\n",
       "0        16.0   unknown  педро альмодовар   \n",
       "1        16.0   unknown    скот армстронг   \n",
       "2        16.0   unknown  адам п. калтраро   \n",
       "3        16.0   unknown         эндрю хэй   \n",
       "4        12.0  ленфильм  виктор садовский   \n",
       "\n",
       "                                              actors  \\\n",
       "0  Адольфо Фернандес, Ана Фернандес, Дарио Гранди...   \n",
       "1  Адам Палли, Брайан Хаски, Дж.Б. Смув, Джейсон ...   \n",
       "2  Адриан Холмс, Даррен Шалави, Джерри Вассерман,...   \n",
       "3  Александра Риддлстон-Барретт, Джеральдин Джейм...   \n",
       "4  Александр Абдулов, Александр Демьяненко, Алекс...   \n",
       "\n",
       "                                         description  \\\n",
       "0  Мелодрама легендарного Педро Альмодовара «Пого...   \n",
       "1  Уморительная современная комедия на популярную...   \n",
       "2  Профессиональный рестлер Стив Остин («Все или ...   \n",
       "3  Шарлотта Рэмплинг, Том Кортни, Джеральдин Джей...   \n",
       "4  Расчетливая чаровница из советского кинохита «...   \n",
       "\n",
       "                                            keywords release_year_cat  \n",
       "0  Поговори, ней, 2002, Испания, друзья, любовь, ...        2000-2010  \n",
       "1  Голые, перцы, 2014, США, друзья, свадьбы, прео...        2010-2020  \n",
       "2  Тактическая, сила, 2011, Канада, бандиты, ганг...        2010-2020  \n",
       "3  45, лет, 2015, Великобритания, брак, жизнь, лю...        2010-2020  \n",
       "4  Все, решает, мгновение, 1978, СССР, сильные, ж...        1970-1980  "
      ]
     },
     "execution_count": 5,
     "metadata": {},
     "output_type": "execute_result"
    }
   ],
   "source": [
    "items_df.head()"
   ]
  },
  {
   "cell_type": "code",
   "execution_count": 6,
   "id": "b41964d3",
   "metadata": {
    "ExecuteTime": {
     "end_time": "2021-10-28T18:40:36.607688Z",
     "start_time": "2021-10-28T18:40:36.597640Z"
    },
    "colab": {
     "base_uri": "https://localhost:8080/",
     "height": 206
    },
    "id": "b41964d3",
    "outputId": "b4c8f3d5-e7af-4e29-d2e8-0defb6993b35"
   },
   "outputs": [
    {
     "data": {
      "text/html": [
       "<div>\n",
       "<style scoped>\n",
       "    .dataframe tbody tr th:only-of-type {\n",
       "        vertical-align: middle;\n",
       "    }\n",
       "\n",
       "    .dataframe tbody tr th {\n",
       "        vertical-align: top;\n",
       "    }\n",
       "\n",
       "    .dataframe thead th {\n",
       "        text-align: right;\n",
       "    }\n",
       "</style>\n",
       "<table border=\"1\" class=\"dataframe\">\n",
       "  <thead>\n",
       "    <tr style=\"text-align: right;\">\n",
       "      <th></th>\n",
       "      <th>user_id</th>\n",
       "      <th>item_id</th>\n",
       "      <th>last_watch_dt</th>\n",
       "      <th>total_dur</th>\n",
       "      <th>watched_pct</th>\n",
       "    </tr>\n",
       "  </thead>\n",
       "  <tbody>\n",
       "    <tr>\n",
       "      <th>0</th>\n",
       "      <td>176549</td>\n",
       "      <td>9506</td>\n",
       "      <td>2021-05-11</td>\n",
       "      <td>4250</td>\n",
       "      <td>72</td>\n",
       "    </tr>\n",
       "    <tr>\n",
       "      <th>1</th>\n",
       "      <td>699317</td>\n",
       "      <td>1659</td>\n",
       "      <td>2021-05-29</td>\n",
       "      <td>8317</td>\n",
       "      <td>100</td>\n",
       "    </tr>\n",
       "    <tr>\n",
       "      <th>2</th>\n",
       "      <td>656683</td>\n",
       "      <td>7107</td>\n",
       "      <td>2021-05-09</td>\n",
       "      <td>10</td>\n",
       "      <td>0</td>\n",
       "    </tr>\n",
       "    <tr>\n",
       "      <th>3</th>\n",
       "      <td>864613</td>\n",
       "      <td>7638</td>\n",
       "      <td>2021-07-05</td>\n",
       "      <td>14483</td>\n",
       "      <td>100</td>\n",
       "    </tr>\n",
       "    <tr>\n",
       "      <th>4</th>\n",
       "      <td>964868</td>\n",
       "      <td>9506</td>\n",
       "      <td>2021-04-30</td>\n",
       "      <td>6725</td>\n",
       "      <td>100</td>\n",
       "    </tr>\n",
       "  </tbody>\n",
       "</table>\n",
       "</div>"
      ],
      "text/plain": [
       "   user_id  item_id last_watch_dt  total_dur  watched_pct\n",
       "0   176549     9506    2021-05-11       4250           72\n",
       "1   699317     1659    2021-05-29       8317          100\n",
       "2   656683     7107    2021-05-09         10            0\n",
       "3   864613     7638    2021-07-05      14483          100\n",
       "4   964868     9506    2021-04-30       6725          100"
      ]
     },
     "execution_count": 6,
     "metadata": {},
     "output_type": "execute_result"
    }
   ],
   "source": [
    "interactions_df.head()"
   ]
  },
  {
   "cell_type": "markdown",
   "id": "cd252422",
   "metadata": {
    "id": "cd252422"
   },
   "source": [
    "## Готовим фичи пользователей"
   ]
  },
  {
   "cell_type": "markdown",
   "id": "pBdccMPAr7KR",
   "metadata": {
    "id": "pBdccMPAr7KR"
   },
   "source": [
    "Посмотрим, какие фичи в датасете фильмов являются категориальными и закодируем их с помощью one-hot encoding."
   ]
  },
  {
   "cell_type": "code",
   "execution_count": 7,
   "id": "692270ac",
   "metadata": {
    "ExecuteTime": {
     "end_time": "2021-10-28T18:40:37.156260Z",
     "start_time": "2021-10-28T18:40:37.138422Z"
    },
    "colab": {
     "base_uri": "https://localhost:8080/",
     "height": 270
    },
    "id": "692270ac",
    "outputId": "7491ab1f-f9fb-4921-e383-7ecf5569e999"
   },
   "outputs": [
    {
     "data": {
      "text/html": [
       "<div>\n",
       "<style scoped>\n",
       "    .dataframe tbody tr th:only-of-type {\n",
       "        vertical-align: middle;\n",
       "    }\n",
       "\n",
       "    .dataframe tbody tr th {\n",
       "        vertical-align: top;\n",
       "    }\n",
       "\n",
       "    .dataframe thead th {\n",
       "        text-align: right;\n",
       "    }\n",
       "</style>\n",
       "<table border=\"1\" class=\"dataframe\">\n",
       "  <thead>\n",
       "    <tr style=\"text-align: right;\">\n",
       "      <th></th>\n",
       "      <th>user_id</th>\n",
       "      <th>age_age_18_24</th>\n",
       "      <th>age_age_25_34</th>\n",
       "      <th>age_age_35_44</th>\n",
       "      <th>age_age_45_54</th>\n",
       "      <th>age_age_55_64</th>\n",
       "      <th>age_age_65_inf</th>\n",
       "      <th>age_age_unknown</th>\n",
       "      <th>income_income_0_20</th>\n",
       "      <th>income_income_150_inf</th>\n",
       "      <th>income_income_20_40</th>\n",
       "      <th>income_income_40_60</th>\n",
       "      <th>income_income_60_90</th>\n",
       "      <th>income_income_90_150</th>\n",
       "      <th>income_income_unknown</th>\n",
       "      <th>sex_F</th>\n",
       "      <th>sex_M</th>\n",
       "      <th>sex_sex_unknown</th>\n",
       "      <th>kids_flg_False</th>\n",
       "      <th>kids_flg_True</th>\n",
       "    </tr>\n",
       "  </thead>\n",
       "  <tbody>\n",
       "    <tr>\n",
       "      <th>0</th>\n",
       "      <td>973171</td>\n",
       "      <td>0</td>\n",
       "      <td>1</td>\n",
       "      <td>0</td>\n",
       "      <td>0</td>\n",
       "      <td>0</td>\n",
       "      <td>0</td>\n",
       "      <td>0</td>\n",
       "      <td>0</td>\n",
       "      <td>0</td>\n",
       "      <td>0</td>\n",
       "      <td>0</td>\n",
       "      <td>1</td>\n",
       "      <td>0</td>\n",
       "      <td>0</td>\n",
       "      <td>0</td>\n",
       "      <td>1</td>\n",
       "      <td>0</td>\n",
       "      <td>0</td>\n",
       "      <td>1</td>\n",
       "    </tr>\n",
       "    <tr>\n",
       "      <th>1</th>\n",
       "      <td>962099</td>\n",
       "      <td>1</td>\n",
       "      <td>0</td>\n",
       "      <td>0</td>\n",
       "      <td>0</td>\n",
       "      <td>0</td>\n",
       "      <td>0</td>\n",
       "      <td>0</td>\n",
       "      <td>0</td>\n",
       "      <td>0</td>\n",
       "      <td>1</td>\n",
       "      <td>0</td>\n",
       "      <td>0</td>\n",
       "      <td>0</td>\n",
       "      <td>0</td>\n",
       "      <td>0</td>\n",
       "      <td>1</td>\n",
       "      <td>0</td>\n",
       "      <td>1</td>\n",
       "      <td>0</td>\n",
       "    </tr>\n",
       "    <tr>\n",
       "      <th>2</th>\n",
       "      <td>1047345</td>\n",
       "      <td>0</td>\n",
       "      <td>0</td>\n",
       "      <td>0</td>\n",
       "      <td>1</td>\n",
       "      <td>0</td>\n",
       "      <td>0</td>\n",
       "      <td>0</td>\n",
       "      <td>0</td>\n",
       "      <td>0</td>\n",
       "      <td>0</td>\n",
       "      <td>1</td>\n",
       "      <td>0</td>\n",
       "      <td>0</td>\n",
       "      <td>0</td>\n",
       "      <td>1</td>\n",
       "      <td>0</td>\n",
       "      <td>0</td>\n",
       "      <td>1</td>\n",
       "      <td>0</td>\n",
       "    </tr>\n",
       "    <tr>\n",
       "      <th>3</th>\n",
       "      <td>721985</td>\n",
       "      <td>0</td>\n",
       "      <td>0</td>\n",
       "      <td>0</td>\n",
       "      <td>1</td>\n",
       "      <td>0</td>\n",
       "      <td>0</td>\n",
       "      <td>0</td>\n",
       "      <td>0</td>\n",
       "      <td>0</td>\n",
       "      <td>1</td>\n",
       "      <td>0</td>\n",
       "      <td>0</td>\n",
       "      <td>0</td>\n",
       "      <td>0</td>\n",
       "      <td>1</td>\n",
       "      <td>0</td>\n",
       "      <td>0</td>\n",
       "      <td>1</td>\n",
       "      <td>0</td>\n",
       "    </tr>\n",
       "    <tr>\n",
       "      <th>4</th>\n",
       "      <td>704055</td>\n",
       "      <td>0</td>\n",
       "      <td>0</td>\n",
       "      <td>1</td>\n",
       "      <td>0</td>\n",
       "      <td>0</td>\n",
       "      <td>0</td>\n",
       "      <td>0</td>\n",
       "      <td>0</td>\n",
       "      <td>0</td>\n",
       "      <td>0</td>\n",
       "      <td>0</td>\n",
       "      <td>1</td>\n",
       "      <td>0</td>\n",
       "      <td>0</td>\n",
       "      <td>1</td>\n",
       "      <td>0</td>\n",
       "      <td>0</td>\n",
       "      <td>1</td>\n",
       "      <td>0</td>\n",
       "    </tr>\n",
       "  </tbody>\n",
       "</table>\n",
       "</div>"
      ],
      "text/plain": [
       "   user_id  age_age_18_24  age_age_25_34  age_age_35_44  age_age_45_54  \\\n",
       "0   973171              0              1              0              0   \n",
       "1   962099              1              0              0              0   \n",
       "2  1047345              0              0              0              1   \n",
       "3   721985              0              0              0              1   \n",
       "4   704055              0              0              1              0   \n",
       "\n",
       "   age_age_55_64  age_age_65_inf  age_age_unknown  income_income_0_20  \\\n",
       "0              0               0                0                   0   \n",
       "1              0               0                0                   0   \n",
       "2              0               0                0                   0   \n",
       "3              0               0                0                   0   \n",
       "4              0               0                0                   0   \n",
       "\n",
       "   income_income_150_inf  income_income_20_40  income_income_40_60  \\\n",
       "0                      0                    0                    0   \n",
       "1                      0                    1                    0   \n",
       "2                      0                    0                    1   \n",
       "3                      0                    1                    0   \n",
       "4                      0                    0                    0   \n",
       "\n",
       "   income_income_60_90  income_income_90_150  income_income_unknown  sex_F  \\\n",
       "0                    1                     0                      0      0   \n",
       "1                    0                     0                      0      0   \n",
       "2                    0                     0                      0      1   \n",
       "3                    0                     0                      0      1   \n",
       "4                    1                     0                      0      1   \n",
       "\n",
       "   sex_M  sex_sex_unknown  kids_flg_False  kids_flg_True  \n",
       "0      1                0               0              1  \n",
       "1      1                0               1              0  \n",
       "2      0                0               1              0  \n",
       "3      0                0               1              0  \n",
       "4      0                0               1              0  "
      ]
     },
     "execution_count": 7,
     "metadata": {},
     "output_type": "execute_result"
    }
   ],
   "source": [
    "user_cat_feats = [\"age\", \"income\", \"sex\", \"kids_flg\"]\n",
    "# из исходного датафрейма оставим только item_id - этот признак нам понадобится позже\n",
    "# для того, чтобы маппить айтемы из датафрейма с фильмами с айтемами \n",
    "# из датафрейма с взаимодействиями\n",
    "users_ohe_df = users_df.user_id\n",
    "for feat in user_cat_feats:\n",
    "    # получаем датафрейм с one-hot encoding для каждой категориальной фичи\n",
    "    ohe_feat_df = pd.get_dummies(users_df[feat], prefix=feat)\n",
    "    # конкатенируем ohe-hot датафрейм с датафреймом, \n",
    "    # который мы получили на предыдущем шаге\n",
    "    users_ohe_df = pd.concat([users_ohe_df, ohe_feat_df], axis=1)\n",
    "\n",
    "users_ohe_df.head()\n"
   ]
  },
  {
   "cell_type": "markdown",
   "id": "74cdbd93",
   "metadata": {
    "id": "74cdbd93"
   },
   "source": [
    "## Готовим фичи айтемов"
   ]
  },
  {
   "cell_type": "markdown",
   "id": "5kHzJ91Mr35c",
   "metadata": {
    "id": "5kHzJ91Mr35c"
   },
   "source": [
    "Кодируем их точно так же - one-hot'ом."
   ]
  },
  {
   "cell_type": "code",
   "execution_count": 8,
   "id": "-2Wd9upSsCle",
   "metadata": {
    "colab": {
     "base_uri": "https://localhost:8080/",
     "height": 652
    },
    "id": "-2Wd9upSsCle",
    "outputId": "671c2446-81f5-4e32-e24f-3aec9c8a2076"
   },
   "outputs": [
    {
     "data": {
      "text/html": [
       "<div>\n",
       "<style scoped>\n",
       "    .dataframe tbody tr th:only-of-type {\n",
       "        vertical-align: middle;\n",
       "    }\n",
       "\n",
       "    .dataframe tbody tr th {\n",
       "        vertical-align: top;\n",
       "    }\n",
       "\n",
       "    .dataframe thead th {\n",
       "        text-align: right;\n",
       "    }\n",
       "</style>\n",
       "<table border=\"1\" class=\"dataframe\">\n",
       "  <thead>\n",
       "    <tr style=\"text-align: right;\">\n",
       "      <th></th>\n",
       "      <th>item_id</th>\n",
       "      <th>content_type</th>\n",
       "      <th>title</th>\n",
       "      <th>title_orig</th>\n",
       "      <th>genres</th>\n",
       "      <th>countries</th>\n",
       "      <th>for_kids</th>\n",
       "      <th>age_rating</th>\n",
       "      <th>studios</th>\n",
       "      <th>directors</th>\n",
       "      <th>actors</th>\n",
       "      <th>description</th>\n",
       "      <th>keywords</th>\n",
       "      <th>release_year_cat</th>\n",
       "    </tr>\n",
       "  </thead>\n",
       "  <tbody>\n",
       "    <tr>\n",
       "      <th>0</th>\n",
       "      <td>10711</td>\n",
       "      <td>film</td>\n",
       "      <td>поговори с ней</td>\n",
       "      <td>Hable con ella</td>\n",
       "      <td>драмы, зарубежные, детективы, мелодрамы</td>\n",
       "      <td>испания</td>\n",
       "      <td>False</td>\n",
       "      <td>16.0</td>\n",
       "      <td>unknown</td>\n",
       "      <td>педро альмодовар</td>\n",
       "      <td>Адольфо Фернандес, Ана Фернандес, Дарио Гранди...</td>\n",
       "      <td>Мелодрама легендарного Педро Альмодовара «Пого...</td>\n",
       "      <td>Поговори, ней, 2002, Испания, друзья, любовь, ...</td>\n",
       "      <td>2000-2010</td>\n",
       "    </tr>\n",
       "    <tr>\n",
       "      <th>1</th>\n",
       "      <td>2508</td>\n",
       "      <td>film</td>\n",
       "      <td>голые перцы</td>\n",
       "      <td>Search Party</td>\n",
       "      <td>зарубежные, приключения, комедии</td>\n",
       "      <td>сша</td>\n",
       "      <td>False</td>\n",
       "      <td>16.0</td>\n",
       "      <td>unknown</td>\n",
       "      <td>скот армстронг</td>\n",
       "      <td>Адам Палли, Брайан Хаски, Дж.Б. Смув, Джейсон ...</td>\n",
       "      <td>Уморительная современная комедия на популярную...</td>\n",
       "      <td>Голые, перцы, 2014, США, друзья, свадьбы, прео...</td>\n",
       "      <td>2010-2020</td>\n",
       "    </tr>\n",
       "    <tr>\n",
       "      <th>2</th>\n",
       "      <td>10716</td>\n",
       "      <td>film</td>\n",
       "      <td>тактическая сила</td>\n",
       "      <td>Tactical Force</td>\n",
       "      <td>криминал, зарубежные, триллеры, боевики, комедии</td>\n",
       "      <td>канада</td>\n",
       "      <td>False</td>\n",
       "      <td>16.0</td>\n",
       "      <td>unknown</td>\n",
       "      <td>адам п. калтраро</td>\n",
       "      <td>Адриан Холмс, Даррен Шалави, Джерри Вассерман,...</td>\n",
       "      <td>Профессиональный рестлер Стив Остин («Все или ...</td>\n",
       "      <td>Тактическая, сила, 2011, Канада, бандиты, ганг...</td>\n",
       "      <td>2010-2020</td>\n",
       "    </tr>\n",
       "    <tr>\n",
       "      <th>3</th>\n",
       "      <td>7868</td>\n",
       "      <td>film</td>\n",
       "      <td>45 лет</td>\n",
       "      <td>45 Years</td>\n",
       "      <td>драмы, зарубежные, мелодрамы</td>\n",
       "      <td>великобритания</td>\n",
       "      <td>False</td>\n",
       "      <td>16.0</td>\n",
       "      <td>unknown</td>\n",
       "      <td>эндрю хэй</td>\n",
       "      <td>Александра Риддлстон-Барретт, Джеральдин Джейм...</td>\n",
       "      <td>Шарлотта Рэмплинг, Том Кортни, Джеральдин Джей...</td>\n",
       "      <td>45, лет, 2015, Великобритания, брак, жизнь, лю...</td>\n",
       "      <td>2010-2020</td>\n",
       "    </tr>\n",
       "    <tr>\n",
       "      <th>4</th>\n",
       "      <td>16268</td>\n",
       "      <td>film</td>\n",
       "      <td>все решает мгновение</td>\n",
       "      <td>None</td>\n",
       "      <td>драмы, спорт, советские, мелодрамы</td>\n",
       "      <td>ссср</td>\n",
       "      <td>False</td>\n",
       "      <td>12.0</td>\n",
       "      <td>ленфильм</td>\n",
       "      <td>виктор садовский</td>\n",
       "      <td>Александр Абдулов, Александр Демьяненко, Алекс...</td>\n",
       "      <td>Расчетливая чаровница из советского кинохита «...</td>\n",
       "      <td>Все, решает, мгновение, 1978, СССР, сильные, ж...</td>\n",
       "      <td>1970-1980</td>\n",
       "    </tr>\n",
       "  </tbody>\n",
       "</table>\n",
       "</div>"
      ],
      "text/plain": [
       "   item_id content_type                 title      title_orig  \\\n",
       "0    10711         film        поговори с ней  Hable con ella   \n",
       "1     2508         film           голые перцы    Search Party   \n",
       "2    10716         film      тактическая сила  Tactical Force   \n",
       "3     7868         film                45 лет        45 Years   \n",
       "4    16268         film  все решает мгновение            None   \n",
       "\n",
       "                                             genres       countries  for_kids  \\\n",
       "0           драмы, зарубежные, детективы, мелодрамы         испания     False   \n",
       "1                  зарубежные, приключения, комедии             сша     False   \n",
       "2  криминал, зарубежные, триллеры, боевики, комедии          канада     False   \n",
       "3                      драмы, зарубежные, мелодрамы  великобритания     False   \n",
       "4                драмы, спорт, советские, мелодрамы            ссср     False   \n",
       "\n",
       "   age_rating   studios         directors  \\\n",
       "0        16.0   unknown  педро альмодовар   \n",
       "1        16.0   unknown    скот армстронг   \n",
       "2        16.0   unknown  адам п. калтраро   \n",
       "3        16.0   unknown         эндрю хэй   \n",
       "4        12.0  ленфильм  виктор садовский   \n",
       "\n",
       "                                              actors  \\\n",
       "0  Адольфо Фернандес, Ана Фернандес, Дарио Гранди...   \n",
       "1  Адам Палли, Брайан Хаски, Дж.Б. Смув, Джейсон ...   \n",
       "2  Адриан Холмс, Даррен Шалави, Джерри Вассерман,...   \n",
       "3  Александра Риддлстон-Барретт, Джеральдин Джейм...   \n",
       "4  Александр Абдулов, Александр Демьяненко, Алекс...   \n",
       "\n",
       "                                         description  \\\n",
       "0  Мелодрама легендарного Педро Альмодовара «Пого...   \n",
       "1  Уморительная современная комедия на популярную...   \n",
       "2  Профессиональный рестлер Стив Остин («Все или ...   \n",
       "3  Шарлотта Рэмплинг, Том Кортни, Джеральдин Джей...   \n",
       "4  Расчетливая чаровница из советского кинохита «...   \n",
       "\n",
       "                                            keywords release_year_cat  \n",
       "0  Поговори, ней, 2002, Испания, друзья, любовь, ...        2000-2010  \n",
       "1  Голые, перцы, 2014, США, друзья, свадьбы, прео...        2010-2020  \n",
       "2  Тактическая, сила, 2011, Канада, бандиты, ганг...        2010-2020  \n",
       "3  45, лет, 2015, Великобритания, брак, жизнь, лю...        2010-2020  \n",
       "4  Все, решает, мгновение, 1978, СССР, сильные, ж...        1970-1980  "
      ]
     },
     "execution_count": 8,
     "metadata": {},
     "output_type": "execute_result"
    }
   ],
   "source": [
    "items_df.head()"
   ]
  },
  {
   "cell_type": "code",
   "execution_count": 9,
   "id": "7a94ef7e",
   "metadata": {
    "ExecuteTime": {
     "end_time": "2021-10-28T18:40:37.792147Z",
     "start_time": "2021-10-28T18:40:37.537501Z"
    },
    "colab": {
     "base_uri": "https://localhost:8080/",
     "height": 421
    },
    "id": "7a94ef7e",
    "outputId": "1ea7a769-8c2d-43d5-f2cb-47500bc0a7ba"
   },
   "outputs": [
    {
     "data": {
      "text/html": [
       "<div>\n",
       "<style scoped>\n",
       "    .dataframe tbody tr th:only-of-type {\n",
       "        vertical-align: middle;\n",
       "    }\n",
       "\n",
       "    .dataframe tbody tr th {\n",
       "        vertical-align: top;\n",
       "    }\n",
       "\n",
       "    .dataframe thead th {\n",
       "        text-align: right;\n",
       "    }\n",
       "</style>\n",
       "<table border=\"1\" class=\"dataframe\">\n",
       "  <thead>\n",
       "    <tr style=\"text-align: right;\">\n",
       "      <th></th>\n",
       "      <th>item_id</th>\n",
       "      <th>content_type_film</th>\n",
       "      <th>content_type_series</th>\n",
       "      <th>release_year_cat_1920-1930</th>\n",
       "      <th>release_year_cat_1930-1940</th>\n",
       "      <th>release_year_cat_1940-1950</th>\n",
       "      <th>release_year_cat_1950-1960</th>\n",
       "      <th>release_year_cat_1960-1970</th>\n",
       "      <th>release_year_cat_1970-1980</th>\n",
       "      <th>release_year_cat_1980-1990</th>\n",
       "      <th>...</th>\n",
       "      <th>directors_ярив хоровиц</th>\n",
       "      <th>directors_ярон зильберман</th>\n",
       "      <th>directors_ярополк лапшин</th>\n",
       "      <th>directors_ярослав лупий</th>\n",
       "      <th>directors_ярроу чейни, скотт моужер</th>\n",
       "      <th>directors_ясина сезар</th>\n",
       "      <th>directors_ясуоми умэцу</th>\n",
       "      <th>directors_ёдзи фукуяма, ацуко фукусима, николас де креси, синъитиро ватанабэ, сёдзи кавамори</th>\n",
       "      <th>directors_ёлкин туйчиев</th>\n",
       "      <th>directors_ён сан-хо</th>\n",
       "    </tr>\n",
       "  </thead>\n",
       "  <tbody>\n",
       "    <tr>\n",
       "      <th>0</th>\n",
       "      <td>10711</td>\n",
       "      <td>1</td>\n",
       "      <td>0</td>\n",
       "      <td>0</td>\n",
       "      <td>0</td>\n",
       "      <td>0</td>\n",
       "      <td>0</td>\n",
       "      <td>0</td>\n",
       "      <td>0</td>\n",
       "      <td>0</td>\n",
       "      <td>...</td>\n",
       "      <td>0</td>\n",
       "      <td>0</td>\n",
       "      <td>0</td>\n",
       "      <td>0</td>\n",
       "      <td>0</td>\n",
       "      <td>0</td>\n",
       "      <td>0</td>\n",
       "      <td>0</td>\n",
       "      <td>0</td>\n",
       "      <td>0</td>\n",
       "    </tr>\n",
       "    <tr>\n",
       "      <th>1</th>\n",
       "      <td>2508</td>\n",
       "      <td>1</td>\n",
       "      <td>0</td>\n",
       "      <td>0</td>\n",
       "      <td>0</td>\n",
       "      <td>0</td>\n",
       "      <td>0</td>\n",
       "      <td>0</td>\n",
       "      <td>0</td>\n",
       "      <td>0</td>\n",
       "      <td>...</td>\n",
       "      <td>0</td>\n",
       "      <td>0</td>\n",
       "      <td>0</td>\n",
       "      <td>0</td>\n",
       "      <td>0</td>\n",
       "      <td>0</td>\n",
       "      <td>0</td>\n",
       "      <td>0</td>\n",
       "      <td>0</td>\n",
       "      <td>0</td>\n",
       "    </tr>\n",
       "    <tr>\n",
       "      <th>2</th>\n",
       "      <td>10716</td>\n",
       "      <td>1</td>\n",
       "      <td>0</td>\n",
       "      <td>0</td>\n",
       "      <td>0</td>\n",
       "      <td>0</td>\n",
       "      <td>0</td>\n",
       "      <td>0</td>\n",
       "      <td>0</td>\n",
       "      <td>0</td>\n",
       "      <td>...</td>\n",
       "      <td>0</td>\n",
       "      <td>0</td>\n",
       "      <td>0</td>\n",
       "      <td>0</td>\n",
       "      <td>0</td>\n",
       "      <td>0</td>\n",
       "      <td>0</td>\n",
       "      <td>0</td>\n",
       "      <td>0</td>\n",
       "      <td>0</td>\n",
       "    </tr>\n",
       "    <tr>\n",
       "      <th>3</th>\n",
       "      <td>7868</td>\n",
       "      <td>1</td>\n",
       "      <td>0</td>\n",
       "      <td>0</td>\n",
       "      <td>0</td>\n",
       "      <td>0</td>\n",
       "      <td>0</td>\n",
       "      <td>0</td>\n",
       "      <td>0</td>\n",
       "      <td>0</td>\n",
       "      <td>...</td>\n",
       "      <td>0</td>\n",
       "      <td>0</td>\n",
       "      <td>0</td>\n",
       "      <td>0</td>\n",
       "      <td>0</td>\n",
       "      <td>0</td>\n",
       "      <td>0</td>\n",
       "      <td>0</td>\n",
       "      <td>0</td>\n",
       "      <td>0</td>\n",
       "    </tr>\n",
       "    <tr>\n",
       "      <th>4</th>\n",
       "      <td>16268</td>\n",
       "      <td>1</td>\n",
       "      <td>0</td>\n",
       "      <td>0</td>\n",
       "      <td>0</td>\n",
       "      <td>0</td>\n",
       "      <td>0</td>\n",
       "      <td>0</td>\n",
       "      <td>1</td>\n",
       "      <td>0</td>\n",
       "      <td>...</td>\n",
       "      <td>0</td>\n",
       "      <td>0</td>\n",
       "      <td>0</td>\n",
       "      <td>0</td>\n",
       "      <td>0</td>\n",
       "      <td>0</td>\n",
       "      <td>0</td>\n",
       "      <td>0</td>\n",
       "      <td>0</td>\n",
       "      <td>0</td>\n",
       "    </tr>\n",
       "  </tbody>\n",
       "</table>\n",
       "<p>5 rows × 8589 columns</p>\n",
       "</div>"
      ],
      "text/plain": [
       "   item_id  content_type_film  content_type_series  \\\n",
       "0    10711                  1                    0   \n",
       "1     2508                  1                    0   \n",
       "2    10716                  1                    0   \n",
       "3     7868                  1                    0   \n",
       "4    16268                  1                    0   \n",
       "\n",
       "   release_year_cat_1920-1930  release_year_cat_1930-1940  \\\n",
       "0                           0                           0   \n",
       "1                           0                           0   \n",
       "2                           0                           0   \n",
       "3                           0                           0   \n",
       "4                           0                           0   \n",
       "\n",
       "   release_year_cat_1940-1950  release_year_cat_1950-1960  \\\n",
       "0                           0                           0   \n",
       "1                           0                           0   \n",
       "2                           0                           0   \n",
       "3                           0                           0   \n",
       "4                           0                           0   \n",
       "\n",
       "   release_year_cat_1960-1970  release_year_cat_1970-1980  \\\n",
       "0                           0                           0   \n",
       "1                           0                           0   \n",
       "2                           0                           0   \n",
       "3                           0                           0   \n",
       "4                           0                           1   \n",
       "\n",
       "   release_year_cat_1980-1990  ...  directors_ярив хоровиц  \\\n",
       "0                           0  ...                       0   \n",
       "1                           0  ...                       0   \n",
       "2                           0  ...                       0   \n",
       "3                           0  ...                       0   \n",
       "4                           0  ...                       0   \n",
       "\n",
       "   directors_ярон зильберман  directors_ярополк лапшин  \\\n",
       "0                          0                         0   \n",
       "1                          0                         0   \n",
       "2                          0                         0   \n",
       "3                          0                         0   \n",
       "4                          0                         0   \n",
       "\n",
       "   directors_ярослав лупий  directors_ярроу чейни, скотт моужер  \\\n",
       "0                        0                                    0   \n",
       "1                        0                                    0   \n",
       "2                        0                                    0   \n",
       "3                        0                                    0   \n",
       "4                        0                                    0   \n",
       "\n",
       "   directors_ясина сезар  directors_ясуоми умэцу  \\\n",
       "0                      0                       0   \n",
       "1                      0                       0   \n",
       "2                      0                       0   \n",
       "3                      0                       0   \n",
       "4                      0                       0   \n",
       "\n",
       "   directors_ёдзи фукуяма, ацуко фукусима, николас де креси, синъитиро ватанабэ, сёдзи кавамори  \\\n",
       "0                                                  0                                              \n",
       "1                                                  0                                              \n",
       "2                                                  0                                              \n",
       "3                                                  0                                              \n",
       "4                                                  0                                              \n",
       "\n",
       "   directors_ёлкин туйчиев  directors_ён сан-хо  \n",
       "0                        0                    0  \n",
       "1                        0                    0  \n",
       "2                        0                    0  \n",
       "3                        0                    0  \n",
       "4                        0                    0  \n",
       "\n",
       "[5 rows x 8589 columns]"
      ]
     },
     "execution_count": 9,
     "metadata": {},
     "output_type": "execute_result"
    }
   ],
   "source": [
    "item_cat_feats = ['content_type', 'release_year_cat',\n",
    "                  'for_kids', 'age_rating', \n",
    "                  'studios', 'countries', 'directors']\n",
    "\n",
    "items_ohe_df = items_df.item_id\n",
    "\n",
    "for feat in item_cat_feats:\n",
    "    ohe_feat_df = pd.get_dummies(items_df[feat], prefix=feat)\n",
    "    items_ohe_df = pd.concat([items_ohe_df, ohe_feat_df], axis=1) \n",
    "\n",
    "items_ohe_df.head()"
   ]
  },
  {
   "cell_type": "code",
   "execution_count": 10,
   "id": "0b0b48cb-b8ff-4acd-b0bb-d005864ab904",
   "metadata": {},
   "outputs": [],
   "source": [
    "items_df[[\"description\"]].isna().sum()\n",
    "items_df['description'].fillna(\"\", inplace=True)"
   ]
  },
  {
   "cell_type": "markdown",
   "id": "c746cb4c-bbc1-44d5-a191-20676fbf687a",
   "metadata": {},
   "source": [
    "## Добавить текстовые признаки в модель. (3 балла)"
   ]
  },
  {
   "cell_type": "markdown",
   "id": "80c2d789-ba7d-489b-a934-4db00eb4e3bd",
   "metadata": {},
   "source": [
    "возьмём берт, через него закодируем description и поместим в датасет как доп фичи"
   ]
  },
  {
   "cell_type": "code",
   "execution_count": 11,
   "id": "9446efbb-c810-4838-ba8a-0bbc44c57425",
   "metadata": {},
   "outputs": [],
   "source": [
    "import torch\n",
    "from tqdm import tqdm\n",
    "from torch.utils.data import Dataset, DataLoader\n",
    "from transformers import AutoTokenizer, AutoModel"
   ]
  },
  {
   "cell_type": "code",
   "execution_count": 12,
   "id": "23b3a6c4-8fc5-4ca6-9ffa-cbeef52d2697",
   "metadata": {},
   "outputs": [],
   "source": [
    "class TextDataset(Dataset):\n",
    "    def __init__(self, texts, tokenizer, max_length=2048):\n",
    "        self.texts = texts\n",
    "        self.tokenizer = tokenizer\n",
    "        self.max_length = max_length\n",
    "\n",
    "    def __len__(self):\n",
    "        return len(self.texts)\n",
    "\n",
    "    def __getitem__(self, idx):\n",
    "        text = self.texts[idx]\n",
    "        inputs = self.tokenizer(text, max_length=self.max_length, truncation=True, padding='max_length', return_tensors=\"pt\")\n",
    "        return inputs"
   ]
  },
  {
   "cell_type": "code",
   "execution_count": 13,
   "id": "cb1ccab8-4341-444a-81cf-e0d568d87039",
   "metadata": {},
   "outputs": [],
   "source": [
    "device='cuda'"
   ]
  },
  {
   "cell_type": "code",
   "execution_count": 14,
   "id": "65985d30-d703-47dc-b7a9-504a1ee3b06e",
   "metadata": {},
   "outputs": [],
   "source": [
    "def embed_bert_cls_batch(model, dataloader):\n",
    "    model.eval()\n",
    "    all_embeddings = []\n",
    "\n",
    "    with torch.no_grad():\n",
    "        for batch in tqdm(dataloader):\n",
    "            input_ids = batch['input_ids'].squeeze(1).to(device)\n",
    "            attention_mask = batch['attention_mask'].squeeze(1).to(device)\n",
    "\n",
    "            outputs = model(input_ids, attention_mask=attention_mask)\n",
    "            embeddings = outputs.last_hidden_state[:, 0, :]\n",
    "            embeddings = torch.nn.functional.normalize(embeddings)\n",
    "            all_embeddings.append(embeddings.cpu().numpy())\n",
    "\n",
    "    return np.vstack(all_embeddings)"
   ]
  },
  {
   "cell_type": "code",
   "execution_count": 15,
   "id": "73471561-a44c-4ed9-bbf9-7a293518c636",
   "metadata": {},
   "outputs": [],
   "source": [
    "bert_tokenizer = AutoTokenizer.from_pretrained('cointegrated/rubert-tiny2')\n",
    "bert_model = AutoModel.from_pretrained('cointegrated/rubert-tiny2')"
   ]
  },
  {
   "cell_type": "code",
   "execution_count": 16,
   "id": "5f7dd811-67c2-474b-9b74-28f5e30f9cc6",
   "metadata": {},
   "outputs": [],
   "source": [
    "text_dataset = TextDataset(items_df[\"description\"].values, bert_tokenizer)\n",
    "dataloader = DataLoader(text_dataset, batch_size=16, shuffle=False)"
   ]
  },
  {
   "cell_type": "code",
   "execution_count": 17,
   "id": "82b73cd8-be1b-4142-85bb-a8c4fce6f3ad",
   "metadata": {},
   "outputs": [
    {
     "name": "stderr",
     "output_type": "stream",
     "text": [
      "100%|████████████████████████████████████████████████████████████████████████████████| 998/998 [06:15<00:00,  2.66it/s]\n"
     ]
    }
   ],
   "source": [
    "embeddings = embed_bert_cls_batch(bert_model.to(device), dataloader)"
   ]
  },
  {
   "cell_type": "code",
   "execution_count": 19,
   "id": "3e2fa532-df72-4d1e-b7f5-4973cece2126",
   "metadata": {},
   "outputs": [],
   "source": [
    "df_embeddings = pd.DataFrame(embeddings)\n",
    "df_embeddings.columns = ['description' + str(col) for col in df_embeddings.columns]"
   ]
  },
  {
   "cell_type": "code",
   "execution_count": 20,
   "id": "c4109370-11f8-4e06-a20a-d4e606e2d2ce",
   "metadata": {},
   "outputs": [],
   "source": [
    "items_ohe_df = pd.concat([items_ohe_df, df_embeddings], axis=1)"
   ]
  },
  {
   "cell_type": "markdown",
   "id": "cc595c20",
   "metadata": {
    "id": "cc595c20"
   },
   "source": [
    "## Сделаем матрицу взаимодействий"
   ]
  },
  {
   "cell_type": "code",
   "execution_count": 21,
   "id": "79c9bca3",
   "metadata": {
    "ExecuteTime": {
     "end_time": "2021-10-28T18:40:37.898427Z",
     "start_time": "2021-10-28T18:40:37.864067Z"
    },
    "colab": {
     "base_uri": "https://localhost:8080/"
    },
    "id": "79c9bca3",
    "outputId": "6f6148e0-8de7-4ffc-82d9-cf396db1ed98"
   },
   "outputs": [
    {
     "data": {
      "text/plain": [
       "10440    202457\n",
       "15297    193123\n",
       "9728     132865\n",
       "13865    122119\n",
       "4151      91167\n",
       "          ...  \n",
       "8076          1\n",
       "8954          1\n",
       "15664         1\n",
       "818           1\n",
       "10542         1\n",
       "Name: item_id, Length: 15706, dtype: int64"
      ]
     },
     "execution_count": 21,
     "metadata": {},
     "output_type": "execute_result"
    }
   ],
   "source": [
    "interactions_df.item_id.value_counts()"
   ]
  },
  {
   "cell_type": "markdown",
   "id": "YAfqm8asrBfG",
   "metadata": {
    "id": "YAfqm8asrBfG"
   },
   "source": [
    "В датасете взаимодействий есть непопулярные фильмы и малоактивные пользователи. Кроме того, в таблице взаимодействий есть события с низким качеством взаимодействия - когда юзер начал смотреть фильм, но вскоре после начала просмотра выключил.\n",
    "\n",
    "Отфильтруем такие события*, малоактивных юзеров и непопулярные фильмы.\n",
    "\n",
    "Можете не фильтровать такие события, тогда у вас будет больше негативных примеров."
   ]
  },
  {
   "cell_type": "code",
   "execution_count": 22,
   "id": "17334e80",
   "metadata": {
    "ExecuteTime": {
     "end_time": "2021-10-28T18:40:38.103819Z",
     "start_time": "2021-10-28T18:40:38.070117Z"
    },
    "colab": {
     "base_uri": "https://localhost:8080/"
    },
    "id": "17334e80",
    "outputId": "bfbe26dd-7778-42ad-c5dd-283635fcafa6"
   },
   "outputs": [
    {
     "data": {
      "text/plain": [
       "416206     1341\n",
       "1010539     764\n",
       "555233      685\n",
       "11526       676\n",
       "409259      625\n",
       "           ... \n",
       "45493         1\n",
       "615194        1\n",
       "96848         1\n",
       "425823        1\n",
       "697262        1\n",
       "Name: user_id, Length: 962179, dtype: int64"
      ]
     },
     "execution_count": 22,
     "metadata": {},
     "output_type": "execute_result"
    }
   ],
   "source": [
    "interactions_df.user_id.value_counts()"
   ]
  },
  {
   "cell_type": "code",
   "execution_count": 23,
   "id": "076e4ebc",
   "metadata": {
    "ExecuteTime": {
     "end_time": "2021-10-28T18:40:39.717096Z",
     "start_time": "2021-10-28T18:40:38.759740Z"
    },
    "colab": {
     "base_uri": "https://localhost:8080/"
    },
    "id": "076e4ebc",
    "outputId": "85c15fd2-12bb-478c-e00f-4f2b7bbcd6ab"
   },
   "outputs": [
    {
     "name": "stdout",
     "output_type": "stream",
     "text": [
      "N users before: 962179\n",
      "N items before: 15706\n",
      "\n",
      "N users after: 79515\n",
      "N items after: 6901\n"
     ]
    }
   ],
   "source": [
    "print(f\"N users before: {interactions_df.user_id.nunique()}\")\n",
    "print(f\"N items before: {interactions_df.item_id.nunique()}\\n\")\n",
    "\n",
    "# отфильтруем все события взаимодействий, в которых пользователь посмотрел\n",
    "# фильм менее чем на 10 процентов\n",
    "interactions_df = interactions_df[interactions_df.watched_pct > 10]\n",
    "\n",
    "# соберем всех пользователей, которые посмотрели \n",
    "# больше 10 фильмов (можете выбрать другой порог)\n",
    "valid_users = []\n",
    "\n",
    "c = Counter(interactions_df.user_id)\n",
    "for user_id, entries in c.most_common():\n",
    "    if entries > 10:\n",
    "        valid_users.append(user_id)\n",
    "\n",
    "# и соберем все фильмы, которые посмотрели больше 10 пользователей\n",
    "valid_items = []\n",
    "\n",
    "c = Counter(interactions_df.item_id)\n",
    "for item_id, entries in c.most_common():\n",
    "    if entries > 10:\n",
    "        valid_items.append(item_id)\n",
    "\n",
    "# отбросим непопулярные фильмы и неактивных юзеров\n",
    "interactions_df = interactions_df[interactions_df.user_id.isin(valid_users)]\n",
    "interactions_df = interactions_df[interactions_df.item_id.isin(valid_items)]\n",
    "\n",
    "print(f\"N users after: {interactions_df.user_id.nunique()}\")\n",
    "print(f\"N items after: {interactions_df.item_id.nunique()}\")"
   ]
  },
  {
   "cell_type": "markdown",
   "id": "a9163fb2",
   "metadata": {
    "id": "a9163fb2"
   },
   "source": [
    "После фильтрации может получиться так, что некоторые айтемы/юзеры есть в датасете взаимодействий, но при этом они отсутствуют в датасетах айтемов/юзеров или наоборот. Поэтому найдем id айтемов и id юзеров, которые есть во всех датасетах и оставим только их."
   ]
  },
  {
   "cell_type": "code",
   "execution_count": 24,
   "id": "d55848e1",
   "metadata": {
    "ExecuteTime": {
     "end_time": "2021-10-28T18:40:40.231703Z",
     "start_time": "2021-10-28T18:40:39.718626Z"
    },
    "colab": {
     "base_uri": "https://localhost:8080/"
    },
    "id": "d55848e1",
    "outputId": "48609a0b-06b9-4a5e-f8f6-061db1c6dcb2"
   },
   "outputs": [
    {
     "name": "stdout",
     "output_type": "stream",
     "text": [
      "65974\n",
      "6901\n"
     ]
    }
   ],
   "source": [
    "common_users = set(interactions_df.user_id.unique()).intersection(set(users_ohe_df.user_id.unique()))\n",
    "common_items = set(interactions_df.item_id.unique()).intersection(set(items_ohe_df.item_id.unique()))\n",
    "\n",
    "print(len(common_users))\n",
    "print(len(common_items))\n",
    "\n",
    "interactions_df = interactions_df[interactions_df.item_id.isin(common_items)]\n",
    "interactions_df = interactions_df[interactions_df.user_id.isin(common_users)]\n",
    "\n",
    "items_ohe_df = items_ohe_df[items_ohe_df.item_id.isin(common_items)]\n",
    "users_ohe_df = users_ohe_df[users_ohe_df.user_id.isin(common_users)]"
   ]
  },
  {
   "cell_type": "markdown",
   "id": "1e8b9480",
   "metadata": {
    "id": "1e8b9480"
   },
   "source": [
    "Соберем взаимодействия в матрицу user*item так, чтобы в строках этой матрицы были user_id, в столбцах - item_id, а на пересечениях строк и столбцов - единица, если пользователь взаимодействовал с айтемом и ноль, если нет.\n",
    "\n",
    "Такую матрицу удобно собирать в numpy array, однако нужно помнить, что numpy array индексируется порядковыми индексами, а нам же удобнее использовать item_id и user_id.\n",
    "\n",
    "Создадим некие внутренние индексы для user_id и item_id - uid и iid. Для этого просто соберем все user_id и item_id и пронумеруем их по порядку."
   ]
  },
  {
   "cell_type": "code",
   "execution_count": 25,
   "id": "81679fb0",
   "metadata": {
    "ExecuteTime": {
     "end_time": "2021-10-28T18:40:40.346587Z",
     "start_time": "2021-10-28T18:40:40.233046Z"
    },
    "colab": {
     "base_uri": "https://localhost:8080/",
     "height": 242
    },
    "id": "81679fb0",
    "outputId": "0c6bf7ce-1ea0-46c2-9d70-42b32bf08c7e"
   },
   "outputs": [
    {
     "name": "stdout",
     "output_type": "stream",
     "text": [
      "[0, 1, 2, 3, 4]\n",
      "[0, 1, 2, 3, 4]\n"
     ]
    },
    {
     "data": {
      "text/html": [
       "<div>\n",
       "<style scoped>\n",
       "    .dataframe tbody tr th:only-of-type {\n",
       "        vertical-align: middle;\n",
       "    }\n",
       "\n",
       "    .dataframe tbody tr th {\n",
       "        vertical-align: top;\n",
       "    }\n",
       "\n",
       "    .dataframe thead th {\n",
       "        text-align: right;\n",
       "    }\n",
       "</style>\n",
       "<table border=\"1\" class=\"dataframe\">\n",
       "  <thead>\n",
       "    <tr style=\"text-align: right;\">\n",
       "      <th></th>\n",
       "      <th>user_id</th>\n",
       "      <th>item_id</th>\n",
       "      <th>last_watch_dt</th>\n",
       "      <th>total_dur</th>\n",
       "      <th>watched_pct</th>\n",
       "      <th>uid</th>\n",
       "      <th>iid</th>\n",
       "    </tr>\n",
       "  </thead>\n",
       "  <tbody>\n",
       "    <tr>\n",
       "      <th>0</th>\n",
       "      <td>176549</td>\n",
       "      <td>9506</td>\n",
       "      <td>2021-05-11</td>\n",
       "      <td>4250</td>\n",
       "      <td>72</td>\n",
       "      <td>10616</td>\n",
       "      <td>3944</td>\n",
       "    </tr>\n",
       "    <tr>\n",
       "      <th>1</th>\n",
       "      <td>699317</td>\n",
       "      <td>1659</td>\n",
       "      <td>2021-05-29</td>\n",
       "      <td>8317</td>\n",
       "      <td>100</td>\n",
       "      <td>42131</td>\n",
       "      <td>675</td>\n",
       "    </tr>\n",
       "    <tr>\n",
       "      <th>6</th>\n",
       "      <td>1016458</td>\n",
       "      <td>354</td>\n",
       "      <td>2021-08-14</td>\n",
       "      <td>1672</td>\n",
       "      <td>25</td>\n",
       "      <td>61024</td>\n",
       "      <td>139</td>\n",
       "    </tr>\n",
       "    <tr>\n",
       "      <th>7</th>\n",
       "      <td>884009</td>\n",
       "      <td>693</td>\n",
       "      <td>2021-08-04</td>\n",
       "      <td>703</td>\n",
       "      <td>14</td>\n",
       "      <td>53150</td>\n",
       "      <td>279</td>\n",
       "    </tr>\n",
       "    <tr>\n",
       "      <th>14</th>\n",
       "      <td>5324</td>\n",
       "      <td>8437</td>\n",
       "      <td>2021-04-18</td>\n",
       "      <td>6598</td>\n",
       "      <td>92</td>\n",
       "      <td>310</td>\n",
       "      <td>3485</td>\n",
       "    </tr>\n",
       "  </tbody>\n",
       "</table>\n",
       "</div>"
      ],
      "text/plain": [
       "    user_id  item_id last_watch_dt  total_dur  watched_pct    uid   iid\n",
       "0    176549     9506    2021-05-11       4250           72  10616  3944\n",
       "1    699317     1659    2021-05-29       8317          100  42131   675\n",
       "6   1016458      354    2021-08-14       1672           25  61024   139\n",
       "7    884009      693    2021-08-04        703           14  53150   279\n",
       "14     5324     8437    2021-04-18       6598           92    310  3485"
      ]
     },
     "execution_count": 25,
     "metadata": {},
     "output_type": "execute_result"
    }
   ],
   "source": [
    "interactions_df[\"uid\"] = interactions_df[\"user_id\"].astype(\"category\")\n",
    "interactions_df[\"uid\"] = interactions_df[\"uid\"].cat.codes\n",
    "\n",
    "interactions_df[\"iid\"] = interactions_df[\"item_id\"].astype(\"category\")\n",
    "interactions_df[\"iid\"] = interactions_df[\"iid\"].cat.codes\n",
    "\n",
    "print(sorted(interactions_df.iid.unique())[:5])\n",
    "print(sorted(interactions_df.uid.unique())[:5])\n",
    "interactions_df.head()"
   ]
  },
  {
   "cell_type": "markdown",
   "id": "61c855e5",
   "metadata": {
    "id": "61c855e5"
   },
   "source": [
    "Отнормируем матрицу взаимодействий"
   ]
  },
  {
   "cell_type": "code",
   "execution_count": 26,
   "id": "3feced70",
   "metadata": {
    "ExecuteTime": {
     "end_time": "2021-10-28T18:41:03.360248Z",
     "start_time": "2021-10-28T18:40:40.348057Z"
    },
    "id": "3feced70"
   },
   "outputs": [],
   "source": [
    "interactions_vec = np.zeros((interactions_df.uid.nunique(), \n",
    "                             interactions_df.iid.nunique())) \n",
    "\n",
    "for user_id, item_id in zip(interactions_df.uid, interactions_df.iid):\n",
    "    interactions_vec[user_id, item_id] += 1\n",
    "\n",
    "\n",
    "res = interactions_vec.sum(axis=1)\n",
    "for i in range(len(interactions_vec)):\n",
    "    interactions_vec[i] /= res[i]"
   ]
  },
  {
   "cell_type": "code",
   "execution_count": 27,
   "id": "9f5ec90f",
   "metadata": {
    "ExecuteTime": {
     "end_time": "2021-10-28T18:41:03.416061Z",
     "start_time": "2021-10-28T18:41:03.363462Z"
    },
    "colab": {
     "base_uri": "https://localhost:8080/"
    },
    "id": "9f5ec90f",
    "outputId": "9acdfe45-aa4e-4a64-ffdc-1a750390ae84"
   },
   "outputs": [
    {
     "name": "stdout",
     "output_type": "stream",
     "text": [
      "6897\n",
      "6901\n",
      "65974\n",
      "65974\n",
      "{11805, 9788, 11501, 1734}\n"
     ]
    }
   ],
   "source": [
    "print(interactions_df.item_id.nunique())\n",
    "print(items_ohe_df.item_id.nunique())\n",
    "print(interactions_df.user_id.nunique())\n",
    "print(users_ohe_df.user_id.nunique())\n",
    "\n",
    "print(set(items_ohe_df.item_id.unique()) - set(interactions_df.item_id.unique()))"
   ]
  },
  {
   "cell_type": "code",
   "execution_count": 28,
   "id": "75570d78-dc96-4718-92bc-9d0c421150a4",
   "metadata": {},
   "outputs": [],
   "source": [
    "items_ohe_df = items_ohe_df[~items_ohe_df[\"item_id\"].isin([11805, 9788, 11501, 1734])]"
   ]
  },
  {
   "cell_type": "markdown",
   "id": "19e69bae",
   "metadata": {
    "id": "19e69bae"
   },
   "source": [
    "Для того, чтобы можно было удобно превратить iid/uid в item_id/user_id и наоборот соберем словари \n",
    "\n",
    "{iid: item_id}, {uid: user_id} и {item_id: iid}, {user_id: uid}."
   ]
  },
  {
   "cell_type": "code",
   "execution_count": 29,
   "id": "c8a84024",
   "metadata": {
    "ExecuteTime": {
     "end_time": "2021-10-28T18:41:03.637495Z",
     "start_time": "2021-10-28T18:41:03.417544Z"
    },
    "id": "c8a84024"
   },
   "outputs": [],
   "source": [
    "iid_to_item_id = interactions_df[[\"iid\", \"item_id\"]].drop_duplicates().set_index(\"iid\").to_dict()[\"item_id\"]\n",
    "item_id_to_iid = interactions_df[[\"iid\", \"item_id\"]].drop_duplicates().set_index(\"item_id\").to_dict()[\"iid\"]\n",
    "\n",
    "uid_to_user_id = interactions_df[[\"uid\", \"user_id\"]].drop_duplicates().set_index(\"uid\").to_dict()[\"user_id\"]\n",
    "user_id_to_uid = interactions_df[[\"uid\", \"user_id\"]].drop_duplicates().set_index(\"user_id\").to_dict()[\"uid\"]"
   ]
  },
  {
   "cell_type": "code",
   "execution_count": null,
   "id": "k7fqwJ-bxjX-",
   "metadata": {
    "id": "k7fqwJ-bxjX-"
   },
   "outputs": [],
   "source": []
  },
  {
   "cell_type": "markdown",
   "id": "48ca5204",
   "metadata": {
    "id": "48ca5204"
   },
   "source": [
    "И проиндексируем датасеты users_ohe_df и items_ohe_df по внутренним айди:"
   ]
  },
  {
   "cell_type": "code",
   "execution_count": 30,
   "id": "4c4980ac",
   "metadata": {
    "ExecuteTime": {
     "end_time": "2021-10-28T18:41:03.744883Z",
     "start_time": "2021-10-28T18:41:03.638719Z"
    },
    "id": "4c4980ac"
   },
   "outputs": [],
   "source": [
    "items_ohe_df[\"iid\"] = items_ohe_df[\"item_id\"].apply(lambda x: item_id_to_iid[x])\n",
    "items_ohe_df = items_ohe_df.set_index(\"iid\")\n",
    "\n",
    "users_ohe_df[\"uid\"] = users_ohe_df[\"user_id\"].apply(lambda x: user_id_to_uid[x])\n",
    "users_ohe_df = users_ohe_df.set_index(\"uid\")"
   ]
  },
  {
   "cell_type": "code",
   "execution_count": 31,
   "id": "22c26d39",
   "metadata": {
    "ExecuteTime": {
     "end_time": "2021-10-28T18:41:03.749717Z",
     "start_time": "2021-10-28T18:41:03.746067Z"
    },
    "id": "22c26d39"
   },
   "outputs": [],
   "source": [
    "def triplet_loss(y_true, y_pred, n_dims=128, alpha=0.4):\n",
    "    # будем ожидать, что на вход функции прилетит три сконкатенированных \n",
    "    # вектора - вектор юзера и два вектора айтема\n",
    "    anchor = y_pred[:, 0:n_dims]\n",
    "    positive = y_pred[:, n_dims:n_dims*2]\n",
    "    negative = y_pred[:, n_dims*2:n_dims*3]\n",
    "\n",
    "    # считаем расстояния от вектора юзера до вектора хорошего айтема\n",
    "    pos_dist = K.sum(K.square(anchor - positive), axis=1)\n",
    "    # и до плохого\n",
    "    neg_dist = K.sum(K.square(anchor - negative), axis=1)\n",
    "\n",
    "    # считаем лосс\n",
    "    basic_loss = pos_dist - neg_dist + alpha\n",
    "    loss = K.maximum(basic_loss, 0.0) # возвращаем ноль, если лосс отрицательный\n",
    " \n",
    "    return loss"
   ]
  },
  {
   "cell_type": "markdown",
   "id": "4de262b4",
   "metadata": {
    "ExecuteTime": {
     "end_time": "2021-10-28T19:19:05.615364Z",
     "start_time": "2021-10-28T19:19:05.612463Z"
    },
    "id": "4de262b4"
   },
   "source": [
    "Попробуйте другие лоссы, например, BPR Triplet loss"
   ]
  },
  {
   "cell_type": "markdown",
   "id": "85d618b6",
   "metadata": {
    "ExecuteTime": {
     "end_time": "2021-10-23T11:20:03.327838Z",
     "start_time": "2021-10-23T11:20:03.324389Z"
    },
    "id": "85d618b6"
   },
   "source": [
    "## Генератор и семплирование"
   ]
  },
  {
   "cell_type": "markdown",
   "id": "b82e67d2-6f87-420d-9e38-a768e47fd6f7",
   "metadata": {},
   "source": [
    "## Использовать информацию о качестве взаимодействия юзеров с айтемами для более репрезентативного сэмплирования. (3 балла)"
   ]
  },
  {
   "cell_type": "markdown",
   "id": "5b72ca6e-2831-46d5-9680-181762116d93",
   "metadata": {},
   "source": [
    "позитивный айтем выбирается пропорционально времени просмотра (3 балла), негативный - из непросмотренных"
   ]
  },
  {
   "cell_type": "code",
   "execution_count": 33,
   "id": "531355b7-adc8-4125-81ca-505b3e67ff58",
   "metadata": {},
   "outputs": [],
   "source": [
    "def generator(items, users, interactions, batch_size=1024):\n",
    "    while True:\n",
    "        uid_meta = []\n",
    "        uid_interaction = []\n",
    "        pos = []\n",
    "        neg = []\n",
    "        for _ in range(batch_size):\n",
    "            # берем рандомный uid\n",
    "            uid_i = randint(0, interactions.shape[0]-1)\n",
    "            # id хорошего айтема\n",
    "            pos_proba = interactions[uid_i]\n",
    "            pos_proba = pos_proba / pos_proba.sum()  # Нормализуем веса чтобы сумма была равна 1\n",
    "            pos_i = np.random.choice(range(interactions.shape[1]), p=pos_proba)\n",
    "            # id плохого айтема\n",
    "            neg_mask = (interactions[uid_i] == 0)  # Маска для непросмотренных айтемов\n",
    "            neg_indices = np.arange(interactions.shape[1])[neg_mask]  # Индексы непросмотренных айтемов\n",
    "            neg_i = np.random.choice(neg_indices)  # Выбор случайного непросмотренного айтема\n",
    "            # фичи юзера\n",
    "            uid_meta.append(users.iloc[uid_i])\n",
    "            # вектор айтемов, с которыми юзер взаимодействовал\n",
    "            uid_interaction.append(interactions[uid_i])\n",
    "            # фичи хорошего айтема\n",
    "            pos.append(items.iloc[pos_i])\n",
    "            # фичи плохого айтема\n",
    "            neg.append(items.iloc[neg_i])\n",
    "\n",
    "        # Преобразуем список в массив numpy перед возвратом\n",
    "        yield [np.array(uid_meta), np.array(uid_interaction), np.array(pos), np.array(neg)], [np.array(uid_meta), np.array(uid_interaction)]"
   ]
  },
  {
   "cell_type": "code",
   "execution_count": 34,
   "id": "af9d3c3b",
   "metadata": {
    "ExecuteTime": {
     "end_time": "2021-10-28T18:41:16.386864Z",
     "start_time": "2021-10-28T18:41:03.756363Z"
    },
    "colab": {
     "base_uri": "https://localhost:8080/"
    },
    "id": "af9d3c3b",
    "outputId": "1040f567-f64a-4ccb-91a8-48034694dfdc"
   },
   "outputs": [
    {
     "name": "stdout",
     "output_type": "stream",
     "text": [
      "вектор фичей юзера: (1024, 19)\n",
      "вектор взаимодействий юзера с айтемами: (1024, 6897)\n",
      "вектор 'хорошего' айтема: (1024, 8900)\n",
      "вектор 'плохого' айтема: (1024, 8900)\n",
      "\n",
      "вектор фичей юзера: (1024, 19)\n",
      "вектор взаимодействий юзера с айтемами: (1024, 6897)\n"
     ]
    }
   ],
   "source": [
    "# инициализируем генератор\n",
    "gen = generator(items=items_ohe_df.drop([\"item_id\"], axis=1), \n",
    "                users=users_ohe_df.drop([\"user_id\"], axis=1), \n",
    "                interactions=interactions_vec)\n",
    "\n",
    "ret = next(gen)\n",
    "\n",
    "\n",
    "print(f\"вектор фичей юзера: {ret[0][0].shape}\")\n",
    "print(f\"вектор взаимодействий юзера с айтемами: {ret[0][1].shape}\")\n",
    "print(f\"вектор 'хорошего' айтема: {ret[0][2].shape}\")\n",
    "print(f\"вектор 'плохого' айтема: {ret[0][3].shape}\")\n",
    "print()\n",
    "print(f\"вектор фичей юзера: {ret[1][0].shape}\")\n",
    "print(f\"вектор взаимодействий юзера с айтемами: {ret[1][1].shape}\")"
   ]
  },
  {
   "cell_type": "code",
   "execution_count": 35,
   "id": "967b819f",
   "metadata": {
    "ExecuteTime": {
     "end_time": "2021-10-28T18:41:16.493030Z",
     "start_time": "2021-10-28T18:41:16.388592Z"
    },
    "colab": {
     "base_uri": "https://localhost:8080/"
    },
    "id": "967b819f",
    "outputId": "2f7a5885-dcb3-4ab8-80f8-57a21635595d"
   },
   "outputs": [
    {
     "name": "stdout",
     "output_type": "stream",
     "text": [
      "N_FACTORS: 128\n",
      "ITEM_MODEL_SHAPE: (8900,)\n",
      "USER_META_MODEL_SHAPE: (19,)\n",
      "USER_INTERACTION_MODEL_SHAPE: (6897,)\n"
     ]
    }
   ],
   "source": [
    "N_FACTORS = 128\n",
    "\n",
    "# в датасетах есть столбец user_id/item_id, помним, что он не является фичей для обучения!\n",
    "ITEM_MODEL_SHAPE = (items_ohe_df.drop([\"item_id\"], axis=1).shape[1], ) \n",
    "USER_META_MODEL_SHAPE = (users_ohe_df.drop([\"user_id\"], axis=1).shape[1], )\n",
    "\n",
    "USER_INTERACTION_MODEL_SHAPE = (interactions_vec.shape[1], )\n",
    "\n",
    "print(f\"N_FACTORS: {N_FACTORS}\")\n",
    "print(f\"ITEM_MODEL_SHAPE: {ITEM_MODEL_SHAPE}\")\n",
    "print(f\"USER_META_MODEL_SHAPE: {USER_META_MODEL_SHAPE}\")\n",
    "print(f\"USER_INTERACTION_MODEL_SHAPE: {USER_INTERACTION_MODEL_SHAPE}\")"
   ]
  },
  {
   "cell_type": "code",
   "execution_count": 36,
   "id": "de649a01",
   "metadata": {
    "ExecuteTime": {
     "end_time": "2021-10-28T18:41:16.816499Z",
     "start_time": "2021-10-28T18:41:16.494387Z"
    },
    "id": "de649a01"
   },
   "outputs": [],
   "source": [
    "def item_model(n_factors=N_FACTORS):\n",
    "    # входной слой\n",
    "    inp = keras.layers.Input(shape=ITEM_MODEL_SHAPE)\n",
    "    \n",
    "    # полносвязный слой\n",
    "    layer_1 = keras.layers.Dense(N_FACTORS, activation='elu', use_bias=False,\n",
    "                               kernel_regularizer=keras.regularizers.l2(1e-6),\n",
    "                               activity_regularizer=keras.regularizers.l2(l2=1e-6))(inp)\n",
    "\n",
    "    # делаем residual connection - складываем два слоя, \n",
    "    # чтобы градиенты не затухали во время обучения\n",
    "    layer_2 = keras.layers.Dense(N_FACTORS, activation='elu', use_bias=False,\n",
    "                             kernel_regularizer=keras.regularizers.l2(1e-6),\n",
    "                             activity_regularizer=keras.regularizers.l2(l2=1e-6))(layer_1)\n",
    "    \n",
    "    add = keras.layers.Add()([layer_1, layer_2])\n",
    "    \n",
    "    # выходной слой\n",
    "    out = keras.layers.Dense(N_FACTORS, activation='linear', use_bias=False,\n",
    "                             kernel_regularizer=keras.regularizers.l2(1e-6),\n",
    "                             activity_regularizer=keras.regularizers.l2(l2=1e-6))(add)\n",
    "    \n",
    "    return keras.models.Model(inp, out)\n",
    "\n",
    "\n",
    "def user_model(n_factors=N_FACTORS):\n",
    "    # входной слой для вектора фичей юзера (из users_ohe_df)\n",
    "    inp_meta = keras.layers.Input(shape=USER_META_MODEL_SHAPE)\n",
    "    # входной слой для вектора просмотров (из iteractions_vec)\n",
    "    inp_interaction = keras.layers.Input(shape=USER_INTERACTION_MODEL_SHAPE)\n",
    "\n",
    "    # полносвязный слой\n",
    "    layer_1_meta = keras.layers.Dense(N_FACTORS, activation='elu', use_bias=False,\n",
    "                                 kernel_regularizer=keras.regularizers.l2(1e-6),\n",
    "                                 activity_regularizer=keras.regularizers.l2(l2=1e-6))(inp_meta)\n",
    "\n",
    "    layer_1_interaction = keras.layers.Dense(N_FACTORS, activation='elu', use_bias=False,\n",
    "                                 kernel_regularizer=keras.regularizers.l2(1e-6),\n",
    "                                 activity_regularizer=keras.regularizers.l2(l2=1e-6))(inp_interaction)\n",
    "\n",
    "    # делаем residual connection - складываем два слоя,\n",
    "    # чтобы градиенты не затухали во время обучения\n",
    "    layer_2_meta = keras.layers.Dense(N_FACTORS, activation='elu', use_bias=False,\n",
    "                                 kernel_regularizer=keras.regularizers.l2(1e-6),\n",
    "                                 activity_regularizer=keras.regularizers.l2(l2=1e-6))(layer_1_meta)\n",
    "    \n",
    "\n",
    "    add = keras.layers.Add()([layer_1_meta, layer_2_meta])\n",
    "    \n",
    "    # конкатенируем вектор фичей с вектором просмотров\n",
    "    concat_meta_interaction = keras.layers.Concatenate()([add, layer_1_interaction])\n",
    "    \n",
    "    # выходной слой\n",
    "    out = keras.layers.Dense(N_FACTORS, activation='linear', use_bias=False,\n",
    "                             kernel_regularizer=keras.regularizers.l2(1e-6),\n",
    "                             activity_regularizer=keras.regularizers.l2(l2=1e-6))(concat_meta_interaction)\n",
    "    \n",
    "    return keras.models.Model([inp_meta, inp_interaction], out)\n",
    "\n",
    "# инициализируем модели юзера и айтема\n",
    "i2v = item_model()\n",
    "u2v = user_model()\n",
    "\n",
    "# вход для вектора фичей юзера (из users_ohe_df)\n",
    "ancor_meta_in = keras.layers.Input(shape=USER_META_MODEL_SHAPE)\n",
    "# вход для вектора просмотра юзера (из interactions_vec)\n",
    "ancor_interaction_in = keras.layers.Input(shape=USER_INTERACTION_MODEL_SHAPE)\n",
    "\n",
    "# вход для вектора \"хорошего\" айтема\n",
    "pos_in = keras.layers.Input(shape=ITEM_MODEL_SHAPE)\n",
    "# вход для вектора \"плохого\" айтема\n",
    "neg_in = keras.layers.Input(shape=ITEM_MODEL_SHAPE)\n",
    "\n",
    "# получаем вектор юзера\n",
    "ancor = u2v([ancor_meta_in, ancor_interaction_in])\n",
    "# получаем вектор \"хорошего\" айтема\n",
    "pos = i2v(pos_in)\n",
    "# получаем вектор \"плохого\" айтема\n",
    "neg = i2v(neg_in)\n",
    "\n",
    "# конкатенируем полученные векторы\n",
    "res = keras.layers.Concatenate(name=\"concat_ancor_pos_neg\")([ancor, pos, neg])\n",
    "\n",
    "# собираем модель\n",
    "model = keras.models.Model([ancor_meta_in, ancor_interaction_in, pos_in, neg_in], res)"
   ]
  },
  {
   "cell_type": "markdown",
   "id": "8c284190",
   "metadata": {
    "id": "8c284190"
   },
   "source": [
    "### Попробуйте передать текстовые признаки в модель"
   ]
  },
  {
   "cell_type": "code",
   "execution_count": 37,
   "id": "e912d920",
   "metadata": {
    "ExecuteTime": {
     "end_time": "2021-10-28T18:41:16.822662Z",
     "start_time": "2021-10-28T18:41:16.817857Z"
    },
    "id": "e912d920"
   },
   "outputs": [],
   "source": [
    "model_name = 'recsys_resnet_linear'\n",
    "\n",
    "# логируем процесс обучения в тензорборд\n",
    "t_board = keras.callbacks.TensorBoard(log_dir=f'runs/{model_name}')\n",
    "\n",
    "# уменьшаем learning_rate, если лосс долго не уменьшается (в течение двух эпох)\n",
    "decay = keras.callbacks.ReduceLROnPlateau(monitor='loss', patience=2, factor=0.8, verbose=1)\n",
    "\n",
    "# сохраняем модель после каждой эпохи, если лосс уменьшился\n",
    "check = keras.callbacks.ModelCheckpoint(filepath=model_name + '/epoch{epoch}-{loss:.2f}.h5', monitor=\"loss\")\n"
   ]
  },
  {
   "cell_type": "code",
   "execution_count": 38,
   "id": "f95049f6",
   "metadata": {
    "ExecuteTime": {
     "end_time": "2021-10-28T18:41:16.832365Z",
     "start_time": "2021-10-28T18:41:16.824484Z"
    },
    "id": "f95049f6"
   },
   "outputs": [],
   "source": [
    "# компилируем модель, используем оптимайзер Adam и triplet loss\n",
    "opt = keras.optimizers.Adam(lr=0.001)\n",
    "model.compile(loss=triplet_loss, optimizer=opt)"
   ]
  },
  {
   "cell_type": "code",
   "execution_count": 39,
   "id": "fb9382d0",
   "metadata": {
    "ExecuteTime": {
     "end_time": "2021-10-28T18:41:16.867472Z",
     "start_time": "2021-10-28T18:41:16.833753Z"
    },
    "colab": {
     "base_uri": "https://localhost:8080/"
    },
    "id": "fb9382d0",
    "outputId": "2eca9a17-1544-4e27-a483-b86d11391767"
   },
   "outputs": [
    {
     "name": "stdout",
     "output_type": "stream",
     "text": [
      "Model: \"model_3\"\n",
      "__________________________________________________________________________________________________\n",
      " Layer (type)                   Output Shape         Param #     Connected to                     \n",
      "==================================================================================================\n",
      " input_8 (InputLayer)           [(None, 8900)]       0           []                               \n",
      "                                                                                                  \n",
      " dense_7 (Dense)                (None, 128)          1139200     ['input_8[0][0]']                \n",
      "                                                                                                  \n",
      " dense_8 (Dense)                (None, 128)          16384       ['dense_7[0][0]']                \n",
      "                                                                                                  \n",
      " add_2 (Add)                    (None, 128)          0           ['dense_7[0][0]',                \n",
      "                                                                  'dense_8[0][0]']                \n",
      "                                                                                                  \n",
      " dense_9 (Dense)                (None, 128)          16384       ['add_2[0][0]']                  \n",
      "                                                                                                  \n",
      "==================================================================================================\n",
      "Total params: 1,171,968\n",
      "Trainable params: 1,171,968\n",
      "Non-trainable params: 0\n",
      "__________________________________________________________________________________________________\n"
     ]
    }
   ],
   "source": [
    "# модель айтема\n",
    "item_model().summary()"
   ]
  },
  {
   "cell_type": "code",
   "execution_count": 40,
   "id": "286149d1",
   "metadata": {
    "ExecuteTime": {
     "end_time": "2021-10-28T18:41:16.923402Z",
     "start_time": "2021-10-28T18:41:16.868877Z"
    },
    "colab": {
     "base_uri": "https://localhost:8080/"
    },
    "id": "286149d1",
    "outputId": "4284ba09-05ef-4963-c637-67e919701d19"
   },
   "outputs": [
    {
     "name": "stdout",
     "output_type": "stream",
     "text": [
      "Model: \"model_4\"\n",
      "__________________________________________________________________________________________________\n",
      " Layer (type)                   Output Shape         Param #     Connected to                     \n",
      "==================================================================================================\n",
      " input_9 (InputLayer)           [(None, 19)]         0           []                               \n",
      "                                                                                                  \n",
      " dense_10 (Dense)               (None, 128)          2432        ['input_9[0][0]']                \n",
      "                                                                                                  \n",
      " dense_12 (Dense)               (None, 128)          16384       ['dense_10[0][0]']               \n",
      "                                                                                                  \n",
      " input_10 (InputLayer)          [(None, 6897)]       0           []                               \n",
      "                                                                                                  \n",
      " add_3 (Add)                    (None, 128)          0           ['dense_10[0][0]',               \n",
      "                                                                  'dense_12[0][0]']               \n",
      "                                                                                                  \n",
      " dense_11 (Dense)               (None, 128)          882816      ['input_10[0][0]']               \n",
      "                                                                                                  \n",
      " concatenate_1 (Concatenate)    (None, 256)          0           ['add_3[0][0]',                  \n",
      "                                                                  'dense_11[0][0]']               \n",
      "                                                                                                  \n",
      " dense_13 (Dense)               (None, 128)          32768       ['concatenate_1[0][0]']          \n",
      "                                                                                                  \n",
      "==================================================================================================\n",
      "Total params: 934,400\n",
      "Trainable params: 934,400\n",
      "Non-trainable params: 0\n",
      "__________________________________________________________________________________________________\n"
     ]
    }
   ],
   "source": [
    "# модель юзера\n",
    "user_model().summary()"
   ]
  },
  {
   "cell_type": "code",
   "execution_count": 41,
   "id": "d9f25a3f",
   "metadata": {
    "ExecuteTime": {
     "end_time": "2021-10-28T18:41:16.929341Z",
     "start_time": "2021-10-28T18:41:16.924663Z"
    },
    "colab": {
     "base_uri": "https://localhost:8080/"
    },
    "id": "d9f25a3f",
    "outputId": "6f9a3700-4420-4345-8331-82f7207b566b"
   },
   "outputs": [
    {
     "name": "stdout",
     "output_type": "stream",
     "text": [
      "Model: \"model_2\"\n",
      "__________________________________________________________________________________________________\n",
      " Layer (type)                   Output Shape         Param #     Connected to                     \n",
      "==================================================================================================\n",
      " input_4 (InputLayer)           [(None, 19)]         0           []                               \n",
      "                                                                                                  \n",
      " input_5 (InputLayer)           [(None, 6897)]       0           []                               \n",
      "                                                                                                  \n",
      " input_6 (InputLayer)           [(None, 8900)]       0           []                               \n",
      "                                                                                                  \n",
      " input_7 (InputLayer)           [(None, 8900)]       0           []                               \n",
      "                                                                                                  \n",
      " model_1 (Functional)           (None, 128)          934400      ['input_4[0][0]',                \n",
      "                                                                  'input_5[0][0]']                \n",
      "                                                                                                  \n",
      " model (Functional)             (None, 128)          1171968     ['input_6[0][0]',                \n",
      "                                                                  'input_7[0][0]']                \n",
      "                                                                                                  \n",
      " concat_ancor_pos_neg (Concaten  (None, 384)         0           ['model_1[0][0]',                \n",
      " ate)                                                             'model[0][0]',                  \n",
      "                                                                  'model[1][0]']                  \n",
      "                                                                                                  \n",
      "==================================================================================================\n",
      "Total params: 2,106,368\n",
      "Trainable params: 2,106,368\n",
      "Non-trainable params: 0\n",
      "__________________________________________________________________________________________________\n"
     ]
    }
   ],
   "source": [
    "# общая модель\n",
    "model.summary()"
   ]
  },
  {
   "cell_type": "code",
   "execution_count": 42,
   "id": "99d50830",
   "metadata": {
    "ExecuteTime": {
     "end_time": "2021-10-28T19:15:21.657529Z",
     "start_time": "2021-10-28T19:15:16.365923Z"
    },
    "colab": {
     "base_uri": "https://localhost:8080/"
    },
    "id": "99d50830",
    "outputId": "cee25813-2173-460f-e6f2-024d75d1db08"
   },
   "outputs": [
    {
     "name": "stdout",
     "output_type": "stream",
     "text": [
      "Epoch 1/2\n",
      "100/100 [==============================] - 108s 1s/step - loss: 0.3145 - lr: 0.0010\n",
      "Epoch 2/2\n",
      "100/100 [==============================] - 105s 1s/step - loss: 0.2172 - lr: 0.0010\n"
     ]
    },
    {
     "data": {
      "text/plain": [
       "<keras.callbacks.History at 0x2238c00fa00>"
      ]
     },
     "execution_count": 42,
     "metadata": {},
     "output_type": "execute_result"
    }
   ],
   "source": [
    "# начинаем обучение, не забывая дропнуть столбцы item_id и user_id \n",
    "# из датафреймов при инициализации генератора.\n",
    "\n",
    "# batch_size можно (и лучше) поставить побольше, если вы не органичены в ресурсах\n",
    "\n",
    "model.fit(generator(items=items_ohe_df.drop([\"item_id\"], axis=1), \n",
    "                    users=users_ohe_df.drop([\"user_id\"], axis=1), \n",
    "                    interactions=interactions_vec,\n",
    "                    batch_size=64), \n",
    "          steps_per_epoch=100, \n",
    "          epochs=2, \n",
    "          initial_epoch=0,\n",
    "          callbacks=[decay, t_board, check]\n",
    ")"
   ]
  },
  {
   "cell_type": "code",
   "execution_count": 43,
   "id": "94d23f62",
   "metadata": {
    "ExecuteTime": {
     "end_time": "2021-10-28T19:15:26.511958Z",
     "start_time": "2021-10-28T19:15:26.151899Z"
    },
    "colab": {
     "base_uri": "https://localhost:8080/"
    },
    "id": "94d23f62",
    "outputId": "4a500ea7-fa38-4455-a51a-2bd0113fa2f2"
   },
   "outputs": [
    {
     "data": {
      "text/plain": [
       "array([[1.7638429]], dtype=float32)"
      ]
     },
     "execution_count": 43,
     "metadata": {},
     "output_type": "execute_result"
    }
   ],
   "source": [
    "# берем рандомного юзера\n",
    "rand_uid = np.random.choice(list(users_ohe_df.index))\n",
    "\n",
    "# получаем фичи юзера и вектор его просмотров айтемов\n",
    "user_meta_feats = users_ohe_df.drop([\"user_id\"], axis=1).iloc[rand_uid]\n",
    "user_interaction_vec = interactions_vec[rand_uid]\n",
    "\n",
    "# берем рандомный айтем\n",
    "rand_iid = np.random.choice(list(items_ohe_df.index))\n",
    "# получаем фичи айтема\n",
    "item_feats = items_ohe_df.drop([\"item_id\"], axis=1).iloc[rand_iid]\n",
    "\n",
    "# получаем вектор юзера\n",
    "user_vec = u2v.predict([np.array(user_meta_feats).reshape(1, -1), \n",
    "                        np.array(user_interaction_vec).reshape(1, -1)])\n",
    "\n",
    "# и вектор айтема\n",
    "item_vec = i2v.predict(np.array(item_feats).reshape(1, -1))\n",
    "\n",
    "# считаем расстояние между вектором юзера и вектором айтема\n",
    "from sklearn.metrics.pairwise import euclidean_distances as ED\n",
    "\n",
    "ED(user_vec, item_vec)"
   ]
  },
  {
   "cell_type": "code",
   "execution_count": 44,
   "id": "d537d3e8",
   "metadata": {
    "ExecuteTime": {
     "end_time": "2021-10-28T19:15:28.951471Z",
     "start_time": "2021-10-28T19:15:27.763367Z"
    },
    "colab": {
     "base_uri": "https://localhost:8080/"
    },
    "id": "d537d3e8",
    "outputId": "6bdce370-c348-4f0b-cd4f-3cbb0ec3d019"
   },
   "outputs": [],
   "source": [
    "# получаем фичи всех айтемов\n",
    "items_feats = items_ohe_df.drop([\"item_id\"], axis=1).to_numpy()\n",
    "# получаем векторы всех айтемов\n",
    "items_vecs = i2v.predict(items_feats)\n",
    "\n",
    "# считаем расстояния\n",
    "dists = ED(user_vec, items_vecs)"
   ]
  },
  {
   "cell_type": "code",
   "execution_count": 45,
   "id": "udY36b_l0okL",
   "metadata": {
    "colab": {
     "base_uri": "https://localhost:8080/"
    },
    "id": "udY36b_l0okL",
    "outputId": "53287102-2434-490e-d668-b8085515d4b8"
   },
   "outputs": [
    {
     "data": {
      "text/plain": [
       "(6897, 128)"
      ]
     },
     "execution_count": 45,
     "metadata": {},
     "output_type": "execute_result"
    }
   ],
   "source": [
    "items_vecs.shape"
   ]
  },
  {
   "cell_type": "code",
   "execution_count": 46,
   "id": "XasFl6RN0snT",
   "metadata": {
    "id": "XasFl6RN0snT"
   },
   "outputs": [],
   "source": [
    "users_meta_feats = users_ohe_df.drop([\"user_id\"], axis=1)\n",
    "users_interaction_vec = interactions_vec"
   ]
  },
  {
   "cell_type": "code",
   "execution_count": 47,
   "id": "cntEZU450_MI",
   "metadata": {
    "colab": {
     "base_uri": "https://localhost:8080/"
    },
    "id": "cntEZU450_MI",
    "outputId": "c9aace32-281a-4b0e-8e0d-8b0f1088ce9b"
   },
   "outputs": [
    {
     "data": {
      "text/plain": [
       "(65974, 19)"
      ]
     },
     "execution_count": 47,
     "metadata": {},
     "output_type": "execute_result"
    }
   ],
   "source": [
    "users_meta_feats.shape"
   ]
  },
  {
   "cell_type": "code",
   "execution_count": 48,
   "id": "kQ1EZolS1B1Y",
   "metadata": {
    "colab": {
     "base_uri": "https://localhost:8080/"
    },
    "id": "kQ1EZolS1B1Y",
    "outputId": "ca9dc5eb-5519-4c75-f1d8-4945941a46d1"
   },
   "outputs": [
    {
     "data": {
      "text/plain": [
       "(65974, 6897)"
      ]
     },
     "execution_count": 48,
     "metadata": {},
     "output_type": "execute_result"
    }
   ],
   "source": [
    "users_interaction_vec.shape"
   ]
  },
  {
   "cell_type": "code",
   "execution_count": 49,
   "id": "hKU4MD7M1dp5",
   "metadata": {
    "colab": {
     "base_uri": "https://localhost:8080/"
    },
    "id": "hKU4MD7M1dp5",
    "outputId": "bd79e8e2-8a82-4ff7-d1ac-849e3425c2c8"
   },
   "outputs": [
    {
     "data": {
      "text/plain": [
       "(65974, 19)"
      ]
     },
     "execution_count": 49,
     "metadata": {},
     "output_type": "execute_result"
    }
   ],
   "source": [
    "np.array(users_meta_feats).shape"
   ]
  },
  {
   "cell_type": "code",
   "execution_count": 50,
   "id": "x16g5FM21XGJ",
   "metadata": {
    "colab": {
     "base_uri": "https://localhost:8080/"
    },
    "id": "x16g5FM21XGJ",
    "outputId": "9b43e3e6-f98b-466a-8b0d-c2aeb0ca724e"
   },
   "outputs": [],
   "source": [
    "users_vec = u2v.predict([np.array(users_meta_feats), \n",
    "                        np.array(users_interaction_vec)])"
   ]
  },
  {
   "cell_type": "code",
   "execution_count": 51,
   "id": "2S-IAoJZ1x_N",
   "metadata": {
    "colab": {
     "base_uri": "https://localhost:8080/"
    },
    "id": "2S-IAoJZ1x_N",
    "outputId": "f32845ce-f2ce-47f6-e0c8-a817328e3339"
   },
   "outputs": [
    {
     "data": {
      "text/plain": [
       "(65974, 128)"
      ]
     },
     "execution_count": 51,
     "metadata": {},
     "output_type": "execute_result"
    }
   ],
   "source": [
    "users_vec.shape"
   ]
  },
  {
   "cell_type": "code",
   "execution_count": 52,
   "id": "G4pntPu10ogl",
   "metadata": {
    "colab": {
     "base_uri": "https://localhost:8080/"
    },
    "id": "G4pntPu10ogl",
    "outputId": "557b6f56-dff5-46e9-da97-569001c59c79"
   },
   "outputs": [
    {
     "data": {
      "text/plain": [
       "(6897, 128)"
      ]
     },
     "execution_count": 52,
     "metadata": {},
     "output_type": "execute_result"
    }
   ],
   "source": [
    "items_vecs.shape"
   ]
  },
  {
   "cell_type": "code",
   "execution_count": 53,
   "id": "hnUX3Yte2Jcw",
   "metadata": {
    "id": "hnUX3Yte2Jcw"
   },
   "outputs": [],
   "source": [
    "dists = ED(users_vec, items_vecs)"
   ]
  },
  {
   "cell_type": "code",
   "execution_count": 54,
   "id": "MDgiwnnu2KHk",
   "metadata": {
    "colab": {
     "base_uri": "https://localhost:8080/"
    },
    "id": "MDgiwnnu2KHk",
    "outputId": "ae9eeb6f-8a29-4195-8bdf-eeaa51b6d049"
   },
   "outputs": [
    {
     "data": {
      "text/plain": [
       "(65974, 6897)"
      ]
     },
     "execution_count": 54,
     "metadata": {},
     "output_type": "execute_result"
    }
   ],
   "source": [
    "dists.shape"
   ]
  },
  {
   "cell_type": "code",
   "execution_count": 55,
   "id": "Ru8IQwSV2UrB",
   "metadata": {
    "id": "Ru8IQwSV2UrB"
   },
   "outputs": [],
   "source": [
    "top10_iids = np.argsort(dists, axis=1)[:,:10]"
   ]
  },
  {
   "cell_type": "code",
   "execution_count": 56,
   "id": "pAzg23jU3TSo",
   "metadata": {
    "colab": {
     "base_uri": "https://localhost:8080/"
    },
    "id": "pAzg23jU3TSo",
    "outputId": "baeb6ea9-ca6f-4bb9-da7b-3fc16669db23"
   },
   "outputs": [
    {
     "data": {
      "text/plain": [
       "(65974, 10)"
      ]
     },
     "execution_count": 56,
     "metadata": {},
     "output_type": "execute_result"
    }
   ],
   "source": [
    "top10_iids.reshape(dists.shape[0], 10).shape"
   ]
  },
  {
   "cell_type": "code",
   "execution_count": 57,
   "id": "l-yXdzmg7dlM",
   "metadata": {
    "colab": {
     "base_uri": "https://localhost:8080/"
    },
    "id": "l-yXdzmg7dlM",
    "outputId": "66f9b341-1fa2-4c0f-c3a4-cb5ec388483c"
   },
   "outputs": [
    {
     "data": {
      "text/plain": [
       "array([[ 649, 1967, 3574, ...,  155, 5008, 2795],\n",
       "       [6403, 1533, 5410, ..., 6482, 3574, 1067],\n",
       "       [3574,  693, 5858, ..., 5802, 2236, 1580],\n",
       "       ...,\n",
       "       [ 649, 3574,  572, ..., 4061, 5858, 5342],\n",
       "       [3574,  572,   53, ..., 4664, 5017,  693],\n",
       "       [3868, 2629,  693, ..., 2924, 5136, 1533]], dtype=int64)"
      ]
     },
     "execution_count": 57,
     "metadata": {},
     "output_type": "execute_result"
    }
   ],
   "source": [
    "top10_iids"
   ]
  },
  {
   "cell_type": "code",
   "execution_count": 58,
   "id": "ehH1-C-S6yE9",
   "metadata": {
    "colab": {
     "base_uri": "https://localhost:8080/"
    },
    "id": "ehH1-C-S6yE9",
    "outputId": "5a08578e-7bc1-404a-db00-5d2114b7ad28"
   },
   "outputs": [
    {
     "data": {
      "text/plain": [
       "(65974, 10)"
      ]
     },
     "execution_count": 58,
     "metadata": {},
     "output_type": "execute_result"
    }
   ],
   "source": [
    "top10_iids.shape"
   ]
  },
  {
   "cell_type": "code",
   "execution_count": 59,
   "id": "srptkYsFsk1V",
   "metadata": {
    "id": "srptkYsFsk1V"
   },
   "outputs": [],
   "source": [
    "top10_iids_item = [iid_to_item_id[iid] for iid in top10_iids.reshape(-1)]"
   ]
  },
  {
   "cell_type": "code",
   "execution_count": 60,
   "id": "GWCz9zErskwn",
   "metadata": {
    "id": "GWCz9zErskwn"
   },
   "outputs": [],
   "source": [
    "top10_iids_item = np.array(top10_iids_item).reshape(top10_iids.shape)"
   ]
  },
  {
   "cell_type": "code",
   "execution_count": 61,
   "id": "pNq_brUisknx",
   "metadata": {
    "colab": {
     "base_uri": "https://localhost:8080/"
    },
    "id": "pNq_brUisknx",
    "outputId": "f1980332-ef9e-4920-b470-675a567c815a"
   },
   "outputs": [
    {
     "data": {
      "text/plain": [
       "(65974, 10)"
      ]
     },
     "execution_count": 61,
     "metadata": {},
     "output_type": "execute_result"
    }
   ],
   "source": [
    "top10_iids_item.shape"
   ]
  },
  {
   "cell_type": "code",
   "execution_count": 62,
   "id": "z6ussvRSth2h",
   "metadata": {
    "id": "z6ussvRSth2h"
   },
   "outputs": [],
   "source": [
    "df_dssm = pd.DataFrame(columns = ['user_id', 'item_id'])"
   ]
  },
  {
   "cell_type": "code",
   "execution_count": 64,
   "id": "KieINSdwvIu7",
   "metadata": {
    "id": "KieINSdwvIu7"
   },
   "outputs": [],
   "source": [
    "df_dssm = pd.DataFrame({'user_id': [uid_to_user_id[uid] for uid in np.arange(top10_iids_item.shape[0])]})"
   ]
  },
  {
   "cell_type": "code",
   "execution_count": 65,
   "id": "RSYHUj7IuzT1",
   "metadata": {
    "id": "RSYHUj7IuzT1"
   },
   "outputs": [],
   "source": [
    "df_dssm['item_id'] = list(top10_iids_item)"
   ]
  },
  {
   "cell_type": "code",
   "execution_count": 66,
   "id": "e7ce3fb0-7e6f-459a-be55-3f1ea9800c4b",
   "metadata": {},
   "outputs": [
    {
     "data": {
      "text/html": [
       "<div>\n",
       "<style scoped>\n",
       "    .dataframe tbody tr th:only-of-type {\n",
       "        vertical-align: middle;\n",
       "    }\n",
       "\n",
       "    .dataframe tbody tr th {\n",
       "        vertical-align: top;\n",
       "    }\n",
       "\n",
       "    .dataframe thead th {\n",
       "        text-align: right;\n",
       "    }\n",
       "</style>\n",
       "<table border=\"1\" class=\"dataframe\">\n",
       "  <thead>\n",
       "    <tr style=\"text-align: right;\">\n",
       "      <th></th>\n",
       "      <th>user_id</th>\n",
       "      <th>item_id</th>\n",
       "    </tr>\n",
       "  </thead>\n",
       "  <tbody>\n",
       "    <tr>\n",
       "      <th>0</th>\n",
       "      <td>2</td>\n",
       "      <td>[1590, 4731, 8636, 3935, 7582, 12173, 11131, 3...</td>\n",
       "    </tr>\n",
       "    <tr>\n",
       "      <th>1</th>\n",
       "      <td>21</td>\n",
       "      <td>[15297, 3734, 12995, 12173, 142, 12080, 1699, ...</td>\n",
       "    </tr>\n",
       "    <tr>\n",
       "      <th>2</th>\n",
       "      <td>53</td>\n",
       "      <td>[8636, 1699, 14053, 7425, 6210, 16270, 2301, 1...</td>\n",
       "    </tr>\n",
       "    <tr>\n",
       "      <th>3</th>\n",
       "      <td>60</td>\n",
       "      <td>[14053, 16270, 1590, 1699, 8636, 11109, 6404, ...</td>\n",
       "    </tr>\n",
       "    <tr>\n",
       "      <th>4</th>\n",
       "      <td>81</td>\n",
       "      <td>[12080, 8636, 12841, 7582, 1590, 391, 14053, 1...</td>\n",
       "    </tr>\n",
       "    <tr>\n",
       "      <th>...</th>\n",
       "      <td>...</td>\n",
       "      <td>...</td>\n",
       "    </tr>\n",
       "    <tr>\n",
       "      <th>65969</th>\n",
       "      <td>1097486</td>\n",
       "      <td>[12995, 3734, 2647, 3669, 12080, 15297, 7102, ...</td>\n",
       "    </tr>\n",
       "    <tr>\n",
       "      <th>65970</th>\n",
       "      <td>1097489</td>\n",
       "      <td>[14053, 1699, 10605, 8636, 1590, 2237, 7417, 7...</td>\n",
       "    </tr>\n",
       "    <tr>\n",
       "      <th>65971</th>\n",
       "      <td>1097508</td>\n",
       "      <td>[1590, 8636, 1418, 11109, 7582, 3935, 391, 981...</td>\n",
       "    </tr>\n",
       "    <tr>\n",
       "      <th>65972</th>\n",
       "      <td>1097513</td>\n",
       "      <td>[8636, 1418, 142, 1650, 3935, 15297, 15464, 11...</td>\n",
       "    </tr>\n",
       "    <tr>\n",
       "      <th>65973</th>\n",
       "      <td>1097516</td>\n",
       "      <td>[9342, 6404, 1699, 12995, 10605, 1692, 11310, ...</td>\n",
       "    </tr>\n",
       "  </tbody>\n",
       "</table>\n",
       "<p>65974 rows × 2 columns</p>\n",
       "</div>"
      ],
      "text/plain": [
       "       user_id                                            item_id\n",
       "0            2  [1590, 4731, 8636, 3935, 7582, 12173, 11131, 3...\n",
       "1           21  [15297, 3734, 12995, 12173, 142, 12080, 1699, ...\n",
       "2           53  [8636, 1699, 14053, 7425, 6210, 16270, 2301, 1...\n",
       "3           60  [14053, 16270, 1590, 1699, 8636, 11109, 6404, ...\n",
       "4           81  [12080, 8636, 12841, 7582, 1590, 391, 14053, 1...\n",
       "...        ...                                                ...\n",
       "65969  1097486  [12995, 3734, 2647, 3669, 12080, 15297, 7102, ...\n",
       "65970  1097489  [14053, 1699, 10605, 8636, 1590, 2237, 7417, 7...\n",
       "65971  1097508  [1590, 8636, 1418, 11109, 7582, 3935, 391, 981...\n",
       "65972  1097513  [8636, 1418, 142, 1650, 3935, 15297, 15464, 11...\n",
       "65973  1097516  [9342, 6404, 1699, 12995, 10605, 1692, 11310, ...\n",
       "\n",
       "[65974 rows x 2 columns]"
      ]
     },
     "execution_count": 66,
     "metadata": {},
     "output_type": "execute_result"
    }
   ],
   "source": [
    "df_dssm"
   ]
  },
  {
   "cell_type": "code",
   "execution_count": 67,
   "id": "xdPs4HY874OZ",
   "metadata": {
    "id": "xdPs4HY874OZ"
   },
   "outputs": [],
   "source": [
    "df_dssm = df_dssm.explode('item_id')\n",
    "df_dssm['rank'] = df_dssm.groupby('user_id').cumcount() + 1\n",
    "df_dssm = df_dssm.groupby('user_id').agg({'item_id': list}).reset_index()"
   ]
  },
  {
   "cell_type": "code",
   "execution_count": 68,
   "id": "C8kdzzf6wAuz",
   "metadata": {
    "colab": {
     "base_uri": "https://localhost:8080/",
     "height": 206
    },
    "id": "C8kdzzf6wAuz",
    "outputId": "df930923-8ad5-45f8-f76c-ab847237802d"
   },
   "outputs": [
    {
     "data": {
      "text/html": [
       "<div>\n",
       "<style scoped>\n",
       "    .dataframe tbody tr th:only-of-type {\n",
       "        vertical-align: middle;\n",
       "    }\n",
       "\n",
       "    .dataframe tbody tr th {\n",
       "        vertical-align: top;\n",
       "    }\n",
       "\n",
       "    .dataframe thead th {\n",
       "        text-align: right;\n",
       "    }\n",
       "</style>\n",
       "<table border=\"1\" class=\"dataframe\">\n",
       "  <thead>\n",
       "    <tr style=\"text-align: right;\">\n",
       "      <th></th>\n",
       "      <th>user_id</th>\n",
       "      <th>item_id</th>\n",
       "    </tr>\n",
       "  </thead>\n",
       "  <tbody>\n",
       "    <tr>\n",
       "      <th>0</th>\n",
       "      <td>2</td>\n",
       "      <td>[1590, 4731, 8636, 3935, 7582, 12173, 11131, 3...</td>\n",
       "    </tr>\n",
       "    <tr>\n",
       "      <th>1</th>\n",
       "      <td>21</td>\n",
       "      <td>[15297, 3734, 12995, 12173, 142, 12080, 1699, ...</td>\n",
       "    </tr>\n",
       "    <tr>\n",
       "      <th>2</th>\n",
       "      <td>53</td>\n",
       "      <td>[8636, 1699, 14053, 7425, 6210, 16270, 2301, 1...</td>\n",
       "    </tr>\n",
       "    <tr>\n",
       "      <th>3</th>\n",
       "      <td>60</td>\n",
       "      <td>[14053, 16270, 1590, 1699, 8636, 11109, 6404, ...</td>\n",
       "    </tr>\n",
       "    <tr>\n",
       "      <th>4</th>\n",
       "      <td>81</td>\n",
       "      <td>[12080, 8636, 12841, 7582, 1590, 391, 14053, 1...</td>\n",
       "    </tr>\n",
       "  </tbody>\n",
       "</table>\n",
       "</div>"
      ],
      "text/plain": [
       "   user_id                                            item_id\n",
       "0        2  [1590, 4731, 8636, 3935, 7582, 12173, 11131, 3...\n",
       "1       21  [15297, 3734, 12995, 12173, 142, 12080, 1699, ...\n",
       "2       53  [8636, 1699, 14053, 7425, 6210, 16270, 2301, 1...\n",
       "3       60  [14053, 16270, 1590, 1699, 8636, 11109, 6404, ...\n",
       "4       81  [12080, 8636, 12841, 7582, 1590, 391, 14053, 1..."
      ]
     },
     "execution_count": 68,
     "metadata": {},
     "output_type": "execute_result"
    }
   ],
   "source": [
    "df_dssm.head()"
   ]
  },
  {
   "cell_type": "code",
   "execution_count": 69,
   "id": "23b7f451-d12c-4ba0-a96a-1d38bde794e7",
   "metadata": {},
   "outputs": [
    {
     "data": {
      "text/html": [
       "<div>\n",
       "<style scoped>\n",
       "    .dataframe tbody tr th:only-of-type {\n",
       "        vertical-align: middle;\n",
       "    }\n",
       "\n",
       "    .dataframe tbody tr th {\n",
       "        vertical-align: top;\n",
       "    }\n",
       "\n",
       "    .dataframe thead th {\n",
       "        text-align: right;\n",
       "    }\n",
       "</style>\n",
       "<table border=\"1\" class=\"dataframe\">\n",
       "  <thead>\n",
       "    <tr style=\"text-align: right;\">\n",
       "      <th></th>\n",
       "      <th>user_id</th>\n",
       "      <th>item_id</th>\n",
       "    </tr>\n",
       "  </thead>\n",
       "  <tbody>\n",
       "    <tr>\n",
       "      <th>0</th>\n",
       "      <td>2</td>\n",
       "      <td>[1590, 4731, 8636, 3935, 7582, 12173, 11131, 3...</td>\n",
       "    </tr>\n",
       "    <tr>\n",
       "      <th>1</th>\n",
       "      <td>21</td>\n",
       "      <td>[15297, 3734, 12995, 12173, 142, 12080, 1699, ...</td>\n",
       "    </tr>\n",
       "    <tr>\n",
       "      <th>2</th>\n",
       "      <td>53</td>\n",
       "      <td>[8636, 1699, 14053, 7425, 6210, 16270, 2301, 1...</td>\n",
       "    </tr>\n",
       "    <tr>\n",
       "      <th>3</th>\n",
       "      <td>60</td>\n",
       "      <td>[14053, 16270, 1590, 1699, 8636, 11109, 6404, ...</td>\n",
       "    </tr>\n",
       "    <tr>\n",
       "      <th>4</th>\n",
       "      <td>81</td>\n",
       "      <td>[12080, 8636, 12841, 7582, 1590, 391, 14053, 1...</td>\n",
       "    </tr>\n",
       "    <tr>\n",
       "      <th>...</th>\n",
       "      <td>...</td>\n",
       "      <td>...</td>\n",
       "    </tr>\n",
       "    <tr>\n",
       "      <th>65969</th>\n",
       "      <td>1097486</td>\n",
       "      <td>[12995, 3734, 2647, 3669, 12080, 15297, 7102, ...</td>\n",
       "    </tr>\n",
       "    <tr>\n",
       "      <th>65970</th>\n",
       "      <td>1097489</td>\n",
       "      <td>[14053, 1699, 10605, 8636, 1590, 2237, 7417, 7...</td>\n",
       "    </tr>\n",
       "    <tr>\n",
       "      <th>65971</th>\n",
       "      <td>1097508</td>\n",
       "      <td>[1590, 8636, 1418, 11109, 7582, 3935, 391, 981...</td>\n",
       "    </tr>\n",
       "    <tr>\n",
       "      <th>65972</th>\n",
       "      <td>1097513</td>\n",
       "      <td>[8636, 1418, 142, 1650, 3935, 15297, 15464, 11...</td>\n",
       "    </tr>\n",
       "    <tr>\n",
       "      <th>65973</th>\n",
       "      <td>1097516</td>\n",
       "      <td>[9342, 6404, 1699, 12995, 10605, 1692, 11310, ...</td>\n",
       "    </tr>\n",
       "  </tbody>\n",
       "</table>\n",
       "<p>65974 rows × 2 columns</p>\n",
       "</div>"
      ],
      "text/plain": [
       "       user_id                                            item_id\n",
       "0            2  [1590, 4731, 8636, 3935, 7582, 12173, 11131, 3...\n",
       "1           21  [15297, 3734, 12995, 12173, 142, 12080, 1699, ...\n",
       "2           53  [8636, 1699, 14053, 7425, 6210, 16270, 2301, 1...\n",
       "3           60  [14053, 16270, 1590, 1699, 8636, 11109, 6404, ...\n",
       "4           81  [12080, 8636, 12841, 7582, 1590, 391, 14053, 1...\n",
       "...        ...                                                ...\n",
       "65969  1097486  [12995, 3734, 2647, 3669, 12080, 15297, 7102, ...\n",
       "65970  1097489  [14053, 1699, 10605, 8636, 1590, 2237, 7417, 7...\n",
       "65971  1097508  [1590, 8636, 1418, 11109, 7582, 3935, 391, 981...\n",
       "65972  1097513  [8636, 1418, 142, 1650, 3935, 15297, 15464, 11...\n",
       "65973  1097516  [9342, 6404, 1699, 12995, 10605, 1692, 11310, ...\n",
       "\n",
       "[65974 rows x 2 columns]"
      ]
     },
     "execution_count": 69,
     "metadata": {},
     "output_type": "execute_result"
    }
   ],
   "source": [
    "df_dssm"
   ]
  },
  {
   "cell_type": "code",
   "execution_count": 71,
   "id": "bb79a650-bfde-4d1c-89ba-767b5f8af2bf",
   "metadata": {},
   "outputs": [],
   "source": [
    "df_dssm.to_csv('dssm_offline.csv', index=False)"
   ]
  },
  {
   "cell_type": "markdown",
   "id": "31bad714-2a04-429b-a3bf-484305aff19e",
   "metadata": {},
   "source": [
    "## Пробить скор бейзлайна DSSM модели 0.075. (2 балла)"
   ]
  },
  {
   "cell_type": "markdown",
   "id": "c71a692a-85d6-442f-b44f-09e574be0077",
   "metadata": {},
   "source": [
    "На лб скор очень близкий к популярному, т.к. предсказания только для 65974 юзеров, остальное - популярные. Метрику в 0.075 пробивает с запасом"
   ]
  },
  {
   "cell_type": "markdown",
   "id": "1a951f6b-0c5a-4a05-abe4-d3050ab1e2d9",
   "metadata": {},
   "source": [
    "## Обернуть в сервис, который должен  критериям читаемости и воспоизводимости. (5 балла) "
   ]
  },
  {
   "cell_type": "markdown",
   "id": "960dca96-e97c-48b3-a8d0-33c1a5ed92d1",
   "metadata": {},
   "source": [
    "Сделал оффлайн"
   ]
  }
 ],
 "metadata": {
  "colab": {
   "collapsed_sections": [
    "8bcc3e80",
    "8c284190",
    "fcdd65bb",
    "a86927cb"
   ],
   "provenance": []
  },
  "kernelspec": {
   "display_name": "Python 3 (ipykernel)",
   "language": "python",
   "name": "python3"
  },
  "language_info": {
   "codemirror_mode": {
    "name": "ipython",
    "version": 3
   },
   "file_extension": ".py",
   "mimetype": "text/x-python",
   "name": "python",
   "nbconvert_exporter": "python",
   "pygments_lexer": "ipython3",
   "version": "3.10.4"
  }
 },
 "nbformat": 4,
 "nbformat_minor": 5
}
