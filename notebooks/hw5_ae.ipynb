{
 "cells": [
  {
   "cell_type": "markdown",
   "id": "7AeddoQjZ6Vr",
   "metadata": {
    "id": "7AeddoQjZ6Vr"
   },
   "source": [
    "## Домашнее задание 5"
   ]
  },
  {
   "cell_type": "code",
   "execution_count": 1,
   "id": "92954921",
   "metadata": {
    "id": "92954921"
   },
   "outputs": [],
   "source": [
    "import numpy as np\n",
    "import os\n",
    "import pandas as pd"
   ]
  },
  {
   "cell_type": "code",
   "execution_count": 2,
   "id": "debc4873",
   "metadata": {
    "id": "debc4873"
   },
   "outputs": [],
   "source": [
    "from IPython.display import display, clear_output\n",
    "\n",
    "import numpy as np\n",
    "import pandas as pd\n",
    "from tqdm.notebook import tqdm\n",
    "from sklearn.model_selection import train_test_split\n",
    "from sklearn.preprocessing import StandardScaler\n",
    "\n",
    "import torch\n",
    "from torch import nn\n",
    "from torch.nn import functional as F\n",
    "from torch.utils.data import Dataset, DataLoader"
   ]
  },
  {
   "cell_type": "markdown",
   "id": "ff9b4e7e-1bb9-485e-8013-aa8861206aef",
   "metadata": {},
   "source": [
    "# Загрузка данных"
   ]
  },
  {
   "cell_type": "code",
   "execution_count": 3,
   "id": "843b139a",
   "metadata": {
    "id": "843b139a"
   },
   "outputs": [],
   "source": [
    "interactions_df = pd.read_csv('../data/interactions.csv')\n",
    "users_df = pd.read_csv('../data/users.csv')\n",
    "items_df = pd.read_csv('../data/items.csv')"
   ]
  },
  {
   "cell_type": "code",
   "execution_count": 4,
   "id": "85049f14",
   "metadata": {
    "colab": {
     "base_uri": "https://localhost:8080/",
     "height": 206
    },
    "id": "85049f14",
    "outputId": "8648ab8e-7719-4aba-f7f1-0ddf7982d55b"
   },
   "outputs": [
    {
     "data": {
      "text/html": [
       "<div>\n",
       "<style scoped>\n",
       "    .dataframe tbody tr th:only-of-type {\n",
       "        vertical-align: middle;\n",
       "    }\n",
       "\n",
       "    .dataframe tbody tr th {\n",
       "        vertical-align: top;\n",
       "    }\n",
       "\n",
       "    .dataframe thead th {\n",
       "        text-align: right;\n",
       "    }\n",
       "</style>\n",
       "<table border=\"1\" class=\"dataframe\">\n",
       "  <thead>\n",
       "    <tr style=\"text-align: right;\">\n",
       "      <th></th>\n",
       "      <th>user_id</th>\n",
       "      <th>item_id</th>\n",
       "      <th>last_watch_dt</th>\n",
       "      <th>total_dur</th>\n",
       "      <th>watched_pct</th>\n",
       "    </tr>\n",
       "  </thead>\n",
       "  <tbody>\n",
       "    <tr>\n",
       "      <th>0</th>\n",
       "      <td>176549</td>\n",
       "      <td>9506</td>\n",
       "      <td>2021-05-11</td>\n",
       "      <td>4250</td>\n",
       "      <td>72.0</td>\n",
       "    </tr>\n",
       "    <tr>\n",
       "      <th>1</th>\n",
       "      <td>699317</td>\n",
       "      <td>1659</td>\n",
       "      <td>2021-05-29</td>\n",
       "      <td>8317</td>\n",
       "      <td>100.0</td>\n",
       "    </tr>\n",
       "    <tr>\n",
       "      <th>2</th>\n",
       "      <td>656683</td>\n",
       "      <td>7107</td>\n",
       "      <td>2021-05-09</td>\n",
       "      <td>10</td>\n",
       "      <td>0.0</td>\n",
       "    </tr>\n",
       "    <tr>\n",
       "      <th>3</th>\n",
       "      <td>864613</td>\n",
       "      <td>7638</td>\n",
       "      <td>2021-07-05</td>\n",
       "      <td>14483</td>\n",
       "      <td>100.0</td>\n",
       "    </tr>\n",
       "    <tr>\n",
       "      <th>4</th>\n",
       "      <td>964868</td>\n",
       "      <td>9506</td>\n",
       "      <td>2021-04-30</td>\n",
       "      <td>6725</td>\n",
       "      <td>100.0</td>\n",
       "    </tr>\n",
       "  </tbody>\n",
       "</table>\n",
       "</div>"
      ],
      "text/plain": [
       "   user_id  item_id last_watch_dt  total_dur  watched_pct\n",
       "0   176549     9506    2021-05-11       4250         72.0\n",
       "1   699317     1659    2021-05-29       8317        100.0\n",
       "2   656683     7107    2021-05-09         10          0.0\n",
       "3   864613     7638    2021-07-05      14483        100.0\n",
       "4   964868     9506    2021-04-30       6725        100.0"
      ]
     },
     "execution_count": 4,
     "metadata": {},
     "output_type": "execute_result"
    }
   ],
   "source": [
    "interactions_df.head()"
   ]
  },
  {
   "cell_type": "code",
   "execution_count": 5,
   "id": "0fbac8ce",
   "metadata": {
    "id": "0fbac8ce"
   },
   "outputs": [],
   "source": [
    "interactions_df = interactions_df[interactions_df['last_watch_dt'] < '2021-04-01']"
   ]
  },
  {
   "cell_type": "code",
   "execution_count": 6,
   "id": "efe98dde",
   "metadata": {
    "colab": {
     "base_uri": "https://localhost:8080/"
    },
    "id": "efe98dde",
    "outputId": "69c32782-e0f6-43e7-8b8c-8c8b2838a2e9"
   },
   "outputs": [
    {
     "data": {
      "text/plain": [
       "(263874, 5)"
      ]
     },
     "execution_count": 6,
     "metadata": {},
     "output_type": "execute_result"
    }
   ],
   "source": [
    "interactions_df.shape"
   ]
  },
  {
   "cell_type": "markdown",
   "id": "862dcda9-359c-4f73-8e55-b0b127b0f2fe",
   "metadata": {},
   "source": [
    "# Фильтрация пользователей и айтемов по кол-ву просмотров"
   ]
  },
  {
   "cell_type": "code",
   "execution_count": 7,
   "id": "78342a0b",
   "metadata": {
    "colab": {
     "base_uri": "https://localhost:8080/"
    },
    "id": "78342a0b",
    "outputId": "e0247a9c-0ac1-4f83-f02a-3a51f08571e8"
   },
   "outputs": [
    {
     "name": "stdout",
     "output_type": "stream",
     "text": [
      "# users: 86614\n",
      "# users with at least 5 interactions: 14563\n"
     ]
    }
   ],
   "source": [
    "users_interactions_count_df = interactions_df.groupby(['user_id', 'item_id']).size().groupby('user_id').size()\n",
    "print('# users: %d' % len(users_interactions_count_df))\n",
    "users_with_enough_interactions_df = users_interactions_count_df[users_interactions_count_df >= 5].reset_index()[['user_id']]\n",
    "print('# users with at least 5 interactions: %d' % len(users_with_enough_interactions_df))"
   ]
  },
  {
   "cell_type": "code",
   "execution_count": 8,
   "id": "0bd0d31d",
   "metadata": {
    "colab": {
     "base_uri": "https://localhost:8080/"
    },
    "id": "0bd0d31d",
    "outputId": "ddfc878b-dc25-466c-afa8-9a955d9162ca"
   },
   "outputs": [
    {
     "name": "stdout",
     "output_type": "stream",
     "text": [
      "# of interactions: 263874\n",
      "# of interactions from users with at least 5 interactions: 142670\n"
     ]
    }
   ],
   "source": [
    "print('# of interactions: %d' % len(interactions_df))\n",
    "interactions_from_selected_users_df = interactions_df.merge(users_with_enough_interactions_df,\n",
    "               how = 'right',\n",
    "               left_on = 'user_id',\n",
    "               right_on = 'user_id')\n",
    "print('# of interactions from users with at least 5 interactions: %d' % len(interactions_from_selected_users_df))"
   ]
  },
  {
   "cell_type": "markdown",
   "id": "90a31d1f-b544-45f7-afa2-1f5278a58617",
   "metadata": {},
   "source": [
    "# Препроцессинг"
   ]
  },
  {
   "cell_type": "code",
   "execution_count": 9,
   "id": "b46ee003",
   "metadata": {
    "id": "b46ee003"
   },
   "outputs": [],
   "source": [
    "import math"
   ]
  },
  {
   "cell_type": "code",
   "execution_count": 10,
   "id": "2df43577",
   "metadata": {
    "colab": {
     "base_uri": "https://localhost:8080/",
     "height": 380
    },
    "id": "2df43577",
    "outputId": "763b60fb-c482-46c3-bdef-7d49fb8d31b4"
   },
   "outputs": [
    {
     "name": "stdout",
     "output_type": "stream",
     "text": [
      "# of unique user/item interactions: 142670\n"
     ]
    },
    {
     "data": {
      "text/html": [
       "<div>\n",
       "<style scoped>\n",
       "    .dataframe tbody tr th:only-of-type {\n",
       "        vertical-align: middle;\n",
       "    }\n",
       "\n",
       "    .dataframe tbody tr th {\n",
       "        vertical-align: top;\n",
       "    }\n",
       "\n",
       "    .dataframe thead th {\n",
       "        text-align: right;\n",
       "    }\n",
       "</style>\n",
       "<table border=\"1\" class=\"dataframe\">\n",
       "  <thead>\n",
       "    <tr style=\"text-align: right;\">\n",
       "      <th></th>\n",
       "      <th>user_id</th>\n",
       "      <th>item_id</th>\n",
       "      <th>watched_pct</th>\n",
       "    </tr>\n",
       "  </thead>\n",
       "  <tbody>\n",
       "    <tr>\n",
       "      <th>0</th>\n",
       "      <td>21</td>\n",
       "      <td>849</td>\n",
       "      <td>6.375039</td>\n",
       "    </tr>\n",
       "    <tr>\n",
       "      <th>1</th>\n",
       "      <td>21</td>\n",
       "      <td>4345</td>\n",
       "      <td>6.658211</td>\n",
       "    </tr>\n",
       "    <tr>\n",
       "      <th>2</th>\n",
       "      <td>21</td>\n",
       "      <td>10283</td>\n",
       "      <td>6.658211</td>\n",
       "    </tr>\n",
       "    <tr>\n",
       "      <th>3</th>\n",
       "      <td>21</td>\n",
       "      <td>12261</td>\n",
       "      <td>6.658211</td>\n",
       "    </tr>\n",
       "    <tr>\n",
       "      <th>4</th>\n",
       "      <td>21</td>\n",
       "      <td>15997</td>\n",
       "      <td>6.658211</td>\n",
       "    </tr>\n",
       "    <tr>\n",
       "      <th>5</th>\n",
       "      <td>32</td>\n",
       "      <td>952</td>\n",
       "      <td>6.044394</td>\n",
       "    </tr>\n",
       "    <tr>\n",
       "      <th>6</th>\n",
       "      <td>32</td>\n",
       "      <td>4382</td>\n",
       "      <td>4.954196</td>\n",
       "    </tr>\n",
       "    <tr>\n",
       "      <th>7</th>\n",
       "      <td>32</td>\n",
       "      <td>4807</td>\n",
       "      <td>6.658211</td>\n",
       "    </tr>\n",
       "    <tr>\n",
       "      <th>8</th>\n",
       "      <td>32</td>\n",
       "      <td>10436</td>\n",
       "      <td>6.658211</td>\n",
       "    </tr>\n",
       "    <tr>\n",
       "      <th>9</th>\n",
       "      <td>32</td>\n",
       "      <td>12132</td>\n",
       "      <td>6.658211</td>\n",
       "    </tr>\n",
       "  </tbody>\n",
       "</table>\n",
       "</div>"
      ],
      "text/plain": [
       "   user_id  item_id  watched_pct\n",
       "0       21      849     6.375039\n",
       "1       21     4345     6.658211\n",
       "2       21    10283     6.658211\n",
       "3       21    12261     6.658211\n",
       "4       21    15997     6.658211\n",
       "5       32      952     6.044394\n",
       "6       32     4382     4.954196\n",
       "7       32     4807     6.658211\n",
       "8       32    10436     6.658211\n",
       "9       32    12132     6.658211"
      ]
     },
     "execution_count": 10,
     "metadata": {},
     "output_type": "execute_result"
    }
   ],
   "source": [
    "def smooth_user_preference(x):\n",
    "    return math.log(1+x, 2)\n",
    "\n",
    "interactions_full_df = interactions_from_selected_users_df \\\n",
    "                    .groupby(['user_id', 'item_id'])['watched_pct'].sum() \\\n",
    "                    .apply(smooth_user_preference).reset_index()\n",
    "print('# of unique user/item interactions: %d' % len(interactions_full_df))\n",
    "interactions_full_df.head(10)"
   ]
  },
  {
   "cell_type": "code",
   "execution_count": 11,
   "id": "039e1442",
   "metadata": {
    "colab": {
     "base_uri": "https://localhost:8080/"
    },
    "id": "039e1442",
    "outputId": "102d577a-3a39-407a-bad1-821af993ed1b"
   },
   "outputs": [
    {
     "name": "stdout",
     "output_type": "stream",
     "text": [
      "# interactions on Train set: 114136\n",
      "# interactions on Test set: 28534\n"
     ]
    }
   ],
   "source": [
    "interactions_train_df, interactions_test_df = train_test_split(interactions_full_df,\n",
    "                                   stratify=interactions_full_df['user_id'],\n",
    "                                   test_size=0.20,\n",
    "                                   random_state=42)\n",
    "\n",
    "print('# interactions on Train set: %d' % len(interactions_train_df))\n",
    "print('# interactions on Test set: %d' % len(interactions_test_df))"
   ]
  },
  {
   "cell_type": "code",
   "execution_count": 12,
   "id": "0b38dea2",
   "metadata": {
    "id": "0b38dea2"
   },
   "outputs": [],
   "source": [
    "\n",
    "#Indexing by personId to speed up the searches during evaluation\n",
    "interactions_full_indexed_df = interactions_full_df.set_index('user_id')\n",
    "interactions_train_indexed_df = interactions_train_df.set_index('user_id')\n",
    "interactions_test_indexed_df = interactions_test_df.set_index('user_id')"
   ]
  },
  {
   "cell_type": "code",
   "execution_count": 13,
   "id": "bbb9a04d",
   "metadata": {
    "id": "bbb9a04d"
   },
   "outputs": [],
   "source": [
    "def get_items_interacted(person_id, interactions_df):\n",
    "    # Get the user's data and merge in the movie information.\n",
    "    interacted_items = interactions_df.loc[person_id]['item_id']\n",
    "    return set(interacted_items if type(interacted_items) == pd.Series else [interacted_items])"
   ]
  },
  {
   "cell_type": "code",
   "execution_count": 14,
   "id": "4c56b58f",
   "metadata": {
    "id": "4c56b58f"
   },
   "outputs": [],
   "source": [
    "\n",
    "from IPython.display import display, clear_output\n",
    "\n",
    "import numpy as np\n",
    "import pandas as pd\n",
    "from tqdm.notebook import tqdm\n",
    "from sklearn.model_selection import train_test_split\n",
    "from sklearn.preprocessing import StandardScaler\n",
    "\n",
    "import torch\n",
    "from torch import nn\n",
    "from torch.nn import functional as F\n",
    "from torch.utils.data import Dataset, DataLoader"
   ]
  },
  {
   "cell_type": "code",
   "execution_count": 15,
   "id": "9039ffb8",
   "metadata": {
    "id": "9039ffb8"
   },
   "outputs": [],
   "source": [
    "\n",
    "# Constants\n",
    "SEED = 42 # random seed for reproducibility\n",
    "LR = 1e-3 # learning rate, controls the speed of the training\n",
    "WEIGHT_DECAY = 0.01 # lambda for L2 reg. ()\n",
    "NUM_EPOCHS = 3 # num training epochs (how many times each instance will be processed)\n",
    "GAMMA = 0.9995 # learning rate scheduler parameter\n",
    "BATCH_SIZE = 3000 # training batch size\n",
    "EVAL_BATCH_SIZE = 3000 # evaluation batch size.\n",
    "DEVICE = torch.device(\"cuda\" if torch.cuda.is_available() else \"cpu\") # device to make the calculations on\n",
    "ALPHA = 0.000002  # kl_divergence coefficient"
   ]
  },
  {
   "cell_type": "code",
   "execution_count": 16,
   "id": "U_vhAtpLRDvE",
   "metadata": {
    "colab": {
     "base_uri": "https://localhost:8080/",
     "height": 458
    },
    "id": "U_vhAtpLRDvE",
    "outputId": "1497bf22-9f30-4767-d5e5-3154b7e0b54b"
   },
   "outputs": [
    {
     "name": "stderr",
     "output_type": "stream",
     "text": [
      "/tmp/ipykernel_7427/1044828316.py:1: FutureWarning: The frame.append method is deprecated and will be removed from pandas in a future version. Use pandas.concat instead.\n",
      "  interactions_train_df.append(interactions_test_indexed_df.reset_index())\n"
     ]
    },
    {
     "data": {
      "text/html": [
       "<div>\n",
       "<style scoped>\n",
       "    .dataframe tbody tr th:only-of-type {\n",
       "        vertical-align: middle;\n",
       "    }\n",
       "\n",
       "    .dataframe tbody tr th {\n",
       "        vertical-align: top;\n",
       "    }\n",
       "\n",
       "    .dataframe thead th {\n",
       "        text-align: right;\n",
       "    }\n",
       "</style>\n",
       "<table border=\"1\" class=\"dataframe\">\n",
       "  <thead>\n",
       "    <tr style=\"text-align: right;\">\n",
       "      <th></th>\n",
       "      <th>user_id</th>\n",
       "      <th>item_id</th>\n",
       "      <th>watched_pct</th>\n",
       "    </tr>\n",
       "  </thead>\n",
       "  <tbody>\n",
       "    <tr>\n",
       "      <th>95878</th>\n",
       "      <td>739508</td>\n",
       "      <td>1554</td>\n",
       "      <td>6.614710</td>\n",
       "    </tr>\n",
       "    <tr>\n",
       "      <th>112608</th>\n",
       "      <td>867772</td>\n",
       "      <td>2360</td>\n",
       "      <td>6.658211</td>\n",
       "    </tr>\n",
       "    <tr>\n",
       "      <th>31419</th>\n",
       "      <td>240254</td>\n",
       "      <td>12544</td>\n",
       "      <td>5.727920</td>\n",
       "    </tr>\n",
       "    <tr>\n",
       "      <th>80151</th>\n",
       "      <td>616527</td>\n",
       "      <td>1358</td>\n",
       "      <td>6.658211</td>\n",
       "    </tr>\n",
       "    <tr>\n",
       "      <th>140262</th>\n",
       "      <td>1076435</td>\n",
       "      <td>4807</td>\n",
       "      <td>6.629357</td>\n",
       "    </tr>\n",
       "    <tr>\n",
       "      <th>...</th>\n",
       "      <td>...</td>\n",
       "      <td>...</td>\n",
       "      <td>...</td>\n",
       "    </tr>\n",
       "    <tr>\n",
       "      <th>28529</th>\n",
       "      <td>29703</td>\n",
       "      <td>475</td>\n",
       "      <td>6.658211</td>\n",
       "    </tr>\n",
       "    <tr>\n",
       "      <th>28530</th>\n",
       "      <td>332559</td>\n",
       "      <td>15275</td>\n",
       "      <td>3.459432</td>\n",
       "    </tr>\n",
       "    <tr>\n",
       "      <th>28531</th>\n",
       "      <td>806304</td>\n",
       "      <td>12614</td>\n",
       "      <td>6.629357</td>\n",
       "    </tr>\n",
       "    <tr>\n",
       "      <th>28532</th>\n",
       "      <td>1034992</td>\n",
       "      <td>6145</td>\n",
       "      <td>1.584963</td>\n",
       "    </tr>\n",
       "    <tr>\n",
       "      <th>28533</th>\n",
       "      <td>1002481</td>\n",
       "      <td>12820</td>\n",
       "      <td>1.000000</td>\n",
       "    </tr>\n",
       "  </tbody>\n",
       "</table>\n",
       "<p>142670 rows × 3 columns</p>\n",
       "</div>"
      ],
      "text/plain": [
       "        user_id  item_id  watched_pct\n",
       "95878    739508     1554     6.614710\n",
       "112608   867772     2360     6.658211\n",
       "31419    240254    12544     5.727920\n",
       "80151    616527     1358     6.658211\n",
       "140262  1076435     4807     6.629357\n",
       "...         ...      ...          ...\n",
       "28529     29703      475     6.658211\n",
       "28530    332559    15275     3.459432\n",
       "28531    806304    12614     6.629357\n",
       "28532   1034992     6145     1.584963\n",
       "28533   1002481    12820     1.000000\n",
       "\n",
       "[142670 rows x 3 columns]"
      ]
     },
     "execution_count": 16,
     "metadata": {},
     "output_type": "execute_result"
    }
   ],
   "source": [
    "interactions_train_df.append(interactions_test_indexed_df.reset_index())"
   ]
  },
  {
   "cell_type": "code",
   "execution_count": 17,
   "id": "b47f52ce",
   "metadata": {
    "colab": {
     "base_uri": "https://localhost:8080/"
    },
    "id": "b47f52ce",
    "outputId": "bc568d17-12c0-49b7-801e-cf4e9aaaaea4"
   },
   "outputs": [
    {
     "name": "stderr",
     "output_type": "stream",
     "text": [
      "/tmp/ipykernel_7427/627896225.py:1: FutureWarning: The frame.append method is deprecated and will be removed from pandas in a future version. Use pandas.concat instead.\n",
      "  total_df = interactions_train_df.append(interactions_test_indexed_df.reset_index())\n"
     ]
    }
   ],
   "source": [
    "total_df = interactions_train_df.append(interactions_test_indexed_df.reset_index())\n",
    "total_df['user_id'], users_keys = total_df.user_id.factorize()\n",
    "total_df['item_id'], items_keys = total_df.item_id.factorize()\n",
    "\n",
    "train_encoded = total_df.iloc[:len(interactions_train_df)].values\n",
    "test_encoded = total_df.iloc[len(interactions_train_df):].values"
   ]
  },
  {
   "cell_type": "code",
   "execution_count": 18,
   "id": "L-9TXkANPdnS",
   "metadata": {
    "colab": {
     "base_uri": "https://localhost:8080/"
    },
    "id": "L-9TXkANPdnS",
    "outputId": "0833aca8-2a24-4b4b-a22a-a6a62dd737d2"
   },
   "outputs": [
    {
     "data": {
      "text/plain": [
       "Int64Index([ 739508,  867772,  240254,  616527, 1076435,  128186,   36381,\n",
       "             648736,  283016,  270205,\n",
       "            ...\n",
       "             553345,  281389, 1005991,  183729, 1017915,   82382,  691900,\n",
       "             875576,  152180,  985284],\n",
       "           dtype='int64', length=14563)"
      ]
     },
     "execution_count": 18,
     "metadata": {},
     "output_type": "execute_result"
    }
   ],
   "source": [
    "users_keys"
   ]
  },
  {
   "cell_type": "code",
   "execution_count": 19,
   "id": "UvU5bAFwS8HS",
   "metadata": {
    "id": "UvU5bAFwS8HS"
   },
   "outputs": [],
   "source": [
    "users_key_dict = {}\n",
    "for i in range(len(users_keys)):\n",
    "    users_key_dict[users_keys[i]] = i"
   ]
  },
  {
   "cell_type": "code",
   "execution_count": 20,
   "id": "c1mIflhvTOX2",
   "metadata": {
    "colab": {
     "base_uri": "https://localhost:8080/"
    },
    "id": "c1mIflhvTOX2",
    "outputId": "a1017951-d7d5-4da0-8faf-7b75d8443544"
   },
   "outputs": [
    {
     "data": {
      "text/plain": [
       "0"
      ]
     },
     "execution_count": 20,
     "metadata": {},
     "output_type": "execute_result"
    }
   ],
   "source": [
    "users_key_dict[739508]"
   ]
  },
  {
   "cell_type": "code",
   "execution_count": 21,
   "id": "bnZUsjHIPmVG",
   "metadata": {
    "colab": {
     "base_uri": "https://localhost:8080/"
    },
    "id": "bnZUsjHIPmVG",
    "outputId": "b7a784b4-f402-4026-e3bc-aa9b514fa1cf"
   },
   "outputs": [
    {
     "data": {
      "text/plain": [
       "Int64Index([ 1554,  2360, 12544,  1358,  4807,  7134,  1106,   758,  3042,\n",
       "             5984,\n",
       "            ...\n",
       "            14137,  7655,  1924,  7720,  5437, 14644,   204, 13711,   115,\n",
       "            16422],\n",
       "           dtype='int64', length=8287)"
      ]
     },
     "execution_count": 21,
     "metadata": {},
     "output_type": "execute_result"
    }
   ],
   "source": [
    "items_keys"
   ]
  },
  {
   "cell_type": "code",
   "execution_count": 22,
   "id": "xDIFgJRvTKR3",
   "metadata": {
    "id": "xDIFgJRvTKR3"
   },
   "outputs": [],
   "source": [
    "items_key_dict = {}\n",
    "for i in range(len(items_keys)):\n",
    "    items_key_dict[items_keys[i]] = i"
   ]
  },
  {
   "cell_type": "code",
   "execution_count": 23,
   "id": "bpO9g70hTRoR",
   "metadata": {
    "colab": {
     "base_uri": "https://localhost:8080/"
    },
    "id": "bpO9g70hTRoR",
    "outputId": "7520fc5f-9c1d-4834-c796-8a2c336dc51f"
   },
   "outputs": [
    {
     "data": {
      "text/plain": [
       "1"
      ]
     },
     "execution_count": 23,
     "metadata": {},
     "output_type": "execute_result"
    }
   ],
   "source": [
    "items_key_dict[2360]"
   ]
  },
  {
   "cell_type": "code",
   "execution_count": 24,
   "id": "27e538cd",
   "metadata": {
    "id": "27e538cd"
   },
   "outputs": [],
   "source": [
    "from scipy.sparse import csr_matrix\n",
    "shape = [int(total_df['user_id'].max()+1), int(total_df['item_id'].max()+1)]\n",
    "X_train = csr_matrix((train_encoded[:, 2], (train_encoded[:, 0], train_encoded[:, 1])), shape=shape).toarray()\n",
    "X_test = csr_matrix((test_encoded[:, 2], (test_encoded[:, 0], test_encoded[:, 1])), shape=shape).toarray()"
   ]
  },
  {
   "cell_type": "code",
   "execution_count": 25,
   "id": "89cc28b3",
   "metadata": {
    "id": "89cc28b3"
   },
   "outputs": [],
   "source": [
    "\n",
    "# Initialize the DataObject, which must return an element (features vector x and target value y)\n",
    "# for a given idx. This class must also have a length atribute\n",
    "class UserOrientedDataset(Dataset):\n",
    "    def __init__(self, X):\n",
    "        super().__init__() # to initialize the parent class\n",
    "        self.X = X.astype(np.float32)\n",
    "        self.len = len(X)\n",
    "\n",
    "    def __len__(self): # We use __func__ for implementing in-built python functions\n",
    "        return self.len\n",
    "\n",
    "    def __getitem__(self, index):\n",
    "        return self.X[index]"
   ]
  },
  {
   "cell_type": "code",
   "execution_count": 26,
   "id": "0ee1dfe3",
   "metadata": {
    "id": "0ee1dfe3"
   },
   "outputs": [],
   "source": [
    "\n",
    "# Initialize DataLoaders - objects, which sample instances from DataObject-s\n",
    "train_dl = DataLoader(\n",
    "    UserOrientedDataset(X_train),\n",
    "    batch_size = BATCH_SIZE,\n",
    "    shuffle = True\n",
    ")\n",
    "\n",
    "test_dl = DataLoader(\n",
    "    UserOrientedDataset(X_test),\n",
    "    batch_size = EVAL_BATCH_SIZE,\n",
    "    shuffle = False\n",
    ")\n",
    "\n",
    "dls = {'train': train_dl, 'test': test_dl}"
   ]
  },
  {
   "cell_type": "markdown",
   "id": "e19ea445-794d-410c-8fd0-3a15b79a8011",
   "metadata": {},
   "source": [
    "# 1. Значимо изменить архитектуру модели (2 балла)"
   ]
  },
  {
   "cell_type": "markdown",
   "id": "8sNiS8x6ropG",
   "metadata": {
    "id": "8sNiS8x6ropG"
   },
   "source": [
    "Значимо изменим архитектуру автоэнкодера: сделаем его вариационным"
   ]
  },
  {
   "cell_type": "markdown",
   "id": "eb1004ed-dd9d-4c43-ab46-784246ee80e7",
   "metadata": {},
   "source": [
    "Классы см. в torch_ae.py"
   ]
  },
  {
   "cell_type": "code",
   "execution_count": 27,
   "id": "0185d68a-21f3-4af9-bad2-ed36faaef5f1",
   "metadata": {},
   "outputs": [],
   "source": [
    "import sys  \n",
    "sys.path.insert(1, '../rec_sys/models/')  # to make torch_ae visible\n",
    "from torch_ae import AEModel"
   ]
  },
  {
   "cell_type": "code",
   "execution_count": 28,
   "id": "KOZjnleWgGqQ",
   "metadata": {
    "id": "KOZjnleWgGqQ"
   },
   "outputs": [],
   "source": [
    "def kl_divergence(mu, sigma):\n",
    "    return (sigma**2 + mu**2 - torch.log(sigma) - 1/2).sum()"
   ]
  },
  {
   "cell_type": "code",
   "execution_count": 29,
   "id": "2c95f9af",
   "metadata": {
    "id": "2c95f9af"
   },
   "outputs": [],
   "source": [
    "torch.manual_seed(SEED) # Fix random seed to have reproducible weights of model layers\n",
    "\n",
    "model = AEModel(device=DEVICE)\n",
    "model.to(DEVICE)\n",
    "\n",
    "# Initialize GD method, which will update the weights of the model\n",
    "optimizer = torch.optim.AdamW(model.parameters(), lr=LR, weight_decay=WEIGHT_DECAY)\n",
    "# Initialize learning rate scheduler, which will decrease LR according to some rule\n",
    "scheduler = torch.optim.lr_scheduler.ExponentialLR(optimizer, gamma=GAMMA)\n",
    "\n",
    "def rmse_for_sparse(x_pred, x_true):\n",
    "    mask = (x_true > 0)\n",
    "    sq_diff = (x_pred * mask - x_true) ** 2\n",
    "    mse = sq_diff.sum() / mask.sum()\n",
    "    return mse ** (1/2)"
   ]
  },
  {
   "cell_type": "code",
   "execution_count": 30,
   "id": "e9cdaf94",
   "metadata": {
    "colab": {
     "base_uri": "https://localhost:8080/",
     "height": 112
    },
    "id": "e9cdaf94",
    "outputId": "e8cb477d-76ef-4ec5-e2a3-aaf37e344fd4"
   },
   "outputs": [
    {
     "data": {
      "text/html": [
       "<div>\n",
       "<style scoped>\n",
       "    .dataframe tbody tr th:only-of-type {\n",
       "        vertical-align: middle;\n",
       "    }\n",
       "\n",
       "    .dataframe tbody tr th {\n",
       "        vertical-align: top;\n",
       "    }\n",
       "\n",
       "    .dataframe thead th {\n",
       "        text-align: right;\n",
       "    }\n",
       "</style>\n",
       "<table border=\"1\" class=\"dataframe\">\n",
       "  <thead>\n",
       "    <tr style=\"text-align: right;\">\n",
       "      <th></th>\n",
       "      <th>Epoch</th>\n",
       "      <th>Train RMSE</th>\n",
       "      <th>Test RMSE</th>\n",
       "      <th>Train KL</th>\n",
       "      <th>Test KL</th>\n",
       "    </tr>\n",
       "  </thead>\n",
       "  <tbody>\n",
       "    <tr>\n",
       "      <th>0</th>\n",
       "      <td>0</td>\n",
       "      <td>2.254414</td>\n",
       "      <td>2.111707</td>\n",
       "      <td>1.331450</td>\n",
       "      <td>1.249591</td>\n",
       "    </tr>\n",
       "    <tr>\n",
       "      <th>1</th>\n",
       "      <td>1</td>\n",
       "      <td>1.875041</td>\n",
       "      <td>1.917848</td>\n",
       "      <td>1.474797</td>\n",
       "      <td>1.271950</td>\n",
       "    </tr>\n",
       "    <tr>\n",
       "      <th>2</th>\n",
       "      <td>2</td>\n",
       "      <td>1.688163</td>\n",
       "      <td>1.612222</td>\n",
       "      <td>1.250524</td>\n",
       "      <td>1.312938</td>\n",
       "    </tr>\n",
       "  </tbody>\n",
       "</table>\n",
       "</div>"
      ],
      "text/plain": [
       "   Epoch  Train RMSE  Test RMSE  Train KL   Test KL\n",
       "0      0    2.254414   2.111707  1.331450  1.249591\n",
       "1      1    1.875041   1.917848  1.474797  1.271950\n",
       "2      2    1.688163   1.612222  1.250524  1.312938"
      ]
     },
     "metadata": {},
     "output_type": "display_data"
    }
   ],
   "source": [
    "# Training loop\n",
    "metrics_dict = {\n",
    "    \"Epoch\": [],\n",
    "    \"Train RMSE\": [],\n",
    "    \"Test RMSE\": [],\n",
    "    \"Train KL\": [],\n",
    "    \"Test KL\": [],\n",
    "}\n",
    "\n",
    "# Train loop\n",
    "for epoch in range(NUM_EPOCHS):\n",
    "    metrics_dict[\"Epoch\"].append(epoch)\n",
    "    for stage in ['train', 'test']:\n",
    "        with torch.set_grad_enabled(stage == 'train'): # Whether to start building a graph for a backward pass\n",
    "            if stage == 'train':\n",
    "                model.train()\n",
    "            else:\n",
    "                model.eval()\n",
    "\n",
    "            rmse_loss_at_stage = 0\n",
    "            kl_loss_at_stage = 0\n",
    "            for batch in dls[stage]:\n",
    "                batch = batch.to(DEVICE)\n",
    "                x_pred, mu, sigma = model(batch) # forward pass: model(x_batch) -> calls forward()\n",
    "                loss_rmse = rmse_for_sparse(x_pred, batch) # ¡Important! y_pred is always the first arg\n",
    "                loss_kl = kl_divergence(mu, sigma)*ALPHA\n",
    "                loss = loss_rmse + loss_kl\n",
    "                if stage == \"train\":\n",
    "                    loss.backward() # Calculate the gradients of all the parameters wrt loss\n",
    "                    optimizer.step() # Update the parameters\n",
    "                    scheduler.step()\n",
    "                    optimizer.zero_grad() # Zero the saved gradient\n",
    "                rmse_loss_at_stage += loss_rmse.item() * len(batch)\n",
    "                kl_loss_at_stage += loss_kl.item() * len(batch)\n",
    "            rmse_at_stage = (rmse_loss_at_stage / len(dls[stage].dataset)) ** (1/2)\n",
    "            kl_at_stage = (kl_loss_at_stage / len(dls[stage].dataset))\n",
    "            metrics_dict[f\"{stage.title()} RMSE\"].append(rmse_at_stage)\n",
    "            metrics_dict[f\"{stage.title()} KL\"].append(kl_at_stage)\n",
    "\n",
    "    if (epoch == NUM_EPOCHS - 1) or epoch % 10 == 9:\n",
    "        clear_output(wait=True)\n",
    "        display(pd.DataFrame(metrics_dict))"
   ]
  },
  {
   "cell_type": "code",
   "execution_count": 31,
   "id": "be1ed3e0-d3e8-46be-9bdc-0f3cb60dc0a9",
   "metadata": {},
   "outputs": [],
   "source": [
    "DEVICE='cpu'\n",
    "model.to(DEVICE)\n",
    "model.eval()\n",
    "torch.save(model.state_dict(), '../models/torch_ae.ckpt')"
   ]
  },
  {
   "cell_type": "code",
   "execution_count": 28,
   "id": "cbbe4390-857e-4c69-8e53-7b30cd638a2a",
   "metadata": {},
   "outputs": [
    {
     "data": {
      "text/plain": [
       "<All keys matched successfully>"
      ]
     },
     "execution_count": 28,
     "metadata": {},
     "output_type": "execute_result"
    }
   ],
   "source": [
    "model = AEModel(device=DEVICE)\n",
    "model.load_state_dict(torch.load('../models/torch_ae.ckpt'))"
   ]
  },
  {
   "cell_type": "code",
   "execution_count": 29,
   "id": "a9bf9546",
   "metadata": {
    "colab": {
     "base_uri": "https://localhost:8080/"
    },
    "id": "a9bf9546",
    "outputId": "37ebd72e-c5ba-43b3-e8fd-cd4f251cbaa7"
   },
   "outputs": [
    {
     "data": {
      "text/plain": [
       "tensor([[6.7637e+00, 5.7678e+00, 4.4178e+00,  ..., 0.0000e+00, 0.0000e+00,\n",
       "         3.4048e-01],\n",
       "        [3.5510e+00, 3.0360e+00, 2.3033e+00,  ..., 0.0000e+00, 0.0000e+00,\n",
       "         3.6291e-01],\n",
       "        [5.6472e+00, 4.8511e+00, 3.7399e+00,  ..., 0.0000e+00, 0.0000e+00,\n",
       "         9.4888e-02],\n",
       "        ...,\n",
       "        [4.1712e+00, 3.4522e+00, 2.6328e+00,  ..., 0.0000e+00, 0.0000e+00,\n",
       "         5.5112e-01],\n",
       "        [5.5008e+00, 5.6391e+00, 3.6898e+00,  ..., 8.3851e-02, 0.0000e+00,\n",
       "         1.3951e+00],\n",
       "        [5.4199e+00, 4.6897e+00, 3.2525e+00,  ..., 0.0000e+00, 0.0000e+00,\n",
       "         1.5865e-03]])"
      ]
     },
     "execution_count": 29,
     "metadata": {},
     "output_type": "execute_result"
    }
   ],
   "source": [
    "with torch.no_grad():\n",
    "    X_pred_test, mu, sigma = model(torch.Tensor(X_test).to(DEVICE))\n",
    "X_pred_test"
   ]
  },
  {
   "cell_type": "markdown",
   "id": "c6b72ba2-2f43-4fd9-bae1-1b07485c431a",
   "metadata": {},
   "source": [
    "# Класс для онлайн-инференса (см. ae_recommender.py)"
   ]
  },
  {
   "cell_type": "code",
   "execution_count": 30,
   "id": "e8d1ba8d-d8db-4fb9-9aed-7e1064885dd8",
   "metadata": {},
   "outputs": [],
   "source": [
    "from ae_recommender import AERecommender"
   ]
  },
  {
   "cell_type": "code",
   "execution_count": 31,
   "id": "GWq06OocMdSY",
   "metadata": {
    "id": "GWq06OocMdSY"
   },
   "outputs": [],
   "source": [
    "with torch.no_grad():\n",
    "    X_pred_total, mu, sigma = model(torch.Tensor(X_train + X_test).to(DEVICE))"
   ]
  },
  {
   "cell_type": "code",
   "execution_count": 32,
   "id": "3MS4Li1nMtko",
   "metadata": {
    "id": "3MS4Li1nMtko"
   },
   "outputs": [],
   "source": [
    "ae_recommender_model = AERecommender(X_pred_total, X_train, X_test, users_key_dict, items_keys)"
   ]
  },
  {
   "cell_type": "code",
   "execution_count": 33,
   "id": "OUeOUGOWO9w3",
   "metadata": {
    "colab": {
     "base_uri": "https://localhost:8080/"
    },
    "id": "OUeOUGOWO9w3",
    "outputId": "ebd7c7ae-d07b-4c74-9975-751c92bc88cf"
   },
   "outputs": [
    {
     "data": {
      "text/plain": [
       "[1554, 7753, 24, 7440, 9214, 1557, 3509, 7417, 8618, 4997]"
      ]
     },
     "execution_count": 33,
     "metadata": {},
     "output_type": "execute_result"
    }
   ],
   "source": [
    "ae_recommender_model.recommend(122432)"
   ]
  },
  {
   "cell_type": "code",
   "execution_count": 34,
   "id": "konXmRfxVNBM",
   "metadata": {
    "colab": {
     "base_uri": "https://localhost:8080/"
    },
    "id": "konXmRfxVNBM",
    "outputId": "2847db17-690b-4f69-99f7-e97bec410224"
   },
   "outputs": [
    {
     "data": {
      "text/plain": [
       "[]"
      ]
     },
     "execution_count": 34,
     "metadata": {},
     "output_type": "execute_result"
    }
   ],
   "source": [
    "ae_recommender_model.recommend(0)  # 0 пользователь, видимо, посмотрел меньше 5 фильмов"
   ]
  },
  {
   "cell_type": "code",
   "execution_count": 35,
   "id": "U9kaXdAqXw0m",
   "metadata": {
    "id": "U9kaXdAqXw0m"
   },
   "outputs": [],
   "source": [
    "import dill\n",
    "\n",
    "with open('../models/autoencoder.dill', 'wb') as model_file:\n",
    "    dill.dump(ae_recommender_model, model_file)"
   ]
  },
  {
   "cell_type": "code",
   "execution_count": 36,
   "id": "b5c6c933-ee65-4e35-acde-19d985602d07",
   "metadata": {},
   "outputs": [],
   "source": [
    "import pickle\n",
    "with open('../models/autoencoder.pkl', 'wb') as model_file:\n",
    "    pickle.dump(ae_recommender_model, model_file)"
   ]
  },
  {
   "cell_type": "code",
   "execution_count": null,
   "id": "c1b87cea",
   "metadata": {},
   "outputs": [],
   "source": []
  }
 ],
 "metadata": {
  "accelerator": "GPU",
  "colab": {
   "gpuType": "T4",
   "provenance": []
  },
  "kernelspec": {
   "display_name": "Python 3 (ipykernel)",
   "language": "python",
   "name": "python3"
  },
  "language_info": {
   "codemirror_mode": {
    "name": "ipython",
    "version": 3
   },
   "file_extension": ".py",
   "mimetype": "text/x-python",
   "name": "python",
   "nbconvert_exporter": "python",
   "pygments_lexer": "ipython3",
   "version": "3.10.13"
  }
 },
 "nbformat": 4,
 "nbformat_minor": 5
}
